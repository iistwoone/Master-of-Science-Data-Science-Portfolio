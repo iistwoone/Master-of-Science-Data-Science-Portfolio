{
 "cells": [
  {
   "cell_type": "markdown",
   "id": "d4508fe4",
   "metadata": {},
   "source": [
    "National University Thesis: HRS Study Logistic Regression study\n",
    "===="
   ]
  },
  {
   "cell_type": "markdown",
   "id": "d0ec7de9",
   "metadata": {},
   "source": [
    "Introduction\n",
    "===="
   ]
  },
  {
   "cell_type": "markdown",
   "id": "399d2da6",
   "metadata": {},
   "source": [
    "This jupyter notebook is focused on doing the initial study on the relation of COVID-19 and Self-Assessed Health (SAH) in the year of 2021 with the \"high-risk\" (55+) population. This study will use the 2021 Health and Retirement Study that conducted its study from March 2020 - May 2021. The variable of interest is a multi-nominal ordinal categorical outcome with outputs ranging from: 1-5 (Poor to Excellent). This research will transform the target variable to a binary output of 0 poor health(1-2) and good health (3-5).  Past scholarly research has modeled this to effectively look at the effect size of health. This process willl include: Downloading the data, data wrangling, doing an EDA for descriptive statistics, splitting the data for validation, fitting the model, and looking at the accuracy metrics for evaluation. The metric resulting from this study will be compared with other studies to look for the change in: model accuracy, precision, recall, f-1, log odds and coefficients. Lastly, the machine learning model will be saved for future use on trying to predict bad health as a pickle file."
   ]
  },
  {
   "cell_type": "markdown",
   "id": "c7488005",
   "metadata": {},
   "source": [
    "Importing Libraries\n",
    "===="
   ]
  },
  {
   "cell_type": "code",
   "execution_count": 1,
   "id": "aa985a2b",
   "metadata": {},
   "outputs": [],
   "source": [
    "#Normal Imports\n",
    "import numpy as np\n",
    "import pandas as pd\n",
    "import matplotlib.pyplot as plt\n",
    "%matplotlib inline\n",
    "import seaborn as sns\n",
    "import scipy as sc\n",
    "\n",
    "#Train/Test or CV\n",
    "from sklearn.model_selection import StratifiedShuffleSplit\n",
    "from sklearn.model_selection import train_test_split\n",
    "from sklearn.model_selection import KFold, cross_val_predict, cross_val_score\n",
    "\n",
    "#DataWrangling\n",
    "from scipy import stats\n",
    "from scipy.stats.mstats import normaltest\n",
    "from sklearn.preprocessing import PolynomialFeatures\n",
    "from sklearn.preprocessing import StandardScaler, MinMaxScaler, MaxAbsScaler\n",
    "from sklearn.preprocessing import OneHotEncoder\n",
    "from sklearn.preprocessing import LabelBinarizer, LabelEncoder, OrdinalEncoder\n",
    "\n",
    "#Accuracy\n",
    "from sklearn.linear_model import LogisticRegression\n",
    "from sklearn.metrics import classification_report\n",
    "from sklearn import metrics \n",
    "from sklearn.metrics import confusion_matrix"
   ]
  },
  {
   "cell_type": "markdown",
   "id": "8cdc3131",
   "metadata": {},
   "source": [
    "Importing Data\n",
    "===="
   ]
  },
  {
   "cell_type": "code",
   "execution_count": 2,
   "id": "f0f1b124",
   "metadata": {},
   "outputs": [],
   "source": [
    "#import filetype\n",
    "df1 = pd.read_csv(r\"C:\\Users\\2-1\\Documents\\NU Classes\\ANA699ABC\\Data\\cognition.csv\")"
   ]
  },
  {
   "cell_type": "code",
   "execution_count": 3,
   "id": "0d651f40",
   "metadata": {},
   "outputs": [],
   "source": [
    "df1 = df1.dropna(thresh=df1.shape[0]*0.6,how='all',axis=1)"
   ]
  },
  {
   "cell_type": "code",
   "execution_count": 4,
   "id": "fb2a8e8f",
   "metadata": {},
   "outputs": [],
   "source": [
    "df2 = pd.read_csv(r\"C:\\Users\\2-1\\Documents\\NU Classes\\ANA699ABC\\Data\\coverscreen.csv\")"
   ]
  },
  {
   "cell_type": "code",
   "execution_count": 5,
   "id": "59b6d414",
   "metadata": {},
   "outputs": [],
   "source": [
    "df2 = df2.dropna(thresh=df2.shape[0]*0.6,how='all',axis=1)"
   ]
  },
  {
   "cell_type": "code",
   "execution_count": 6,
   "id": "4d45d442",
   "metadata": {},
   "outputs": [],
   "source": [
    "df3 = pd.read_csv(r\"C:\\Users\\2-1\\Documents\\NU Classes\\ANA699ABC\\Data\\covid.csv\")"
   ]
  },
  {
   "cell_type": "code",
   "execution_count": 7,
   "id": "ba71e8b3",
   "metadata": {},
   "outputs": [],
   "source": [
    "df3 = df3.dropna(thresh=df3.shape[0]*0.6,how='all',axis=1)"
   ]
  },
  {
   "cell_type": "code",
   "execution_count": 8,
   "id": "eeeaec47",
   "metadata": {},
   "outputs": [],
   "source": [
    "df4 = pd.read_csv(r\"C:\\Users\\2-1\\Documents\\NU Classes\\ANA699ABC\\Data\\demographic.csv\")"
   ]
  },
  {
   "cell_type": "code",
   "execution_count": 9,
   "id": "66da5db6",
   "metadata": {},
   "outputs": [],
   "source": [
    "df4 = df4.dropna(thresh=df4.shape[0]*0.6,how='all',axis=1)"
   ]
  },
  {
   "cell_type": "code",
   "execution_count": 10,
   "id": "0e5ebf61",
   "metadata": {},
   "outputs": [],
   "source": [
    "df5 = pd.read_csv(r\"C:\\Users\\2-1\\Documents\\NU Classes\\ANA699ABC\\Data\\employment.csv\")"
   ]
  },
  {
   "cell_type": "code",
   "execution_count": 11,
   "id": "0217aa3c",
   "metadata": {},
   "outputs": [],
   "source": [
    "df5 = df5.dropna(thresh=df5.shape[0]*0.6,how='all',axis=1)"
   ]
  },
  {
   "cell_type": "code",
   "execution_count": 12,
   "id": "b385fa3c",
   "metadata": {},
   "outputs": [
    {
     "name": "stderr",
     "output_type": "stream",
     "text": [
      "C:\\Users\\2-1\\anaconda3\\lib\\site-packages\\IPython\\core\\interactiveshell.py:3444: DtypeWarning: Columns (151) have mixed types.Specify dtype option on import or set low_memory=False.\n",
      "  exec(code_obj, self.user_global_ns, self.user_ns)\n"
     ]
    }
   ],
   "source": [
    "df6 = pd.read_csv(r\"C:\\Users\\2-1\\Documents\\NU Classes\\ANA699ABC\\Data\\health.csv\")"
   ]
  },
  {
   "cell_type": "code",
   "execution_count": 13,
   "id": "47c57e24",
   "metadata": {},
   "outputs": [],
   "source": [
    "df6 = df6.dropna(thresh=df6.shape[0]*0.6,how='all',axis=1)"
   ]
  },
  {
   "cell_type": "code",
   "execution_count": 14,
   "id": "26d6dc7a",
   "metadata": {},
   "outputs": [
    {
     "data": {
      "text/html": [
       "<div>\n",
       "<style scoped>\n",
       "    .dataframe tbody tr th:only-of-type {\n",
       "        vertical-align: middle;\n",
       "    }\n",
       "\n",
       "    .dataframe tbody tr th {\n",
       "        vertical-align: top;\n",
       "    }\n",
       "\n",
       "    .dataframe thead th {\n",
       "        text-align: right;\n",
       "    }\n",
       "</style>\n",
       "<table border=\"1\" class=\"dataframe\">\n",
       "  <thead>\n",
       "    <tr style=\"text-align: right;\">\n",
       "      <th></th>\n",
       "      <th>HHID</th>\n",
       "      <th>PN</th>\n",
       "      <th>RSUBHH</th>\n",
       "      <th>QSUBHH</th>\n",
       "      <th>RCSR</th>\n",
       "      <th>RFAMR</th>\n",
       "      <th>RFINR</th>\n",
       "      <th>RD190</th>\n",
       "      <th>RD290</th>\n",
       "      <th>RD101</th>\n",
       "      <th>...</th>\n",
       "      <th>RD242</th>\n",
       "      <th>RD216</th>\n",
       "      <th>RD217</th>\n",
       "      <th>RNSSCORE</th>\n",
       "      <th>RNSSCORESE</th>\n",
       "      <th>RD170</th>\n",
       "      <th>RD171</th>\n",
       "      <th>RDMODE</th>\n",
       "      <th>RVDATE</th>\n",
       "      <th>RVERSION</th>\n",
       "    </tr>\n",
       "  </thead>\n",
       "  <tbody>\n",
       "    <tr>\n",
       "      <th>0</th>\n",
       "      <td>10003</td>\n",
       "      <td>30</td>\n",
       "      <td>0</td>\n",
       "      <td>0</td>\n",
       "      <td>1</td>\n",
       "      <td>1</td>\n",
       "      <td>1</td>\n",
       "      <td>1.0</td>\n",
       "      <td>0.0</td>\n",
       "      <td>1.0</td>\n",
       "      <td>...</td>\n",
       "      <td>1.0</td>\n",
       "      <td>1.0</td>\n",
       "      <td>0.0</td>\n",
       "      <td>995</td>\n",
       "      <td>995</td>\n",
       "      <td>2.0</td>\n",
       "      <td>1.0</td>\n",
       "      <td>1.0</td>\n",
       "      <td>1</td>\n",
       "      <td>1</td>\n",
       "    </tr>\n",
       "    <tr>\n",
       "      <th>1</th>\n",
       "      <td>10004</td>\n",
       "      <td>40</td>\n",
       "      <td>1</td>\n",
       "      <td>0</td>\n",
       "      <td>1</td>\n",
       "      <td>1</td>\n",
       "      <td>1</td>\n",
       "      <td>1.0</td>\n",
       "      <td>0.0</td>\n",
       "      <td>3.0</td>\n",
       "      <td>...</td>\n",
       "      <td>1.0</td>\n",
       "      <td>2.0</td>\n",
       "      <td>0.0</td>\n",
       "      <td>995</td>\n",
       "      <td>995</td>\n",
       "      <td>10.0</td>\n",
       "      <td>1.0</td>\n",
       "      <td>1.0</td>\n",
       "      <td>3</td>\n",
       "      <td>1</td>\n",
       "    </tr>\n",
       "    <tr>\n",
       "      <th>2</th>\n",
       "      <td>10013</td>\n",
       "      <td>40</td>\n",
       "      <td>1</td>\n",
       "      <td>1</td>\n",
       "      <td>1</td>\n",
       "      <td>1</td>\n",
       "      <td>1</td>\n",
       "      <td>1.0</td>\n",
       "      <td>0.0</td>\n",
       "      <td>3.0</td>\n",
       "      <td>...</td>\n",
       "      <td>-8.0</td>\n",
       "      <td>NaN</td>\n",
       "      <td>NaN</td>\n",
       "      <td>995</td>\n",
       "      <td>995</td>\n",
       "      <td>NaN</td>\n",
       "      <td>1.0</td>\n",
       "      <td>4.0</td>\n",
       "      <td>8</td>\n",
       "      <td>1</td>\n",
       "    </tr>\n",
       "    <tr>\n",
       "      <th>3</th>\n",
       "      <td>10038</td>\n",
       "      <td>10</td>\n",
       "      <td>0</td>\n",
       "      <td>0</td>\n",
       "      <td>1</td>\n",
       "      <td>5</td>\n",
       "      <td>1</td>\n",
       "      <td>1.0</td>\n",
       "      <td>0.0</td>\n",
       "      <td>2.0</td>\n",
       "      <td>...</td>\n",
       "      <td>-8.0</td>\n",
       "      <td>NaN</td>\n",
       "      <td>NaN</td>\n",
       "      <td>995</td>\n",
       "      <td>995</td>\n",
       "      <td>NaN</td>\n",
       "      <td>1.0</td>\n",
       "      <td>3.0</td>\n",
       "      <td>7</td>\n",
       "      <td>1</td>\n",
       "    </tr>\n",
       "    <tr>\n",
       "      <th>4</th>\n",
       "      <td>10038</td>\n",
       "      <td>40</td>\n",
       "      <td>0</td>\n",
       "      <td>0</td>\n",
       "      <td>5</td>\n",
       "      <td>1</td>\n",
       "      <td>5</td>\n",
       "      <td>1.0</td>\n",
       "      <td>0.0</td>\n",
       "      <td>3.0</td>\n",
       "      <td>...</td>\n",
       "      <td>-8.0</td>\n",
       "      <td>NaN</td>\n",
       "      <td>NaN</td>\n",
       "      <td>995</td>\n",
       "      <td>995</td>\n",
       "      <td>NaN</td>\n",
       "      <td>1.0</td>\n",
       "      <td>3.0</td>\n",
       "      <td>7</td>\n",
       "      <td>1</td>\n",
       "    </tr>\n",
       "  </tbody>\n",
       "</table>\n",
       "<p>5 rows × 61 columns</p>\n",
       "</div>"
      ],
      "text/plain": [
       "    HHID  PN  RSUBHH  QSUBHH  RCSR  RFAMR  RFINR  RD190  RD290  RD101  ...  \\\n",
       "0  10003  30       0       0     1      1      1    1.0    0.0    1.0  ...   \n",
       "1  10004  40       1       0     1      1      1    1.0    0.0    3.0  ...   \n",
       "2  10013  40       1       1     1      1      1    1.0    0.0    3.0  ...   \n",
       "3  10038  10       0       0     1      5      1    1.0    0.0    2.0  ...   \n",
       "4  10038  40       0       0     5      1      5    1.0    0.0    3.0  ...   \n",
       "\n",
       "   RD242  RD216  RD217  RNSSCORE  RNSSCORESE  RD170  RD171  RDMODE  RVDATE  \\\n",
       "0    1.0    1.0    0.0       995         995    2.0    1.0     1.0       1   \n",
       "1    1.0    2.0    0.0       995         995   10.0    1.0     1.0       3   \n",
       "2   -8.0    NaN    NaN       995         995    NaN    1.0     4.0       8   \n",
       "3   -8.0    NaN    NaN       995         995    NaN    1.0     3.0       7   \n",
       "4   -8.0    NaN    NaN       995         995    NaN    1.0     3.0       7   \n",
       "\n",
       "   RVERSION  \n",
       "0         1  \n",
       "1         1  \n",
       "2         1  \n",
       "3         1  \n",
       "4         1  \n",
       "\n",
       "[5 rows x 61 columns]"
      ]
     },
     "execution_count": 14,
     "metadata": {},
     "output_type": "execute_result"
    }
   ],
   "source": [
    "df1.head()"
   ]
  },
  {
   "cell_type": "code",
   "execution_count": 15,
   "id": "35447028",
   "metadata": {},
   "outputs": [
    {
     "data": {
      "text/plain": [
       "(15723, 61)"
      ]
     },
     "execution_count": 15,
     "metadata": {},
     "output_type": "execute_result"
    }
   ],
   "source": [
    "df1.shape"
   ]
  },
  {
   "cell_type": "code",
   "execution_count": 16,
   "id": "d10ac7ed",
   "metadata": {},
   "outputs": [
    {
     "data": {
      "text/html": [
       "<div>\n",
       "<style scoped>\n",
       "    .dataframe tbody tr th:only-of-type {\n",
       "        vertical-align: middle;\n",
       "    }\n",
       "\n",
       "    .dataframe tbody tr th {\n",
       "        vertical-align: top;\n",
       "    }\n",
       "\n",
       "    .dataframe thead th {\n",
       "        text-align: right;\n",
       "    }\n",
       "</style>\n",
       "<table border=\"1\" class=\"dataframe\">\n",
       "  <thead>\n",
       "    <tr style=\"text-align: right;\">\n",
       "      <th></th>\n",
       "      <th>HHID</th>\n",
       "      <th>PN</th>\n",
       "      <th>RSUBHH</th>\n",
       "      <th>QSUBHH</th>\n",
       "      <th>RCSR</th>\n",
       "      <th>RFAMR</th>\n",
       "      <th>RFINR</th>\n",
       "      <th>RA500</th>\n",
       "      <th>RA501</th>\n",
       "      <th>RA061</th>\n",
       "      <th>...</th>\n",
       "      <th>RA019</th>\n",
       "      <th>RA028</th>\n",
       "      <th>RA099</th>\n",
       "      <th>RA100</th>\n",
       "      <th>RA101</th>\n",
       "      <th>RA106</th>\n",
       "      <th>RA113</th>\n",
       "      <th>RAMODE</th>\n",
       "      <th>RVDATE</th>\n",
       "      <th>RVERSION</th>\n",
       "    </tr>\n",
       "  </thead>\n",
       "  <tbody>\n",
       "    <tr>\n",
       "      <th>0</th>\n",
       "      <td>10003</td>\n",
       "      <td>30</td>\n",
       "      <td>0</td>\n",
       "      <td>0</td>\n",
       "      <td>1</td>\n",
       "      <td>1</td>\n",
       "      <td>1</td>\n",
       "      <td>3</td>\n",
       "      <td>2020</td>\n",
       "      <td>2019</td>\n",
       "      <td>...</td>\n",
       "      <td>64</td>\n",
       "      <td>5</td>\n",
       "      <td>0</td>\n",
       "      <td>0</td>\n",
       "      <td>0</td>\n",
       "      <td>0</td>\n",
       "      <td>0</td>\n",
       "      <td>1.0</td>\n",
       "      <td>1</td>\n",
       "      <td>1</td>\n",
       "    </tr>\n",
       "    <tr>\n",
       "      <th>1</th>\n",
       "      <td>10004</td>\n",
       "      <td>40</td>\n",
       "      <td>1</td>\n",
       "      <td>0</td>\n",
       "      <td>1</td>\n",
       "      <td>1</td>\n",
       "      <td>1</td>\n",
       "      <td>4</td>\n",
       "      <td>2020</td>\n",
       "      <td>2019</td>\n",
       "      <td>...</td>\n",
       "      <td>73</td>\n",
       "      <td>5</td>\n",
       "      <td>0</td>\n",
       "      <td>3</td>\n",
       "      <td>3</td>\n",
       "      <td>3</td>\n",
       "      <td>5</td>\n",
       "      <td>1.0</td>\n",
       "      <td>3</td>\n",
       "      <td>1</td>\n",
       "    </tr>\n",
       "    <tr>\n",
       "      <th>2</th>\n",
       "      <td>10013</td>\n",
       "      <td>40</td>\n",
       "      <td>1</td>\n",
       "      <td>1</td>\n",
       "      <td>1</td>\n",
       "      <td>1</td>\n",
       "      <td>1</td>\n",
       "      <td>8</td>\n",
       "      <td>2020</td>\n",
       "      <td>2019</td>\n",
       "      <td>...</td>\n",
       "      <td>72</td>\n",
       "      <td>5</td>\n",
       "      <td>0</td>\n",
       "      <td>1</td>\n",
       "      <td>1</td>\n",
       "      <td>1</td>\n",
       "      <td>2</td>\n",
       "      <td>3.0</td>\n",
       "      <td>8</td>\n",
       "      <td>1</td>\n",
       "    </tr>\n",
       "    <tr>\n",
       "      <th>3</th>\n",
       "      <td>10038</td>\n",
       "      <td>10</td>\n",
       "      <td>0</td>\n",
       "      <td>0</td>\n",
       "      <td>1</td>\n",
       "      <td>5</td>\n",
       "      <td>1</td>\n",
       "      <td>6</td>\n",
       "      <td>2020</td>\n",
       "      <td>2019</td>\n",
       "      <td>...</td>\n",
       "      <td>83</td>\n",
       "      <td>5</td>\n",
       "      <td>0</td>\n",
       "      <td>2</td>\n",
       "      <td>2</td>\n",
       "      <td>2</td>\n",
       "      <td>4</td>\n",
       "      <td>3.0</td>\n",
       "      <td>7</td>\n",
       "      <td>1</td>\n",
       "    </tr>\n",
       "    <tr>\n",
       "      <th>4</th>\n",
       "      <td>10038</td>\n",
       "      <td>40</td>\n",
       "      <td>0</td>\n",
       "      <td>0</td>\n",
       "      <td>5</td>\n",
       "      <td>1</td>\n",
       "      <td>5</td>\n",
       "      <td>6</td>\n",
       "      <td>2020</td>\n",
       "      <td>2019</td>\n",
       "      <td>...</td>\n",
       "      <td>77</td>\n",
       "      <td>5</td>\n",
       "      <td>0</td>\n",
       "      <td>2</td>\n",
       "      <td>2</td>\n",
       "      <td>2</td>\n",
       "      <td>4</td>\n",
       "      <td>3.0</td>\n",
       "      <td>7</td>\n",
       "      <td>1</td>\n",
       "    </tr>\n",
       "  </tbody>\n",
       "</table>\n",
       "<p>5 rows × 26 columns</p>\n",
       "</div>"
      ],
      "text/plain": [
       "    HHID  PN  RSUBHH  QSUBHH  RCSR  RFAMR  RFINR  RA500  RA501  RA061  ...  \\\n",
       "0  10003  30       0       0     1      1      1      3   2020   2019  ...   \n",
       "1  10004  40       1       0     1      1      1      4   2020   2019  ...   \n",
       "2  10013  40       1       1     1      1      1      8   2020   2019  ...   \n",
       "3  10038  10       0       0     1      5      1      6   2020   2019  ...   \n",
       "4  10038  40       0       0     5      1      5      6   2020   2019  ...   \n",
       "\n",
       "   RA019  RA028  RA099  RA100  RA101  RA106  RA113  RAMODE  RVDATE  RVERSION  \n",
       "0     64      5      0      0      0      0      0     1.0       1         1  \n",
       "1     73      5      0      3      3      3      5     1.0       3         1  \n",
       "2     72      5      0      1      1      1      2     3.0       8         1  \n",
       "3     83      5      0      2      2      2      4     3.0       7         1  \n",
       "4     77      5      0      2      2      2      4     3.0       7         1  \n",
       "\n",
       "[5 rows x 26 columns]"
      ]
     },
     "execution_count": 16,
     "metadata": {},
     "output_type": "execute_result"
    }
   ],
   "source": [
    "df2.head()"
   ]
  },
  {
   "cell_type": "code",
   "execution_count": 17,
   "id": "ed4a7c40",
   "metadata": {},
   "outputs": [
    {
     "data": {
      "text/plain": [
       "(15723, 26)"
      ]
     },
     "execution_count": 17,
     "metadata": {},
     "output_type": "execute_result"
    }
   ],
   "source": [
    "df2.shape"
   ]
  },
  {
   "cell_type": "code",
   "execution_count": 18,
   "id": "044bceec",
   "metadata": {},
   "outputs": [
    {
     "data": {
      "text/html": [
       "<div>\n",
       "<style scoped>\n",
       "    .dataframe tbody tr th:only-of-type {\n",
       "        vertical-align: middle;\n",
       "    }\n",
       "\n",
       "    .dataframe tbody tr th {\n",
       "        vertical-align: top;\n",
       "    }\n",
       "\n",
       "    .dataframe thead th {\n",
       "        text-align: right;\n",
       "    }\n",
       "</style>\n",
       "<table border=\"1\" class=\"dataframe\">\n",
       "  <thead>\n",
       "    <tr style=\"text-align: right;\">\n",
       "      <th></th>\n",
       "      <th>HHID</th>\n",
       "      <th>PN</th>\n",
       "      <th>RSUBHH</th>\n",
       "      <th>QSUBHH</th>\n",
       "      <th>RCSR</th>\n",
       "      <th>RFAMR</th>\n",
       "      <th>RFINR</th>\n",
       "      <th>RCOVW550</th>\n",
       "      <th>RCOVW551</th>\n",
       "      <th>RCOVW552</th>\n",
       "      <th>...</th>\n",
       "      <th>RCOVW625</th>\n",
       "      <th>RCOVW628</th>\n",
       "      <th>RCOVW631</th>\n",
       "      <th>RCOVW634</th>\n",
       "      <th>RCOVW637</th>\n",
       "      <th>RCOVW640</th>\n",
       "      <th>RCOVW643</th>\n",
       "      <th>RCOVMODE</th>\n",
       "      <th>RVDATE</th>\n",
       "      <th>RVERSION</th>\n",
       "    </tr>\n",
       "  </thead>\n",
       "  <tbody>\n",
       "    <tr>\n",
       "      <th>0</th>\n",
       "      <td>10003</td>\n",
       "      <td>30</td>\n",
       "      <td>0</td>\n",
       "      <td>0</td>\n",
       "      <td>1</td>\n",
       "      <td>1</td>\n",
       "      <td>1</td>\n",
       "      <td>NaN</td>\n",
       "      <td>NaN</td>\n",
       "      <td>NaN</td>\n",
       "      <td>...</td>\n",
       "      <td>NaN</td>\n",
       "      <td>NaN</td>\n",
       "      <td>NaN</td>\n",
       "      <td>NaN</td>\n",
       "      <td>NaN</td>\n",
       "      <td>NaN</td>\n",
       "      <td>NaN</td>\n",
       "      <td>NaN</td>\n",
       "      <td>1</td>\n",
       "      <td>1</td>\n",
       "    </tr>\n",
       "    <tr>\n",
       "      <th>1</th>\n",
       "      <td>10004</td>\n",
       "      <td>40</td>\n",
       "      <td>1</td>\n",
       "      <td>0</td>\n",
       "      <td>1</td>\n",
       "      <td>1</td>\n",
       "      <td>1</td>\n",
       "      <td>NaN</td>\n",
       "      <td>NaN</td>\n",
       "      <td>NaN</td>\n",
       "      <td>...</td>\n",
       "      <td>NaN</td>\n",
       "      <td>NaN</td>\n",
       "      <td>NaN</td>\n",
       "      <td>NaN</td>\n",
       "      <td>NaN</td>\n",
       "      <td>NaN</td>\n",
       "      <td>NaN</td>\n",
       "      <td>NaN</td>\n",
       "      <td>3</td>\n",
       "      <td>1</td>\n",
       "    </tr>\n",
       "    <tr>\n",
       "      <th>2</th>\n",
       "      <td>10013</td>\n",
       "      <td>40</td>\n",
       "      <td>1</td>\n",
       "      <td>1</td>\n",
       "      <td>1</td>\n",
       "      <td>1</td>\n",
       "      <td>1</td>\n",
       "      <td>NaN</td>\n",
       "      <td>NaN</td>\n",
       "      <td>NaN</td>\n",
       "      <td>...</td>\n",
       "      <td>NaN</td>\n",
       "      <td>NaN</td>\n",
       "      <td>NaN</td>\n",
       "      <td>NaN</td>\n",
       "      <td>NaN</td>\n",
       "      <td>NaN</td>\n",
       "      <td>NaN</td>\n",
       "      <td>NaN</td>\n",
       "      <td>8</td>\n",
       "      <td>1</td>\n",
       "    </tr>\n",
       "    <tr>\n",
       "      <th>3</th>\n",
       "      <td>10038</td>\n",
       "      <td>10</td>\n",
       "      <td>0</td>\n",
       "      <td>0</td>\n",
       "      <td>1</td>\n",
       "      <td>5</td>\n",
       "      <td>1</td>\n",
       "      <td>NaN</td>\n",
       "      <td>NaN</td>\n",
       "      <td>NaN</td>\n",
       "      <td>...</td>\n",
       "      <td>NaN</td>\n",
       "      <td>NaN</td>\n",
       "      <td>NaN</td>\n",
       "      <td>NaN</td>\n",
       "      <td>NaN</td>\n",
       "      <td>NaN</td>\n",
       "      <td>NaN</td>\n",
       "      <td>NaN</td>\n",
       "      <td>7</td>\n",
       "      <td>1</td>\n",
       "    </tr>\n",
       "    <tr>\n",
       "      <th>4</th>\n",
       "      <td>10038</td>\n",
       "      <td>40</td>\n",
       "      <td>0</td>\n",
       "      <td>0</td>\n",
       "      <td>5</td>\n",
       "      <td>1</td>\n",
       "      <td>5</td>\n",
       "      <td>NaN</td>\n",
       "      <td>NaN</td>\n",
       "      <td>NaN</td>\n",
       "      <td>...</td>\n",
       "      <td>NaN</td>\n",
       "      <td>NaN</td>\n",
       "      <td>NaN</td>\n",
       "      <td>NaN</td>\n",
       "      <td>NaN</td>\n",
       "      <td>NaN</td>\n",
       "      <td>NaN</td>\n",
       "      <td>NaN</td>\n",
       "      <td>7</td>\n",
       "      <td>1</td>\n",
       "    </tr>\n",
       "  </tbody>\n",
       "</table>\n",
       "<p>5 rows × 28 columns</p>\n",
       "</div>"
      ],
      "text/plain": [
       "    HHID  PN  RSUBHH  QSUBHH  RCSR  RFAMR  RFINR  RCOVW550  RCOVW551  \\\n",
       "0  10003  30       0       0     1      1      1       NaN       NaN   \n",
       "1  10004  40       1       0     1      1      1       NaN       NaN   \n",
       "2  10013  40       1       1     1      1      1       NaN       NaN   \n",
       "3  10038  10       0       0     1      5      1       NaN       NaN   \n",
       "4  10038  40       0       0     5      1      5       NaN       NaN   \n",
       "\n",
       "   RCOVW552  ...  RCOVW625  RCOVW628  RCOVW631  RCOVW634  RCOVW637  RCOVW640  \\\n",
       "0       NaN  ...       NaN       NaN       NaN       NaN       NaN       NaN   \n",
       "1       NaN  ...       NaN       NaN       NaN       NaN       NaN       NaN   \n",
       "2       NaN  ...       NaN       NaN       NaN       NaN       NaN       NaN   \n",
       "3       NaN  ...       NaN       NaN       NaN       NaN       NaN       NaN   \n",
       "4       NaN  ...       NaN       NaN       NaN       NaN       NaN       NaN   \n",
       "\n",
       "   RCOVW643  RCOVMODE  RVDATE  RVERSION  \n",
       "0       NaN       NaN       1         1  \n",
       "1       NaN       NaN       3         1  \n",
       "2       NaN       NaN       8         1  \n",
       "3       NaN       NaN       7         1  \n",
       "4       NaN       NaN       7         1  \n",
       "\n",
       "[5 rows x 28 columns]"
      ]
     },
     "execution_count": 18,
     "metadata": {},
     "output_type": "execute_result"
    }
   ],
   "source": [
    "df3.head()"
   ]
  },
  {
   "cell_type": "code",
   "execution_count": 19,
   "id": "3cd81251",
   "metadata": {},
   "outputs": [
    {
     "data": {
      "text/plain": [
       "(15723, 28)"
      ]
     },
     "execution_count": 19,
     "metadata": {},
     "output_type": "execute_result"
    }
   ],
   "source": [
    "df3.shape"
   ]
  },
  {
   "cell_type": "code",
   "execution_count": 20,
   "id": "462342a7",
   "metadata": {},
   "outputs": [
    {
     "data": {
      "text/html": [
       "<div>\n",
       "<style scoped>\n",
       "    .dataframe tbody tr th:only-of-type {\n",
       "        vertical-align: middle;\n",
       "    }\n",
       "\n",
       "    .dataframe tbody tr th {\n",
       "        vertical-align: top;\n",
       "    }\n",
       "\n",
       "    .dataframe thead th {\n",
       "        text-align: right;\n",
       "    }\n",
       "</style>\n",
       "<table border=\"1\" class=\"dataframe\">\n",
       "  <thead>\n",
       "    <tr style=\"text-align: right;\">\n",
       "      <th></th>\n",
       "      <th>HHID</th>\n",
       "      <th>PN</th>\n",
       "      <th>RSUBHH</th>\n",
       "      <th>QSUBHH</th>\n",
       "      <th>RCSR</th>\n",
       "      <th>RFAMR</th>\n",
       "      <th>RFINR</th>\n",
       "      <th>RX003_R</th>\n",
       "      <th>RX007_R</th>\n",
       "      <th>RZ077_R</th>\n",
       "      <th>...</th>\n",
       "      <th>RZ262</th>\n",
       "      <th>RZ264</th>\n",
       "      <th>RZ265</th>\n",
       "      <th>RZ267</th>\n",
       "      <th>RZ269</th>\n",
       "      <th>RZ270</th>\n",
       "      <th>RZ274</th>\n",
       "      <th>RZ276</th>\n",
       "      <th>RVDATE</th>\n",
       "      <th>RVERSION</th>\n",
       "    </tr>\n",
       "  </thead>\n",
       "  <tbody>\n",
       "    <tr>\n",
       "      <th>0</th>\n",
       "      <td>10003</td>\n",
       "      <td>30</td>\n",
       "      <td>0</td>\n",
       "      <td>0</td>\n",
       "      <td>1</td>\n",
       "      <td>1</td>\n",
       "      <td>1</td>\n",
       "      <td>1</td>\n",
       "      <td>3.0</td>\n",
       "      <td>3.0</td>\n",
       "      <td>...</td>\n",
       "      <td>5.0</td>\n",
       "      <td>NaN</td>\n",
       "      <td>NaN</td>\n",
       "      <td>6.0</td>\n",
       "      <td>5.0</td>\n",
       "      <td>3.0</td>\n",
       "      <td>NaN</td>\n",
       "      <td>1.0</td>\n",
       "      <td>1</td>\n",
       "      <td>1</td>\n",
       "    </tr>\n",
       "    <tr>\n",
       "      <th>1</th>\n",
       "      <td>10004</td>\n",
       "      <td>40</td>\n",
       "      <td>1</td>\n",
       "      <td>0</td>\n",
       "      <td>1</td>\n",
       "      <td>1</td>\n",
       "      <td>1</td>\n",
       "      <td>1</td>\n",
       "      <td>3.0</td>\n",
       "      <td>3.0</td>\n",
       "      <td>...</td>\n",
       "      <td>5.0</td>\n",
       "      <td>NaN</td>\n",
       "      <td>5.0</td>\n",
       "      <td>3.0</td>\n",
       "      <td>5.0</td>\n",
       "      <td>2.0</td>\n",
       "      <td>NaN</td>\n",
       "      <td>1.0</td>\n",
       "      <td>3</td>\n",
       "      <td>1</td>\n",
       "    </tr>\n",
       "    <tr>\n",
       "      <th>2</th>\n",
       "      <td>10013</td>\n",
       "      <td>40</td>\n",
       "      <td>1</td>\n",
       "      <td>1</td>\n",
       "      <td>1</td>\n",
       "      <td>1</td>\n",
       "      <td>1</td>\n",
       "      <td>1</td>\n",
       "      <td>3.0</td>\n",
       "      <td>3.0</td>\n",
       "      <td>...</td>\n",
       "      <td>5.0</td>\n",
       "      <td>1.0</td>\n",
       "      <td>5.0</td>\n",
       "      <td>4.0</td>\n",
       "      <td>5.0</td>\n",
       "      <td>1.0</td>\n",
       "      <td>1.0</td>\n",
       "      <td>1.0</td>\n",
       "      <td>8</td>\n",
       "      <td>1</td>\n",
       "    </tr>\n",
       "    <tr>\n",
       "      <th>3</th>\n",
       "      <td>10038</td>\n",
       "      <td>10</td>\n",
       "      <td>0</td>\n",
       "      <td>0</td>\n",
       "      <td>1</td>\n",
       "      <td>5</td>\n",
       "      <td>1</td>\n",
       "      <td>1</td>\n",
       "      <td>1.0</td>\n",
       "      <td>1.0</td>\n",
       "      <td>...</td>\n",
       "      <td>5.0</td>\n",
       "      <td>1.0</td>\n",
       "      <td>5.0</td>\n",
       "      <td>3.0</td>\n",
       "      <td>5.0</td>\n",
       "      <td>1.0</td>\n",
       "      <td>1.0</td>\n",
       "      <td>1.0</td>\n",
       "      <td>7</td>\n",
       "      <td>1</td>\n",
       "    </tr>\n",
       "    <tr>\n",
       "      <th>4</th>\n",
       "      <td>10038</td>\n",
       "      <td>40</td>\n",
       "      <td>0</td>\n",
       "      <td>0</td>\n",
       "      <td>5</td>\n",
       "      <td>1</td>\n",
       "      <td>5</td>\n",
       "      <td>2</td>\n",
       "      <td>2.0</td>\n",
       "      <td>2.0</td>\n",
       "      <td>...</td>\n",
       "      <td>5.0</td>\n",
       "      <td>5.0</td>\n",
       "      <td>1.0</td>\n",
       "      <td>3.0</td>\n",
       "      <td>5.0</td>\n",
       "      <td>3.0</td>\n",
       "      <td>1.0</td>\n",
       "      <td>1.0</td>\n",
       "      <td>7</td>\n",
       "      <td>1</td>\n",
       "    </tr>\n",
       "  </tbody>\n",
       "</table>\n",
       "<p>5 rows × 149 columns</p>\n",
       "</div>"
      ],
      "text/plain": [
       "    HHID  PN  RSUBHH  QSUBHH  RCSR  RFAMR  RFINR  RX003_R  RX007_R  RZ077_R  \\\n",
       "0  10003  30       0       0     1      1      1        1      3.0      3.0   \n",
       "1  10004  40       1       0     1      1      1        1      3.0      3.0   \n",
       "2  10013  40       1       1     1      1      1        1      3.0      3.0   \n",
       "3  10038  10       0       0     1      5      1        1      1.0      1.0   \n",
       "4  10038  40       0       0     5      1      5        2      2.0      2.0   \n",
       "\n",
       "   ...  RZ262  RZ264  RZ265  RZ267  RZ269  RZ270  RZ274  RZ276  RVDATE  \\\n",
       "0  ...    5.0    NaN    NaN    6.0    5.0    3.0    NaN    1.0       1   \n",
       "1  ...    5.0    NaN    5.0    3.0    5.0    2.0    NaN    1.0       3   \n",
       "2  ...    5.0    1.0    5.0    4.0    5.0    1.0    1.0    1.0       8   \n",
       "3  ...    5.0    1.0    5.0    3.0    5.0    1.0    1.0    1.0       7   \n",
       "4  ...    5.0    5.0    1.0    3.0    5.0    3.0    1.0    1.0       7   \n",
       "\n",
       "   RVERSION  \n",
       "0         1  \n",
       "1         1  \n",
       "2         1  \n",
       "3         1  \n",
       "4         1  \n",
       "\n",
       "[5 rows x 149 columns]"
      ]
     },
     "execution_count": 20,
     "metadata": {},
     "output_type": "execute_result"
    }
   ],
   "source": [
    "df4.head()"
   ]
  },
  {
   "cell_type": "code",
   "execution_count": 21,
   "id": "70a9f614",
   "metadata": {},
   "outputs": [
    {
     "data": {
      "text/plain": [
       "(15723, 149)"
      ]
     },
     "execution_count": 21,
     "metadata": {},
     "output_type": "execute_result"
    }
   ],
   "source": [
    "df4.shape"
   ]
  },
  {
   "cell_type": "code",
   "execution_count": 22,
   "id": "a5294d98",
   "metadata": {},
   "outputs": [
    {
     "data": {
      "text/html": [
       "<div>\n",
       "<style scoped>\n",
       "    .dataframe tbody tr th:only-of-type {\n",
       "        vertical-align: middle;\n",
       "    }\n",
       "\n",
       "    .dataframe tbody tr th {\n",
       "        vertical-align: top;\n",
       "    }\n",
       "\n",
       "    .dataframe thead th {\n",
       "        text-align: right;\n",
       "    }\n",
       "</style>\n",
       "<table border=\"1\" class=\"dataframe\">\n",
       "  <thead>\n",
       "    <tr style=\"text-align: right;\">\n",
       "      <th></th>\n",
       "      <th>HHID</th>\n",
       "      <th>PN</th>\n",
       "      <th>RSUBHH</th>\n",
       "      <th>QSUBHH</th>\n",
       "      <th>RCSR</th>\n",
       "      <th>RFAMR</th>\n",
       "      <th>RFINR</th>\n",
       "      <th>RJ731</th>\n",
       "      <th>RJ732</th>\n",
       "      <th>RJ005M1</th>\n",
       "      <th>...</th>\n",
       "      <th>RJ963</th>\n",
       "      <th>RJ022</th>\n",
       "      <th>RJ677</th>\n",
       "      <th>RJ689</th>\n",
       "      <th>RJ595</th>\n",
       "      <th>RJ596</th>\n",
       "      <th>RJ650</th>\n",
       "      <th>RJMODE</th>\n",
       "      <th>RVDATE</th>\n",
       "      <th>RVERSION</th>\n",
       "    </tr>\n",
       "  </thead>\n",
       "  <tbody>\n",
       "    <tr>\n",
       "      <th>0</th>\n",
       "      <td>10003</td>\n",
       "      <td>30</td>\n",
       "      <td>0</td>\n",
       "      <td>0</td>\n",
       "      <td>1</td>\n",
       "      <td>1</td>\n",
       "      <td>1</td>\n",
       "      <td>2</td>\n",
       "      <td>2</td>\n",
       "      <td>6.0</td>\n",
       "      <td>...</td>\n",
       "      <td>5.0</td>\n",
       "      <td>4</td>\n",
       "      <td>1</td>\n",
       "      <td>3</td>\n",
       "      <td>10</td>\n",
       "      <td>5.0</td>\n",
       "      <td>1.0</td>\n",
       "      <td>1.0</td>\n",
       "      <td>1</td>\n",
       "      <td>1</td>\n",
       "    </tr>\n",
       "    <tr>\n",
       "      <th>1</th>\n",
       "      <td>10004</td>\n",
       "      <td>40</td>\n",
       "      <td>1</td>\n",
       "      <td>0</td>\n",
       "      <td>1</td>\n",
       "      <td>1</td>\n",
       "      <td>1</td>\n",
       "      <td>2</td>\n",
       "      <td>2</td>\n",
       "      <td>5.0</td>\n",
       "      <td>...</td>\n",
       "      <td>5.0</td>\n",
       "      <td>4</td>\n",
       "      <td>1</td>\n",
       "      <td>3</td>\n",
       "      <td>10</td>\n",
       "      <td>5.0</td>\n",
       "      <td>1.0</td>\n",
       "      <td>1.0</td>\n",
       "      <td>3</td>\n",
       "      <td>1</td>\n",
       "    </tr>\n",
       "    <tr>\n",
       "      <th>2</th>\n",
       "      <td>10013</td>\n",
       "      <td>40</td>\n",
       "      <td>1</td>\n",
       "      <td>1</td>\n",
       "      <td>1</td>\n",
       "      <td>1</td>\n",
       "      <td>1</td>\n",
       "      <td>2</td>\n",
       "      <td>2</td>\n",
       "      <td>5.0</td>\n",
       "      <td>...</td>\n",
       "      <td>5.0</td>\n",
       "      <td>4</td>\n",
       "      <td>1</td>\n",
       "      <td>3</td>\n",
       "      <td>10</td>\n",
       "      <td>5.0</td>\n",
       "      <td>NaN</td>\n",
       "      <td>3.0</td>\n",
       "      <td>8</td>\n",
       "      <td>1</td>\n",
       "    </tr>\n",
       "    <tr>\n",
       "      <th>3</th>\n",
       "      <td>10038</td>\n",
       "      <td>10</td>\n",
       "      <td>0</td>\n",
       "      <td>0</td>\n",
       "      <td>1</td>\n",
       "      <td>5</td>\n",
       "      <td>1</td>\n",
       "      <td>2</td>\n",
       "      <td>2</td>\n",
       "      <td>5.0</td>\n",
       "      <td>...</td>\n",
       "      <td>5.0</td>\n",
       "      <td>4</td>\n",
       "      <td>1</td>\n",
       "      <td>3</td>\n",
       "      <td>10</td>\n",
       "      <td>5.0</td>\n",
       "      <td>NaN</td>\n",
       "      <td>3.0</td>\n",
       "      <td>7</td>\n",
       "      <td>1</td>\n",
       "    </tr>\n",
       "    <tr>\n",
       "      <th>4</th>\n",
       "      <td>10038</td>\n",
       "      <td>40</td>\n",
       "      <td>0</td>\n",
       "      <td>0</td>\n",
       "      <td>5</td>\n",
       "      <td>1</td>\n",
       "      <td>5</td>\n",
       "      <td>2</td>\n",
       "      <td>2</td>\n",
       "      <td>5.0</td>\n",
       "      <td>...</td>\n",
       "      <td>5.0</td>\n",
       "      <td>4</td>\n",
       "      <td>1</td>\n",
       "      <td>3</td>\n",
       "      <td>10</td>\n",
       "      <td>5.0</td>\n",
       "      <td>NaN</td>\n",
       "      <td>4.0</td>\n",
       "      <td>7</td>\n",
       "      <td>1</td>\n",
       "    </tr>\n",
       "  </tbody>\n",
       "</table>\n",
       "<p>5 rows × 21 columns</p>\n",
       "</div>"
      ],
      "text/plain": [
       "    HHID  PN  RSUBHH  QSUBHH  RCSR  RFAMR  RFINR  RJ731  RJ732  RJ005M1  ...  \\\n",
       "0  10003  30       0       0     1      1      1      2      2      6.0  ...   \n",
       "1  10004  40       1       0     1      1      1      2      2      5.0  ...   \n",
       "2  10013  40       1       1     1      1      1      2      2      5.0  ...   \n",
       "3  10038  10       0       0     1      5      1      2      2      5.0  ...   \n",
       "4  10038  40       0       0     5      1      5      2      2      5.0  ...   \n",
       "\n",
       "   RJ963  RJ022  RJ677  RJ689  RJ595  RJ596  RJ650  RJMODE  RVDATE  RVERSION  \n",
       "0    5.0      4      1      3     10    5.0    1.0     1.0       1         1  \n",
       "1    5.0      4      1      3     10    5.0    1.0     1.0       3         1  \n",
       "2    5.0      4      1      3     10    5.0    NaN     3.0       8         1  \n",
       "3    5.0      4      1      3     10    5.0    NaN     3.0       7         1  \n",
       "4    5.0      4      1      3     10    5.0    NaN     4.0       7         1  \n",
       "\n",
       "[5 rows x 21 columns]"
      ]
     },
     "execution_count": 22,
     "metadata": {},
     "output_type": "execute_result"
    }
   ],
   "source": [
    "df5.head()"
   ]
  },
  {
   "cell_type": "code",
   "execution_count": 23,
   "id": "552698c2",
   "metadata": {},
   "outputs": [
    {
     "data": {
      "text/plain": [
       "(15723, 21)"
      ]
     },
     "execution_count": 23,
     "metadata": {},
     "output_type": "execute_result"
    }
   ],
   "source": [
    "df5.shape"
   ]
  },
  {
   "cell_type": "code",
   "execution_count": 24,
   "id": "99f497fa",
   "metadata": {},
   "outputs": [
    {
     "data": {
      "text/html": [
       "<div>\n",
       "<style scoped>\n",
       "    .dataframe tbody tr th:only-of-type {\n",
       "        vertical-align: middle;\n",
       "    }\n",
       "\n",
       "    .dataframe tbody tr th {\n",
       "        vertical-align: top;\n",
       "    }\n",
       "\n",
       "    .dataframe thead th {\n",
       "        text-align: right;\n",
       "    }\n",
       "</style>\n",
       "<table border=\"1\" class=\"dataframe\">\n",
       "  <thead>\n",
       "    <tr style=\"text-align: right;\">\n",
       "      <th></th>\n",
       "      <th>HHID</th>\n",
       "      <th>PN</th>\n",
       "      <th>RSUBHH</th>\n",
       "      <th>QSUBHH</th>\n",
       "      <th>RCSR</th>\n",
       "      <th>RFAMR</th>\n",
       "      <th>RFINR</th>\n",
       "      <th>RC231</th>\n",
       "      <th>RC234</th>\n",
       "      <th>RC235</th>\n",
       "      <th>...</th>\n",
       "      <th>RC147</th>\n",
       "      <th>RC148</th>\n",
       "      <th>RC149</th>\n",
       "      <th>RC229</th>\n",
       "      <th>RC150</th>\n",
       "      <th>RC167</th>\n",
       "      <th>RC183</th>\n",
       "      <th>RCMODE</th>\n",
       "      <th>RVDATE</th>\n",
       "      <th>RVERSION</th>\n",
       "    </tr>\n",
       "  </thead>\n",
       "  <tbody>\n",
       "    <tr>\n",
       "      <th>0</th>\n",
       "      <td>10003</td>\n",
       "      <td>30</td>\n",
       "      <td>0</td>\n",
       "      <td>0</td>\n",
       "      <td>1</td>\n",
       "      <td>1</td>\n",
       "      <td>1</td>\n",
       "      <td>1</td>\n",
       "      <td>0</td>\n",
       "      <td>1</td>\n",
       "      <td>...</td>\n",
       "      <td>5</td>\n",
       "      <td>5</td>\n",
       "      <td>1</td>\n",
       "      <td>0.0</td>\n",
       "      <td>5.0</td>\n",
       "      <td>5.0</td>\n",
       "      <td>1.0</td>\n",
       "      <td>1.0</td>\n",
       "      <td>1</td>\n",
       "      <td>1</td>\n",
       "    </tr>\n",
       "    <tr>\n",
       "      <th>1</th>\n",
       "      <td>10004</td>\n",
       "      <td>40</td>\n",
       "      <td>1</td>\n",
       "      <td>0</td>\n",
       "      <td>1</td>\n",
       "      <td>1</td>\n",
       "      <td>1</td>\n",
       "      <td>1</td>\n",
       "      <td>0</td>\n",
       "      <td>1</td>\n",
       "      <td>...</td>\n",
       "      <td>5</td>\n",
       "      <td>5</td>\n",
       "      <td>5</td>\n",
       "      <td>0.0</td>\n",
       "      <td>5.0</td>\n",
       "      <td>5.0</td>\n",
       "      <td>1.0</td>\n",
       "      <td>1.0</td>\n",
       "      <td>3</td>\n",
       "      <td>1</td>\n",
       "    </tr>\n",
       "    <tr>\n",
       "      <th>2</th>\n",
       "      <td>10013</td>\n",
       "      <td>40</td>\n",
       "      <td>1</td>\n",
       "      <td>1</td>\n",
       "      <td>1</td>\n",
       "      <td>1</td>\n",
       "      <td>1</td>\n",
       "      <td>1</td>\n",
       "      <td>0</td>\n",
       "      <td>1</td>\n",
       "      <td>...</td>\n",
       "      <td>5</td>\n",
       "      <td>5</td>\n",
       "      <td>5</td>\n",
       "      <td>0.0</td>\n",
       "      <td>5.0</td>\n",
       "      <td>5.0</td>\n",
       "      <td>NaN</td>\n",
       "      <td>3.0</td>\n",
       "      <td>8</td>\n",
       "      <td>1</td>\n",
       "    </tr>\n",
       "    <tr>\n",
       "      <th>3</th>\n",
       "      <td>10038</td>\n",
       "      <td>10</td>\n",
       "      <td>0</td>\n",
       "      <td>0</td>\n",
       "      <td>1</td>\n",
       "      <td>5</td>\n",
       "      <td>1</td>\n",
       "      <td>1</td>\n",
       "      <td>0</td>\n",
       "      <td>1</td>\n",
       "      <td>...</td>\n",
       "      <td>5</td>\n",
       "      <td>5</td>\n",
       "      <td>5</td>\n",
       "      <td>0.0</td>\n",
       "      <td>5.0</td>\n",
       "      <td>5.0</td>\n",
       "      <td>NaN</td>\n",
       "      <td>3.0</td>\n",
       "      <td>7</td>\n",
       "      <td>1</td>\n",
       "    </tr>\n",
       "    <tr>\n",
       "      <th>4</th>\n",
       "      <td>10038</td>\n",
       "      <td>40</td>\n",
       "      <td>0</td>\n",
       "      <td>0</td>\n",
       "      <td>5</td>\n",
       "      <td>1</td>\n",
       "      <td>5</td>\n",
       "      <td>1</td>\n",
       "      <td>0</td>\n",
       "      <td>1</td>\n",
       "      <td>...</td>\n",
       "      <td>5</td>\n",
       "      <td>5</td>\n",
       "      <td>5</td>\n",
       "      <td>0.0</td>\n",
       "      <td>5.0</td>\n",
       "      <td>5.0</td>\n",
       "      <td>NaN</td>\n",
       "      <td>3.0</td>\n",
       "      <td>7</td>\n",
       "      <td>1</td>\n",
       "    </tr>\n",
       "  </tbody>\n",
       "</table>\n",
       "<p>5 rows × 69 columns</p>\n",
       "</div>"
      ],
      "text/plain": [
       "    HHID  PN  RSUBHH  QSUBHH  RCSR  RFAMR  RFINR  RC231  RC234  RC235  ...  \\\n",
       "0  10003  30       0       0     1      1      1      1      0      1  ...   \n",
       "1  10004  40       1       0     1      1      1      1      0      1  ...   \n",
       "2  10013  40       1       1     1      1      1      1      0      1  ...   \n",
       "3  10038  10       0       0     1      5      1      1      0      1  ...   \n",
       "4  10038  40       0       0     5      1      5      1      0      1  ...   \n",
       "\n",
       "   RC147  RC148  RC149  RC229  RC150  RC167  RC183  RCMODE  RVDATE  RVERSION  \n",
       "0      5      5      1    0.0    5.0    5.0    1.0     1.0       1         1  \n",
       "1      5      5      5    0.0    5.0    5.0    1.0     1.0       3         1  \n",
       "2      5      5      5    0.0    5.0    5.0    NaN     3.0       8         1  \n",
       "3      5      5      5    0.0    5.0    5.0    NaN     3.0       7         1  \n",
       "4      5      5      5    0.0    5.0    5.0    NaN     3.0       7         1  \n",
       "\n",
       "[5 rows x 69 columns]"
      ]
     },
     "execution_count": 24,
     "metadata": {},
     "output_type": "execute_result"
    }
   ],
   "source": [
    "df6.head()"
   ]
  },
  {
   "cell_type": "code",
   "execution_count": 25,
   "id": "12d6fc13",
   "metadata": {},
   "outputs": [
    {
     "data": {
      "text/plain": [
       "(15723, 69)"
      ]
     },
     "execution_count": 25,
     "metadata": {},
     "output_type": "execute_result"
    }
   ],
   "source": [
    "df6.shape"
   ]
  },
  {
   "cell_type": "code",
   "execution_count": 26,
   "id": "3d3146d7",
   "metadata": {},
   "outputs": [],
   "source": [
    "df8 = pd.merge(df1, df2)"
   ]
  },
  {
   "cell_type": "code",
   "execution_count": 27,
   "id": "630df2fa",
   "metadata": {},
   "outputs": [],
   "source": [
    "df9 = pd.merge(df8, df3)"
   ]
  },
  {
   "cell_type": "code",
   "execution_count": 28,
   "id": "fc5c130d",
   "metadata": {},
   "outputs": [],
   "source": [
    "df10 = pd.merge(df9, df4)"
   ]
  },
  {
   "cell_type": "code",
   "execution_count": 29,
   "id": "196d0c8e",
   "metadata": {},
   "outputs": [],
   "source": [
    "df11 = pd.merge(df10, df5)"
   ]
  },
  {
   "cell_type": "code",
   "execution_count": 30,
   "id": "f440702a",
   "metadata": {},
   "outputs": [],
   "source": [
    "df12 = pd.merge(df11, df6)"
   ]
  },
  {
   "cell_type": "code",
   "execution_count": 31,
   "id": "f48721e5",
   "metadata": {},
   "outputs": [
    {
     "data": {
      "text/plain": [
       "(15723, 309)"
      ]
     },
     "execution_count": 31,
     "metadata": {},
     "output_type": "execute_result"
    }
   ],
   "source": [
    "df12.shape"
   ]
  },
  {
   "cell_type": "markdown",
   "id": "b5d59856",
   "metadata": {},
   "source": [
    "# Export Data to Local"
   ]
  },
  {
   "cell_type": "code",
   "execution_count": 196,
   "id": "60510909",
   "metadata": {},
   "outputs": [],
   "source": [
    "df12.to_csv('C:\\\\Users\\\\2-1\\\\Downloads\\\\HRS.csv')"
   ]
  },
  {
   "cell_type": "markdown",
   "id": "21648aa0",
   "metadata": {},
   "source": [
    "Merged Data\n",
    "===="
   ]
  },
  {
   "cell_type": "code",
   "execution_count": 32,
   "id": "86f52f2a",
   "metadata": {},
   "outputs": [
    {
     "data": {
      "text/html": [
       "<div>\n",
       "<style scoped>\n",
       "    .dataframe tbody tr th:only-of-type {\n",
       "        vertical-align: middle;\n",
       "    }\n",
       "\n",
       "    .dataframe tbody tr th {\n",
       "        vertical-align: top;\n",
       "    }\n",
       "\n",
       "    .dataframe thead th {\n",
       "        text-align: right;\n",
       "    }\n",
       "</style>\n",
       "<table border=\"1\" class=\"dataframe\">\n",
       "  <thead>\n",
       "    <tr style=\"text-align: right;\">\n",
       "      <th></th>\n",
       "      <th>HHID</th>\n",
       "      <th>PN</th>\n",
       "      <th>RSUBHH</th>\n",
       "      <th>QSUBHH</th>\n",
       "      <th>RCSR</th>\n",
       "      <th>RFAMR</th>\n",
       "      <th>RFINR</th>\n",
       "      <th>RD190</th>\n",
       "      <th>RD290</th>\n",
       "      <th>RD101</th>\n",
       "      <th>...</th>\n",
       "      <th>RC145</th>\n",
       "      <th>RC146</th>\n",
       "      <th>RC147</th>\n",
       "      <th>RC148</th>\n",
       "      <th>RC149</th>\n",
       "      <th>RC229</th>\n",
       "      <th>RC150</th>\n",
       "      <th>RC167</th>\n",
       "      <th>RC183</th>\n",
       "      <th>RCMODE</th>\n",
       "    </tr>\n",
       "  </thead>\n",
       "  <tbody>\n",
       "    <tr>\n",
       "      <th>0</th>\n",
       "      <td>10003</td>\n",
       "      <td>30</td>\n",
       "      <td>0</td>\n",
       "      <td>0</td>\n",
       "      <td>1</td>\n",
       "      <td>1</td>\n",
       "      <td>1</td>\n",
       "      <td>1.0</td>\n",
       "      <td>0.0</td>\n",
       "      <td>1.0</td>\n",
       "      <td>...</td>\n",
       "      <td>5</td>\n",
       "      <td>5</td>\n",
       "      <td>5</td>\n",
       "      <td>5</td>\n",
       "      <td>1</td>\n",
       "      <td>0.0</td>\n",
       "      <td>5.0</td>\n",
       "      <td>5.0</td>\n",
       "      <td>1.0</td>\n",
       "      <td>1.0</td>\n",
       "    </tr>\n",
       "    <tr>\n",
       "      <th>1</th>\n",
       "      <td>10004</td>\n",
       "      <td>40</td>\n",
       "      <td>1</td>\n",
       "      <td>0</td>\n",
       "      <td>1</td>\n",
       "      <td>1</td>\n",
       "      <td>1</td>\n",
       "      <td>1.0</td>\n",
       "      <td>0.0</td>\n",
       "      <td>3.0</td>\n",
       "      <td>...</td>\n",
       "      <td>5</td>\n",
       "      <td>5</td>\n",
       "      <td>5</td>\n",
       "      <td>5</td>\n",
       "      <td>5</td>\n",
       "      <td>0.0</td>\n",
       "      <td>5.0</td>\n",
       "      <td>5.0</td>\n",
       "      <td>1.0</td>\n",
       "      <td>1.0</td>\n",
       "    </tr>\n",
       "    <tr>\n",
       "      <th>2</th>\n",
       "      <td>10013</td>\n",
       "      <td>40</td>\n",
       "      <td>1</td>\n",
       "      <td>1</td>\n",
       "      <td>1</td>\n",
       "      <td>1</td>\n",
       "      <td>1</td>\n",
       "      <td>1.0</td>\n",
       "      <td>0.0</td>\n",
       "      <td>3.0</td>\n",
       "      <td>...</td>\n",
       "      <td>5</td>\n",
       "      <td>1</td>\n",
       "      <td>5</td>\n",
       "      <td>5</td>\n",
       "      <td>5</td>\n",
       "      <td>0.0</td>\n",
       "      <td>5.0</td>\n",
       "      <td>5.0</td>\n",
       "      <td>NaN</td>\n",
       "      <td>3.0</td>\n",
       "    </tr>\n",
       "    <tr>\n",
       "      <th>3</th>\n",
       "      <td>10038</td>\n",
       "      <td>10</td>\n",
       "      <td>0</td>\n",
       "      <td>0</td>\n",
       "      <td>1</td>\n",
       "      <td>5</td>\n",
       "      <td>1</td>\n",
       "      <td>1.0</td>\n",
       "      <td>0.0</td>\n",
       "      <td>2.0</td>\n",
       "      <td>...</td>\n",
       "      <td>5</td>\n",
       "      <td>5</td>\n",
       "      <td>5</td>\n",
       "      <td>5</td>\n",
       "      <td>5</td>\n",
       "      <td>0.0</td>\n",
       "      <td>5.0</td>\n",
       "      <td>5.0</td>\n",
       "      <td>NaN</td>\n",
       "      <td>3.0</td>\n",
       "    </tr>\n",
       "    <tr>\n",
       "      <th>4</th>\n",
       "      <td>10038</td>\n",
       "      <td>40</td>\n",
       "      <td>0</td>\n",
       "      <td>0</td>\n",
       "      <td>5</td>\n",
       "      <td>1</td>\n",
       "      <td>5</td>\n",
       "      <td>1.0</td>\n",
       "      <td>0.0</td>\n",
       "      <td>3.0</td>\n",
       "      <td>...</td>\n",
       "      <td>5</td>\n",
       "      <td>5</td>\n",
       "      <td>5</td>\n",
       "      <td>5</td>\n",
       "      <td>5</td>\n",
       "      <td>0.0</td>\n",
       "      <td>5.0</td>\n",
       "      <td>5.0</td>\n",
       "      <td>NaN</td>\n",
       "      <td>3.0</td>\n",
       "    </tr>\n",
       "  </tbody>\n",
       "</table>\n",
       "<p>5 rows × 309 columns</p>\n",
       "</div>"
      ],
      "text/plain": [
       "    HHID  PN  RSUBHH  QSUBHH  RCSR  RFAMR  RFINR  RD190  RD290  RD101  ...  \\\n",
       "0  10003  30       0       0     1      1      1    1.0    0.0    1.0  ...   \n",
       "1  10004  40       1       0     1      1      1    1.0    0.0    3.0  ...   \n",
       "2  10013  40       1       1     1      1      1    1.0    0.0    3.0  ...   \n",
       "3  10038  10       0       0     1      5      1    1.0    0.0    2.0  ...   \n",
       "4  10038  40       0       0     5      1      5    1.0    0.0    3.0  ...   \n",
       "\n",
       "   RC145  RC146  RC147  RC148  RC149  RC229  RC150  RC167  RC183  RCMODE  \n",
       "0      5      5      5      5      1    0.0    5.0    5.0    1.0     1.0  \n",
       "1      5      5      5      5      5    0.0    5.0    5.0    1.0     1.0  \n",
       "2      5      1      5      5      5    0.0    5.0    5.0    NaN     3.0  \n",
       "3      5      5      5      5      5    0.0    5.0    5.0    NaN     3.0  \n",
       "4      5      5      5      5      5    0.0    5.0    5.0    NaN     3.0  \n",
       "\n",
       "[5 rows x 309 columns]"
      ]
     },
     "execution_count": 32,
     "metadata": {},
     "output_type": "execute_result"
    }
   ],
   "source": [
    "#check top 5 rows\n",
    "df12.head()"
   ]
  },
  {
   "cell_type": "code",
   "execution_count": 33,
   "id": "cdc3d6eb",
   "metadata": {},
   "outputs": [
    {
     "data": {
      "text/plain": [
       "Index(['HHID', 'PN', 'RSUBHH', 'QSUBHH', 'RCSR', 'RFAMR', 'RFINR', 'RD190',\n",
       "       'RD290', 'RD101',\n",
       "       ...\n",
       "       'RC145', 'RC146', 'RC147', 'RC148', 'RC149', 'RC229', 'RC150', 'RC167',\n",
       "       'RC183', 'RCMODE'],\n",
       "      dtype='object', length=309)"
      ]
     },
     "execution_count": 33,
     "metadata": {},
     "output_type": "execute_result"
    }
   ],
   "source": [
    "#check column names\n",
    "df12.columns"
   ]
  },
  {
   "cell_type": "code",
   "execution_count": 34,
   "id": "321c96c0",
   "metadata": {},
   "outputs": [],
   "source": [
    "#Change Column Name if necessary\n",
    "df12.rename({'RC001': 'RATEHEALTH', 'RCOVW550': 'COVIDCONCERN','RZ216':'EDUCATION'}, axis=1, inplace=True)\n",
    "df12.rename({'RZ260': 'DEPRESSION', 'RA019': 'AGE', 'RX060_R': 'GENDER'}, axis=1, inplace=True)\n",
    "df12.rename({'RZ080': 'MARRIAGE', 'RJ005M1':'EMPLOYMENT','RZ281' : 'DIABETES'}, axis=1, inplace=True)\n",
    "df12.rename({'RC018': 'CANCER', 'RC030' : 'LUNG', 'RC036': 'HEART'}, axis=1, inplace=True)\n",
    "df12.rename({'RC053': 'STROKE', 'RC070' : 'ARTHRITIS','RC225' : 'EXERCISE'}, axis=1, inplace=True)"
   ]
  },
  {
   "cell_type": "code",
   "execution_count": 35,
   "id": "29a3ad55",
   "metadata": {},
   "outputs": [],
   "source": [
    "#New DF\n",
    "df = df12.loc[:, ['RATEHEALTH','COVIDCONCERN','AGE','GENDER','MARRIAGE','EDUCATION','EMPLOYMENT','DEPRESSION','ARTHRITIS','CANCER','LUNG','HEART','STROKE','DIABETES','EXERCISE']]"
   ]
  },
  {
   "cell_type": "markdown",
   "id": "fd8d0a68",
   "metadata": {},
   "source": [
    "EDA\n",
    "==="
   ]
  },
  {
   "cell_type": "code",
   "execution_count": 36,
   "id": "f2ea95a1",
   "metadata": {},
   "outputs": [
    {
     "data": {
      "text/plain": [
       "(15723, 15)"
      ]
     },
     "execution_count": 36,
     "metadata": {},
     "output_type": "execute_result"
    }
   ],
   "source": [
    "#look at rows/columns\n",
    "df.shape"
   ]
  },
  {
   "cell_type": "code",
   "execution_count": 37,
   "id": "91a114c6",
   "metadata": {},
   "outputs": [
    {
     "data": {
      "text/html": [
       "<div>\n",
       "<style scoped>\n",
       "    .dataframe tbody tr th:only-of-type {\n",
       "        vertical-align: middle;\n",
       "    }\n",
       "\n",
       "    .dataframe tbody tr th {\n",
       "        vertical-align: top;\n",
       "    }\n",
       "\n",
       "    .dataframe thead th {\n",
       "        text-align: right;\n",
       "    }\n",
       "</style>\n",
       "<table border=\"1\" class=\"dataframe\">\n",
       "  <thead>\n",
       "    <tr style=\"text-align: right;\">\n",
       "      <th></th>\n",
       "      <th>RATEHEALTH</th>\n",
       "      <th>COVIDCONCERN</th>\n",
       "      <th>AGE</th>\n",
       "      <th>GENDER</th>\n",
       "      <th>MARRIAGE</th>\n",
       "      <th>EDUCATION</th>\n",
       "      <th>EMPLOYMENT</th>\n",
       "      <th>DEPRESSION</th>\n",
       "      <th>ARTHRITIS</th>\n",
       "      <th>CANCER</th>\n",
       "      <th>LUNG</th>\n",
       "      <th>HEART</th>\n",
       "      <th>STROKE</th>\n",
       "      <th>DIABETES</th>\n",
       "      <th>EXERCISE</th>\n",
       "    </tr>\n",
       "  </thead>\n",
       "  <tbody>\n",
       "    <tr>\n",
       "      <th>15718</th>\n",
       "      <td>4</td>\n",
       "      <td>NaN</td>\n",
       "      <td>63</td>\n",
       "      <td>2.0</td>\n",
       "      <td>1.0</td>\n",
       "      <td>14.0</td>\n",
       "      <td>4.0</td>\n",
       "      <td>5.0</td>\n",
       "      <td>8</td>\n",
       "      <td>5</td>\n",
       "      <td>5</td>\n",
       "      <td>5</td>\n",
       "      <td>1</td>\n",
       "      <td>NaN</td>\n",
       "      <td>7</td>\n",
       "    </tr>\n",
       "    <tr>\n",
       "      <th>15719</th>\n",
       "      <td>4</td>\n",
       "      <td>5.0</td>\n",
       "      <td>65</td>\n",
       "      <td>1.0</td>\n",
       "      <td>1.0</td>\n",
       "      <td>12.0</td>\n",
       "      <td>5.0</td>\n",
       "      <td>5.0</td>\n",
       "      <td>5</td>\n",
       "      <td>5</td>\n",
       "      <td>5</td>\n",
       "      <td>5</td>\n",
       "      <td>5</td>\n",
       "      <td>NaN</td>\n",
       "      <td>2</td>\n",
       "    </tr>\n",
       "    <tr>\n",
       "      <th>15720</th>\n",
       "      <td>3</td>\n",
       "      <td>8.0</td>\n",
       "      <td>61</td>\n",
       "      <td>2.0</td>\n",
       "      <td>4.0</td>\n",
       "      <td>6.0</td>\n",
       "      <td>1.0</td>\n",
       "      <td>5.0</td>\n",
       "      <td>5</td>\n",
       "      <td>5</td>\n",
       "      <td>5</td>\n",
       "      <td>5</td>\n",
       "      <td>5</td>\n",
       "      <td>5.0</td>\n",
       "      <td>1</td>\n",
       "    </tr>\n",
       "    <tr>\n",
       "      <th>15721</th>\n",
       "      <td>1</td>\n",
       "      <td>10.0</td>\n",
       "      <td>56</td>\n",
       "      <td>1.0</td>\n",
       "      <td>4.0</td>\n",
       "      <td>11.0</td>\n",
       "      <td>2.0</td>\n",
       "      <td>5.0</td>\n",
       "      <td>5</td>\n",
       "      <td>5</td>\n",
       "      <td>5</td>\n",
       "      <td>1</td>\n",
       "      <td>5</td>\n",
       "      <td>5.0</td>\n",
       "      <td>1</td>\n",
       "    </tr>\n",
       "    <tr>\n",
       "      <th>15722</th>\n",
       "      <td>4</td>\n",
       "      <td>10.0</td>\n",
       "      <td>69</td>\n",
       "      <td>1.0</td>\n",
       "      <td>4.0</td>\n",
       "      <td>13.0</td>\n",
       "      <td>5.0</td>\n",
       "      <td>5.0</td>\n",
       "      <td>1</td>\n",
       "      <td>1</td>\n",
       "      <td>5</td>\n",
       "      <td>5</td>\n",
       "      <td>5</td>\n",
       "      <td>5.0</td>\n",
       "      <td>2</td>\n",
       "    </tr>\n",
       "  </tbody>\n",
       "</table>\n",
       "</div>"
      ],
      "text/plain": [
       "       RATEHEALTH  COVIDCONCERN  AGE  GENDER  MARRIAGE  EDUCATION  EMPLOYMENT  \\\n",
       "15718           4           NaN   63     2.0       1.0       14.0         4.0   \n",
       "15719           4           5.0   65     1.0       1.0       12.0         5.0   \n",
       "15720           3           8.0   61     2.0       4.0        6.0         1.0   \n",
       "15721           1          10.0   56     1.0       4.0       11.0         2.0   \n",
       "15722           4          10.0   69     1.0       4.0       13.0         5.0   \n",
       "\n",
       "       DEPRESSION  ARTHRITIS  CANCER  LUNG  HEART  STROKE  DIABETES  EXERCISE  \n",
       "15718         5.0          8       5     5      5       1       NaN         7  \n",
       "15719         5.0          5       5     5      5       5       NaN         2  \n",
       "15720         5.0          5       5     5      5       5       5.0         1  \n",
       "15721         5.0          5       5     5      1       5       5.0         1  \n",
       "15722         5.0          1       1     5      5       5       5.0         2  "
      ]
     },
     "execution_count": 37,
     "metadata": {},
     "output_type": "execute_result"
    }
   ],
   "source": [
    "df.tail()"
   ]
  },
  {
   "cell_type": "code",
   "execution_count": 38,
   "id": "1a2f72a2",
   "metadata": {},
   "outputs": [
    {
     "data": {
      "text/plain": [
       "3    0.349043\n",
       "2    0.293074\n",
       "4    0.224830\n",
       "1    0.070597\n",
       "5    0.061248\n",
       "8    0.001081\n",
       "9    0.000127\n",
       "Name: RATEHEALTH, dtype: float64"
      ]
     },
     "execution_count": 38,
     "metadata": {},
     "output_type": "execute_result"
    }
   ],
   "source": [
    "#look at target variable spread\n",
    "df['RATEHEALTH'].value_counts(normalize=True)"
   ]
  },
  {
   "cell_type": "code",
   "execution_count": 39,
   "id": "4838962b",
   "metadata": {},
   "outputs": [],
   "source": [
    "#dropping columns with certain values\n",
    "df = df[df.RATEHEALTH != 8]\n",
    "df = df[df.RATEHEALTH != 9]"
   ]
  },
  {
   "cell_type": "code",
   "execution_count": 40,
   "id": "73f7628e",
   "metadata": {},
   "outputs": [
    {
     "data": {
      "text/plain": [
       "3    0.349465\n",
       "2    0.293428\n",
       "4    0.225102\n",
       "1    0.070683\n",
       "5    0.061322\n",
       "Name: RATEHEALTH, dtype: float64"
      ]
     },
     "execution_count": 40,
     "metadata": {},
     "output_type": "execute_result"
    }
   ],
   "source": [
    "#look at target variable spread\n",
    "df['RATEHEALTH'].value_counts(normalize=True)"
   ]
  },
  {
   "cell_type": "code",
   "execution_count": 41,
   "id": "859b150d",
   "metadata": {},
   "outputs": [],
   "source": [
    "#recoding ordinal value\n",
    "df['RATEHEALTH'] = df['RATEHEALTH'].replace([1],10)\n",
    "df['RATEHEALTH'] = df['RATEHEALTH'].replace([2],9)\n",
    "df['RATEHEALTH'] = df['RATEHEALTH'].replace([4],8)\n",
    "df['RATEHEALTH'] = df['RATEHEALTH'].replace([5],1)\n",
    "df['RATEHEALTH'] = df['RATEHEALTH'].replace([8],2)\n",
    "df['RATEHEALTH'] = df['RATEHEALTH'].replace([9],4)\n",
    "df['RATEHEALTH'] = df['RATEHEALTH'].replace([10],5)"
   ]
  },
  {
   "cell_type": "code",
   "execution_count": 42,
   "id": "29fe7ecc",
   "metadata": {},
   "outputs": [
    {
     "data": {
      "text/plain": [
       "3    0.349465\n",
       "4    0.293428\n",
       "2    0.225102\n",
       "5    0.070683\n",
       "1    0.061322\n",
       "Name: RATEHEALTH, dtype: float64"
      ]
     },
     "execution_count": 42,
     "metadata": {},
     "output_type": "execute_result"
    }
   ],
   "source": [
    "#look at target variable spread\n",
    "df['RATEHEALTH'].value_counts(normalize=True)"
   ]
  },
  {
   "cell_type": "code",
   "execution_count": 43,
   "id": "0f461be5",
   "metadata": {},
   "outputs": [],
   "source": [
    "#recoding ordinal value to binary. 0 = Good Health, 1 = Bad Health\n",
    "df['RATEHEALTH'] = df['RATEHEALTH'].replace([2],1)\n",
    "df['RATEHEALTH'] = df['RATEHEALTH'].replace([5],0)\n",
    "df['RATEHEALTH'] = df['RATEHEALTH'].replace([4],0)\n",
    "df['RATEHEALTH'] = df['RATEHEALTH'].replace([3],0)"
   ]
  },
  {
   "cell_type": "code",
   "execution_count": 44,
   "id": "2ec5871f",
   "metadata": {},
   "outputs": [
    {
     "data": {
      "text/plain": [
       "0    0.713576\n",
       "1    0.286424\n",
       "Name: RATEHEALTH, dtype: float64"
      ]
     },
     "execution_count": 44,
     "metadata": {},
     "output_type": "execute_result"
    }
   ],
   "source": [
    "#look at target variable spread\n",
    "df['RATEHEALTH'].value_counts(normalize=True)"
   ]
  },
  {
   "cell_type": "code",
   "execution_count": 45,
   "id": "6645b424",
   "metadata": {},
   "outputs": [
    {
     "name": "stdout",
     "output_type": "stream",
     "text": [
      "int64      8\n",
      "float64    7\n",
      "dtype: int64\n"
     ]
    }
   ],
   "source": [
    "#look at objects counts\n",
    "print(df.dtypes.value_counts())"
   ]
  },
  {
   "cell_type": "code",
   "execution_count": 46,
   "id": "926a9f5f",
   "metadata": {},
   "outputs": [
    {
     "name": "stdout",
     "output_type": "stream",
     "text": [
      "RATEHEALTH        int64\n",
      "COVIDCONCERN    float64\n",
      "AGE               int64\n",
      "GENDER          float64\n",
      "MARRIAGE        float64\n",
      "EDUCATION       float64\n",
      "EMPLOYMENT      float64\n",
      "DEPRESSION      float64\n",
      "ARTHRITIS         int64\n",
      "CANCER            int64\n",
      "LUNG              int64\n",
      "HEART             int64\n",
      "STROKE            int64\n",
      "DIABETES        float64\n",
      "EXERCISE          int64\n",
      "dtype: object\n"
     ]
    }
   ],
   "source": [
    "print(df.dtypes)"
   ]
  },
  {
   "cell_type": "markdown",
   "id": "16c2962a",
   "metadata": {},
   "source": [
    "Look for Null\n",
    "===="
   ]
  },
  {
   "cell_type": "code",
   "execution_count": 47,
   "id": "416c7297",
   "metadata": {},
   "outputs": [
    {
     "data": {
      "text/plain": [
       "RATEHEALTH         0\n",
       "COVIDCONCERN    5376\n",
       "AGE                0\n",
       "GENDER             4\n",
       "MARRIAGE         110\n",
       "EDUCATION        255\n",
       "EMPLOYMENT        96\n",
       "DEPRESSION       317\n",
       "ARTHRITIS          0\n",
       "CANCER             0\n",
       "LUNG               0\n",
       "HEART              0\n",
       "STROKE             0\n",
       "DIABETES        4015\n",
       "EXERCISE           0\n",
       "dtype: int64"
      ]
     },
     "execution_count": 47,
     "metadata": {},
     "output_type": "execute_result"
    }
   ],
   "source": [
    "#check for null\n",
    "df.isnull().sum()"
   ]
  },
  {
   "cell_type": "markdown",
   "id": "e1bfee92",
   "metadata": {},
   "source": [
    "Drop NULLS\n",
    "===="
   ]
  },
  {
   "cell_type": "code",
   "execution_count": 48,
   "id": "1e281c6f",
   "metadata": {},
   "outputs": [],
   "source": [
    "#drop nulls\n",
    "df = df.dropna()"
   ]
  },
  {
   "cell_type": "code",
   "execution_count": 49,
   "id": "0bd8fd5d",
   "metadata": {},
   "outputs": [
    {
     "data": {
      "text/plain": [
       "RATEHEALTH      0\n",
       "COVIDCONCERN    0\n",
       "AGE             0\n",
       "GENDER          0\n",
       "MARRIAGE        0\n",
       "EDUCATION       0\n",
       "EMPLOYMENT      0\n",
       "DEPRESSION      0\n",
       "ARTHRITIS       0\n",
       "CANCER          0\n",
       "LUNG            0\n",
       "HEART           0\n",
       "STROKE          0\n",
       "DIABETES        0\n",
       "EXERCISE        0\n",
       "dtype: int64"
      ]
     },
     "execution_count": 49,
     "metadata": {},
     "output_type": "execute_result"
    }
   ],
   "source": [
    "#recheck for null\n",
    "df.isnull().sum()"
   ]
  },
  {
   "cell_type": "code",
   "execution_count": 50,
   "id": "2b6e6c16",
   "metadata": {},
   "outputs": [],
   "source": [
    "#reset index\n",
    "df = df.reset_index()\n",
    "df.drop(['index'], axis=1, inplace=True)"
   ]
  },
  {
   "cell_type": "markdown",
   "id": "1b3f911c",
   "metadata": {},
   "source": [
    "# Value Distribution / Drop Rows with Certain Values"
   ]
  },
  {
   "cell_type": "code",
   "execution_count": 51,
   "id": "02d29961",
   "metadata": {},
   "outputs": [
    {
     "data": {
      "text/plain": [
       "(9134, 15)"
      ]
     },
     "execution_count": 51,
     "metadata": {},
     "output_type": "execute_result"
    }
   ],
   "source": [
    "df.shape"
   ]
  },
  {
   "cell_type": "code",
   "execution_count": 52,
   "id": "6d47c3f4",
   "metadata": {},
   "outputs": [
    {
     "data": {
      "text/plain": [
       "Index(['RATEHEALTH', 'COVIDCONCERN', 'AGE', 'GENDER', 'MARRIAGE', 'EDUCATION',\n",
       "       'EMPLOYMENT', 'DEPRESSION', 'ARTHRITIS', 'CANCER', 'LUNG', 'HEART',\n",
       "       'STROKE', 'DIABETES', 'EXERCISE'],\n",
       "      dtype='object')"
      ]
     },
     "execution_count": 52,
     "metadata": {},
     "output_type": "execute_result"
    }
   ],
   "source": [
    "df.columns"
   ]
  },
  {
   "cell_type": "code",
   "execution_count": 53,
   "id": "d0523386",
   "metadata": {},
   "outputs": [
    {
     "data": {
      "text/plain": [
       "10.0     0.425991\n",
       "8.0      0.149880\n",
       "5.0      0.087037\n",
       "9.0      0.084300\n",
       "7.0      0.078388\n",
       "1.0      0.055726\n",
       "6.0      0.040836\n",
       "3.0      0.026494\n",
       "4.0      0.022115\n",
       "2.0      0.017517\n",
       "998.0    0.010072\n",
       "999.0    0.001314\n",
       "11.0     0.000219\n",
       "66.0     0.000109\n",
       "Name: COVIDCONCERN, dtype: float64"
      ]
     },
     "execution_count": 53,
     "metadata": {},
     "output_type": "execute_result"
    }
   ],
   "source": [
    "df['COVIDCONCERN'].value_counts(normalize=True)"
   ]
  },
  {
   "cell_type": "code",
   "execution_count": 54,
   "id": "13e2c06b",
   "metadata": {},
   "outputs": [
    {
     "data": {
      "text/plain": [
       "5.0    0.752244\n",
       "1.0    0.247756\n",
       "Name: DEPRESSION, dtype: float64"
      ]
     },
     "execution_count": 54,
     "metadata": {},
     "output_type": "execute_result"
    }
   ],
   "source": [
    "df['DEPRESSION'].value_counts(normalize=True)"
   ]
  },
  {
   "cell_type": "code",
   "execution_count": 55,
   "id": "aed68397",
   "metadata": {},
   "outputs": [
    {
     "data": {
      "text/plain": [
       "65     0.042588\n",
       "59     0.041712\n",
       "62     0.041603\n",
       "60     0.039851\n",
       "58     0.039851\n",
       "         ...   \n",
       "100    0.000109\n",
       "104    0.000109\n",
       "31     0.000109\n",
       "37     0.000109\n",
       "35     0.000109\n",
       "Name: AGE, Length: 73, dtype: float64"
      ]
     },
     "execution_count": 55,
     "metadata": {},
     "output_type": "execute_result"
    }
   ],
   "source": [
    "df['AGE'].value_counts(normalize=True)"
   ]
  },
  {
   "cell_type": "code",
   "execution_count": 56,
   "id": "f07ce315",
   "metadata": {},
   "outputs": [
    {
     "data": {
      "text/plain": [
       "2.0    0.600832\n",
       "1.0    0.399168\n",
       "Name: GENDER, dtype: float64"
      ]
     },
     "execution_count": 56,
     "metadata": {},
     "output_type": "execute_result"
    }
   ],
   "source": [
    "df['GENDER'].value_counts(normalize=True)"
   ]
  },
  {
   "cell_type": "code",
   "execution_count": 57,
   "id": "541d9bbd",
   "metadata": {},
   "outputs": [
    {
     "data": {
      "text/plain": [
       "12.0    0.287169\n",
       "16.0    0.148566\n",
       "14.0    0.130830\n",
       "17.0    0.124480\n",
       "13.0    0.084738\n",
       "15.0    0.048172\n",
       "11.0    0.040399\n",
       "10.0    0.033830\n",
       "6.0     0.022663\n",
       "9.0     0.022006\n",
       "8.0     0.018721\n",
       "0.0     0.009744\n",
       "7.0     0.006788\n",
       "3.0     0.006678\n",
       "5.0     0.004817\n",
       "4.0     0.004598\n",
       "2.0     0.003941\n",
       "1.0     0.001861\n",
       "Name: EDUCATION, dtype: float64"
      ]
     },
     "execution_count": 57,
     "metadata": {},
     "output_type": "execute_result"
    }
   ],
   "source": [
    "df['EDUCATION'].value_counts(normalize=True)"
   ]
  },
  {
   "cell_type": "code",
   "execution_count": 58,
   "id": "66620545",
   "metadata": {},
   "outputs": [
    {
     "data": {
      "text/plain": [
       "1.0    0.544668\n",
       "4.0    0.201226\n",
       "5.0    0.159404\n",
       "6.0    0.084519\n",
       "0.0    0.005584\n",
       "3.0    0.003284\n",
       "2.0    0.001314\n",
       "Name: MARRIAGE, dtype: float64"
      ]
     },
     "execution_count": 58,
     "metadata": {},
     "output_type": "execute_result"
    }
   ],
   "source": [
    "df['MARRIAGE'].value_counts(normalize=True)"
   ]
  },
  {
   "cell_type": "code",
   "execution_count": 59,
   "id": "cf13d100",
   "metadata": {},
   "outputs": [
    {
     "data": {
      "text/plain": [
       "5.0     0.441318\n",
       "1.0     0.312459\n",
       "4.0     0.120648\n",
       "6.0     0.052660\n",
       "2.0     0.029669\n",
       "3.0     0.024962\n",
       "7.0     0.015437\n",
       "99.0    0.001095\n",
       "8.0     0.001095\n",
       "98.0    0.000657\n",
       "Name: EMPLOYMENT, dtype: float64"
      ]
     },
     "execution_count": 59,
     "metadata": {},
     "output_type": "execute_result"
    }
   ],
   "source": [
    "df['EMPLOYMENT'].value_counts(normalize=True)"
   ]
  },
  {
   "cell_type": "code",
   "execution_count": 60,
   "id": "2616d105",
   "metadata": {},
   "outputs": [
    {
     "data": {
      "text/plain": [
       "5    0.886140\n",
       "1    0.109810\n",
       "4    0.002080\n",
       "6    0.001314\n",
       "8    0.000547\n",
       "9    0.000109\n",
       "Name: LUNG, dtype: float64"
      ]
     },
     "execution_count": 60,
     "metadata": {},
     "output_type": "execute_result"
    }
   ],
   "source": [
    "df['LUNG'].value_counts(normalize=True)"
   ]
  },
  {
   "cell_type": "code",
   "execution_count": 61,
   "id": "232c41fe",
   "metadata": {},
   "outputs": [
    {
     "data": {
      "text/plain": [
       "5    0.754762\n",
       "1    0.235932\n",
       "6    0.004489\n",
       "4    0.003175\n",
       "8    0.001533\n",
       "9    0.000109\n",
       "Name: HEART, dtype: float64"
      ]
     },
     "execution_count": 61,
     "metadata": {},
     "output_type": "execute_result"
    }
   ],
   "source": [
    "df['HEART'].value_counts(normalize=True)"
   ]
  },
  {
   "cell_type": "code",
   "execution_count": 62,
   "id": "322ff301",
   "metadata": {},
   "outputs": [
    {
     "data": {
      "text/plain": [
       "5    0.913510\n",
       "1    0.083644\n",
       "4    0.001861\n",
       "8    0.000766\n",
       "9    0.000219\n",
       "Name: STROKE, dtype: float64"
      ]
     },
     "execution_count": 62,
     "metadata": {},
     "output_type": "execute_result"
    }
   ],
   "source": [
    "df['STROKE'].value_counts(normalize=True)"
   ]
  },
  {
   "cell_type": "code",
   "execution_count": 63,
   "id": "8fa01717",
   "metadata": {},
   "outputs": [
    {
     "data": {
      "text/plain": [
       "5    0.840377\n",
       "1    0.154916\n",
       "4    0.003613\n",
       "8    0.000876\n",
       "9    0.000219\n",
       "Name: CANCER, dtype: float64"
      ]
     },
     "execution_count": 63,
     "metadata": {},
     "output_type": "execute_result"
    }
   ],
   "source": [
    "df['CANCER'].value_counts(normalize=True)"
   ]
  },
  {
   "cell_type": "code",
   "execution_count": 64,
   "id": "a0967645",
   "metadata": {},
   "outputs": [
    {
     "data": {
      "text/plain": [
       "5.0    0.80797\n",
       "1.0    0.19203\n",
       "Name: DIABETES, dtype: float64"
      ]
     },
     "execution_count": 64,
     "metadata": {},
     "output_type": "execute_result"
    }
   ],
   "source": [
    "df['DIABETES'].value_counts(normalize=True)"
   ]
  },
  {
   "cell_type": "code",
   "execution_count": 65,
   "id": "aac62871",
   "metadata": {},
   "outputs": [
    {
     "data": {
      "text/plain": [
       "1    0.596672\n",
       "5    0.391614\n",
       "6    0.005146\n",
       "4    0.005036\n",
       "8    0.001533\n",
       "Name: ARTHRITIS, dtype: float64"
      ]
     },
     "execution_count": 65,
     "metadata": {},
     "output_type": "execute_result"
    }
   ],
   "source": [
    "df['ARTHRITIS'].value_counts(normalize=True)"
   ]
  },
  {
   "cell_type": "code",
   "execution_count": 66,
   "id": "af8c81dd",
   "metadata": {},
   "outputs": [
    {
     "data": {
      "text/plain": [
       "1    0.415152\n",
       "2    0.249945\n",
       "7    0.130063\n",
       "4    0.122071\n",
       "3    0.078607\n",
       "8    0.004051\n",
       "9    0.000109\n",
       "Name: EXERCISE, dtype: float64"
      ]
     },
     "execution_count": 66,
     "metadata": {},
     "output_type": "execute_result"
    }
   ],
   "source": [
    "df['EXERCISE'].value_counts(normalize=True)"
   ]
  },
  {
   "cell_type": "code",
   "execution_count": 67,
   "id": "f44d983f",
   "metadata": {},
   "outputs": [],
   "source": [
    "#drop rows that contain specific 'value' in 'column_name'\n",
    "df = df[df.COVIDCONCERN != 11]\n",
    "df = df[df.COVIDCONCERN != 66]\n",
    "df = df[df.COVIDCONCERN != 998]\n",
    "df = df[df.COVIDCONCERN != 999]\n",
    "df = df[df.MARRIAGE != 0]\n",
    "df = df[df.MARRIAGE != 2]\n",
    "df = df[df.MARRIAGE != 3]\n",
    "df = df[df.MARRIAGE != 0]\n",
    "df = df[df.EMPLOYMENT != -8]\n",
    "df = df[df.EMPLOYMENT != 98]\n",
    "df = df[df.EMPLOYMENT != 99]\n",
    "df = df[df.EMPLOYMENT != 7]\n",
    "df = df[df.EMPLOYMENT != 8]\n",
    "df = df[df.LUNG != -8]\n",
    "df = df[df.LUNG != 8]\n",
    "df = df[df.LUNG != 9]\n",
    "df = df[df.HEART != -8]\n",
    "df = df[df.HEART != 8]\n",
    "df = df[df.HEART != 9]\n",
    "df = df[df.STROKE != -8]\n",
    "df = df[df.STROKE != 8]\n",
    "df = df[df.STROKE != 9]\n",
    "df = df[df.CANCER != -8]\n",
    "df = df[df.CANCER != 8]\n",
    "df = df[df.CANCER != 9]\n",
    "df = df[df.DIABETES != 8]\n",
    "df = df[df.ARTHRITIS != -8]\n",
    "df = df[df.ARTHRITIS != 8]\n",
    "df = df[df.ARTHRITIS != 9]\n",
    "df = df[df.EXERCISE != -8]\n",
    "df = df[df.EXERCISE != 8]\n",
    "df = df[df.EXERCISE != 9]"
   ]
  },
  {
   "cell_type": "code",
   "execution_count": 68,
   "id": "4a22fab4",
   "metadata": {},
   "outputs": [],
   "source": [
    "#recoding for Machine Learning/Python.\n",
    "df['DEPRESSION'] = df['DEPRESSION'].replace([5],0)\n",
    "df['LUNG'] = df['LUNG'].replace([4],5)\n",
    "df['LUNG'] = df['LUNG'].replace([6],5)\n",
    "df['LUNG'] = df['LUNG'].replace([5],0)\n",
    "df['HEART'] = df['HEART'].replace([4],5)\n",
    "df['HEART'] = df['HEART'].replace([6],5)\n",
    "df['HEART'] = df['HEART'].replace([5],0)\n",
    "df['STROKE'] = df['STROKE'].replace([4],5)\n",
    "df['STROKE'] = df['STROKE'].replace([5],0)\n",
    "df['CANCER'] = df['CANCER'].replace([4],5)\n",
    "df['CANCER'] = df['CANCER'].replace([5],0)\n",
    "df['DIABETES'] = df['DIABETES'].replace([4],5)\n",
    "df['DIABETES'] = df['DIABETES'].replace([6],5)\n",
    "df['DIABETES'] = df['DIABETES'].replace([5],0)\n",
    "df['ARTHRITIS'] = df['ARTHRITIS'].replace([4],5)\n",
    "df['ARTHRITIS'] = df['ARTHRITIS'].replace([6],5)\n",
    "df['ARTHRITIS'] = df['ARTHRITIS'].replace([5],0)\n",
    "df['EXERCISE'] = df['EXERCISE'].replace([2],1)\n",
    "df['EXERCISE'] = df['EXERCISE'].replace([3],1)\n",
    "df['EXERCISE'] = df['EXERCISE'].replace([4],0)\n",
    "df['EXERCISE'] = df['EXERCISE'].replace([7],1)\n",
    "df['MARRIAGE'] = df['MARRIAGE'].replace([2],1)\n",
    "df['MARRIAGE'] = df['MARRIAGE'].replace([3],1)\n",
    "df['MARRIAGE'] = df['MARRIAGE'].replace([4],0)\n",
    "df['MARRIAGE'] = df['MARRIAGE'].replace([5],0)\n",
    "df['MARRIAGE'] = df['MARRIAGE'].replace([6],0)\n",
    "df['EMPLOYMENT'] = df['EMPLOYMENT'].replace([3],0)\n",
    "df['EMPLOYMENT'] = df['EMPLOYMENT'].replace([6],0)\n",
    "df['EMPLOYMENT'] = df['EMPLOYMENT'].replace([2],0)\n",
    "df['EMPLOYMENT'] = df['EMPLOYMENT'].replace([5],2)\n",
    "df['EMPLOYMENT'] = df['EMPLOYMENT'].replace([4],3)\n",
    "df['GENDER'] = df['GENDER'].replace([2],0)\n",
    "df['COVIDCONCERN'] = df['COVIDCONCERN'].replace([1],0)\n",
    "df['COVIDCONCERN'] = df['COVIDCONCERN'].replace([2],1)\n",
    "df['COVIDCONCERN'] = df['COVIDCONCERN'].replace([3],2)\n",
    "df['COVIDCONCERN'] = df['COVIDCONCERN'].replace([4],3)\n",
    "df['COVIDCONCERN'] = df['COVIDCONCERN'].replace([5],4)\n",
    "df['COVIDCONCERN'] = df['COVIDCONCERN'].replace([6],5)\n",
    "df['COVIDCONCERN'] = df['COVIDCONCERN'].replace([7],6)\n",
    "df['COVIDCONCERN'] = df['COVIDCONCERN'].replace([8],7)\n",
    "df['COVIDCONCERN'] = df['COVIDCONCERN'].replace([9],8)\n",
    "df['COVIDCONCERN'] = df['COVIDCONCERN'].replace([10],9)"
   ]
  },
  {
   "cell_type": "code",
   "execution_count": 69,
   "id": "46ab93b1",
   "metadata": {},
   "outputs": [],
   "source": [
    "#reset index\n",
    "df = df.reset_index()\n",
    "df.drop(['index'], axis=1, inplace=True)"
   ]
  },
  {
   "cell_type": "markdown",
   "id": "230d4c09",
   "metadata": {},
   "source": [
    "Look for Outliers\n",
    "===="
   ]
  },
  {
   "cell_type": "code",
   "execution_count": 70,
   "id": "320930d5",
   "metadata": {},
   "outputs": [
    {
     "data": {
      "text/html": [
       "<div>\n",
       "<style scoped>\n",
       "    .dataframe tbody tr th:only-of-type {\n",
       "        vertical-align: middle;\n",
       "    }\n",
       "\n",
       "    .dataframe tbody tr th {\n",
       "        vertical-align: top;\n",
       "    }\n",
       "\n",
       "    .dataframe thead th {\n",
       "        text-align: right;\n",
       "    }\n",
       "</style>\n",
       "<table border=\"1\" class=\"dataframe\">\n",
       "  <thead>\n",
       "    <tr style=\"text-align: right;\">\n",
       "      <th></th>\n",
       "      <th>RATEHEALTH</th>\n",
       "      <th>COVIDCONCERN</th>\n",
       "      <th>AGE</th>\n",
       "      <th>GENDER</th>\n",
       "      <th>MARRIAGE</th>\n",
       "      <th>EDUCATION</th>\n",
       "      <th>EMPLOYMENT</th>\n",
       "      <th>DEPRESSION</th>\n",
       "      <th>ARTHRITIS</th>\n",
       "      <th>CANCER</th>\n",
       "      <th>LUNG</th>\n",
       "      <th>HEART</th>\n",
       "      <th>STROKE</th>\n",
       "      <th>DIABETES</th>\n",
       "      <th>EXERCISE</th>\n",
       "    </tr>\n",
       "  </thead>\n",
       "  <tbody>\n",
       "    <tr>\n",
       "      <th>129</th>\n",
       "      <td>0</td>\n",
       "      <td>7.0</td>\n",
       "      <td>46</td>\n",
       "      <td>1.0</td>\n",
       "      <td>1.0</td>\n",
       "      <td>12.0</td>\n",
       "      <td>0.0</td>\n",
       "      <td>0.0</td>\n",
       "      <td>0</td>\n",
       "      <td>0</td>\n",
       "      <td>0</td>\n",
       "      <td>0</td>\n",
       "      <td>0</td>\n",
       "      <td>0.0</td>\n",
       "      <td>1</td>\n",
       "    </tr>\n",
       "    <tr>\n",
       "      <th>1397</th>\n",
       "      <td>1</td>\n",
       "      <td>9.0</td>\n",
       "      <td>48</td>\n",
       "      <td>1.0</td>\n",
       "      <td>0.0</td>\n",
       "      <td>3.0</td>\n",
       "      <td>1.0</td>\n",
       "      <td>0.0</td>\n",
       "      <td>0</td>\n",
       "      <td>0</td>\n",
       "      <td>0</td>\n",
       "      <td>0</td>\n",
       "      <td>0</td>\n",
       "      <td>1.0</td>\n",
       "      <td>1</td>\n",
       "    </tr>\n",
       "    <tr>\n",
       "      <th>1422</th>\n",
       "      <td>0</td>\n",
       "      <td>6.0</td>\n",
       "      <td>50</td>\n",
       "      <td>0.0</td>\n",
       "      <td>0.0</td>\n",
       "      <td>11.0</td>\n",
       "      <td>1.0</td>\n",
       "      <td>1.0</td>\n",
       "      <td>1</td>\n",
       "      <td>0</td>\n",
       "      <td>0</td>\n",
       "      <td>0</td>\n",
       "      <td>0</td>\n",
       "      <td>0.0</td>\n",
       "      <td>1</td>\n",
       "    </tr>\n",
       "    <tr>\n",
       "      <th>1706</th>\n",
       "      <td>0</td>\n",
       "      <td>4.0</td>\n",
       "      <td>51</td>\n",
       "      <td>1.0</td>\n",
       "      <td>0.0</td>\n",
       "      <td>12.0</td>\n",
       "      <td>3.0</td>\n",
       "      <td>0.0</td>\n",
       "      <td>1</td>\n",
       "      <td>0</td>\n",
       "      <td>0</td>\n",
       "      <td>0</td>\n",
       "      <td>0</td>\n",
       "      <td>0.0</td>\n",
       "      <td>1</td>\n",
       "    </tr>\n",
       "    <tr>\n",
       "      <th>1772</th>\n",
       "      <td>1</td>\n",
       "      <td>9.0</td>\n",
       "      <td>54</td>\n",
       "      <td>0.0</td>\n",
       "      <td>1.0</td>\n",
       "      <td>12.0</td>\n",
       "      <td>1.0</td>\n",
       "      <td>1.0</td>\n",
       "      <td>1</td>\n",
       "      <td>0</td>\n",
       "      <td>0</td>\n",
       "      <td>0</td>\n",
       "      <td>0</td>\n",
       "      <td>0.0</td>\n",
       "      <td>1</td>\n",
       "    </tr>\n",
       "    <tr>\n",
       "      <th>...</th>\n",
       "      <td>...</td>\n",
       "      <td>...</td>\n",
       "      <td>...</td>\n",
       "      <td>...</td>\n",
       "      <td>...</td>\n",
       "      <td>...</td>\n",
       "      <td>...</td>\n",
       "      <td>...</td>\n",
       "      <td>...</td>\n",
       "      <td>...</td>\n",
       "      <td>...</td>\n",
       "      <td>...</td>\n",
       "      <td>...</td>\n",
       "      <td>...</td>\n",
       "      <td>...</td>\n",
       "    </tr>\n",
       "    <tr>\n",
       "      <th>8598</th>\n",
       "      <td>1</td>\n",
       "      <td>9.0</td>\n",
       "      <td>53</td>\n",
       "      <td>1.0</td>\n",
       "      <td>0.0</td>\n",
       "      <td>13.0</td>\n",
       "      <td>3.0</td>\n",
       "      <td>1.0</td>\n",
       "      <td>1</td>\n",
       "      <td>0</td>\n",
       "      <td>1</td>\n",
       "      <td>0</td>\n",
       "      <td>0</td>\n",
       "      <td>1.0</td>\n",
       "      <td>1</td>\n",
       "    </tr>\n",
       "    <tr>\n",
       "      <th>8610</th>\n",
       "      <td>0</td>\n",
       "      <td>4.0</td>\n",
       "      <td>54</td>\n",
       "      <td>0.0</td>\n",
       "      <td>1.0</td>\n",
       "      <td>14.0</td>\n",
       "      <td>1.0</td>\n",
       "      <td>0.0</td>\n",
       "      <td>0</td>\n",
       "      <td>0</td>\n",
       "      <td>0</td>\n",
       "      <td>0</td>\n",
       "      <td>0</td>\n",
       "      <td>0.0</td>\n",
       "      <td>1</td>\n",
       "    </tr>\n",
       "    <tr>\n",
       "      <th>8639</th>\n",
       "      <td>0</td>\n",
       "      <td>7.0</td>\n",
       "      <td>53</td>\n",
       "      <td>1.0</td>\n",
       "      <td>0.0</td>\n",
       "      <td>14.0</td>\n",
       "      <td>1.0</td>\n",
       "      <td>1.0</td>\n",
       "      <td>0</td>\n",
       "      <td>0</td>\n",
       "      <td>1</td>\n",
       "      <td>0</td>\n",
       "      <td>0</td>\n",
       "      <td>0.0</td>\n",
       "      <td>1</td>\n",
       "    </tr>\n",
       "    <tr>\n",
       "      <th>8653</th>\n",
       "      <td>0</td>\n",
       "      <td>9.0</td>\n",
       "      <td>52</td>\n",
       "      <td>1.0</td>\n",
       "      <td>0.0</td>\n",
       "      <td>14.0</td>\n",
       "      <td>1.0</td>\n",
       "      <td>1.0</td>\n",
       "      <td>0</td>\n",
       "      <td>0</td>\n",
       "      <td>0</td>\n",
       "      <td>0</td>\n",
       "      <td>0</td>\n",
       "      <td>1.0</td>\n",
       "      <td>1</td>\n",
       "    </tr>\n",
       "    <tr>\n",
       "      <th>8664</th>\n",
       "      <td>0</td>\n",
       "      <td>7.0</td>\n",
       "      <td>52</td>\n",
       "      <td>0.0</td>\n",
       "      <td>0.0</td>\n",
       "      <td>12.0</td>\n",
       "      <td>1.0</td>\n",
       "      <td>0.0</td>\n",
       "      <td>1</td>\n",
       "      <td>0</td>\n",
       "      <td>0</td>\n",
       "      <td>0</td>\n",
       "      <td>0</td>\n",
       "      <td>0.0</td>\n",
       "      <td>1</td>\n",
       "    </tr>\n",
       "  </tbody>\n",
       "</table>\n",
       "<p>532 rows × 15 columns</p>\n",
       "</div>"
      ],
      "text/plain": [
       "      RATEHEALTH  COVIDCONCERN  AGE  GENDER  MARRIAGE  EDUCATION  EMPLOYMENT  \\\n",
       "129            0           7.0   46     1.0       1.0       12.0         0.0   \n",
       "1397           1           9.0   48     1.0       0.0        3.0         1.0   \n",
       "1422           0           6.0   50     0.0       0.0       11.0         1.0   \n",
       "1706           0           4.0   51     1.0       0.0       12.0         3.0   \n",
       "1772           1           9.0   54     0.0       1.0       12.0         1.0   \n",
       "...          ...           ...  ...     ...       ...        ...         ...   \n",
       "8598           1           9.0   53     1.0       0.0       13.0         3.0   \n",
       "8610           0           4.0   54     0.0       1.0       14.0         1.0   \n",
       "8639           0           7.0   53     1.0       0.0       14.0         1.0   \n",
       "8653           0           9.0   52     1.0       0.0       14.0         1.0   \n",
       "8664           0           7.0   52     0.0       0.0       12.0         1.0   \n",
       "\n",
       "      DEPRESSION  ARTHRITIS  CANCER  LUNG  HEART  STROKE  DIABETES  EXERCISE  \n",
       "129          0.0          0       0     0      0       0       0.0         1  \n",
       "1397         0.0          0       0     0      0       0       1.0         1  \n",
       "1422         1.0          1       0     0      0       0       0.0         1  \n",
       "1706         0.0          1       0     0      0       0       0.0         1  \n",
       "1772         1.0          1       0     0      0       0       0.0         1  \n",
       "...          ...        ...     ...   ...    ...     ...       ...       ...  \n",
       "8598         1.0          1       0     1      0       0       1.0         1  \n",
       "8610         0.0          0       0     0      0       0       0.0         1  \n",
       "8639         1.0          0       0     1      0       0       0.0         1  \n",
       "8653         1.0          0       0     0      0       0       1.0         1  \n",
       "8664         0.0          1       0     0      0       0       0.0         1  \n",
       "\n",
       "[532 rows x 15 columns]"
      ]
     },
     "execution_count": 70,
     "metadata": {},
     "output_type": "execute_result"
    }
   ],
   "source": [
    "#look at outliers *High Risk = Age 55+ was determined for study, anything under is outlier for study*\n",
    "df.loc[df['AGE'] < 55]"
   ]
  },
  {
   "cell_type": "markdown",
   "id": "31d3ce69",
   "metadata": {},
   "source": [
    "Outlier Decision\n",
    "==="
   ]
  },
  {
   "cell_type": "code",
   "execution_count": 71,
   "id": "0d15fbdd",
   "metadata": {},
   "outputs": [],
   "source": [
    "#backup\n",
    "df.drop(df[(df['AGE'] < 55)].index, inplace=True)"
   ]
  },
  {
   "cell_type": "code",
   "execution_count": 72,
   "id": "dc6e59b3",
   "metadata": {},
   "outputs": [],
   "source": [
    "#reset index\n",
    "df = df.reset_index()\n",
    "df.drop(['index'], axis=1, inplace=True)"
   ]
  },
  {
   "cell_type": "markdown",
   "id": "5a38e3f2",
   "metadata": {},
   "source": [
    "Binning\n",
    "==="
   ]
  },
  {
   "cell_type": "code",
   "execution_count": 73,
   "id": "d9af5a49",
   "metadata": {},
   "outputs": [],
   "source": [
    "#Binning AGE\n",
    "df['AGE_BINS'] = pd.cut(x=df['AGE'], bins=[54, 64, 74, 105], labels=[0,1,2])"
   ]
  },
  {
   "cell_type": "code",
   "execution_count": 74,
   "id": "581cf985",
   "metadata": {},
   "outputs": [],
   "source": [
    "#Binning Education\n",
    "df['COLLEGE'] = pd.cut(x=df['EDUCATION'], bins=[-1, 11, 20], labels=[0, 1])"
   ]
  },
  {
   "cell_type": "markdown",
   "id": "ada02744",
   "metadata": {},
   "source": [
    "Dummy Variable\n",
    "==="
   ]
  },
  {
   "cell_type": "code",
   "execution_count": 75,
   "id": "01cc854b",
   "metadata": {},
   "outputs": [],
   "source": [
    "#Dummy Variable\n",
    "df['CHRONIC'] = 0\n",
    "#Add to column\n",
    "df.loc[df['HEART'] == 1, 'CHRONIC'] = 1\n",
    "df.loc[df['STROKE'] == 1, 'CHRONIC'] = 1\n",
    "df.loc[df['LUNG'] == 1, 'CHRONIC'] = 1\n",
    "df.loc[df['DIABETES'] == 1, 'CHRONIC'] = 1\n",
    "df.loc[df['CANCER'] == 1, 'CHRONIC'] = 1\n",
    "df.loc[df['ARTHRITIS'] == 1, 'CHRONIC'] = 1"
   ]
  },
  {
   "cell_type": "code",
   "execution_count": 76,
   "id": "acc90acd",
   "metadata": {},
   "outputs": [
    {
     "data": {
      "text/html": [
       "<div>\n",
       "<style scoped>\n",
       "    .dataframe tbody tr th:only-of-type {\n",
       "        vertical-align: middle;\n",
       "    }\n",
       "\n",
       "    .dataframe tbody tr th {\n",
       "        vertical-align: top;\n",
       "    }\n",
       "\n",
       "    .dataframe thead th {\n",
       "        text-align: right;\n",
       "    }\n",
       "</style>\n",
       "<table border=\"1\" class=\"dataframe\">\n",
       "  <thead>\n",
       "    <tr style=\"text-align: right;\">\n",
       "      <th></th>\n",
       "      <th>RATEHEALTH</th>\n",
       "      <th>COVIDCONCERN</th>\n",
       "      <th>AGE</th>\n",
       "      <th>GENDER</th>\n",
       "      <th>MARRIAGE</th>\n",
       "      <th>EDUCATION</th>\n",
       "      <th>EMPLOYMENT</th>\n",
       "      <th>DEPRESSION</th>\n",
       "      <th>ARTHRITIS</th>\n",
       "      <th>CANCER</th>\n",
       "      <th>LUNG</th>\n",
       "      <th>HEART</th>\n",
       "      <th>STROKE</th>\n",
       "      <th>DIABETES</th>\n",
       "      <th>EXERCISE</th>\n",
       "      <th>AGE_BINS</th>\n",
       "      <th>COLLEGE</th>\n",
       "      <th>CHRONIC</th>\n",
       "    </tr>\n",
       "  </thead>\n",
       "  <tbody>\n",
       "    <tr>\n",
       "      <th>0</th>\n",
       "      <td>0</td>\n",
       "      <td>6.0</td>\n",
       "      <td>79</td>\n",
       "      <td>0.0</td>\n",
       "      <td>0.0</td>\n",
       "      <td>17.0</td>\n",
       "      <td>1.0</td>\n",
       "      <td>0.0</td>\n",
       "      <td>0</td>\n",
       "      <td>0</td>\n",
       "      <td>0</td>\n",
       "      <td>0</td>\n",
       "      <td>0</td>\n",
       "      <td>0.0</td>\n",
       "      <td>1</td>\n",
       "      <td>2</td>\n",
       "      <td>1</td>\n",
       "      <td>0</td>\n",
       "    </tr>\n",
       "    <tr>\n",
       "      <th>1</th>\n",
       "      <td>0</td>\n",
       "      <td>8.0</td>\n",
       "      <td>85</td>\n",
       "      <td>0.0</td>\n",
       "      <td>1.0</td>\n",
       "      <td>16.0</td>\n",
       "      <td>0.0</td>\n",
       "      <td>0.0</td>\n",
       "      <td>0</td>\n",
       "      <td>1</td>\n",
       "      <td>0</td>\n",
       "      <td>0</td>\n",
       "      <td>0</td>\n",
       "      <td>0.0</td>\n",
       "      <td>1</td>\n",
       "      <td>2</td>\n",
       "      <td>1</td>\n",
       "      <td>1</td>\n",
       "    </tr>\n",
       "    <tr>\n",
       "      <th>2</th>\n",
       "      <td>1</td>\n",
       "      <td>6.0</td>\n",
       "      <td>92</td>\n",
       "      <td>1.0</td>\n",
       "      <td>1.0</td>\n",
       "      <td>17.0</td>\n",
       "      <td>1.0</td>\n",
       "      <td>0.0</td>\n",
       "      <td>0</td>\n",
       "      <td>0</td>\n",
       "      <td>0</td>\n",
       "      <td>0</td>\n",
       "      <td>1</td>\n",
       "      <td>0.0</td>\n",
       "      <td>1</td>\n",
       "      <td>2</td>\n",
       "      <td>1</td>\n",
       "      <td>1</td>\n",
       "    </tr>\n",
       "    <tr>\n",
       "      <th>3</th>\n",
       "      <td>1</td>\n",
       "      <td>7.0</td>\n",
       "      <td>83</td>\n",
       "      <td>0.0</td>\n",
       "      <td>0.0</td>\n",
       "      <td>8.0</td>\n",
       "      <td>2.0</td>\n",
       "      <td>0.0</td>\n",
       "      <td>1</td>\n",
       "      <td>0</td>\n",
       "      <td>0</td>\n",
       "      <td>0</td>\n",
       "      <td>0</td>\n",
       "      <td>0.0</td>\n",
       "      <td>0</td>\n",
       "      <td>2</td>\n",
       "      <td>0</td>\n",
       "      <td>1</td>\n",
       "    </tr>\n",
       "    <tr>\n",
       "      <th>4</th>\n",
       "      <td>1</td>\n",
       "      <td>6.0</td>\n",
       "      <td>89</td>\n",
       "      <td>1.0</td>\n",
       "      <td>1.0</td>\n",
       "      <td>17.0</td>\n",
       "      <td>2.0</td>\n",
       "      <td>0.0</td>\n",
       "      <td>1</td>\n",
       "      <td>0</td>\n",
       "      <td>1</td>\n",
       "      <td>1</td>\n",
       "      <td>0</td>\n",
       "      <td>0.0</td>\n",
       "      <td>0</td>\n",
       "      <td>2</td>\n",
       "      <td>1</td>\n",
       "      <td>1</td>\n",
       "    </tr>\n",
       "    <tr>\n",
       "      <th>5</th>\n",
       "      <td>1</td>\n",
       "      <td>9.0</td>\n",
       "      <td>87</td>\n",
       "      <td>0.0</td>\n",
       "      <td>1.0</td>\n",
       "      <td>13.0</td>\n",
       "      <td>0.0</td>\n",
       "      <td>0.0</td>\n",
       "      <td>1</td>\n",
       "      <td>0</td>\n",
       "      <td>1</td>\n",
       "      <td>0</td>\n",
       "      <td>0</td>\n",
       "      <td>0.0</td>\n",
       "      <td>0</td>\n",
       "      <td>2</td>\n",
       "      <td>1</td>\n",
       "      <td>1</td>\n",
       "    </tr>\n",
       "    <tr>\n",
       "      <th>6</th>\n",
       "      <td>1</td>\n",
       "      <td>3.0</td>\n",
       "      <td>80</td>\n",
       "      <td>1.0</td>\n",
       "      <td>0.0</td>\n",
       "      <td>17.0</td>\n",
       "      <td>2.0</td>\n",
       "      <td>0.0</td>\n",
       "      <td>0</td>\n",
       "      <td>0</td>\n",
       "      <td>0</td>\n",
       "      <td>1</td>\n",
       "      <td>0</td>\n",
       "      <td>0.0</td>\n",
       "      <td>0</td>\n",
       "      <td>2</td>\n",
       "      <td>1</td>\n",
       "      <td>1</td>\n",
       "    </tr>\n",
       "    <tr>\n",
       "      <th>7</th>\n",
       "      <td>0</td>\n",
       "      <td>4.0</td>\n",
       "      <td>81</td>\n",
       "      <td>0.0</td>\n",
       "      <td>0.0</td>\n",
       "      <td>14.0</td>\n",
       "      <td>2.0</td>\n",
       "      <td>0.0</td>\n",
       "      <td>1</td>\n",
       "      <td>0</td>\n",
       "      <td>0</td>\n",
       "      <td>0</td>\n",
       "      <td>0</td>\n",
       "      <td>0.0</td>\n",
       "      <td>1</td>\n",
       "      <td>2</td>\n",
       "      <td>1</td>\n",
       "      <td>1</td>\n",
       "    </tr>\n",
       "    <tr>\n",
       "      <th>8</th>\n",
       "      <td>0</td>\n",
       "      <td>9.0</td>\n",
       "      <td>84</td>\n",
       "      <td>0.0</td>\n",
       "      <td>0.0</td>\n",
       "      <td>10.0</td>\n",
       "      <td>2.0</td>\n",
       "      <td>0.0</td>\n",
       "      <td>0</td>\n",
       "      <td>0</td>\n",
       "      <td>0</td>\n",
       "      <td>0</td>\n",
       "      <td>0</td>\n",
       "      <td>0.0</td>\n",
       "      <td>1</td>\n",
       "      <td>2</td>\n",
       "      <td>0</td>\n",
       "      <td>0</td>\n",
       "    </tr>\n",
       "    <tr>\n",
       "      <th>9</th>\n",
       "      <td>1</td>\n",
       "      <td>7.0</td>\n",
       "      <td>79</td>\n",
       "      <td>1.0</td>\n",
       "      <td>0.0</td>\n",
       "      <td>17.0</td>\n",
       "      <td>2.0</td>\n",
       "      <td>0.0</td>\n",
       "      <td>0</td>\n",
       "      <td>0</td>\n",
       "      <td>0</td>\n",
       "      <td>1</td>\n",
       "      <td>0</td>\n",
       "      <td>0.0</td>\n",
       "      <td>1</td>\n",
       "      <td>2</td>\n",
       "      <td>1</td>\n",
       "      <td>1</td>\n",
       "    </tr>\n",
       "    <tr>\n",
       "      <th>10</th>\n",
       "      <td>0</td>\n",
       "      <td>9.0</td>\n",
       "      <td>81</td>\n",
       "      <td>1.0</td>\n",
       "      <td>1.0</td>\n",
       "      <td>13.0</td>\n",
       "      <td>2.0</td>\n",
       "      <td>0.0</td>\n",
       "      <td>1</td>\n",
       "      <td>0</td>\n",
       "      <td>0</td>\n",
       "      <td>0</td>\n",
       "      <td>0</td>\n",
       "      <td>0.0</td>\n",
       "      <td>1</td>\n",
       "      <td>2</td>\n",
       "      <td>1</td>\n",
       "      <td>1</td>\n",
       "    </tr>\n",
       "    <tr>\n",
       "      <th>11</th>\n",
       "      <td>0</td>\n",
       "      <td>9.0</td>\n",
       "      <td>76</td>\n",
       "      <td>0.0</td>\n",
       "      <td>1.0</td>\n",
       "      <td>16.0</td>\n",
       "      <td>2.0</td>\n",
       "      <td>0.0</td>\n",
       "      <td>0</td>\n",
       "      <td>1</td>\n",
       "      <td>0</td>\n",
       "      <td>0</td>\n",
       "      <td>0</td>\n",
       "      <td>0.0</td>\n",
       "      <td>1</td>\n",
       "      <td>2</td>\n",
       "      <td>1</td>\n",
       "      <td>1</td>\n",
       "    </tr>\n",
       "    <tr>\n",
       "      <th>12</th>\n",
       "      <td>0</td>\n",
       "      <td>9.0</td>\n",
       "      <td>83</td>\n",
       "      <td>1.0</td>\n",
       "      <td>1.0</td>\n",
       "      <td>16.0</td>\n",
       "      <td>2.0</td>\n",
       "      <td>0.0</td>\n",
       "      <td>1</td>\n",
       "      <td>0</td>\n",
       "      <td>0</td>\n",
       "      <td>0</td>\n",
       "      <td>0</td>\n",
       "      <td>0.0</td>\n",
       "      <td>1</td>\n",
       "      <td>2</td>\n",
       "      <td>1</td>\n",
       "      <td>1</td>\n",
       "    </tr>\n",
       "    <tr>\n",
       "      <th>13</th>\n",
       "      <td>0</td>\n",
       "      <td>9.0</td>\n",
       "      <td>84</td>\n",
       "      <td>0.0</td>\n",
       "      <td>1.0</td>\n",
       "      <td>12.0</td>\n",
       "      <td>2.0</td>\n",
       "      <td>0.0</td>\n",
       "      <td>0</td>\n",
       "      <td>0</td>\n",
       "      <td>0</td>\n",
       "      <td>0</td>\n",
       "      <td>0</td>\n",
       "      <td>0.0</td>\n",
       "      <td>1</td>\n",
       "      <td>2</td>\n",
       "      <td>1</td>\n",
       "      <td>0</td>\n",
       "    </tr>\n",
       "    <tr>\n",
       "      <th>14</th>\n",
       "      <td>0</td>\n",
       "      <td>9.0</td>\n",
       "      <td>82</td>\n",
       "      <td>0.0</td>\n",
       "      <td>1.0</td>\n",
       "      <td>12.0</td>\n",
       "      <td>3.0</td>\n",
       "      <td>0.0</td>\n",
       "      <td>1</td>\n",
       "      <td>1</td>\n",
       "      <td>0</td>\n",
       "      <td>0</td>\n",
       "      <td>0</td>\n",
       "      <td>1.0</td>\n",
       "      <td>0</td>\n",
       "      <td>2</td>\n",
       "      <td>1</td>\n",
       "      <td>1</td>\n",
       "    </tr>\n",
       "    <tr>\n",
       "      <th>15</th>\n",
       "      <td>0</td>\n",
       "      <td>6.0</td>\n",
       "      <td>88</td>\n",
       "      <td>1.0</td>\n",
       "      <td>1.0</td>\n",
       "      <td>12.0</td>\n",
       "      <td>2.0</td>\n",
       "      <td>0.0</td>\n",
       "      <td>0</td>\n",
       "      <td>0</td>\n",
       "      <td>0</td>\n",
       "      <td>0</td>\n",
       "      <td>0</td>\n",
       "      <td>0.0</td>\n",
       "      <td>0</td>\n",
       "      <td>2</td>\n",
       "      <td>1</td>\n",
       "      <td>0</td>\n",
       "    </tr>\n",
       "    <tr>\n",
       "      <th>16</th>\n",
       "      <td>1</td>\n",
       "      <td>0.0</td>\n",
       "      <td>81</td>\n",
       "      <td>0.0</td>\n",
       "      <td>0.0</td>\n",
       "      <td>16.0</td>\n",
       "      <td>2.0</td>\n",
       "      <td>0.0</td>\n",
       "      <td>1</td>\n",
       "      <td>0</td>\n",
       "      <td>1</td>\n",
       "      <td>1</td>\n",
       "      <td>0</td>\n",
       "      <td>0.0</td>\n",
       "      <td>1</td>\n",
       "      <td>2</td>\n",
       "      <td>1</td>\n",
       "      <td>1</td>\n",
       "    </tr>\n",
       "    <tr>\n",
       "      <th>17</th>\n",
       "      <td>0</td>\n",
       "      <td>9.0</td>\n",
       "      <td>83</td>\n",
       "      <td>0.0</td>\n",
       "      <td>0.0</td>\n",
       "      <td>14.0</td>\n",
       "      <td>3.0</td>\n",
       "      <td>1.0</td>\n",
       "      <td>0</td>\n",
       "      <td>0</td>\n",
       "      <td>0</td>\n",
       "      <td>1</td>\n",
       "      <td>1</td>\n",
       "      <td>1.0</td>\n",
       "      <td>1</td>\n",
       "      <td>2</td>\n",
       "      <td>1</td>\n",
       "      <td>1</td>\n",
       "    </tr>\n",
       "    <tr>\n",
       "      <th>18</th>\n",
       "      <td>0</td>\n",
       "      <td>4.0</td>\n",
       "      <td>65</td>\n",
       "      <td>0.0</td>\n",
       "      <td>0.0</td>\n",
       "      <td>12.0</td>\n",
       "      <td>1.0</td>\n",
       "      <td>1.0</td>\n",
       "      <td>0</td>\n",
       "      <td>0</td>\n",
       "      <td>0</td>\n",
       "      <td>0</td>\n",
       "      <td>0</td>\n",
       "      <td>0.0</td>\n",
       "      <td>1</td>\n",
       "      <td>1</td>\n",
       "      <td>1</td>\n",
       "      <td>0</td>\n",
       "    </tr>\n",
       "    <tr>\n",
       "      <th>19</th>\n",
       "      <td>0</td>\n",
       "      <td>7.0</td>\n",
       "      <td>91</td>\n",
       "      <td>1.0</td>\n",
       "      <td>1.0</td>\n",
       "      <td>17.0</td>\n",
       "      <td>2.0</td>\n",
       "      <td>0.0</td>\n",
       "      <td>1</td>\n",
       "      <td>1</td>\n",
       "      <td>1</td>\n",
       "      <td>1</td>\n",
       "      <td>0</td>\n",
       "      <td>0.0</td>\n",
       "      <td>1</td>\n",
       "      <td>2</td>\n",
       "      <td>1</td>\n",
       "      <td>1</td>\n",
       "    </tr>\n",
       "    <tr>\n",
       "      <th>20</th>\n",
       "      <td>1</td>\n",
       "      <td>7.0</td>\n",
       "      <td>80</td>\n",
       "      <td>0.0</td>\n",
       "      <td>0.0</td>\n",
       "      <td>17.0</td>\n",
       "      <td>1.0</td>\n",
       "      <td>0.0</td>\n",
       "      <td>1</td>\n",
       "      <td>1</td>\n",
       "      <td>1</td>\n",
       "      <td>0</td>\n",
       "      <td>0</td>\n",
       "      <td>0.0</td>\n",
       "      <td>1</td>\n",
       "      <td>2</td>\n",
       "      <td>1</td>\n",
       "      <td>1</td>\n",
       "    </tr>\n",
       "    <tr>\n",
       "      <th>21</th>\n",
       "      <td>1</td>\n",
       "      <td>9.0</td>\n",
       "      <td>82</td>\n",
       "      <td>0.0</td>\n",
       "      <td>0.0</td>\n",
       "      <td>16.0</td>\n",
       "      <td>3.0</td>\n",
       "      <td>1.0</td>\n",
       "      <td>1</td>\n",
       "      <td>0</td>\n",
       "      <td>1</td>\n",
       "      <td>1</td>\n",
       "      <td>0</td>\n",
       "      <td>0.0</td>\n",
       "      <td>1</td>\n",
       "      <td>2</td>\n",
       "      <td>1</td>\n",
       "      <td>1</td>\n",
       "    </tr>\n",
       "    <tr>\n",
       "      <th>22</th>\n",
       "      <td>0</td>\n",
       "      <td>9.0</td>\n",
       "      <td>80</td>\n",
       "      <td>0.0</td>\n",
       "      <td>0.0</td>\n",
       "      <td>14.0</td>\n",
       "      <td>1.0</td>\n",
       "      <td>0.0</td>\n",
       "      <td>0</td>\n",
       "      <td>0</td>\n",
       "      <td>1</td>\n",
       "      <td>0</td>\n",
       "      <td>0</td>\n",
       "      <td>0.0</td>\n",
       "      <td>1</td>\n",
       "      <td>2</td>\n",
       "      <td>1</td>\n",
       "      <td>1</td>\n",
       "    </tr>\n",
       "    <tr>\n",
       "      <th>23</th>\n",
       "      <td>1</td>\n",
       "      <td>9.0</td>\n",
       "      <td>81</td>\n",
       "      <td>0.0</td>\n",
       "      <td>0.0</td>\n",
       "      <td>10.0</td>\n",
       "      <td>2.0</td>\n",
       "      <td>0.0</td>\n",
       "      <td>1</td>\n",
       "      <td>0</td>\n",
       "      <td>0</td>\n",
       "      <td>0</td>\n",
       "      <td>0</td>\n",
       "      <td>1.0</td>\n",
       "      <td>1</td>\n",
       "      <td>2</td>\n",
       "      <td>0</td>\n",
       "      <td>1</td>\n",
       "    </tr>\n",
       "    <tr>\n",
       "      <th>24</th>\n",
       "      <td>0</td>\n",
       "      <td>2.0</td>\n",
       "      <td>86</td>\n",
       "      <td>0.0</td>\n",
       "      <td>0.0</td>\n",
       "      <td>16.0</td>\n",
       "      <td>2.0</td>\n",
       "      <td>0.0</td>\n",
       "      <td>1</td>\n",
       "      <td>0</td>\n",
       "      <td>0</td>\n",
       "      <td>0</td>\n",
       "      <td>0</td>\n",
       "      <td>0.0</td>\n",
       "      <td>0</td>\n",
       "      <td>2</td>\n",
       "      <td>1</td>\n",
       "      <td>1</td>\n",
       "    </tr>\n",
       "    <tr>\n",
       "      <th>25</th>\n",
       "      <td>0</td>\n",
       "      <td>9.0</td>\n",
       "      <td>81</td>\n",
       "      <td>1.0</td>\n",
       "      <td>1.0</td>\n",
       "      <td>14.0</td>\n",
       "      <td>1.0</td>\n",
       "      <td>0.0</td>\n",
       "      <td>1</td>\n",
       "      <td>0</td>\n",
       "      <td>0</td>\n",
       "      <td>0</td>\n",
       "      <td>0</td>\n",
       "      <td>1.0</td>\n",
       "      <td>1</td>\n",
       "      <td>2</td>\n",
       "      <td>1</td>\n",
       "      <td>1</td>\n",
       "    </tr>\n",
       "    <tr>\n",
       "      <th>26</th>\n",
       "      <td>1</td>\n",
       "      <td>5.0</td>\n",
       "      <td>74</td>\n",
       "      <td>0.0</td>\n",
       "      <td>1.0</td>\n",
       "      <td>12.0</td>\n",
       "      <td>0.0</td>\n",
       "      <td>0.0</td>\n",
       "      <td>1</td>\n",
       "      <td>0</td>\n",
       "      <td>0</td>\n",
       "      <td>1</td>\n",
       "      <td>0</td>\n",
       "      <td>0.0</td>\n",
       "      <td>1</td>\n",
       "      <td>1</td>\n",
       "      <td>1</td>\n",
       "      <td>1</td>\n",
       "    </tr>\n",
       "    <tr>\n",
       "      <th>27</th>\n",
       "      <td>1</td>\n",
       "      <td>9.0</td>\n",
       "      <td>68</td>\n",
       "      <td>0.0</td>\n",
       "      <td>0.0</td>\n",
       "      <td>10.0</td>\n",
       "      <td>3.0</td>\n",
       "      <td>0.0</td>\n",
       "      <td>0</td>\n",
       "      <td>1</td>\n",
       "      <td>0</td>\n",
       "      <td>0</td>\n",
       "      <td>0</td>\n",
       "      <td>0.0</td>\n",
       "      <td>1</td>\n",
       "      <td>1</td>\n",
       "      <td>0</td>\n",
       "      <td>1</td>\n",
       "    </tr>\n",
       "    <tr>\n",
       "      <th>28</th>\n",
       "      <td>0</td>\n",
       "      <td>2.0</td>\n",
       "      <td>88</td>\n",
       "      <td>0.0</td>\n",
       "      <td>0.0</td>\n",
       "      <td>5.0</td>\n",
       "      <td>2.0</td>\n",
       "      <td>0.0</td>\n",
       "      <td>1</td>\n",
       "      <td>0</td>\n",
       "      <td>0</td>\n",
       "      <td>0</td>\n",
       "      <td>0</td>\n",
       "      <td>1.0</td>\n",
       "      <td>1</td>\n",
       "      <td>2</td>\n",
       "      <td>0</td>\n",
       "      <td>1</td>\n",
       "    </tr>\n",
       "    <tr>\n",
       "      <th>29</th>\n",
       "      <td>1</td>\n",
       "      <td>8.0</td>\n",
       "      <td>80</td>\n",
       "      <td>0.0</td>\n",
       "      <td>0.0</td>\n",
       "      <td>14.0</td>\n",
       "      <td>2.0</td>\n",
       "      <td>0.0</td>\n",
       "      <td>1</td>\n",
       "      <td>0</td>\n",
       "      <td>0</td>\n",
       "      <td>1</td>\n",
       "      <td>1</td>\n",
       "      <td>0.0</td>\n",
       "      <td>0</td>\n",
       "      <td>2</td>\n",
       "      <td>1</td>\n",
       "      <td>1</td>\n",
       "    </tr>\n",
       "  </tbody>\n",
       "</table>\n",
       "</div>"
      ],
      "text/plain": [
       "    RATEHEALTH  COVIDCONCERN  AGE  GENDER  MARRIAGE  EDUCATION  EMPLOYMENT  \\\n",
       "0            0           6.0   79     0.0       0.0       17.0         1.0   \n",
       "1            0           8.0   85     0.0       1.0       16.0         0.0   \n",
       "2            1           6.0   92     1.0       1.0       17.0         1.0   \n",
       "3            1           7.0   83     0.0       0.0        8.0         2.0   \n",
       "4            1           6.0   89     1.0       1.0       17.0         2.0   \n",
       "5            1           9.0   87     0.0       1.0       13.0         0.0   \n",
       "6            1           3.0   80     1.0       0.0       17.0         2.0   \n",
       "7            0           4.0   81     0.0       0.0       14.0         2.0   \n",
       "8            0           9.0   84     0.0       0.0       10.0         2.0   \n",
       "9            1           7.0   79     1.0       0.0       17.0         2.0   \n",
       "10           0           9.0   81     1.0       1.0       13.0         2.0   \n",
       "11           0           9.0   76     0.0       1.0       16.0         2.0   \n",
       "12           0           9.0   83     1.0       1.0       16.0         2.0   \n",
       "13           0           9.0   84     0.0       1.0       12.0         2.0   \n",
       "14           0           9.0   82     0.0       1.0       12.0         3.0   \n",
       "15           0           6.0   88     1.0       1.0       12.0         2.0   \n",
       "16           1           0.0   81     0.0       0.0       16.0         2.0   \n",
       "17           0           9.0   83     0.0       0.0       14.0         3.0   \n",
       "18           0           4.0   65     0.0       0.0       12.0         1.0   \n",
       "19           0           7.0   91     1.0       1.0       17.0         2.0   \n",
       "20           1           7.0   80     0.0       0.0       17.0         1.0   \n",
       "21           1           9.0   82     0.0       0.0       16.0         3.0   \n",
       "22           0           9.0   80     0.0       0.0       14.0         1.0   \n",
       "23           1           9.0   81     0.0       0.0       10.0         2.0   \n",
       "24           0           2.0   86     0.0       0.0       16.0         2.0   \n",
       "25           0           9.0   81     1.0       1.0       14.0         1.0   \n",
       "26           1           5.0   74     0.0       1.0       12.0         0.0   \n",
       "27           1           9.0   68     0.0       0.0       10.0         3.0   \n",
       "28           0           2.0   88     0.0       0.0        5.0         2.0   \n",
       "29           1           8.0   80     0.0       0.0       14.0         2.0   \n",
       "\n",
       "    DEPRESSION  ARTHRITIS  CANCER  LUNG  HEART  STROKE  DIABETES  EXERCISE  \\\n",
       "0          0.0          0       0     0      0       0       0.0         1   \n",
       "1          0.0          0       1     0      0       0       0.0         1   \n",
       "2          0.0          0       0     0      0       1       0.0         1   \n",
       "3          0.0          1       0     0      0       0       0.0         0   \n",
       "4          0.0          1       0     1      1       0       0.0         0   \n",
       "5          0.0          1       0     1      0       0       0.0         0   \n",
       "6          0.0          0       0     0      1       0       0.0         0   \n",
       "7          0.0          1       0     0      0       0       0.0         1   \n",
       "8          0.0          0       0     0      0       0       0.0         1   \n",
       "9          0.0          0       0     0      1       0       0.0         1   \n",
       "10         0.0          1       0     0      0       0       0.0         1   \n",
       "11         0.0          0       1     0      0       0       0.0         1   \n",
       "12         0.0          1       0     0      0       0       0.0         1   \n",
       "13         0.0          0       0     0      0       0       0.0         1   \n",
       "14         0.0          1       1     0      0       0       1.0         0   \n",
       "15         0.0          0       0     0      0       0       0.0         0   \n",
       "16         0.0          1       0     1      1       0       0.0         1   \n",
       "17         1.0          0       0     0      1       1       1.0         1   \n",
       "18         1.0          0       0     0      0       0       0.0         1   \n",
       "19         0.0          1       1     1      1       0       0.0         1   \n",
       "20         0.0          1       1     1      0       0       0.0         1   \n",
       "21         1.0          1       0     1      1       0       0.0         1   \n",
       "22         0.0          0       0     1      0       0       0.0         1   \n",
       "23         0.0          1       0     0      0       0       1.0         1   \n",
       "24         0.0          1       0     0      0       0       0.0         0   \n",
       "25         0.0          1       0     0      0       0       1.0         1   \n",
       "26         0.0          1       0     0      1       0       0.0         1   \n",
       "27         0.0          0       1     0      0       0       0.0         1   \n",
       "28         0.0          1       0     0      0       0       1.0         1   \n",
       "29         0.0          1       0     0      1       1       0.0         0   \n",
       "\n",
       "   AGE_BINS COLLEGE  CHRONIC  \n",
       "0         2       1        0  \n",
       "1         2       1        1  \n",
       "2         2       1        1  \n",
       "3         2       0        1  \n",
       "4         2       1        1  \n",
       "5         2       1        1  \n",
       "6         2       1        1  \n",
       "7         2       1        1  \n",
       "8         2       0        0  \n",
       "9         2       1        1  \n",
       "10        2       1        1  \n",
       "11        2       1        1  \n",
       "12        2       1        1  \n",
       "13        2       1        0  \n",
       "14        2       1        1  \n",
       "15        2       1        0  \n",
       "16        2       1        1  \n",
       "17        2       1        1  \n",
       "18        1       1        0  \n",
       "19        2       1        1  \n",
       "20        2       1        1  \n",
       "21        2       1        1  \n",
       "22        2       1        1  \n",
       "23        2       0        1  \n",
       "24        2       1        1  \n",
       "25        2       1        1  \n",
       "26        1       1        1  \n",
       "27        1       0        1  \n",
       "28        2       0        1  \n",
       "29        2       1        1  "
      ]
     },
     "execution_count": 76,
     "metadata": {},
     "output_type": "execute_result"
    }
   ],
   "source": [
    "#Last Check\n",
    "df.head(30)"
   ]
  },
  {
   "cell_type": "code",
   "execution_count": 77,
   "id": "fe98b2dc",
   "metadata": {},
   "outputs": [
    {
     "data": {
      "text/plain": [
       "(8175, 18)"
      ]
     },
     "execution_count": 77,
     "metadata": {},
     "output_type": "execute_result"
    }
   ],
   "source": [
    "df.shape"
   ]
  },
  {
   "cell_type": "code",
   "execution_count": 78,
   "id": "5ade3f28",
   "metadata": {},
   "outputs": [
    {
     "data": {
      "text/plain": [
       "Index(['RATEHEALTH', 'COVIDCONCERN', 'AGE', 'GENDER', 'MARRIAGE', 'EDUCATION',\n",
       "       'EMPLOYMENT', 'DEPRESSION', 'ARTHRITIS', 'CANCER', 'LUNG', 'HEART',\n",
       "       'STROKE', 'DIABETES', 'EXERCISE', 'AGE_BINS', 'COLLEGE', 'CHRONIC'],\n",
       "      dtype='object')"
      ]
     },
     "execution_count": 78,
     "metadata": {},
     "output_type": "execute_result"
    }
   ],
   "source": [
    "df.columns"
   ]
  },
  {
   "cell_type": "code",
   "execution_count": 79,
   "id": "4617843e",
   "metadata": {},
   "outputs": [],
   "source": [
    "#TRANSFORM NUMERIC TO CATEGORICAL\n",
    "df['RATEHEALTH'] = df['RATEHEALTH'].astype(str)\n",
    "df['COVIDCONCERN'] = df['COVIDCONCERN'].astype(str)\n",
    "df['DEPRESSION'] = df['DEPRESSION'].astype(str)\n",
    "df['GENDER'] = df['GENDER'].astype(str)\n",
    "df['MARRIAGE'] = df['MARRIAGE'].astype(str)\n",
    "df['EMPLOYMENT'] = df['EMPLOYMENT'].astype(str)\n",
    "df['EXERCISE'] = df['EXERCISE'].astype(str)\n",
    "df['AGE_BINS'] = df['AGE_BINS'].astype(str)\n",
    "df['CHRONIC'] = df['CHRONIC'].astype(str)\n",
    "df['COLLEGE'] = df['COLLEGE'].astype(str)"
   ]
  },
  {
   "cell_type": "code",
   "execution_count": 80,
   "id": "b6ab6226",
   "metadata": {},
   "outputs": [],
   "source": [
    "#DROP FEATURES\n",
    "df = df.drop(columns='AGE')\n",
    "df = df.drop(columns='CANCER')\n",
    "df = df.drop(columns='HEART')\n",
    "df = df.drop(columns='LUNG')\n",
    "df = df.drop(columns='DIABETES')\n",
    "df = df.drop(columns='ARTHRITIS')\n",
    "df = df.drop(columns='STROKE')\n",
    "df = df.drop(columns='EDUCATION')"
   ]
  },
  {
   "cell_type": "code",
   "execution_count": 81,
   "id": "cefc42f2",
   "metadata": {},
   "outputs": [],
   "source": [
    "#reset index\n",
    "df = df.reset_index()\n",
    "df.drop(['index'], axis=1, inplace=True)"
   ]
  },
  {
   "cell_type": "code",
   "execution_count": 82,
   "id": "63520f29",
   "metadata": {},
   "outputs": [
    {
     "data": {
      "text/html": [
       "<div>\n",
       "<style scoped>\n",
       "    .dataframe tbody tr th:only-of-type {\n",
       "        vertical-align: middle;\n",
       "    }\n",
       "\n",
       "    .dataframe tbody tr th {\n",
       "        vertical-align: top;\n",
       "    }\n",
       "\n",
       "    .dataframe thead th {\n",
       "        text-align: right;\n",
       "    }\n",
       "</style>\n",
       "<table border=\"1\" class=\"dataframe\">\n",
       "  <thead>\n",
       "    <tr style=\"text-align: right;\">\n",
       "      <th></th>\n",
       "      <th>RATEHEALTH</th>\n",
       "      <th>COVIDCONCERN</th>\n",
       "      <th>GENDER</th>\n",
       "      <th>MARRIAGE</th>\n",
       "      <th>EMPLOYMENT</th>\n",
       "      <th>DEPRESSION</th>\n",
       "      <th>EXERCISE</th>\n",
       "      <th>AGE_BINS</th>\n",
       "      <th>COLLEGE</th>\n",
       "      <th>CHRONIC</th>\n",
       "    </tr>\n",
       "  </thead>\n",
       "  <tbody>\n",
       "    <tr>\n",
       "      <th>0</th>\n",
       "      <td>0</td>\n",
       "      <td>6.0</td>\n",
       "      <td>0.0</td>\n",
       "      <td>0.0</td>\n",
       "      <td>1.0</td>\n",
       "      <td>0.0</td>\n",
       "      <td>1</td>\n",
       "      <td>2</td>\n",
       "      <td>1</td>\n",
       "      <td>0</td>\n",
       "    </tr>\n",
       "    <tr>\n",
       "      <th>1</th>\n",
       "      <td>0</td>\n",
       "      <td>8.0</td>\n",
       "      <td>0.0</td>\n",
       "      <td>1.0</td>\n",
       "      <td>0.0</td>\n",
       "      <td>0.0</td>\n",
       "      <td>1</td>\n",
       "      <td>2</td>\n",
       "      <td>1</td>\n",
       "      <td>1</td>\n",
       "    </tr>\n",
       "    <tr>\n",
       "      <th>2</th>\n",
       "      <td>1</td>\n",
       "      <td>6.0</td>\n",
       "      <td>1.0</td>\n",
       "      <td>1.0</td>\n",
       "      <td>1.0</td>\n",
       "      <td>0.0</td>\n",
       "      <td>1</td>\n",
       "      <td>2</td>\n",
       "      <td>1</td>\n",
       "      <td>1</td>\n",
       "    </tr>\n",
       "    <tr>\n",
       "      <th>3</th>\n",
       "      <td>1</td>\n",
       "      <td>7.0</td>\n",
       "      <td>0.0</td>\n",
       "      <td>0.0</td>\n",
       "      <td>2.0</td>\n",
       "      <td>0.0</td>\n",
       "      <td>0</td>\n",
       "      <td>2</td>\n",
       "      <td>0</td>\n",
       "      <td>1</td>\n",
       "    </tr>\n",
       "    <tr>\n",
       "      <th>4</th>\n",
       "      <td>1</td>\n",
       "      <td>6.0</td>\n",
       "      <td>1.0</td>\n",
       "      <td>1.0</td>\n",
       "      <td>2.0</td>\n",
       "      <td>0.0</td>\n",
       "      <td>0</td>\n",
       "      <td>2</td>\n",
       "      <td>1</td>\n",
       "      <td>1</td>\n",
       "    </tr>\n",
       "  </tbody>\n",
       "</table>\n",
       "</div>"
      ],
      "text/plain": [
       "  RATEHEALTH COVIDCONCERN GENDER MARRIAGE EMPLOYMENT DEPRESSION EXERCISE  \\\n",
       "0          0          6.0    0.0      0.0        1.0        0.0        1   \n",
       "1          0          8.0    0.0      1.0        0.0        0.0        1   \n",
       "2          1          6.0    1.0      1.0        1.0        0.0        1   \n",
       "3          1          7.0    0.0      0.0        2.0        0.0        0   \n",
       "4          1          6.0    1.0      1.0        2.0        0.0        0   \n",
       "\n",
       "  AGE_BINS COLLEGE CHRONIC  \n",
       "0        2       1       0  \n",
       "1        2       1       1  \n",
       "2        2       1       1  \n",
       "3        2       0       1  \n",
       "4        2       1       1  "
      ]
     },
     "execution_count": 82,
     "metadata": {},
     "output_type": "execute_result"
    }
   ],
   "source": [
    "df.head()"
   ]
  },
  {
   "cell_type": "code",
   "execution_count": 83,
   "id": "dc23b20c",
   "metadata": {},
   "outputs": [],
   "source": [
    "#Finished Dataset for Use CSV\n",
    "df.to_csv('C:\\\\Users\\\\2-1\\\\Downloads\\\\processed.csv')"
   ]
  },
  {
   "cell_type": "markdown",
   "id": "b1796b94",
   "metadata": {},
   "source": [
    "Descriptive Statistics / Frequency Tables\n",
    "==="
   ]
  },
  {
   "cell_type": "code",
   "execution_count": 84,
   "id": "d2e7b590",
   "metadata": {},
   "outputs": [
    {
     "data": {
      "text/plain": [
       "0    0.703731\n",
       "1    0.296269\n",
       "Name: RATEHEALTH, dtype: float64"
      ]
     },
     "execution_count": 84,
     "metadata": {},
     "output_type": "execute_result"
    }
   ],
   "source": [
    "#Target Variable\n",
    "df['RATEHEALTH'].value_counts(normalize=True)"
   ]
  },
  {
   "cell_type": "markdown",
   "id": "57bbd390",
   "metadata": {},
   "source": [
    "GENDER\n",
    "==="
   ]
  },
  {
   "cell_type": "code",
   "execution_count": 85,
   "id": "626cda51",
   "metadata": {},
   "outputs": [
    {
     "data": {
      "text/plain": [
       "(4.6711821981773705, 0.030672806782721742, 1)"
      ]
     },
     "execution_count": 85,
     "metadata": {},
     "output_type": "execute_result"
    }
   ],
   "source": [
    "from scipy.stats import chi2_contingency\n",
    "#Single\n",
    "ft = pd.crosstab(index=df['GENDER'], columns=df['RATEHEALTH'])\n",
    "c, p, dof, expected = chi2_contingency(ft)\n",
    "c, p, dof"
   ]
  },
  {
   "cell_type": "code",
   "execution_count": 86,
   "id": "2e18758c",
   "metadata": {},
   "outputs": [
    {
     "data": {
      "text/plain": [
       "0.0    0.591927\n",
       "1.0    0.408073\n",
       "Name: GENDER, dtype: float64"
      ]
     },
     "execution_count": 86,
     "metadata": {},
     "output_type": "execute_result"
    }
   ],
   "source": [
    "df['GENDER'].value_counts(normalize=True)"
   ]
  },
  {
   "cell_type": "code",
   "execution_count": 87,
   "id": "ba9fe76b",
   "metadata": {},
   "outputs": [
    {
     "data": {
      "text/html": [
       "<div>\n",
       "<style scoped>\n",
       "    .dataframe tbody tr th:only-of-type {\n",
       "        vertical-align: middle;\n",
       "    }\n",
       "\n",
       "    .dataframe tbody tr th {\n",
       "        vertical-align: top;\n",
       "    }\n",
       "\n",
       "    .dataframe thead th {\n",
       "        text-align: right;\n",
       "    }\n",
       "</style>\n",
       "<table border=\"1\" class=\"dataframe\">\n",
       "  <thead>\n",
       "    <tr style=\"text-align: right;\">\n",
       "      <th></th>\n",
       "      <th>Good</th>\n",
       "      <th>Bad</th>\n",
       "      <th>RowTotal</th>\n",
       "    </tr>\n",
       "  </thead>\n",
       "  <tbody>\n",
       "    <tr>\n",
       "      <th>Male</th>\n",
       "      <td>3361.000000</td>\n",
       "      <td>1478.000000</td>\n",
       "      <td>4839.000000</td>\n",
       "    </tr>\n",
       "    <tr>\n",
       "      <th>Female</th>\n",
       "      <td>2392.000000</td>\n",
       "      <td>944.000000</td>\n",
       "      <td>3336.000000</td>\n",
       "    </tr>\n",
       "    <tr>\n",
       "      <th>ColTotal</th>\n",
       "      <td>5753.000000</td>\n",
       "      <td>2422.000000</td>\n",
       "      <td>8175.000000</td>\n",
       "    </tr>\n",
       "    <tr>\n",
       "      <th>Male</th>\n",
       "      <td>0.584217</td>\n",
       "      <td>0.610239</td>\n",
       "      <td>0.591927</td>\n",
       "    </tr>\n",
       "    <tr>\n",
       "      <th>Female</th>\n",
       "      <td>0.415783</td>\n",
       "      <td>0.389761</td>\n",
       "      <td>0.408073</td>\n",
       "    </tr>\n",
       "    <tr>\n",
       "      <th>ColTotal</th>\n",
       "      <td>1.000000</td>\n",
       "      <td>1.000000</td>\n",
       "      <td>1.000000</td>\n",
       "    </tr>\n",
       "  </tbody>\n",
       "</table>\n",
       "</div>"
      ],
      "text/plain": [
       "                 Good          Bad     RowTotal\n",
       "Male      3361.000000  1478.000000  4839.000000\n",
       "Female    2392.000000   944.000000  3336.000000\n",
       "ColTotal  5753.000000  2422.000000  8175.000000\n",
       "Male         0.584217     0.610239     0.591927\n",
       "Female       0.415783     0.389761     0.408073\n",
       "ColTotal     1.000000     1.000000     1.000000"
      ]
     },
     "execution_count": 87,
     "metadata": {},
     "output_type": "execute_result"
    }
   ],
   "source": [
    "#Setup for proportion\n",
    "ft = pd.crosstab(index=df['GENDER'], columns=df['RATEHEALTH'], margins = True)\n",
    "ft.columns = [\"Good\", \"Bad\", \"RowTotal\"]\n",
    "ft.index = [\"Male\",\"Female\",\"ColTotal\"]\n",
    "#Proportion by total\n",
    "ft2 = ft/ft.loc[\"ColTotal\"]\n",
    "#Proportion by total\n",
    "ft = ft.append(ft2)\n",
    "ft"
   ]
  },
  {
   "cell_type": "markdown",
   "id": "db9b1f01",
   "metadata": {},
   "source": [
    "COVIDCONCERN\n",
    "==="
   ]
  },
  {
   "cell_type": "code",
   "execution_count": 88,
   "id": "895d7adf",
   "metadata": {},
   "outputs": [
    {
     "data": {
      "text/plain": [
       "(165.42380856555314, 5.5342874780494216e-31, 9)"
      ]
     },
     "execution_count": 88,
     "metadata": {},
     "output_type": "execute_result"
    }
   ],
   "source": [
    "from scipy.stats import chi2_contingency\n",
    "#Single\n",
    "ft = pd.crosstab(index=df['COVIDCONCERN'], columns=df['RATEHEALTH'])\n",
    "c, p, dof, expected = chi2_contingency(ft)\n",
    "c, p, dof"
   ]
  },
  {
   "cell_type": "code",
   "execution_count": 89,
   "id": "2e6e2350",
   "metadata": {},
   "outputs": [
    {
     "data": {
      "text/plain": [
       "9.0    0.433761\n",
       "7.0    0.152171\n",
       "4.0    0.087584\n",
       "8.0    0.086972\n",
       "6.0    0.077187\n",
       "0.0    0.056147\n",
       "5.0    0.040734\n",
       "2.0    0.025933\n",
       "3.0    0.022752\n",
       "1.0    0.016758\n",
       "Name: COVIDCONCERN, dtype: float64"
      ]
     },
     "execution_count": 89,
     "metadata": {},
     "output_type": "execute_result"
    }
   ],
   "source": [
    "df['COVIDCONCERN'].value_counts(normalize=True)"
   ]
  },
  {
   "cell_type": "code",
   "execution_count": 90,
   "id": "79169c41",
   "metadata": {},
   "outputs": [
    {
     "data": {
      "text/html": [
       "<div>\n",
       "<style scoped>\n",
       "    .dataframe tbody tr th:only-of-type {\n",
       "        vertical-align: middle;\n",
       "    }\n",
       "\n",
       "    .dataframe tbody tr th {\n",
       "        vertical-align: top;\n",
       "    }\n",
       "\n",
       "    .dataframe thead th {\n",
       "        text-align: right;\n",
       "    }\n",
       "</style>\n",
       "<table border=\"1\" class=\"dataframe\">\n",
       "  <thead>\n",
       "    <tr style=\"text-align: right;\">\n",
       "      <th></th>\n",
       "      <th>Good</th>\n",
       "      <th>Bad</th>\n",
       "      <th>RowTotal</th>\n",
       "    </tr>\n",
       "  </thead>\n",
       "  <tbody>\n",
       "    <tr>\n",
       "      <th>1</th>\n",
       "      <td>287.000000</td>\n",
       "      <td>172.000000</td>\n",
       "      <td>459.000000</td>\n",
       "    </tr>\n",
       "    <tr>\n",
       "      <th>2</th>\n",
       "      <td>108.000000</td>\n",
       "      <td>29.000000</td>\n",
       "      <td>137.000000</td>\n",
       "    </tr>\n",
       "    <tr>\n",
       "      <th>3</th>\n",
       "      <td>158.000000</td>\n",
       "      <td>54.000000</td>\n",
       "      <td>212.000000</td>\n",
       "    </tr>\n",
       "    <tr>\n",
       "      <th>4</th>\n",
       "      <td>144.000000</td>\n",
       "      <td>42.000000</td>\n",
       "      <td>186.000000</td>\n",
       "    </tr>\n",
       "    <tr>\n",
       "      <th>5</th>\n",
       "      <td>537.000000</td>\n",
       "      <td>179.000000</td>\n",
       "      <td>716.000000</td>\n",
       "    </tr>\n",
       "    <tr>\n",
       "      <th>6</th>\n",
       "      <td>270.000000</td>\n",
       "      <td>63.000000</td>\n",
       "      <td>333.000000</td>\n",
       "    </tr>\n",
       "    <tr>\n",
       "      <th>7</th>\n",
       "      <td>501.000000</td>\n",
       "      <td>130.000000</td>\n",
       "      <td>631.000000</td>\n",
       "    </tr>\n",
       "    <tr>\n",
       "      <th>8</th>\n",
       "      <td>946.000000</td>\n",
       "      <td>298.000000</td>\n",
       "      <td>1244.000000</td>\n",
       "    </tr>\n",
       "    <tr>\n",
       "      <th>9</th>\n",
       "      <td>528.000000</td>\n",
       "      <td>183.000000</td>\n",
       "      <td>711.000000</td>\n",
       "    </tr>\n",
       "    <tr>\n",
       "      <th>10</th>\n",
       "      <td>2274.000000</td>\n",
       "      <td>1272.000000</td>\n",
       "      <td>3546.000000</td>\n",
       "    </tr>\n",
       "    <tr>\n",
       "      <th>ColTotal</th>\n",
       "      <td>5753.000000</td>\n",
       "      <td>2422.000000</td>\n",
       "      <td>8175.000000</td>\n",
       "    </tr>\n",
       "    <tr>\n",
       "      <th>1</th>\n",
       "      <td>0.049887</td>\n",
       "      <td>0.071016</td>\n",
       "      <td>0.056147</td>\n",
       "    </tr>\n",
       "    <tr>\n",
       "      <th>2</th>\n",
       "      <td>0.018773</td>\n",
       "      <td>0.011974</td>\n",
       "      <td>0.016758</td>\n",
       "    </tr>\n",
       "    <tr>\n",
       "      <th>3</th>\n",
       "      <td>0.027464</td>\n",
       "      <td>0.022296</td>\n",
       "      <td>0.025933</td>\n",
       "    </tr>\n",
       "    <tr>\n",
       "      <th>4</th>\n",
       "      <td>0.025030</td>\n",
       "      <td>0.017341</td>\n",
       "      <td>0.022752</td>\n",
       "    </tr>\n",
       "    <tr>\n",
       "      <th>5</th>\n",
       "      <td>0.093343</td>\n",
       "      <td>0.073906</td>\n",
       "      <td>0.087584</td>\n",
       "    </tr>\n",
       "    <tr>\n",
       "      <th>6</th>\n",
       "      <td>0.046932</td>\n",
       "      <td>0.026012</td>\n",
       "      <td>0.040734</td>\n",
       "    </tr>\n",
       "    <tr>\n",
       "      <th>7</th>\n",
       "      <td>0.087085</td>\n",
       "      <td>0.053675</td>\n",
       "      <td>0.077187</td>\n",
       "    </tr>\n",
       "    <tr>\n",
       "      <th>8</th>\n",
       "      <td>0.164436</td>\n",
       "      <td>0.123039</td>\n",
       "      <td>0.152171</td>\n",
       "    </tr>\n",
       "    <tr>\n",
       "      <th>9</th>\n",
       "      <td>0.091778</td>\n",
       "      <td>0.075557</td>\n",
       "      <td>0.086972</td>\n",
       "    </tr>\n",
       "    <tr>\n",
       "      <th>10</th>\n",
       "      <td>0.395272</td>\n",
       "      <td>0.525186</td>\n",
       "      <td>0.433761</td>\n",
       "    </tr>\n",
       "    <tr>\n",
       "      <th>ColTotal</th>\n",
       "      <td>1.000000</td>\n",
       "      <td>1.000000</td>\n",
       "      <td>1.000000</td>\n",
       "    </tr>\n",
       "  </tbody>\n",
       "</table>\n",
       "</div>"
      ],
      "text/plain": [
       "                 Good          Bad     RowTotal\n",
       "1          287.000000   172.000000   459.000000\n",
       "2          108.000000    29.000000   137.000000\n",
       "3          158.000000    54.000000   212.000000\n",
       "4          144.000000    42.000000   186.000000\n",
       "5          537.000000   179.000000   716.000000\n",
       "6          270.000000    63.000000   333.000000\n",
       "7          501.000000   130.000000   631.000000\n",
       "8          946.000000   298.000000  1244.000000\n",
       "9          528.000000   183.000000   711.000000\n",
       "10        2274.000000  1272.000000  3546.000000\n",
       "ColTotal  5753.000000  2422.000000  8175.000000\n",
       "1            0.049887     0.071016     0.056147\n",
       "2            0.018773     0.011974     0.016758\n",
       "3            0.027464     0.022296     0.025933\n",
       "4            0.025030     0.017341     0.022752\n",
       "5            0.093343     0.073906     0.087584\n",
       "6            0.046932     0.026012     0.040734\n",
       "7            0.087085     0.053675     0.077187\n",
       "8            0.164436     0.123039     0.152171\n",
       "9            0.091778     0.075557     0.086972\n",
       "10           0.395272     0.525186     0.433761\n",
       "ColTotal     1.000000     1.000000     1.000000"
      ]
     },
     "execution_count": 90,
     "metadata": {},
     "output_type": "execute_result"
    }
   ],
   "source": [
    "#Setup for proportion\n",
    "ft = pd.crosstab(index=df['COVIDCONCERN'], columns=df['RATEHEALTH'], margins = True)\n",
    "ft.columns = [\"Good\", \"Bad\", \"RowTotal\"]\n",
    "ft.index = [1,2,3,4,5,6,7,8,9,10,\"ColTotal\"]\n",
    "#Proportion by total\n",
    "ft2 = ft/ft.loc[\"ColTotal\"]\n",
    "#Proportion by total\n",
    "ft = ft.append(ft2)\n",
    "ft"
   ]
  },
  {
   "cell_type": "markdown",
   "id": "687a158c",
   "metadata": {},
   "source": [
    "DEPRESSION\n",
    "==="
   ]
  },
  {
   "cell_type": "code",
   "execution_count": 91,
   "id": "c319d603",
   "metadata": {},
   "outputs": [
    {
     "data": {
      "text/plain": [
       "(338.67848580166986, 1.2378684811931433e-75, 1)"
      ]
     },
     "execution_count": 91,
     "metadata": {},
     "output_type": "execute_result"
    }
   ],
   "source": [
    "from scipy.stats import chi2_contingency\n",
    "#Single\n",
    "ft = pd.crosstab(index=df['DEPRESSION'], columns=df['RATEHEALTH'])\n",
    "c, p, dof, expected = chi2_contingency(ft)\n",
    "c, p, dof"
   ]
  },
  {
   "cell_type": "code",
   "execution_count": 92,
   "id": "e1531c64",
   "metadata": {},
   "outputs": [
    {
     "data": {
      "text/plain": [
       "0.0    0.755229\n",
       "1.0    0.244771\n",
       "Name: DEPRESSION, dtype: float64"
      ]
     },
     "execution_count": 92,
     "metadata": {},
     "output_type": "execute_result"
    }
   ],
   "source": [
    "df['DEPRESSION'].value_counts(normalize=True)"
   ]
  },
  {
   "cell_type": "code",
   "execution_count": 93,
   "id": "469683e1",
   "metadata": {},
   "outputs": [
    {
     "data": {
      "text/html": [
       "<div>\n",
       "<style scoped>\n",
       "    .dataframe tbody tr th:only-of-type {\n",
       "        vertical-align: middle;\n",
       "    }\n",
       "\n",
       "    .dataframe tbody tr th {\n",
       "        vertical-align: top;\n",
       "    }\n",
       "\n",
       "    .dataframe thead th {\n",
       "        text-align: right;\n",
       "    }\n",
       "</style>\n",
       "<table border=\"1\" class=\"dataframe\">\n",
       "  <thead>\n",
       "    <tr style=\"text-align: right;\">\n",
       "      <th></th>\n",
       "      <th>Good</th>\n",
       "      <th>Bad</th>\n",
       "      <th>RowTotal</th>\n",
       "    </tr>\n",
       "  </thead>\n",
       "  <tbody>\n",
       "    <tr>\n",
       "      <th>No</th>\n",
       "      <td>4672.000000</td>\n",
       "      <td>1502.000000</td>\n",
       "      <td>6174.000000</td>\n",
       "    </tr>\n",
       "    <tr>\n",
       "      <th>Yes</th>\n",
       "      <td>1081.000000</td>\n",
       "      <td>920.000000</td>\n",
       "      <td>2001.000000</td>\n",
       "    </tr>\n",
       "    <tr>\n",
       "      <th>ColTotal</th>\n",
       "      <td>5753.000000</td>\n",
       "      <td>2422.000000</td>\n",
       "      <td>8175.000000</td>\n",
       "    </tr>\n",
       "    <tr>\n",
       "      <th>No</th>\n",
       "      <td>0.812098</td>\n",
       "      <td>0.620149</td>\n",
       "      <td>0.755229</td>\n",
       "    </tr>\n",
       "    <tr>\n",
       "      <th>Yes</th>\n",
       "      <td>0.187902</td>\n",
       "      <td>0.379851</td>\n",
       "      <td>0.244771</td>\n",
       "    </tr>\n",
       "    <tr>\n",
       "      <th>ColTotal</th>\n",
       "      <td>1.000000</td>\n",
       "      <td>1.000000</td>\n",
       "      <td>1.000000</td>\n",
       "    </tr>\n",
       "  </tbody>\n",
       "</table>\n",
       "</div>"
      ],
      "text/plain": [
       "                 Good          Bad     RowTotal\n",
       "No        4672.000000  1502.000000  6174.000000\n",
       "Yes       1081.000000   920.000000  2001.000000\n",
       "ColTotal  5753.000000  2422.000000  8175.000000\n",
       "No           0.812098     0.620149     0.755229\n",
       "Yes          0.187902     0.379851     0.244771\n",
       "ColTotal     1.000000     1.000000     1.000000"
      ]
     },
     "execution_count": 93,
     "metadata": {},
     "output_type": "execute_result"
    }
   ],
   "source": [
    "#Setup for proportion\n",
    "ft = pd.crosstab(index=df['DEPRESSION'], columns=df['RATEHEALTH'], margins = True)\n",
    "ft.columns = [\"Good\", \"Bad\", \"RowTotal\"]\n",
    "ft.index = [\"No\",\"Yes\",\"ColTotal\"]\n",
    "#Proportion by total\n",
    "ft2 = ft/ft.loc[\"ColTotal\"]\n",
    "#Proportion by total\n",
    "ft = ft.append(ft2)\n",
    "ft"
   ]
  },
  {
   "cell_type": "markdown",
   "id": "083ee5db",
   "metadata": {},
   "source": [
    "MARRIAGE\n",
    "==="
   ]
  },
  {
   "cell_type": "code",
   "execution_count": 94,
   "id": "76a199ce",
   "metadata": {},
   "outputs": [
    {
     "data": {
      "text/plain": [
       "(92.34827271604777, 7.268942721889424e-22, 1)"
      ]
     },
     "execution_count": 94,
     "metadata": {},
     "output_type": "execute_result"
    }
   ],
   "source": [
    "from scipy.stats import chi2_contingency\n",
    "#Single\n",
    "ft = pd.crosstab(index=df['MARRIAGE'], columns=df['RATEHEALTH'])\n",
    "c, p, dof, expected = chi2_contingency(ft)\n",
    "c, p, dof"
   ]
  },
  {
   "cell_type": "code",
   "execution_count": 95,
   "id": "4ac33e7c",
   "metadata": {},
   "outputs": [
    {
     "data": {
      "text/plain": [
       "0.0    0.591927\n",
       "1.0    0.408073\n",
       "Name: GENDER, dtype: float64"
      ]
     },
     "execution_count": 95,
     "metadata": {},
     "output_type": "execute_result"
    }
   ],
   "source": [
    "df['GENDER'].value_counts(normalize=True)"
   ]
  },
  {
   "cell_type": "code",
   "execution_count": 96,
   "id": "53fa214a",
   "metadata": {},
   "outputs": [
    {
     "data": {
      "text/html": [
       "<div>\n",
       "<style scoped>\n",
       "    .dataframe tbody tr th:only-of-type {\n",
       "        vertical-align: middle;\n",
       "    }\n",
       "\n",
       "    .dataframe tbody tr th {\n",
       "        vertical-align: top;\n",
       "    }\n",
       "\n",
       "    .dataframe thead th {\n",
       "        text-align: right;\n",
       "    }\n",
       "</style>\n",
       "<table border=\"1\" class=\"dataframe\">\n",
       "  <thead>\n",
       "    <tr style=\"text-align: right;\">\n",
       "      <th></th>\n",
       "      <th>Good</th>\n",
       "      <th>Bad</th>\n",
       "      <th>RowTotal</th>\n",
       "    </tr>\n",
       "  </thead>\n",
       "  <tbody>\n",
       "    <tr>\n",
       "      <th>No</th>\n",
       "      <td>2438.000000</td>\n",
       "      <td>1308.00000</td>\n",
       "      <td>3746.000000</td>\n",
       "    </tr>\n",
       "    <tr>\n",
       "      <th>Yes</th>\n",
       "      <td>3315.000000</td>\n",
       "      <td>1114.00000</td>\n",
       "      <td>4429.000000</td>\n",
       "    </tr>\n",
       "    <tr>\n",
       "      <th>ColTotal</th>\n",
       "      <td>5753.000000</td>\n",
       "      <td>2422.00000</td>\n",
       "      <td>8175.000000</td>\n",
       "    </tr>\n",
       "    <tr>\n",
       "      <th>No</th>\n",
       "      <td>0.423779</td>\n",
       "      <td>0.54005</td>\n",
       "      <td>0.458226</td>\n",
       "    </tr>\n",
       "    <tr>\n",
       "      <th>Yes</th>\n",
       "      <td>0.576221</td>\n",
       "      <td>0.45995</td>\n",
       "      <td>0.541774</td>\n",
       "    </tr>\n",
       "    <tr>\n",
       "      <th>ColTotal</th>\n",
       "      <td>1.000000</td>\n",
       "      <td>1.00000</td>\n",
       "      <td>1.000000</td>\n",
       "    </tr>\n",
       "  </tbody>\n",
       "</table>\n",
       "</div>"
      ],
      "text/plain": [
       "                 Good         Bad     RowTotal\n",
       "No        2438.000000  1308.00000  3746.000000\n",
       "Yes       3315.000000  1114.00000  4429.000000\n",
       "ColTotal  5753.000000  2422.00000  8175.000000\n",
       "No           0.423779     0.54005     0.458226\n",
       "Yes          0.576221     0.45995     0.541774\n",
       "ColTotal     1.000000     1.00000     1.000000"
      ]
     },
     "execution_count": 96,
     "metadata": {},
     "output_type": "execute_result"
    }
   ],
   "source": [
    "#Setup for proportion\n",
    "ft = pd.crosstab(index=df['MARRIAGE'], columns=df['RATEHEALTH'], margins = True)\n",
    "ft.columns = [\"Good\", \"Bad\", \"RowTotal\"]\n",
    "ft.index = [\"No\",\"Yes\",\"ColTotal\"]\n",
    "#Proportion by total\n",
    "ft2 = ft/ft.loc[\"ColTotal\"]\n",
    "#Proportion by total\n",
    "ft = ft.append(ft2)\n",
    "ft"
   ]
  },
  {
   "cell_type": "markdown",
   "id": "ca9f1765",
   "metadata": {},
   "source": [
    "EMPLOYMENT\n",
    "==="
   ]
  },
  {
   "cell_type": "code",
   "execution_count": 97,
   "id": "a1aa87ef",
   "metadata": {},
   "outputs": [
    {
     "data": {
      "text/plain": [
       "(865.8399524652173, 2.2719711388799582e-187, 3)"
      ]
     },
     "execution_count": 97,
     "metadata": {},
     "output_type": "execute_result"
    }
   ],
   "source": [
    "from scipy.stats import chi2_contingency\n",
    "#Single\n",
    "ft = pd.crosstab(index=df['EMPLOYMENT'], columns=df['RATEHEALTH'])\n",
    "c, p, dof, expected = chi2_contingency(ft)\n",
    "c, p, dof"
   ]
  },
  {
   "cell_type": "code",
   "execution_count": 98,
   "id": "dcac4ee8",
   "metadata": {},
   "outputs": [
    {
     "data": {
      "text/plain": [
       "2.0    0.475474\n",
       "1.0    0.299817\n",
       "3.0    0.123547\n",
       "0.0    0.101162\n",
       "Name: EMPLOYMENT, dtype: float64"
      ]
     },
     "execution_count": 98,
     "metadata": {},
     "output_type": "execute_result"
    }
   ],
   "source": [
    "df['EMPLOYMENT'].value_counts(normalize=True)"
   ]
  },
  {
   "cell_type": "code",
   "execution_count": 99,
   "id": "406ba51f",
   "metadata": {},
   "outputs": [
    {
     "data": {
      "text/html": [
       "<div>\n",
       "<style scoped>\n",
       "    .dataframe tbody tr th:only-of-type {\n",
       "        vertical-align: middle;\n",
       "    }\n",
       "\n",
       "    .dataframe tbody tr th {\n",
       "        vertical-align: top;\n",
       "    }\n",
       "\n",
       "    .dataframe thead th {\n",
       "        text-align: right;\n",
       "    }\n",
       "</style>\n",
       "<table border=\"1\" class=\"dataframe\">\n",
       "  <thead>\n",
       "    <tr style=\"text-align: right;\">\n",
       "      <th></th>\n",
       "      <th>Good</th>\n",
       "      <th>Bad</th>\n",
       "      <th>RowTotal</th>\n",
       "    </tr>\n",
       "  </thead>\n",
       "  <tbody>\n",
       "    <tr>\n",
       "      <th>Unemployed</th>\n",
       "      <td>574.000000</td>\n",
       "      <td>253.000000</td>\n",
       "      <td>827.000000</td>\n",
       "    </tr>\n",
       "    <tr>\n",
       "      <th>Employed</th>\n",
       "      <td>2035.000000</td>\n",
       "      <td>416.000000</td>\n",
       "      <td>2451.000000</td>\n",
       "    </tr>\n",
       "    <tr>\n",
       "      <th>Retired</th>\n",
       "      <td>2809.000000</td>\n",
       "      <td>1078.000000</td>\n",
       "      <td>3887.000000</td>\n",
       "    </tr>\n",
       "    <tr>\n",
       "      <th>Disabled</th>\n",
       "      <td>335.000000</td>\n",
       "      <td>675.000000</td>\n",
       "      <td>1010.000000</td>\n",
       "    </tr>\n",
       "    <tr>\n",
       "      <th>ColTotal</th>\n",
       "      <td>5753.000000</td>\n",
       "      <td>2422.000000</td>\n",
       "      <td>8175.000000</td>\n",
       "    </tr>\n",
       "    <tr>\n",
       "      <th>Unemployed</th>\n",
       "      <td>0.099774</td>\n",
       "      <td>0.104459</td>\n",
       "      <td>0.101162</td>\n",
       "    </tr>\n",
       "    <tr>\n",
       "      <th>Employed</th>\n",
       "      <td>0.353728</td>\n",
       "      <td>0.171759</td>\n",
       "      <td>0.299817</td>\n",
       "    </tr>\n",
       "    <tr>\n",
       "      <th>Retired</th>\n",
       "      <td>0.488267</td>\n",
       "      <td>0.445087</td>\n",
       "      <td>0.475474</td>\n",
       "    </tr>\n",
       "    <tr>\n",
       "      <th>Disabled</th>\n",
       "      <td>0.058230</td>\n",
       "      <td>0.278695</td>\n",
       "      <td>0.123547</td>\n",
       "    </tr>\n",
       "    <tr>\n",
       "      <th>ColTotal</th>\n",
       "      <td>1.000000</td>\n",
       "      <td>1.000000</td>\n",
       "      <td>1.000000</td>\n",
       "    </tr>\n",
       "  </tbody>\n",
       "</table>\n",
       "</div>"
      ],
      "text/plain": [
       "                   Good          Bad     RowTotal\n",
       "Unemployed   574.000000   253.000000   827.000000\n",
       "Employed    2035.000000   416.000000  2451.000000\n",
       "Retired     2809.000000  1078.000000  3887.000000\n",
       "Disabled     335.000000   675.000000  1010.000000\n",
       "ColTotal    5753.000000  2422.000000  8175.000000\n",
       "Unemployed     0.099774     0.104459     0.101162\n",
       "Employed       0.353728     0.171759     0.299817\n",
       "Retired        0.488267     0.445087     0.475474\n",
       "Disabled       0.058230     0.278695     0.123547\n",
       "ColTotal       1.000000     1.000000     1.000000"
      ]
     },
     "execution_count": 99,
     "metadata": {},
     "output_type": "execute_result"
    }
   ],
   "source": [
    "#Setup for proportion\n",
    "ft = pd.crosstab(index=df['EMPLOYMENT'], columns=df['RATEHEALTH'], margins = True)\n",
    "ft.columns = [\"Good\", \"Bad\", \"RowTotal\"]\n",
    "ft.index = [\"Unemployed\",\"Employed\",\"Retired\",\"Disabled\",\"ColTotal\"]\n",
    "#Proportion by total\n",
    "ft2 = ft/ft.loc[\"ColTotal\"]\n",
    "#Proportion by total\n",
    "ft = ft.append(ft2)\n",
    "ft"
   ]
  },
  {
   "cell_type": "markdown",
   "id": "32e82ce9",
   "metadata": {},
   "source": [
    "EXERCISE\n",
    "==="
   ]
  },
  {
   "cell_type": "code",
   "execution_count": 100,
   "id": "cc52d765",
   "metadata": {},
   "outputs": [
    {
     "data": {
      "text/plain": [
       "(392.85051174575904, 1.9830018558222877e-87, 1)"
      ]
     },
     "execution_count": 100,
     "metadata": {},
     "output_type": "execute_result"
    }
   ],
   "source": [
    "from scipy.stats import chi2_contingency\n",
    "#Single\n",
    "ft = pd.crosstab(index=df['EXERCISE'], columns=df['RATEHEALTH'])\n",
    "c, p, dof, expected = chi2_contingency(ft)\n",
    "c, p, dof"
   ]
  },
  {
   "cell_type": "code",
   "execution_count": 101,
   "id": "fc34d5b9",
   "metadata": {},
   "outputs": [
    {
     "data": {
      "text/plain": [
       "1    0.876453\n",
       "0    0.123547\n",
       "Name: EXERCISE, dtype: float64"
      ]
     },
     "execution_count": 101,
     "metadata": {},
     "output_type": "execute_result"
    }
   ],
   "source": [
    "df['EXERCISE'].value_counts(normalize=True)"
   ]
  },
  {
   "cell_type": "code",
   "execution_count": 102,
   "id": "ab939d3e",
   "metadata": {},
   "outputs": [
    {
     "data": {
      "text/html": [
       "<div>\n",
       "<style scoped>\n",
       "    .dataframe tbody tr th:only-of-type {\n",
       "        vertical-align: middle;\n",
       "    }\n",
       "\n",
       "    .dataframe tbody tr th {\n",
       "        vertical-align: top;\n",
       "    }\n",
       "\n",
       "    .dataframe thead th {\n",
       "        text-align: right;\n",
       "    }\n",
       "</style>\n",
       "<table border=\"1\" class=\"dataframe\">\n",
       "  <thead>\n",
       "    <tr style=\"text-align: right;\">\n",
       "      <th></th>\n",
       "      <th>Good</th>\n",
       "      <th>Bad</th>\n",
       "      <th>RowTotal</th>\n",
       "    </tr>\n",
       "  </thead>\n",
       "  <tbody>\n",
       "    <tr>\n",
       "      <th>No</th>\n",
       "      <td>441.000000</td>\n",
       "      <td>569.00000</td>\n",
       "      <td>1010.000000</td>\n",
       "    </tr>\n",
       "    <tr>\n",
       "      <th>Yes</th>\n",
       "      <td>5312.000000</td>\n",
       "      <td>1853.00000</td>\n",
       "      <td>7165.000000</td>\n",
       "    </tr>\n",
       "    <tr>\n",
       "      <th>ColTotal</th>\n",
       "      <td>5753.000000</td>\n",
       "      <td>2422.00000</td>\n",
       "      <td>8175.000000</td>\n",
       "    </tr>\n",
       "    <tr>\n",
       "      <th>No</th>\n",
       "      <td>0.076656</td>\n",
       "      <td>0.23493</td>\n",
       "      <td>0.123547</td>\n",
       "    </tr>\n",
       "    <tr>\n",
       "      <th>Yes</th>\n",
       "      <td>0.923344</td>\n",
       "      <td>0.76507</td>\n",
       "      <td>0.876453</td>\n",
       "    </tr>\n",
       "    <tr>\n",
       "      <th>ColTotal</th>\n",
       "      <td>1.000000</td>\n",
       "      <td>1.00000</td>\n",
       "      <td>1.000000</td>\n",
       "    </tr>\n",
       "  </tbody>\n",
       "</table>\n",
       "</div>"
      ],
      "text/plain": [
       "                 Good         Bad     RowTotal\n",
       "No         441.000000   569.00000  1010.000000\n",
       "Yes       5312.000000  1853.00000  7165.000000\n",
       "ColTotal  5753.000000  2422.00000  8175.000000\n",
       "No           0.076656     0.23493     0.123547\n",
       "Yes          0.923344     0.76507     0.876453\n",
       "ColTotal     1.000000     1.00000     1.000000"
      ]
     },
     "execution_count": 102,
     "metadata": {},
     "output_type": "execute_result"
    }
   ],
   "source": [
    "#Setup for proportion\n",
    "ft = pd.crosstab(index=df['EXERCISE'], columns=df['RATEHEALTH'], margins = True)\n",
    "ft.columns = [\"Good\",\"Bad\", \"RowTotal\"]\n",
    "ft.index = [\"No\",\"Yes\",\"ColTotal\"]\n",
    "#Proportion by total\n",
    "ft2 = ft/ft.loc[\"ColTotal\"]\n",
    "#Proportion by total\n",
    "ft = ft.append(ft2)\n",
    "ft"
   ]
  },
  {
   "cell_type": "markdown",
   "id": "c5fc66a8",
   "metadata": {},
   "source": [
    "AGE_BINS\n",
    "==="
   ]
  },
  {
   "cell_type": "code",
   "execution_count": 103,
   "id": "28236497",
   "metadata": {},
   "outputs": [
    {
     "data": {
      "text/plain": [
       "(7.90382874427691, 0.019217876370784683, 2)"
      ]
     },
     "execution_count": 103,
     "metadata": {},
     "output_type": "execute_result"
    }
   ],
   "source": [
    "from scipy.stats import chi2_contingency\n",
    "#Single\n",
    "ft = pd.crosstab(index=df['AGE_BINS'], columns=df['RATEHEALTH'])\n",
    "c, p, dof, expected = chi2_contingency(ft)\n",
    "c, p, dof"
   ]
  },
  {
   "cell_type": "code",
   "execution_count": 104,
   "id": "93179ed5",
   "metadata": {},
   "outputs": [
    {
     "data": {
      "text/plain": [
       "0    0.409664\n",
       "1    0.303119\n",
       "2    0.287217\n",
       "Name: AGE_BINS, dtype: float64"
      ]
     },
     "execution_count": 104,
     "metadata": {},
     "output_type": "execute_result"
    }
   ],
   "source": [
    "df['AGE_BINS'].value_counts(normalize=True)"
   ]
  },
  {
   "cell_type": "code",
   "execution_count": 105,
   "id": "2cd63060",
   "metadata": {},
   "outputs": [
    {
     "data": {
      "text/html": [
       "<div>\n",
       "<style scoped>\n",
       "    .dataframe tbody tr th:only-of-type {\n",
       "        vertical-align: middle;\n",
       "    }\n",
       "\n",
       "    .dataframe tbody tr th {\n",
       "        vertical-align: top;\n",
       "    }\n",
       "\n",
       "    .dataframe thead th {\n",
       "        text-align: right;\n",
       "    }\n",
       "</style>\n",
       "<table border=\"1\" class=\"dataframe\">\n",
       "  <thead>\n",
       "    <tr style=\"text-align: right;\">\n",
       "      <th></th>\n",
       "      <th>Good</th>\n",
       "      <th>Bad</th>\n",
       "      <th>RowTotal</th>\n",
       "    </tr>\n",
       "  </thead>\n",
       "  <tbody>\n",
       "    <tr>\n",
       "      <th>55s</th>\n",
       "      <td>2372.000000</td>\n",
       "      <td>977.000000</td>\n",
       "      <td>3349.000000</td>\n",
       "    </tr>\n",
       "    <tr>\n",
       "      <th>65s</th>\n",
       "      <td>1779.000000</td>\n",
       "      <td>699.000000</td>\n",
       "      <td>2478.000000</td>\n",
       "    </tr>\n",
       "    <tr>\n",
       "      <th>75s+</th>\n",
       "      <td>1602.000000</td>\n",
       "      <td>746.000000</td>\n",
       "      <td>2348.000000</td>\n",
       "    </tr>\n",
       "    <tr>\n",
       "      <th>ColTotal</th>\n",
       "      <td>5753.000000</td>\n",
       "      <td>2422.000000</td>\n",
       "      <td>8175.000000</td>\n",
       "    </tr>\n",
       "    <tr>\n",
       "      <th>55s</th>\n",
       "      <td>0.412307</td>\n",
       "      <td>0.403386</td>\n",
       "      <td>0.409664</td>\n",
       "    </tr>\n",
       "    <tr>\n",
       "      <th>65s</th>\n",
       "      <td>0.309230</td>\n",
       "      <td>0.288604</td>\n",
       "      <td>0.303119</td>\n",
       "    </tr>\n",
       "    <tr>\n",
       "      <th>75s+</th>\n",
       "      <td>0.278463</td>\n",
       "      <td>0.308010</td>\n",
       "      <td>0.287217</td>\n",
       "    </tr>\n",
       "    <tr>\n",
       "      <th>ColTotal</th>\n",
       "      <td>1.000000</td>\n",
       "      <td>1.000000</td>\n",
       "      <td>1.000000</td>\n",
       "    </tr>\n",
       "  </tbody>\n",
       "</table>\n",
       "</div>"
      ],
      "text/plain": [
       "                 Good          Bad     RowTotal\n",
       "55s       2372.000000   977.000000  3349.000000\n",
       "65s       1779.000000   699.000000  2478.000000\n",
       "75s+      1602.000000   746.000000  2348.000000\n",
       "ColTotal  5753.000000  2422.000000  8175.000000\n",
       "55s          0.412307     0.403386     0.409664\n",
       "65s          0.309230     0.288604     0.303119\n",
       "75s+         0.278463     0.308010     0.287217\n",
       "ColTotal     1.000000     1.000000     1.000000"
      ]
     },
     "execution_count": 105,
     "metadata": {},
     "output_type": "execute_result"
    }
   ],
   "source": [
    "#Setup for proportion\n",
    "ft = pd.crosstab(index=df['AGE_BINS'], columns=df['RATEHEALTH'], margins = True)\n",
    "ft.columns = [\"Good\", \"Bad\", \"RowTotal\"]\n",
    "ft.index = [\"55s\",\"65s\",\"75s+\",\"ColTotal\"]\n",
    "#Proportion by total\n",
    "ft2 = ft/ft.loc[\"ColTotal\"]\n",
    "#Proportion by total\n",
    "ft = ft.append(ft2)\n",
    "ft"
   ]
  },
  {
   "cell_type": "markdown",
   "id": "b4aab8b6",
   "metadata": {},
   "source": [
    "CHRONIC\n",
    "==="
   ]
  },
  {
   "cell_type": "code",
   "execution_count": 106,
   "id": "7dfcb8c5",
   "metadata": {},
   "outputs": [
    {
     "data": {
      "text/plain": [
       "(396.1576849616914, 3.7789253645639934e-88, 1)"
      ]
     },
     "execution_count": 106,
     "metadata": {},
     "output_type": "execute_result"
    }
   ],
   "source": [
    "from scipy.stats import chi2_contingency\n",
    "#Single\n",
    "ft = pd.crosstab(index=df['CHRONIC'], columns=df['RATEHEALTH'])\n",
    "c, p, dof, expected = chi2_contingency(ft)\n",
    "c, p, dof"
   ]
  },
  {
   "cell_type": "code",
   "execution_count": 107,
   "id": "8aa8a7f2",
   "metadata": {},
   "outputs": [
    {
     "data": {
      "text/plain": [
       "1    0.770398\n",
       "0    0.229602\n",
       "Name: CHRONIC, dtype: float64"
      ]
     },
     "execution_count": 107,
     "metadata": {},
     "output_type": "execute_result"
    }
   ],
   "source": [
    "df['CHRONIC'].value_counts(normalize=True)"
   ]
  },
  {
   "cell_type": "code",
   "execution_count": 108,
   "id": "234964d5",
   "metadata": {},
   "outputs": [
    {
     "data": {
      "text/html": [
       "<div>\n",
       "<style scoped>\n",
       "    .dataframe tbody tr th:only-of-type {\n",
       "        vertical-align: middle;\n",
       "    }\n",
       "\n",
       "    .dataframe tbody tr th {\n",
       "        vertical-align: top;\n",
       "    }\n",
       "\n",
       "    .dataframe thead th {\n",
       "        text-align: right;\n",
       "    }\n",
       "</style>\n",
       "<table border=\"1\" class=\"dataframe\">\n",
       "  <thead>\n",
       "    <tr style=\"text-align: right;\">\n",
       "      <th></th>\n",
       "      <th>Good</th>\n",
       "      <th>Bad</th>\n",
       "      <th>RowTotal</th>\n",
       "    </tr>\n",
       "  </thead>\n",
       "  <tbody>\n",
       "    <tr>\n",
       "      <th>No</th>\n",
       "      <td>1667.000000</td>\n",
       "      <td>210.000000</td>\n",
       "      <td>1877.000000</td>\n",
       "    </tr>\n",
       "    <tr>\n",
       "      <th>Yes</th>\n",
       "      <td>4086.000000</td>\n",
       "      <td>2212.000000</td>\n",
       "      <td>6298.000000</td>\n",
       "    </tr>\n",
       "    <tr>\n",
       "      <th>ColTotal</th>\n",
       "      <td>5753.000000</td>\n",
       "      <td>2422.000000</td>\n",
       "      <td>8175.000000</td>\n",
       "    </tr>\n",
       "    <tr>\n",
       "      <th>No</th>\n",
       "      <td>0.289762</td>\n",
       "      <td>0.086705</td>\n",
       "      <td>0.229602</td>\n",
       "    </tr>\n",
       "    <tr>\n",
       "      <th>Yes</th>\n",
       "      <td>0.710238</td>\n",
       "      <td>0.913295</td>\n",
       "      <td>0.770398</td>\n",
       "    </tr>\n",
       "    <tr>\n",
       "      <th>ColTotal</th>\n",
       "      <td>1.000000</td>\n",
       "      <td>1.000000</td>\n",
       "      <td>1.000000</td>\n",
       "    </tr>\n",
       "  </tbody>\n",
       "</table>\n",
       "</div>"
      ],
      "text/plain": [
       "                 Good          Bad     RowTotal\n",
       "No        1667.000000   210.000000  1877.000000\n",
       "Yes       4086.000000  2212.000000  6298.000000\n",
       "ColTotal  5753.000000  2422.000000  8175.000000\n",
       "No           0.289762     0.086705     0.229602\n",
       "Yes          0.710238     0.913295     0.770398\n",
       "ColTotal     1.000000     1.000000     1.000000"
      ]
     },
     "execution_count": 108,
     "metadata": {},
     "output_type": "execute_result"
    }
   ],
   "source": [
    "#Setup for proportion\n",
    "ft = pd.crosstab(index=df['CHRONIC'], columns=df['RATEHEALTH'], margins = True)\n",
    "ft.columns = [\"Good\", \"Bad\", \"RowTotal\"]\n",
    "ft.index = [\"No\",\"Yes\",\"ColTotal\"]\n",
    "#Proportion by total\n",
    "ft2 = ft/ft.loc[\"ColTotal\"]\n",
    "#Proportion by total\n",
    "ft = ft.append(ft2)\n",
    "ft"
   ]
  },
  {
   "cell_type": "markdown",
   "id": "943a7c80",
   "metadata": {},
   "source": [
    "COLLEGE\n",
    "==="
   ]
  },
  {
   "cell_type": "code",
   "execution_count": 109,
   "id": "1648251e",
   "metadata": {},
   "outputs": [
    {
     "data": {
      "text/plain": [
       "(364.3221215151943, 3.224555046911932e-81, 1)"
      ]
     },
     "execution_count": 109,
     "metadata": {},
     "output_type": "execute_result"
    }
   ],
   "source": [
    "from scipy.stats import chi2_contingency\n",
    "#Single\n",
    "ft = pd.crosstab(index=df['COLLEGE'], columns=df['RATEHEALTH'])\n",
    "c, p, dof, expected = chi2_contingency(ft)\n",
    "c, p, dof"
   ]
  },
  {
   "cell_type": "code",
   "execution_count": 110,
   "id": "53d53067",
   "metadata": {},
   "outputs": [
    {
     "data": {
      "text/plain": [
       "1    0.831682\n",
       "0    0.168318\n",
       "Name: COLLEGE, dtype: float64"
      ]
     },
     "execution_count": 110,
     "metadata": {},
     "output_type": "execute_result"
    }
   ],
   "source": [
    "df['COLLEGE'].value_counts(normalize=True)"
   ]
  },
  {
   "cell_type": "code",
   "execution_count": 111,
   "id": "be17f47a",
   "metadata": {},
   "outputs": [
    {
     "data": {
      "text/html": [
       "<div>\n",
       "<style scoped>\n",
       "    .dataframe tbody tr th:only-of-type {\n",
       "        vertical-align: middle;\n",
       "    }\n",
       "\n",
       "    .dataframe tbody tr th {\n",
       "        vertical-align: top;\n",
       "    }\n",
       "\n",
       "    .dataframe thead th {\n",
       "        text-align: right;\n",
       "    }\n",
       "</style>\n",
       "<table border=\"1\" class=\"dataframe\">\n",
       "  <thead>\n",
       "    <tr style=\"text-align: right;\">\n",
       "      <th></th>\n",
       "      <th>Good</th>\n",
       "      <th>Bad</th>\n",
       "      <th>RowTotal</th>\n",
       "    </tr>\n",
       "  </thead>\n",
       "  <tbody>\n",
       "    <tr>\n",
       "      <th>No</th>\n",
       "      <td>673.000000</td>\n",
       "      <td>703.000000</td>\n",
       "      <td>1376.000000</td>\n",
       "    </tr>\n",
       "    <tr>\n",
       "      <th>Yes</th>\n",
       "      <td>5080.000000</td>\n",
       "      <td>1719.000000</td>\n",
       "      <td>6799.000000</td>\n",
       "    </tr>\n",
       "    <tr>\n",
       "      <th>ColTotal</th>\n",
       "      <td>5753.000000</td>\n",
       "      <td>2422.000000</td>\n",
       "      <td>8175.000000</td>\n",
       "    </tr>\n",
       "    <tr>\n",
       "      <th>No</th>\n",
       "      <td>0.116982</td>\n",
       "      <td>0.290256</td>\n",
       "      <td>0.168318</td>\n",
       "    </tr>\n",
       "    <tr>\n",
       "      <th>Yes</th>\n",
       "      <td>0.883018</td>\n",
       "      <td>0.709744</td>\n",
       "      <td>0.831682</td>\n",
       "    </tr>\n",
       "    <tr>\n",
       "      <th>ColTotal</th>\n",
       "      <td>1.000000</td>\n",
       "      <td>1.000000</td>\n",
       "      <td>1.000000</td>\n",
       "    </tr>\n",
       "  </tbody>\n",
       "</table>\n",
       "</div>"
      ],
      "text/plain": [
       "                 Good          Bad     RowTotal\n",
       "No         673.000000   703.000000  1376.000000\n",
       "Yes       5080.000000  1719.000000  6799.000000\n",
       "ColTotal  5753.000000  2422.000000  8175.000000\n",
       "No           0.116982     0.290256     0.168318\n",
       "Yes          0.883018     0.709744     0.831682\n",
       "ColTotal     1.000000     1.000000     1.000000"
      ]
     },
     "execution_count": 111,
     "metadata": {},
     "output_type": "execute_result"
    }
   ],
   "source": [
    "#Setup for proportion\n",
    "ft = pd.crosstab(index=df['COLLEGE'], columns=df['RATEHEALTH'], margins = True)\n",
    "ft.columns = [\"Good\", \"Bad\", \"RowTotal\"]\n",
    "ft.index = [\"No\",\"Yes\",\"ColTotal\"]\n",
    "#Proportion by total\n",
    "ft2 = ft/ft.loc[\"ColTotal\"]\n",
    "#Proportion by total\n",
    "ft = ft.append(ft2)\n",
    "ft"
   ]
  },
  {
   "cell_type": "markdown",
   "id": "f547f884",
   "metadata": {},
   "source": [
    "Looking at Data Types\n",
    "===="
   ]
  },
  {
   "cell_type": "code",
   "execution_count": 112,
   "id": "8b64329c",
   "metadata": {},
   "outputs": [
    {
     "data": {
      "text/html": [
       "<div>\n",
       "<style scoped>\n",
       "    .dataframe tbody tr th:only-of-type {\n",
       "        vertical-align: middle;\n",
       "    }\n",
       "\n",
       "    .dataframe tbody tr th {\n",
       "        vertical-align: top;\n",
       "    }\n",
       "\n",
       "    .dataframe thead th {\n",
       "        text-align: right;\n",
       "    }\n",
       "</style>\n",
       "<table border=\"1\" class=\"dataframe\">\n",
       "  <thead>\n",
       "    <tr style=\"text-align: right;\">\n",
       "      <th></th>\n",
       "      <th>count</th>\n",
       "      <th>unique</th>\n",
       "      <th>top</th>\n",
       "      <th>freq</th>\n",
       "    </tr>\n",
       "  </thead>\n",
       "  <tbody>\n",
       "    <tr>\n",
       "      <th>RATEHEALTH</th>\n",
       "      <td>8175</td>\n",
       "      <td>2</td>\n",
       "      <td>0</td>\n",
       "      <td>5753</td>\n",
       "    </tr>\n",
       "    <tr>\n",
       "      <th>COVIDCONCERN</th>\n",
       "      <td>8175</td>\n",
       "      <td>10</td>\n",
       "      <td>9.0</td>\n",
       "      <td>3546</td>\n",
       "    </tr>\n",
       "    <tr>\n",
       "      <th>GENDER</th>\n",
       "      <td>8175</td>\n",
       "      <td>2</td>\n",
       "      <td>0.0</td>\n",
       "      <td>4839</td>\n",
       "    </tr>\n",
       "    <tr>\n",
       "      <th>MARRIAGE</th>\n",
       "      <td>8175</td>\n",
       "      <td>2</td>\n",
       "      <td>1.0</td>\n",
       "      <td>4429</td>\n",
       "    </tr>\n",
       "    <tr>\n",
       "      <th>EMPLOYMENT</th>\n",
       "      <td>8175</td>\n",
       "      <td>4</td>\n",
       "      <td>2.0</td>\n",
       "      <td>3887</td>\n",
       "    </tr>\n",
       "    <tr>\n",
       "      <th>DEPRESSION</th>\n",
       "      <td>8175</td>\n",
       "      <td>2</td>\n",
       "      <td>0.0</td>\n",
       "      <td>6174</td>\n",
       "    </tr>\n",
       "    <tr>\n",
       "      <th>EXERCISE</th>\n",
       "      <td>8175</td>\n",
       "      <td>2</td>\n",
       "      <td>1</td>\n",
       "      <td>7165</td>\n",
       "    </tr>\n",
       "    <tr>\n",
       "      <th>AGE_BINS</th>\n",
       "      <td>8175</td>\n",
       "      <td>3</td>\n",
       "      <td>0</td>\n",
       "      <td>3349</td>\n",
       "    </tr>\n",
       "    <tr>\n",
       "      <th>COLLEGE</th>\n",
       "      <td>8175</td>\n",
       "      <td>2</td>\n",
       "      <td>1</td>\n",
       "      <td>6799</td>\n",
       "    </tr>\n",
       "    <tr>\n",
       "      <th>CHRONIC</th>\n",
       "      <td>8175</td>\n",
       "      <td>2</td>\n",
       "      <td>1</td>\n",
       "      <td>6298</td>\n",
       "    </tr>\n",
       "  </tbody>\n",
       "</table>\n",
       "</div>"
      ],
      "text/plain": [
       "             count unique  top  freq\n",
       "RATEHEALTH    8175      2    0  5753\n",
       "COVIDCONCERN  8175     10  9.0  3546\n",
       "GENDER        8175      2  0.0  4839\n",
       "MARRIAGE      8175      2  1.0  4429\n",
       "EMPLOYMENT    8175      4  2.0  3887\n",
       "DEPRESSION    8175      2  0.0  6174\n",
       "EXERCISE      8175      2    1  7165\n",
       "AGE_BINS      8175      3    0  3349\n",
       "COLLEGE       8175      2    1  6799\n",
       "CHRONIC       8175      2    1  6298"
      ]
     },
     "execution_count": 112,
     "metadata": {},
     "output_type": "execute_result"
    }
   ],
   "source": [
    "#quick summary stats:numeric\n",
    "df.describe().T"
   ]
  },
  {
   "cell_type": "code",
   "execution_count": 113,
   "id": "0fcd5c62",
   "metadata": {},
   "outputs": [
    {
     "data": {
      "text/html": [
       "<div>\n",
       "<style scoped>\n",
       "    .dataframe tbody tr th:only-of-type {\n",
       "        vertical-align: middle;\n",
       "    }\n",
       "\n",
       "    .dataframe tbody tr th {\n",
       "        vertical-align: top;\n",
       "    }\n",
       "\n",
       "    .dataframe thead th {\n",
       "        text-align: right;\n",
       "    }\n",
       "</style>\n",
       "<table border=\"1\" class=\"dataframe\">\n",
       "  <thead>\n",
       "    <tr style=\"text-align: right;\">\n",
       "      <th></th>\n",
       "      <th>RATEHEALTH</th>\n",
       "      <th>COVIDCONCERN</th>\n",
       "      <th>GENDER</th>\n",
       "      <th>MARRIAGE</th>\n",
       "      <th>EMPLOYMENT</th>\n",
       "      <th>DEPRESSION</th>\n",
       "      <th>EXERCISE</th>\n",
       "      <th>AGE_BINS</th>\n",
       "      <th>COLLEGE</th>\n",
       "      <th>CHRONIC</th>\n",
       "    </tr>\n",
       "  </thead>\n",
       "  <tbody>\n",
       "    <tr>\n",
       "      <th>count</th>\n",
       "      <td>8175</td>\n",
       "      <td>8175</td>\n",
       "      <td>8175</td>\n",
       "      <td>8175</td>\n",
       "      <td>8175</td>\n",
       "      <td>8175</td>\n",
       "      <td>8175</td>\n",
       "      <td>8175</td>\n",
       "      <td>8175</td>\n",
       "      <td>8175</td>\n",
       "    </tr>\n",
       "    <tr>\n",
       "      <th>unique</th>\n",
       "      <td>2</td>\n",
       "      <td>10</td>\n",
       "      <td>2</td>\n",
       "      <td>2</td>\n",
       "      <td>4</td>\n",
       "      <td>2</td>\n",
       "      <td>2</td>\n",
       "      <td>3</td>\n",
       "      <td>2</td>\n",
       "      <td>2</td>\n",
       "    </tr>\n",
       "    <tr>\n",
       "      <th>top</th>\n",
       "      <td>0</td>\n",
       "      <td>9.0</td>\n",
       "      <td>0.0</td>\n",
       "      <td>1.0</td>\n",
       "      <td>2.0</td>\n",
       "      <td>0.0</td>\n",
       "      <td>1</td>\n",
       "      <td>0</td>\n",
       "      <td>1</td>\n",
       "      <td>1</td>\n",
       "    </tr>\n",
       "    <tr>\n",
       "      <th>freq</th>\n",
       "      <td>5753</td>\n",
       "      <td>3546</td>\n",
       "      <td>4839</td>\n",
       "      <td>4429</td>\n",
       "      <td>3887</td>\n",
       "      <td>6174</td>\n",
       "      <td>7165</td>\n",
       "      <td>3349</td>\n",
       "      <td>6799</td>\n",
       "      <td>6298</td>\n",
       "    </tr>\n",
       "  </tbody>\n",
       "</table>\n",
       "</div>"
      ],
      "text/plain": [
       "       RATEHEALTH COVIDCONCERN GENDER MARRIAGE EMPLOYMENT DEPRESSION EXERCISE  \\\n",
       "count        8175         8175   8175     8175       8175       8175     8175   \n",
       "unique          2           10      2        2          4          2        2   \n",
       "top             0          9.0    0.0      1.0        2.0        0.0        1   \n",
       "freq         5753         3546   4839     4429       3887       6174     7165   \n",
       "\n",
       "       AGE_BINS COLLEGE CHRONIC  \n",
       "count      8175    8175    8175  \n",
       "unique        3       2       2  \n",
       "top           0       1       1  \n",
       "freq       3349    6799    6298  "
      ]
     },
     "execution_count": 113,
     "metadata": {},
     "output_type": "execute_result"
    }
   ],
   "source": [
    "#quick summary stats:categorical\n",
    "df.describe(include='object')"
   ]
  },
  {
   "cell_type": "code",
   "execution_count": 114,
   "id": "84561ac7",
   "metadata": {},
   "outputs": [
    {
     "data": {
      "text/html": [
       "<div>\n",
       "<style scoped>\n",
       "    .dataframe tbody tr th:only-of-type {\n",
       "        vertical-align: middle;\n",
       "    }\n",
       "\n",
       "    .dataframe tbody tr th {\n",
       "        vertical-align: top;\n",
       "    }\n",
       "\n",
       "    .dataframe thead th {\n",
       "        text-align: right;\n",
       "    }\n",
       "</style>\n",
       "<table border=\"1\" class=\"dataframe\">\n",
       "  <thead>\n",
       "    <tr style=\"text-align: right;\">\n",
       "      <th></th>\n",
       "      <th>Unique Values</th>\n",
       "    </tr>\n",
       "    <tr>\n",
       "      <th>Variable</th>\n",
       "      <th></th>\n",
       "    </tr>\n",
       "  </thead>\n",
       "  <tbody>\n",
       "    <tr>\n",
       "      <th>RATEHEALTH</th>\n",
       "      <td>2</td>\n",
       "    </tr>\n",
       "    <tr>\n",
       "      <th>COVIDCONCERN</th>\n",
       "      <td>10</td>\n",
       "    </tr>\n",
       "    <tr>\n",
       "      <th>GENDER</th>\n",
       "      <td>2</td>\n",
       "    </tr>\n",
       "    <tr>\n",
       "      <th>MARRIAGE</th>\n",
       "      <td>2</td>\n",
       "    </tr>\n",
       "    <tr>\n",
       "      <th>EMPLOYMENT</th>\n",
       "      <td>4</td>\n",
       "    </tr>\n",
       "    <tr>\n",
       "      <th>DEPRESSION</th>\n",
       "      <td>2</td>\n",
       "    </tr>\n",
       "    <tr>\n",
       "      <th>EXERCISE</th>\n",
       "      <td>2</td>\n",
       "    </tr>\n",
       "    <tr>\n",
       "      <th>AGE_BINS</th>\n",
       "      <td>3</td>\n",
       "    </tr>\n",
       "    <tr>\n",
       "      <th>COLLEGE</th>\n",
       "      <td>2</td>\n",
       "    </tr>\n",
       "    <tr>\n",
       "      <th>CHRONIC</th>\n",
       "      <td>2</td>\n",
       "    </tr>\n",
       "  </tbody>\n",
       "</table>\n",
       "</div>"
      ],
      "text/plain": [
       "              Unique Values\n",
       "Variable                   \n",
       "RATEHEALTH                2\n",
       "COVIDCONCERN             10\n",
       "GENDER                    2\n",
       "MARRIAGE                  2\n",
       "EMPLOYMENT                4\n",
       "DEPRESSION                2\n",
       "EXERCISE                  2\n",
       "AGE_BINS                  3\n",
       "COLLEGE                   2\n",
       "CHRONIC                   2"
      ]
     },
     "execution_count": 114,
     "metadata": {},
     "output_type": "execute_result"
    }
   ],
   "source": [
    "### Look at Unique Variables\n",
    "df_uniques = pd.DataFrame([[i, len(df[i].unique())] for i in df.columns], columns=['Variable', 'Unique Values']).set_index('Variable')\n",
    "df_uniques"
   ]
  },
  {
   "cell_type": "code",
   "execution_count": 115,
   "id": "161b9bd0",
   "metadata": {},
   "outputs": [
    {
     "data": {
      "text/plain": [
       "['RATEHEALTH',\n",
       " 'GENDER',\n",
       " 'MARRIAGE',\n",
       " 'DEPRESSION',\n",
       " 'EXERCISE',\n",
       " 'COLLEGE',\n",
       " 'CHRONIC']"
      ]
     },
     "execution_count": 115,
     "metadata": {},
     "output_type": "execute_result"
    }
   ],
   "source": [
    "#look at binary variables\n",
    "binary_variables = list(df_uniques[df_uniques['Unique Values'].between(1, 2, inclusive = 'both')].index)\n",
    "binary_variables"
   ]
  },
  {
   "cell_type": "code",
   "execution_count": 116,
   "id": "e9ceeb60",
   "metadata": {},
   "outputs": [
    {
     "data": {
      "text/plain": [
       "['COVIDCONCERN', 'EMPLOYMENT', 'AGE_BINS']"
      ]
     },
     "execution_count": 116,
     "metadata": {},
     "output_type": "execute_result"
    }
   ],
   "source": [
    "#look at multi-nominal\n",
    "categorical_variables = list(df_uniques[(10>= df_uniques['Unique Values']) & (df_uniques['Unique Values'] > 2)].index)\n",
    "categorical_variables"
   ]
  },
  {
   "cell_type": "code",
   "execution_count": 117,
   "id": "68ac08c6",
   "metadata": {},
   "outputs": [
    {
     "data": {
      "text/plain": [
       "[['COVIDCONCERN',\n",
       "  ['6.0', '8.0', '7.0', '9.0', '3.0', '4.0', '0.0', '2.0', '5.0', '1.0']],\n",
       " ['EMPLOYMENT', ['1.0', '0.0', '2.0', '3.0']],\n",
       " ['AGE_BINS', ['2', '1', '0']]]"
      ]
     },
     "execution_count": 117,
     "metadata": {},
     "output_type": "execute_result"
    }
   ],
   "source": [
    "#look for ordinal/nominal in each categorical\n",
    "[[i, list(df[i].unique())] for i in categorical_variables]"
   ]
  },
  {
   "cell_type": "code",
   "execution_count": 118,
   "id": "1ea6b00f",
   "metadata": {},
   "outputs": [],
   "source": [
    "#specify ordinal\n",
    "ordinal_variables = ['RATEHEALTH', 'COVIDCONCERN', 'AGE_BINS','EMPLOYMENT']"
   ]
  },
  {
   "cell_type": "code",
   "execution_count": 119,
   "id": "9acff8ba",
   "metadata": {},
   "outputs": [],
   "source": [
    "#specify numeric\n",
    "numeric_variables = list(set(df.columns) - set(ordinal_variables) - set(categorical_variables) - set(binary_variables))"
   ]
  },
  {
   "cell_type": "markdown",
   "id": "7e76250b",
   "metadata": {},
   "source": [
    "Binary: Encoder\n",
    "==="
   ]
  },
  {
   "cell_type": "code",
   "execution_count": 120,
   "id": "3712b261",
   "metadata": {},
   "outputs": [],
   "source": [
    "lb, le, oe = LabelBinarizer(), LabelEncoder(), OrdinalEncoder()\n",
    "#binary\n",
    "for column in binary_variables:\n",
    "    df[column] = lb.fit_transform(df[column])"
   ]
  },
  {
   "cell_type": "markdown",
   "id": "48ee311f",
   "metadata": {},
   "source": [
    "Ordinal: Label Encoder\n",
    "===="
   ]
  },
  {
   "cell_type": "code",
   "execution_count": 121,
   "id": "4eb2b0de",
   "metadata": {},
   "outputs": [],
   "source": [
    "#Ordinal\n",
    "for column in ordinal_variables:\n",
    "    df[column] = le.fit_transform(df[column])"
   ]
  },
  {
   "cell_type": "markdown",
   "id": "ad3f5f66",
   "metadata": {},
   "source": [
    "Nominal: Encoder\n",
    "=="
   ]
  },
  {
   "cell_type": "code",
   "execution_count": 122,
   "id": "91db3efe",
   "metadata": {},
   "outputs": [],
   "source": [
    "#Nominal\n",
    "categorical_variables = list(set(categorical_variables) - set(ordinal_variables))\n",
    "df = pd.get_dummies(df, columns = categorical_variables, drop_first=False)"
   ]
  },
  {
   "cell_type": "markdown",
   "id": "9c96940d",
   "metadata": {},
   "source": [
    "Extract X/Y (Target / Features)\n",
    "===="
   ]
  },
  {
   "cell_type": "code",
   "execution_count": 123,
   "id": "173f6b50",
   "metadata": {},
   "outputs": [
    {
     "data": {
      "text/plain": [
       "Index(['RATEHEALTH', 'COVIDCONCERN', 'GENDER', 'MARRIAGE', 'EMPLOYMENT',\n",
       "       'DEPRESSION', 'EXERCISE', 'AGE_BINS', 'COLLEGE', 'CHRONIC'],\n",
       "      dtype='object')"
      ]
     },
     "execution_count": 123,
     "metadata": {},
     "output_type": "execute_result"
    }
   ],
   "source": [
    "df.columns"
   ]
  },
  {
   "cell_type": "code",
   "execution_count": 124,
   "id": "9df162d0",
   "metadata": {},
   "outputs": [],
   "source": [
    "#Alternate Method\n",
    "y, X = df['RATEHEALTH'], df.drop(columns='RATEHEALTH')"
   ]
  },
  {
   "cell_type": "code",
   "execution_count": 125,
   "id": "a928037d",
   "metadata": {},
   "outputs": [
    {
     "data": {
      "text/plain": [
       "(8175, 9)"
      ]
     },
     "execution_count": 125,
     "metadata": {},
     "output_type": "execute_result"
    }
   ],
   "source": [
    "X.shape"
   ]
  },
  {
   "cell_type": "code",
   "execution_count": 126,
   "id": "9c53ac65",
   "metadata": {},
   "outputs": [
    {
     "data": {
      "text/plain": [
       "(8175,)"
      ]
     },
     "execution_count": 126,
     "metadata": {},
     "output_type": "execute_result"
    }
   ],
   "source": [
    "y.shape"
   ]
  },
  {
   "cell_type": "markdown",
   "id": "fe8e852e",
   "metadata": {},
   "source": [
    "Checking Multicollinearity\n",
    "==="
   ]
  },
  {
   "cell_type": "code",
   "execution_count": 127,
   "id": "0020c7ae",
   "metadata": {},
   "outputs": [],
   "source": [
    "#Get VIF\n",
    "import pandas as pd\n",
    "import statsmodels.formula.api as smf\n",
    "\n",
    "def get_vif(exogs, data):\n",
    "    '''Return VIF (variance inflation factor) DataFrame\n",
    "\n",
    "    Args:\n",
    "    exogs (list): list of exogenous/independent variables\n",
    "    data (DataFrame): the df storing all variables\n",
    "\n",
    "    Returns:\n",
    "    VIF and Tolerance DataFrame for each exogenous variable\n",
    "\n",
    "    Notes:\n",
    "    Assume we have a list of exogenous variable [X1, X2, X3, X4].\n",
    "    To calculate the VIF and Tolerance for each variable, we regress\n",
    "    each of them against other exogenous variables. For instance, the\n",
    "    regression model for X3 is defined as:\n",
    "                        X3 ~ X1 + X2 + X4\n",
    "    And then we extract the R-squared from the model to calculate:\n",
    "                    VIF = 1 / (1 - R-squared)\n",
    "                    Tolerance = 1 - R-squared\n",
    "    The cutoff to detect multicollinearity:\n",
    "                    VIF > 10 or Tolerance < 0.1\n",
    "    '''\n",
    "\n",
    "    # initialize dictionaries\n",
    "    vif_dict, tolerance_dict = {}, {}\n",
    "\n",
    "    # create formula for each exogenous variable\n",
    "    for exog in exogs:\n",
    "        not_exog = [i for i in exogs if i != exog]\n",
    "        formula = f\"{exog} ~ {' + '.join(not_exog)}\"\n",
    "\n",
    "        # extract r-squared from the fit\n",
    "        r_squared = smf.ols(formula, data=data).fit().rsquared\n",
    "\n",
    "        # calculate VIF\n",
    "        vif = 1/(1 - r_squared)\n",
    "        vif_dict[exog] = vif\n",
    "\n",
    "        # calculate tolerance\n",
    "        tolerance = 1 - r_squared\n",
    "        tolerance_dict[exog] = tolerance\n",
    "\n",
    "    # return VIF DataFrame\n",
    "    df_vif = pd.DataFrame({'VIF': vif_dict, 'Tolerance': tolerance_dict})\n",
    "\n",
    "    return df_vif"
   ]
  },
  {
   "cell_type": "code",
   "execution_count": 128,
   "id": "d6e7a1be",
   "metadata": {},
   "outputs": [
    {
     "data": {
      "text/html": [
       "<div>\n",
       "<style scoped>\n",
       "    .dataframe tbody tr th:only-of-type {\n",
       "        vertical-align: middle;\n",
       "    }\n",
       "\n",
       "    .dataframe tbody tr th {\n",
       "        vertical-align: top;\n",
       "    }\n",
       "\n",
       "    .dataframe thead th {\n",
       "        text-align: right;\n",
       "    }\n",
       "</style>\n",
       "<table border=\"1\" class=\"dataframe\">\n",
       "  <thead>\n",
       "    <tr style=\"text-align: right;\">\n",
       "      <th></th>\n",
       "      <th>VIF</th>\n",
       "      <th>Tolerance</th>\n",
       "    </tr>\n",
       "  </thead>\n",
       "  <tbody>\n",
       "    <tr>\n",
       "      <th>COVIDCONCERN</th>\n",
       "      <td>1.021168</td>\n",
       "      <td>0.979271</td>\n",
       "    </tr>\n",
       "    <tr>\n",
       "      <th>GENDER</th>\n",
       "      <td>1.092810</td>\n",
       "      <td>0.915072</td>\n",
       "    </tr>\n",
       "    <tr>\n",
       "      <th>MARRIAGE</th>\n",
       "      <td>1.081787</td>\n",
       "      <td>0.924397</td>\n",
       "    </tr>\n",
       "    <tr>\n",
       "      <th>EMPLOYMENT</th>\n",
       "      <td>1.168914</td>\n",
       "      <td>0.855495</td>\n",
       "    </tr>\n",
       "    <tr>\n",
       "      <th>DEPRESSION</th>\n",
       "      <td>1.106795</td>\n",
       "      <td>0.903509</td>\n",
       "    </tr>\n",
       "    <tr>\n",
       "      <th>EXERCISE</th>\n",
       "      <td>1.089790</td>\n",
       "      <td>0.917608</td>\n",
       "    </tr>\n",
       "    <tr>\n",
       "      <th>AGE_BINS</th>\n",
       "      <td>1.161633</td>\n",
       "      <td>0.860857</td>\n",
       "    </tr>\n",
       "    <tr>\n",
       "      <th>COLLEGE</th>\n",
       "      <td>1.020918</td>\n",
       "      <td>0.979511</td>\n",
       "    </tr>\n",
       "    <tr>\n",
       "      <th>CHRONIC</th>\n",
       "      <td>1.126252</td>\n",
       "      <td>0.887901</td>\n",
       "    </tr>\n",
       "  </tbody>\n",
       "</table>\n",
       "</div>"
      ],
      "text/plain": [
       "                   VIF  Tolerance\n",
       "COVIDCONCERN  1.021168   0.979271\n",
       "GENDER        1.092810   0.915072\n",
       "MARRIAGE      1.081787   0.924397\n",
       "EMPLOYMENT    1.168914   0.855495\n",
       "DEPRESSION    1.106795   0.903509\n",
       "EXERCISE      1.089790   0.917608\n",
       "AGE_BINS      1.161633   0.860857\n",
       "COLLEGE       1.020918   0.979511\n",
       "CHRONIC       1.126252   0.887901"
      ]
     },
     "execution_count": 128,
     "metadata": {},
     "output_type": "execute_result"
    }
   ],
   "source": [
    "get_vif(exogs=X, data=df)"
   ]
  },
  {
   "cell_type": "markdown",
   "id": "c0efdb46",
   "metadata": {},
   "source": [
    "Train/Test or Cross Validation\n",
    "===="
   ]
  },
  {
   "cell_type": "code",
   "execution_count": 129,
   "id": "b97c4523",
   "metadata": {},
   "outputs": [],
   "source": [
    "#create Train/Test for Feature Selection\n",
    "X_train, X_test, y_train, y_test = train_test_split(X, y,stratify=y,test_size=0.25)"
   ]
  },
  {
   "cell_type": "code",
   "execution_count": 130,
   "id": "ddfc3f17",
   "metadata": {},
   "outputs": [],
   "source": [
    "from sklearn.datasets import load_digits\n",
    "from sklearn.feature_selection import SelectKBest, chi2"
   ]
  },
  {
   "cell_type": "code",
   "execution_count": 131,
   "id": "95134e25",
   "metadata": {},
   "outputs": [],
   "source": [
    "fs = SelectKBest(score_func=chi2, k='all')\n",
    "fs.fit(X_train, y_train)\n",
    "X_train_fs = fs.transform(X_train)\n",
    "X_test_fs = fs.transform(X_test)"
   ]
  },
  {
   "cell_type": "code",
   "execution_count": 132,
   "id": "9b8e0fcd",
   "metadata": {},
   "outputs": [
    {
     "data": {
      "text/plain": [
       "Index(['COVIDCONCERN', 'GENDER', 'MARRIAGE', 'EMPLOYMENT', 'DEPRESSION',\n",
       "       'EXERCISE', 'AGE_BINS', 'COLLEGE', 'CHRONIC'],\n",
       "      dtype='object')"
      ]
     },
     "execution_count": 132,
     "metadata": {},
     "output_type": "execute_result"
    }
   ],
   "source": [
    "X_train.columns"
   ]
  },
  {
   "cell_type": "markdown",
   "id": "b9ccabb6",
   "metadata": {},
   "source": [
    "Checking Features / Chi-Square\n",
    "===="
   ]
  },
  {
   "cell_type": "code",
   "execution_count": 133,
   "id": "f6425c21",
   "metadata": {},
   "outputs": [
    {
     "name": "stdout",
     "output_type": "stream",
     "text": [
      "Feature 0: 17.494967\n",
      "Feature 1: 2.300353\n",
      "Feature 2: 33.125985\n",
      "Feature 3: 116.219601\n",
      "Feature 4: 176.370878\n",
      "Feature 5: 35.804574\n",
      "Feature 6: 1.990572\n",
      "Feature 7: 47.407829\n",
      "Feature 8: 71.336450\n"
     ]
    },
    {
     "data": {
      "image/png": "[encoded data removed]",
      "text/plain": [
       "<Figure size 432x288 with 1 Axes>"
      ]
     },
     "metadata": {
      "needs_background": "light"
     },
     "output_type": "display_data"
    }
   ],
   "source": [
    "# what are scores for the features\n",
    "for i in range(len(fs.scores_)):\n",
    "\tprint('Feature %d: %f' % (i, fs.scores_[i]))\n",
    "# plot the scores\n",
    "plt.bar([i for i in range(len(fs.scores_))], fs.scores_)\n",
    "plt.show()"
   ]
  },
  {
   "cell_type": "markdown",
   "id": "39216beb",
   "metadata": {},
   "source": [
    "Statistics Evaluation\n",
    "==="
   ]
  },
  {
   "cell_type": "code",
   "execution_count": 134,
   "id": "5c6caa3a",
   "metadata": {},
   "outputs": [],
   "source": [
    "import statsmodels.api as sm\n",
    "import scipy.stats as stats\n",
    "import statsmodels.formula.api as smf"
   ]
  },
  {
   "cell_type": "code",
   "execution_count": 135,
   "id": "2dff7152",
   "metadata": {},
   "outputs": [
    {
     "name": "stdout",
     "output_type": "stream",
     "text": [
      "Optimization terminated successfully.\n",
      "         Current function value: 0.522526\n",
      "         Iterations 6\n"
     ]
    },
    {
     "data": {
      "text/html": [
       "<table class=\"simpletable\">\n",
       "<caption>Logit Regression Results</caption>\n",
       "<tr>\n",
       "  <th>Dep. Variable:</th>      <td>RATEHEALTH</td>    <th>  No. Observations:  </th>   <td>  6131</td>  \n",
       "</tr>\n",
       "<tr>\n",
       "  <th>Model:</th>                 <td>Logit</td>      <th>  Df Residuals:      </th>   <td>  6122</td>  \n",
       "</tr>\n",
       "<tr>\n",
       "  <th>Method:</th>                 <td>MLE</td>       <th>  Df Model:          </th>   <td>     8</td>  \n",
       "</tr>\n",
       "<tr>\n",
       "  <th>Date:</th>            <td>Tue, 19 Apr 2022</td> <th>  Pseudo R-squ.:     </th>   <td>0.1400</td>  \n",
       "</tr>\n",
       "<tr>\n",
       "  <th>Time:</th>                <td>08:02:38</td>     <th>  Log-Likelihood:    </th>  <td> -3203.6</td> \n",
       "</tr>\n",
       "<tr>\n",
       "  <th>converged:</th>             <td>True</td>       <th>  LL-Null:           </th>  <td> -3725.3</td> \n",
       "</tr>\n",
       "<tr>\n",
       "  <th>Covariance Type:</th>     <td>nonrobust</td>    <th>  LLR p-value:       </th> <td>6.708e-220</td>\n",
       "</tr>\n",
       "</table>\n",
       "<table class=\"simpletable\">\n",
       "<tr>\n",
       "        <td></td>          <th>coef</th>     <th>std err</th>      <th>z</th>      <th>P>|z|</th>  <th>[0.025</th>    <th>0.975]</th>  \n",
       "</tr>\n",
       "<tr>\n",
       "  <th>COVIDCONCERN</th> <td>    0.0179</td> <td>    0.010</td> <td>    1.716</td> <td> 0.086</td> <td>   -0.003</td> <td>    0.038</td>\n",
       "</tr>\n",
       "<tr>\n",
       "  <th>GENDER</th>       <td>   -0.0616</td> <td>    0.064</td> <td>   -0.957</td> <td> 0.339</td> <td>   -0.188</td> <td>    0.065</td>\n",
       "</tr>\n",
       "<tr>\n",
       "  <th>MARRIAGE</th>     <td>   -0.3146</td> <td>    0.062</td> <td>   -5.036</td> <td> 0.000</td> <td>   -0.437</td> <td>   -0.192</td>\n",
       "</tr>\n",
       "<tr>\n",
       "  <th>EMPLOYMENT</th>   <td>    0.2810</td> <td>    0.037</td> <td>    7.634</td> <td> 0.000</td> <td>    0.209</td> <td>    0.353</td>\n",
       "</tr>\n",
       "<tr>\n",
       "  <th>DEPRESSION</th>   <td>    0.6032</td> <td>    0.069</td> <td>    8.690</td> <td> 0.000</td> <td>    0.467</td> <td>    0.739</td>\n",
       "</tr>\n",
       "<tr>\n",
       "  <th>EXERCISE</th>     <td>   -1.3436</td> <td>    0.079</td> <td>  -17.030</td> <td> 0.000</td> <td>   -1.498</td> <td>   -1.189</td>\n",
       "</tr>\n",
       "<tr>\n",
       "  <th>AGE_BINS</th>     <td>   -0.2740</td> <td>    0.039</td> <td>   -7.011</td> <td> 0.000</td> <td>   -0.351</td> <td>   -0.197</td>\n",
       "</tr>\n",
       "<tr>\n",
       "  <th>COLLEGE</th>      <td>   -1.1759</td> <td>    0.071</td> <td>  -16.484</td> <td> 0.000</td> <td>   -1.316</td> <td>   -1.036</td>\n",
       "</tr>\n",
       "<tr>\n",
       "  <th>CHRONIC</th>      <td>    1.1314</td> <td>    0.087</td> <td>   12.938</td> <td> 0.000</td> <td>    0.960</td> <td>    1.303</td>\n",
       "</tr>\n",
       "</table>"
      ],
      "text/plain": [
       "<class 'statsmodels.iolib.summary.Summary'>\n",
       "\"\"\"\n",
       "                           Logit Regression Results                           \n",
       "==============================================================================\n",
       "Dep. Variable:             RATEHEALTH   No. Observations:                 6131\n",
       "Model:                          Logit   Df Residuals:                     6122\n",
       "Method:                           MLE   Df Model:                            8\n",
       "Date:                Tue, 19 Apr 2022   Pseudo R-squ.:                  0.1400\n",
       "Time:                        08:02:38   Log-Likelihood:                -3203.6\n",
       "converged:                       True   LL-Null:                       -3725.3\n",
       "Covariance Type:            nonrobust   LLR p-value:                6.708e-220\n",
       "================================================================================\n",
       "                   coef    std err          z      P>|z|      [0.025      0.975]\n",
       "--------------------------------------------------------------------------------\n",
       "COVIDCONCERN     0.0179      0.010      1.716      0.086      -0.003       0.038\n",
       "GENDER          -0.0616      0.064     -0.957      0.339      -0.188       0.065\n",
       "MARRIAGE        -0.3146      0.062     -5.036      0.000      -0.437      -0.192\n",
       "EMPLOYMENT       0.2810      0.037      7.634      0.000       0.209       0.353\n",
       "DEPRESSION       0.6032      0.069      8.690      0.000       0.467       0.739\n",
       "EXERCISE        -1.3436      0.079    -17.030      0.000      -1.498      -1.189\n",
       "AGE_BINS        -0.2740      0.039     -7.011      0.000      -0.351      -0.197\n",
       "COLLEGE         -1.1759      0.071    -16.484      0.000      -1.316      -1.036\n",
       "CHRONIC          1.1314      0.087     12.938      0.000       0.960       1.303\n",
       "================================================================================\n",
       "\"\"\""
      ]
     },
     "execution_count": 135,
     "metadata": {},
     "output_type": "execute_result"
    }
   ],
   "source": [
    "#Statistics\n",
    "logit_model=sm.Logit(y_train,X_train)\n",
    "result=logit_model.fit()\n",
    "stats1=result.summary()\n",
    "stats1"
   ]
  },
  {
   "cell_type": "code",
   "execution_count": 140,
   "id": "c965094a",
   "metadata": {},
   "outputs": [
    {
     "data": {
      "text/html": [
       "<table class=\"simpletable\">\n",
       "<tr>\n",
       "        <td>Model:</td>              <td>Logit</td>      <td>Pseudo R-squared:</td>    <td>0.140</td>   \n",
       "</tr>\n",
       "<tr>\n",
       "  <td>Dependent Variable:</td>    <td>RATEHEALTH</td>          <td>AIC:</td>         <td>6425.2105</td> \n",
       "</tr>\n",
       "<tr>\n",
       "         <td>Date:</td>        <td>2022-04-19 08:03</td>       <td>BIC:</td>         <td>6485.7005</td> \n",
       "</tr>\n",
       "<tr>\n",
       "   <td>No. Observations:</td>        <td>6131</td>        <td>Log-Likelihood:</td>    <td>-3203.6</td>  \n",
       "</tr>\n",
       "<tr>\n",
       "       <td>Df Model:</td>              <td>8</td>            <td>LL-Null:</td>        <td>-3725.3</td>  \n",
       "</tr>\n",
       "<tr>\n",
       "     <td>Df Residuals:</td>          <td>6122</td>         <td>LLR p-value:</td>    <td>6.7080e-220</td>\n",
       "</tr>\n",
       "<tr>\n",
       "      <td>Converged:</td>           <td>1.0000</td>           <td>Scale:</td>         <td>1.0000</td>   \n",
       "</tr>\n",
       "<tr>\n",
       "    <td>No. Iterations:</td>        <td>6.0000</td>              <td></td>               <td></td>      \n",
       "</tr>\n",
       "</table>\n",
       "<table class=\"simpletable\">\n",
       "<tr>\n",
       "        <td></td>        <th>Coef.</th>  <th>Std.Err.</th>     <th>z</th>     <th>P>|z|</th> <th>[0.025</th>  <th>0.975]</th> \n",
       "</tr>\n",
       "<tr>\n",
       "  <th>COVIDCONCERN</th> <td>0.0179</td>   <td>0.0104</td>   <td>1.7164</td>  <td>0.0861</td> <td>-0.0025</td> <td>0.0384</td> \n",
       "</tr>\n",
       "<tr>\n",
       "  <th>GENDER</th>       <td>-0.0616</td>  <td>0.0644</td>   <td>-0.9567</td> <td>0.3387</td> <td>-0.1878</td> <td>0.0646</td> \n",
       "</tr>\n",
       "<tr>\n",
       "  <th>MARRIAGE</th>     <td>-0.3146</td>  <td>0.0625</td>   <td>-5.0358</td> <td>0.0000</td> <td>-0.4371</td> <td>-0.1922</td>\n",
       "</tr>\n",
       "<tr>\n",
       "  <th>EMPLOYMENT</th>   <td>0.2810</td>   <td>0.0368</td>   <td>7.6339</td>  <td>0.0000</td> <td>0.2088</td>  <td>0.3531</td> \n",
       "</tr>\n",
       "<tr>\n",
       "  <th>DEPRESSION</th>   <td>0.6032</td>   <td>0.0694</td>   <td>8.6898</td>  <td>0.0000</td> <td>0.4672</td>  <td>0.7393</td> \n",
       "</tr>\n",
       "<tr>\n",
       "  <th>EXERCISE</th>     <td>-1.3436</td>  <td>0.0789</td>  <td>-17.0303</td> <td>0.0000</td> <td>-1.4983</td> <td>-1.1890</td>\n",
       "</tr>\n",
       "<tr>\n",
       "  <th>AGE_BINS</th>     <td>-0.2740</td>  <td>0.0391</td>   <td>-7.0114</td> <td>0.0000</td> <td>-0.3507</td> <td>-0.1974</td>\n",
       "</tr>\n",
       "<tr>\n",
       "  <th>COLLEGE</th>      <td>-1.1759</td>  <td>0.0713</td>  <td>-16.4837</td> <td>0.0000</td> <td>-1.3157</td> <td>-1.0361</td>\n",
       "</tr>\n",
       "<tr>\n",
       "  <th>CHRONIC</th>      <td>1.1314</td>   <td>0.0875</td>   <td>12.9376</td> <td>0.0000</td> <td>0.9600</td>  <td>1.3029</td> \n",
       "</tr>\n",
       "</table>"
      ],
      "text/plain": [
       "<class 'statsmodels.iolib.summary2.Summary'>\n",
       "\"\"\"\n",
       "                          Results: Logit\n",
       "==================================================================\n",
       "Model:              Logit            Pseudo R-squared: 0.140      \n",
       "Dependent Variable: RATEHEALTH       AIC:              6425.2105  \n",
       "Date:               2022-04-19 08:03 BIC:              6485.7005  \n",
       "No. Observations:   6131             Log-Likelihood:   -3203.6    \n",
       "Df Model:           8                LL-Null:          -3725.3    \n",
       "Df Residuals:       6122             LLR p-value:      6.7080e-220\n",
       "Converged:          1.0000           Scale:            1.0000     \n",
       "No. Iterations:     6.0000                                        \n",
       "-------------------------------------------------------------------\n",
       "               Coef.   Std.Err.     z      P>|z|    [0.025   0.975]\n",
       "-------------------------------------------------------------------\n",
       "COVIDCONCERN   0.0179    0.0104    1.7164  0.0861  -0.0025   0.0384\n",
       "GENDER        -0.0616    0.0644   -0.9567  0.3387  -0.1878   0.0646\n",
       "MARRIAGE      -0.3146    0.0625   -5.0358  0.0000  -0.4371  -0.1922\n",
       "EMPLOYMENT     0.2810    0.0368    7.6339  0.0000   0.2088   0.3531\n",
       "DEPRESSION     0.6032    0.0694    8.6898  0.0000   0.4672   0.7393\n",
       "EXERCISE      -1.3436    0.0789  -17.0303  0.0000  -1.4983  -1.1890\n",
       "AGE_BINS      -0.2740    0.0391   -7.0114  0.0000  -0.3507  -0.1974\n",
       "COLLEGE       -1.1759    0.0713  -16.4837  0.0000  -1.3157  -1.0361\n",
       "CHRONIC        1.1314    0.0875   12.9376  0.0000   0.9600   1.3029\n",
       "==================================================================\n",
       "\n",
       "\"\"\""
      ]
     },
     "execution_count": 140,
     "metadata": {},
     "output_type": "execute_result"
    }
   ],
   "source": [
    "stats2=result.summary2()\n",
    "stats2"
   ]
  },
  {
   "cell_type": "code",
   "execution_count": 136,
   "id": "e67c2961",
   "metadata": {},
   "outputs": [
    {
     "name": "stdout",
     "output_type": "stream",
     "text": [
      "                    5%       95%  Odds Ratio\n",
      "COVIDCONCERN  0.997462  1.039109    1.018072\n",
      "GENDER        0.828741  1.066747    0.940243\n",
      "MARRIAGE      0.645936  0.825174    0.730075\n",
      "EMPLOYMENT    1.232241  1.423488    1.324417\n",
      "DEPRESSION    1.595502  2.094492    1.828050\n",
      "EXERCISE      0.223519  0.304528    0.260898\n",
      "AGE_BINS      0.704228  0.820829    0.760296\n",
      "COLLEGE       0.268274  0.354835    0.308534\n",
      "CHRONIC       2.611800  3.679785    3.100139\n"
     ]
    }
   ],
   "source": [
    "#Odds Ratio\n",
    "params = result.params\n",
    "conf = result.conf_int()\n",
    "conf['Odds Ratio'] = params\n",
    "conf.columns = ['5%', '95%', 'Odds Ratio']\n",
    "print(np.exp(conf))"
   ]
  },
  {
   "cell_type": "code",
   "execution_count": 144,
   "id": "0337c8fb",
   "metadata": {},
   "outputs": [
    {
     "name": "stdout",
     "output_type": "stream",
     "text": [
      "Optimization terminated successfully.\n",
      "         Current function value: 0.506481\n",
      "         Iterations 6\n"
     ]
    },
    {
     "data": {
      "text/html": [
       "<table class=\"simpletable\">\n",
       "<caption>Logit Regression Results</caption>\n",
       "<tr>\n",
       "  <th>Dep. Variable:</th>      <td>RATEHEALTH</td>    <th>  No. Observations:  </th>  <td>  8175</td> \n",
       "</tr>\n",
       "<tr>\n",
       "  <th>Model:</th>                 <td>Logit</td>      <th>  Df Residuals:      </th>  <td>  8154</td> \n",
       "</tr>\n",
       "<tr>\n",
       "  <th>Method:</th>                 <td>MLE</td>       <th>  Df Model:          </th>  <td>    20</td> \n",
       "</tr>\n",
       "<tr>\n",
       "  <th>Date:</th>            <td>Tue, 19 Apr 2022</td> <th>  Pseudo R-squ.:     </th>  <td>0.1665</td> \n",
       "</tr>\n",
       "<tr>\n",
       "  <th>Time:</th>                <td>08:05:31</td>     <th>  Log-Likelihood:    </th> <td> -4140.5</td>\n",
       "</tr>\n",
       "<tr>\n",
       "  <th>converged:</th>             <td>True</td>       <th>  LL-Null:           </th> <td> -4967.7</td>\n",
       "</tr>\n",
       "<tr>\n",
       "  <th>Covariance Type:</th>     <td>nonrobust</td>    <th>  LLR p-value:       </th>  <td> 0.000</td> \n",
       "</tr>\n",
       "</table>\n",
       "<table class=\"simpletable\">\n",
       "<tr>\n",
       "                        <td></td>                          <th>coef</th>     <th>std err</th>      <th>z</th>      <th>P>|z|</th>  <th>[0.025</th>    <th>0.975]</th>  \n",
       "</tr>\n",
       "<tr>\n",
       "  <th>Intercept</th>                                    <td>    0.0467</td> <td>    0.147</td> <td>    0.317</td> <td> 0.751</td> <td>   -0.242</td> <td>    0.336</td>\n",
       "</tr>\n",
       "<tr>\n",
       "  <th>C(GENDER, Treatment(reference=0))[T.1]</th>       <td>    0.1021</td> <td>    0.059</td> <td>    1.743</td> <td> 0.081</td> <td>   -0.013</td> <td>    0.217</td>\n",
       "</tr>\n",
       "<tr>\n",
       "  <th>C(AGE_BINS, Treatment(reference=0))[T.1]</th>     <td>   -0.1287</td> <td>    0.075</td> <td>   -1.724</td> <td> 0.085</td> <td>   -0.275</td> <td>    0.018</td>\n",
       "</tr>\n",
       "<tr>\n",
       "  <th>C(AGE_BINS, Treatment(reference=0))[T.2]</th>     <td>   -0.1468</td> <td>    0.084</td> <td>   -1.747</td> <td> 0.081</td> <td>   -0.312</td> <td>    0.018</td>\n",
       "</tr>\n",
       "<tr>\n",
       "  <th>C(MARRIAGE, Treatment(reference=0))[T.1]</th>     <td>   -0.1627</td> <td>    0.057</td> <td>   -2.859</td> <td> 0.004</td> <td>   -0.274</td> <td>   -0.051</td>\n",
       "</tr>\n",
       "<tr>\n",
       "  <th>C(EMPLOYMENT, Treatment(reference=0))[T.1]</th>   <td>   -0.5330</td> <td>    0.100</td> <td>   -5.315</td> <td> 0.000</td> <td>   -0.730</td> <td>   -0.336</td>\n",
       "</tr>\n",
       "<tr>\n",
       "  <th>C(EMPLOYMENT, Treatment(reference=0))[T.2]</th>   <td>   -0.2258</td> <td>    0.096</td> <td>   -2.349</td> <td> 0.019</td> <td>   -0.414</td> <td>   -0.037</td>\n",
       "</tr>\n",
       "<tr>\n",
       "  <th>C(EMPLOYMENT, Treatment(reference=0))[T.3]</th>   <td>    0.9492</td> <td>    0.110</td> <td>    8.599</td> <td> 0.000</td> <td>    0.733</td> <td>    1.166</td>\n",
       "</tr>\n",
       "<tr>\n",
       "  <th>C(DEPRESSION, Treatment(reference=0))[T.1]</th>   <td>    0.6079</td> <td>    0.062</td> <td>    9.788</td> <td> 0.000</td> <td>    0.486</td> <td>    0.730</td>\n",
       "</tr>\n",
       "<tr>\n",
       "  <th>C(EXERCISE, Treatment(reference=0))[T.1]</th>     <td>   -1.0090</td> <td>    0.080</td> <td>  -12.680</td> <td> 0.000</td> <td>   -1.165</td> <td>   -0.853</td>\n",
       "</tr>\n",
       "<tr>\n",
       "  <th>C(CHRONIC, Treatment(reference=0))[T.1]</th>      <td>    1.1644</td> <td>    0.085</td> <td>   13.761</td> <td> 0.000</td> <td>    0.999</td> <td>    1.330</td>\n",
       "</tr>\n",
       "<tr>\n",
       "  <th>C(COLLEGE, Treatment(reference=0))[T.1]</th>      <td>   -0.8916</td> <td>    0.068</td> <td>  -13.067</td> <td> 0.000</td> <td>   -1.025</td> <td>   -0.758</td>\n",
       "</tr>\n",
       "<tr>\n",
       "  <th>C(COVIDCONCERN, Treatment(reference=9))[T.0]</th> <td>   -0.1476</td> <td>    0.119</td> <td>   -1.245</td> <td> 0.213</td> <td>   -0.380</td> <td>    0.085</td>\n",
       "</tr>\n",
       "<tr>\n",
       "  <th>C(COVIDCONCERN, Treatment(reference=9))[T.1]</th> <td>   -0.6631</td> <td>    0.235</td> <td>   -2.817</td> <td> 0.005</td> <td>   -1.125</td> <td>   -0.202</td>\n",
       "</tr>\n",
       "<tr>\n",
       "  <th>C(COVIDCONCERN, Treatment(reference=9))[T.2]</th> <td>   -0.3948</td> <td>    0.182</td> <td>   -2.174</td> <td> 0.030</td> <td>   -0.751</td> <td>   -0.039</td>\n",
       "</tr>\n",
       "<tr>\n",
       "  <th>C(COVIDCONCERN, Treatment(reference=9))[T.3]</th> <td>   -0.3620</td> <td>    0.196</td> <td>   -1.846</td> <td> 0.065</td> <td>   -0.746</td> <td>    0.022</td>\n",
       "</tr>\n",
       "<tr>\n",
       "  <th>C(COVIDCONCERN, Treatment(reference=9))[T.4]</th> <td>   -0.3802</td> <td>    0.102</td> <td>   -3.710</td> <td> 0.000</td> <td>   -0.581</td> <td>   -0.179</td>\n",
       "</tr>\n",
       "<tr>\n",
       "  <th>C(COVIDCONCERN, Treatment(reference=9))[T.5]</th> <td>   -0.7086</td> <td>    0.156</td> <td>   -4.530</td> <td> 0.000</td> <td>   -1.015</td> <td>   -0.402</td>\n",
       "</tr>\n",
       "<tr>\n",
       "  <th>C(COVIDCONCERN, Treatment(reference=9))[T.6]</th> <td>   -0.5197</td> <td>    0.115</td> <td>   -4.534</td> <td> 0.000</td> <td>   -0.744</td> <td>   -0.295</td>\n",
       "</tr>\n",
       "<tr>\n",
       "  <th>C(COVIDCONCERN, Treatment(reference=9))[T.7]</th> <td>   -0.3914</td> <td>    0.083</td> <td>   -4.743</td> <td> 0.000</td> <td>   -0.553</td> <td>   -0.230</td>\n",
       "</tr>\n",
       "<tr>\n",
       "  <th>C(COVIDCONCERN, Treatment(reference=9))[T.8]</th> <td>   -0.3742</td> <td>    0.103</td> <td>   -3.648</td> <td> 0.000</td> <td>   -0.575</td> <td>   -0.173</td>\n",
       "</tr>\n",
       "</table>"
      ],
      "text/plain": [
       "<class 'statsmodels.iolib.summary.Summary'>\n",
       "\"\"\"\n",
       "                           Logit Regression Results                           \n",
       "==============================================================================\n",
       "Dep. Variable:             RATEHEALTH   No. Observations:                 8175\n",
       "Model:                          Logit   Df Residuals:                     8154\n",
       "Method:                           MLE   Df Model:                           20\n",
       "Date:                Tue, 19 Apr 2022   Pseudo R-squ.:                  0.1665\n",
       "Time:                        08:05:31   Log-Likelihood:                -4140.5\n",
       "converged:                       True   LL-Null:                       -4967.7\n",
       "Covariance Type:            nonrobust   LLR p-value:                     0.000\n",
       "================================================================================================================\n",
       "                                                   coef    std err          z      P>|z|      [0.025      0.975]\n",
       "----------------------------------------------------------------------------------------------------------------\n",
       "Intercept                                        0.0467      0.147      0.317      0.751      -0.242       0.336\n",
       "C(GENDER, Treatment(reference=0))[T.1]           0.1021      0.059      1.743      0.081      -0.013       0.217\n",
       "C(AGE_BINS, Treatment(reference=0))[T.1]        -0.1287      0.075     -1.724      0.085      -0.275       0.018\n",
       "C(AGE_BINS, Treatment(reference=0))[T.2]        -0.1468      0.084     -1.747      0.081      -0.312       0.018\n",
       "C(MARRIAGE, Treatment(reference=0))[T.1]        -0.1627      0.057     -2.859      0.004      -0.274      -0.051\n",
       "C(EMPLOYMENT, Treatment(reference=0))[T.1]      -0.5330      0.100     -5.315      0.000      -0.730      -0.336\n",
       "C(EMPLOYMENT, Treatment(reference=0))[T.2]      -0.2258      0.096     -2.349      0.019      -0.414      -0.037\n",
       "C(EMPLOYMENT, Treatment(reference=0))[T.3]       0.9492      0.110      8.599      0.000       0.733       1.166\n",
       "C(DEPRESSION, Treatment(reference=0))[T.1]       0.6079      0.062      9.788      0.000       0.486       0.730\n",
       "C(EXERCISE, Treatment(reference=0))[T.1]        -1.0090      0.080    -12.680      0.000      -1.165      -0.853\n",
       "C(CHRONIC, Treatment(reference=0))[T.1]          1.1644      0.085     13.761      0.000       0.999       1.330\n",
       "C(COLLEGE, Treatment(reference=0))[T.1]         -0.8916      0.068    -13.067      0.000      -1.025      -0.758\n",
       "C(COVIDCONCERN, Treatment(reference=9))[T.0]    -0.1476      0.119     -1.245      0.213      -0.380       0.085\n",
       "C(COVIDCONCERN, Treatment(reference=9))[T.1]    -0.6631      0.235     -2.817      0.005      -1.125      -0.202\n",
       "C(COVIDCONCERN, Treatment(reference=9))[T.2]    -0.3948      0.182     -2.174      0.030      -0.751      -0.039\n",
       "C(COVIDCONCERN, Treatment(reference=9))[T.3]    -0.3620      0.196     -1.846      0.065      -0.746       0.022\n",
       "C(COVIDCONCERN, Treatment(reference=9))[T.4]    -0.3802      0.102     -3.710      0.000      -0.581      -0.179\n",
       "C(COVIDCONCERN, Treatment(reference=9))[T.5]    -0.7086      0.156     -4.530      0.000      -1.015      -0.402\n",
       "C(COVIDCONCERN, Treatment(reference=9))[T.6]    -0.5197      0.115     -4.534      0.000      -0.744      -0.295\n",
       "C(COVIDCONCERN, Treatment(reference=9))[T.7]    -0.3914      0.083     -4.743      0.000      -0.553      -0.230\n",
       "C(COVIDCONCERN, Treatment(reference=9))[T.8]    -0.3742      0.103     -3.648      0.000      -0.575      -0.173\n",
       "================================================================================================================\n",
       "\"\"\""
      ]
     },
     "execution_count": 144,
     "metadata": {},
     "output_type": "execute_result"
    }
   ],
   "source": [
    "#STATISTICS LOGIT BY REFERENCE\n",
    "formula = \"RATEHEALTH ~ C(GENDER, Treatment(reference=0)) + C(AGE_BINS, Treatment(reference=0)) + C(MARRIAGE, Treatment(reference=0)) + C(EMPLOYMENT, Treatment(reference=0)) + C(DEPRESSION, Treatment(reference=0)) + + C(EXERCISE, Treatment(reference=0)) + C(CHRONIC, Treatment(reference=0)) + C(COLLEGE, Treatment(reference=0)) + C(COVIDCONCERN, Treatment(reference=9))\"\n",
    "log_reg = smf.logit(formula, data=df).fit()\n",
    "log_reg.summary()"
   ]
  },
  {
   "cell_type": "code",
   "execution_count": 146,
   "id": "5829d1fe",
   "metadata": {},
   "outputs": [
    {
     "data": {
      "text/html": [
       "<table class=\"simpletable\">\n",
       "<tr>\n",
       "        <td>Model:</td>              <td>Logit</td>      <td>Pseudo R-squared:</td>   <td>0.167</td>  \n",
       "</tr>\n",
       "<tr>\n",
       "  <td>Dependent Variable:</td>    <td>RATEHEALTH</td>          <td>AIC:</td>        <td>8322.9612</td>\n",
       "</tr>\n",
       "<tr>\n",
       "         <td>Date:</td>        <td>2022-04-19 08:05</td>       <td>BIC:</td>        <td>8470.1468</td>\n",
       "</tr>\n",
       "<tr>\n",
       "   <td>No. Observations:</td>        <td>8175</td>        <td>Log-Likelihood:</td>   <td>-4140.5</td> \n",
       "</tr>\n",
       "<tr>\n",
       "       <td>Df Model:</td>             <td>20</td>            <td>LL-Null:</td>       <td>-4967.7</td> \n",
       "</tr>\n",
       "<tr>\n",
       "     <td>Df Residuals:</td>          <td>8154</td>         <td>LLR p-value:</td>     <td>0.0000</td>  \n",
       "</tr>\n",
       "<tr>\n",
       "      <td>Converged:</td>           <td>1.0000</td>           <td>Scale:</td>        <td>1.0000</td>  \n",
       "</tr>\n",
       "<tr>\n",
       "    <td>No. Iterations:</td>        <td>6.0000</td>              <td></td>              <td></td>     \n",
       "</tr>\n",
       "</table>\n",
       "<table class=\"simpletable\">\n",
       "<tr>\n",
       "                        <td></td>                        <th>Coef.</th>  <th>Std.Err.</th>     <th>z</th>     <th>P>|z|</th> <th>[0.025</th>  <th>0.975]</th> \n",
       "</tr>\n",
       "<tr>\n",
       "  <th>Intercept</th>                                    <td>0.0467</td>   <td>0.1474</td>   <td>0.3167</td>  <td>0.7514</td> <td>-0.2422</td> <td>0.3355</td> \n",
       "</tr>\n",
       "<tr>\n",
       "  <th>C(GENDER, Treatment(reference=0))[T.1]</th>       <td>0.1021</td>   <td>0.0586</td>   <td>1.7430</td>  <td>0.0813</td> <td>-0.0127</td> <td>0.2169</td> \n",
       "</tr>\n",
       "<tr>\n",
       "  <th>C(AGE_BINS, Treatment(reference=0))[T.1]</th>     <td>-0.1287</td>  <td>0.0747</td>   <td>-1.7235</td> <td>0.0848</td> <td>-0.2750</td> <td>0.0177</td> \n",
       "</tr>\n",
       "<tr>\n",
       "  <th>C(AGE_BINS, Treatment(reference=0))[T.2]</th>     <td>-0.1468</td>  <td>0.0840</td>   <td>-1.7468</td> <td>0.0807</td> <td>-0.3115</td> <td>0.0179</td> \n",
       "</tr>\n",
       "<tr>\n",
       "  <th>C(MARRIAGE, Treatment(reference=0))[T.1]</th>     <td>-0.1627</td>  <td>0.0569</td>   <td>-2.8593</td> <td>0.0042</td> <td>-0.2743</td> <td>-0.0512</td>\n",
       "</tr>\n",
       "<tr>\n",
       "  <th>C(EMPLOYMENT, Treatment(reference=0))[T.1]</th>   <td>-0.5330</td>  <td>0.1003</td>   <td>-5.3153</td> <td>0.0000</td> <td>-0.7296</td> <td>-0.3365</td>\n",
       "</tr>\n",
       "<tr>\n",
       "  <th>C(EMPLOYMENT, Treatment(reference=0))[T.2]</th>   <td>-0.2258</td>  <td>0.0961</td>   <td>-2.3487</td> <td>0.0188</td> <td>-0.4142</td> <td>-0.0374</td>\n",
       "</tr>\n",
       "<tr>\n",
       "  <th>C(EMPLOYMENT, Treatment(reference=0))[T.3]</th>   <td>0.9492</td>   <td>0.1104</td>   <td>8.5993</td>  <td>0.0000</td> <td>0.7329</td>  <td>1.1656</td> \n",
       "</tr>\n",
       "<tr>\n",
       "  <th>C(DEPRESSION, Treatment(reference=0))[T.1]</th>   <td>0.6079</td>   <td>0.0621</td>   <td>9.7877</td>  <td>0.0000</td> <td>0.4862</td>  <td>0.7296</td> \n",
       "</tr>\n",
       "<tr>\n",
       "  <th>C(EXERCISE, Treatment(reference=0))[T.1]</th>     <td>-1.0090</td>  <td>0.0796</td>  <td>-12.6801</td> <td>0.0000</td> <td>-1.1650</td> <td>-0.8531</td>\n",
       "</tr>\n",
       "<tr>\n",
       "  <th>C(CHRONIC, Treatment(reference=0))[T.1]</th>      <td>1.1644</td>   <td>0.0846</td>   <td>13.7614</td> <td>0.0000</td> <td>0.9986</td>  <td>1.3303</td> \n",
       "</tr>\n",
       "<tr>\n",
       "  <th>C(COLLEGE, Treatment(reference=0))[T.1]</th>      <td>-0.8916</td>  <td>0.0682</td>  <td>-13.0669</td> <td>0.0000</td> <td>-1.0253</td> <td>-0.7579</td>\n",
       "</tr>\n",
       "<tr>\n",
       "  <th>C(COVIDCONCERN, Treatment(reference=9))[T.0]</th> <td>-0.1476</td>  <td>0.1186</td>   <td>-1.2449</td> <td>0.2132</td> <td>-0.3800</td> <td>0.0848</td> \n",
       "</tr>\n",
       "<tr>\n",
       "  <th>C(COVIDCONCERN, Treatment(reference=9))[T.1]</th> <td>-0.6631</td>  <td>0.2354</td>   <td>-2.8167</td> <td>0.0049</td> <td>-1.1246</td> <td>-0.2017</td>\n",
       "</tr>\n",
       "<tr>\n",
       "  <th>C(COVIDCONCERN, Treatment(reference=9))[T.2]</th> <td>-0.3948</td>  <td>0.1816</td>   <td>-2.1736</td> <td>0.0297</td> <td>-0.7507</td> <td>-0.0388</td>\n",
       "</tr>\n",
       "<tr>\n",
       "  <th>C(COVIDCONCERN, Treatment(reference=9))[T.3]</th> <td>-0.3620</td>  <td>0.1961</td>   <td>-1.8456</td> <td>0.0649</td> <td>-0.7464</td> <td>0.0224</td> \n",
       "</tr>\n",
       "<tr>\n",
       "  <th>C(COVIDCONCERN, Treatment(reference=9))[T.4]</th> <td>-0.3802</td>  <td>0.1025</td>   <td>-3.7105</td> <td>0.0002</td> <td>-0.5810</td> <td>-0.1794</td>\n",
       "</tr>\n",
       "<tr>\n",
       "  <th>C(COVIDCONCERN, Treatment(reference=9))[T.5]</th> <td>-0.7086</td>  <td>0.1564</td>   <td>-4.5300</td> <td>0.0000</td> <td>-1.0151</td> <td>-0.4020</td>\n",
       "</tr>\n",
       "<tr>\n",
       "  <th>C(COVIDCONCERN, Treatment(reference=9))[T.6]</th> <td>-0.5197</td>  <td>0.1146</td>   <td>-4.5337</td> <td>0.0000</td> <td>-0.7444</td> <td>-0.2951</td>\n",
       "</tr>\n",
       "<tr>\n",
       "  <th>C(COVIDCONCERN, Treatment(reference=9))[T.7]</th> <td>-0.3914</td>  <td>0.0825</td>   <td>-4.7429</td> <td>0.0000</td> <td>-0.5532</td> <td>-0.2297</td>\n",
       "</tr>\n",
       "<tr>\n",
       "  <th>C(COVIDCONCERN, Treatment(reference=9))[T.8]</th> <td>-0.3742</td>  <td>0.1026</td>   <td>-3.6481</td> <td>0.0003</td> <td>-0.5753</td> <td>-0.1732</td>\n",
       "</tr>\n",
       "</table>"
      ],
      "text/plain": [
       "<class 'statsmodels.iolib.summary2.Summary'>\n",
       "\"\"\"\n",
       "                                       Results: Logit\n",
       "=============================================================================================\n",
       "Model:                         Logit                     Pseudo R-squared:          0.167    \n",
       "Dependent Variable:            RATEHEALTH                AIC:                       8322.9612\n",
       "Date:                          2022-04-19 08:05          BIC:                       8470.1468\n",
       "No. Observations:              8175                      Log-Likelihood:            -4140.5  \n",
       "Df Model:                      20                        LL-Null:                   -4967.7  \n",
       "Df Residuals:                  8154                      LLR p-value:               0.0000   \n",
       "Converged:                     1.0000                    Scale:                     1.0000   \n",
       "No. Iterations:                6.0000                                                        \n",
       "---------------------------------------------------------------------------------------------\n",
       "                                              Coef.  Std.Err.    z     P>|z|   [0.025  0.975]\n",
       "---------------------------------------------------------------------------------------------\n",
       "Intercept                                     0.0467   0.1474   0.3167 0.7514 -0.2422  0.3355\n",
       "C(GENDER, Treatment(reference=0))[T.1]        0.1021   0.0586   1.7430 0.0813 -0.0127  0.2169\n",
       "C(AGE_BINS, Treatment(reference=0))[T.1]     -0.1287   0.0747  -1.7235 0.0848 -0.2750  0.0177\n",
       "C(AGE_BINS, Treatment(reference=0))[T.2]     -0.1468   0.0840  -1.7468 0.0807 -0.3115  0.0179\n",
       "C(MARRIAGE, Treatment(reference=0))[T.1]     -0.1627   0.0569  -2.8593 0.0042 -0.2743 -0.0512\n",
       "C(EMPLOYMENT, Treatment(reference=0))[T.1]   -0.5330   0.1003  -5.3153 0.0000 -0.7296 -0.3365\n",
       "C(EMPLOYMENT, Treatment(reference=0))[T.2]   -0.2258   0.0961  -2.3487 0.0188 -0.4142 -0.0374\n",
       "C(EMPLOYMENT, Treatment(reference=0))[T.3]    0.9492   0.1104   8.5993 0.0000  0.7329  1.1656\n",
       "C(DEPRESSION, Treatment(reference=0))[T.1]    0.6079   0.0621   9.7877 0.0000  0.4862  0.7296\n",
       "C(EXERCISE, Treatment(reference=0))[T.1]     -1.0090   0.0796 -12.6801 0.0000 -1.1650 -0.8531\n",
       "C(CHRONIC, Treatment(reference=0))[T.1]       1.1644   0.0846  13.7614 0.0000  0.9986  1.3303\n",
       "C(COLLEGE, Treatment(reference=0))[T.1]      -0.8916   0.0682 -13.0669 0.0000 -1.0253 -0.7579\n",
       "C(COVIDCONCERN, Treatment(reference=9))[T.0] -0.1476   0.1186  -1.2449 0.2132 -0.3800  0.0848\n",
       "C(COVIDCONCERN, Treatment(reference=9))[T.1] -0.6631   0.2354  -2.8167 0.0049 -1.1246 -0.2017\n",
       "C(COVIDCONCERN, Treatment(reference=9))[T.2] -0.3948   0.1816  -2.1736 0.0297 -0.7507 -0.0388\n",
       "C(COVIDCONCERN, Treatment(reference=9))[T.3] -0.3620   0.1961  -1.8456 0.0649 -0.7464  0.0224\n",
       "C(COVIDCONCERN, Treatment(reference=9))[T.4] -0.3802   0.1025  -3.7105 0.0002 -0.5810 -0.1794\n",
       "C(COVIDCONCERN, Treatment(reference=9))[T.5] -0.7086   0.1564  -4.5300 0.0000 -1.0151 -0.4020\n",
       "C(COVIDCONCERN, Treatment(reference=9))[T.6] -0.5197   0.1146  -4.5337 0.0000 -0.7444 -0.2951\n",
       "C(COVIDCONCERN, Treatment(reference=9))[T.7] -0.3914   0.0825  -4.7429 0.0000 -0.5532 -0.2297\n",
       "C(COVIDCONCERN, Treatment(reference=9))[T.8] -0.3742   0.1026  -3.6481 0.0003 -0.5753 -0.1732\n",
       "=============================================================================================\n",
       "\n",
       "\"\"\""
      ]
     },
     "execution_count": 146,
     "metadata": {},
     "output_type": "execute_result"
    }
   ],
   "source": [
    "log = log_reg.summary2()\n",
    "log"
   ]
  },
  {
   "cell_type": "code",
   "execution_count": 147,
   "id": "eecc55fc",
   "metadata": {},
   "outputs": [
    {
     "name": "stdout",
     "output_type": "stream",
     "text": [
      "                                                    5%       95%  Odds Ratio\n",
      "Intercept                                     0.784922  1.398686    1.047788\n",
      "C(GENDER, Treatment(reference=0))[T.1]        0.987376  1.242162    1.107466\n",
      "C(AGE_BINS, Treatment(reference=0))[T.1]      0.759577  1.017807    0.879263\n",
      "C(AGE_BINS, Treatment(reference=0))[T.2]      0.732335  1.018075    0.863465\n",
      "C(MARRIAGE, Treatment(reference=0))[T.1]      0.760110  0.950100    0.849812\n",
      "C(EMPLOYMENT, Treatment(reference=0))[T.1]    0.482107  0.714278    0.586821\n",
      "C(EMPLOYMENT, Treatment(reference=0))[T.2]    0.660845  0.963314    0.797873\n",
      "C(EMPLOYMENT, Treatment(reference=0))[T.3]    2.081035  3.207711    2.583671\n",
      "C(DEPRESSION, Treatment(reference=0))[T.1]    1.626052  2.074269    1.836537\n",
      "C(EXERCISE, Treatment(reference=0))[T.1]      0.311920  0.426103    0.364568\n",
      "C(CHRONIC, Treatment(reference=0))[T.1]       2.714485  3.782159    3.204156\n",
      "C(COLLEGE, Treatment(reference=0))[T.1]       0.358674  0.468664    0.409997\n",
      "C(COVIDCONCERN, Treatment(reference=9))[T.0]  0.683829  1.088501    0.862756\n",
      "C(COVIDCONCERN, Treatment(reference=9))[T.1]  0.324792  0.817346    0.515235\n",
      "C(COVIDCONCERN, Treatment(reference=9))[T.2]  0.472025  0.961945    0.673841\n",
      "C(COVIDCONCERN, Treatment(reference=9))[T.3]  0.474090  1.022675    0.696305\n",
      "C(COVIDCONCERN, Treatment(reference=9))[T.4]  0.559346  0.835809    0.683744\n",
      "C(COVIDCONCERN, Treatment(reference=9))[T.5]  0.362358  0.668986    0.492354\n",
      "C(COVIDCONCERN, Treatment(reference=9))[T.6]  0.475003  0.744492    0.594673\n",
      "C(COVIDCONCERN, Treatment(reference=9))[T.7]  0.575112  0.794790    0.676087\n",
      "C(COVIDCONCERN, Treatment(reference=9))[T.8]  0.562551  0.840993    0.687823\n"
     ]
    }
   ],
   "source": [
    "#OddsRatio\n",
    "params = log_reg.params\n",
    "conf = log_reg.conf_int()\n",
    "conf['Odds Ratio'] = params\n",
    "conf.columns = ['5%', '95%', 'Odds Ratio']\n",
    "print(np.exp(conf))"
   ]
  },
  {
   "cell_type": "markdown",
   "id": "7c60b61f",
   "metadata": {},
   "source": [
    "Machine Learning\n",
    "==="
   ]
  },
  {
   "cell_type": "code",
   "execution_count": 148,
   "id": "4d18956f",
   "metadata": {},
   "outputs": [
    {
     "data": {
      "text/plain": [
       "array([0.72493888, 0.72860636, 0.73349633, 0.75794621, 0.77628362,\n",
       "       0.75152999, 0.76376989, 0.76499388, 0.75764994, 0.72215422])"
      ]
     },
     "execution_count": 148,
     "metadata": {},
     "output_type": "execute_result"
    }
   ],
   "source": [
    "#Machine Learning K-Fold Validation Accuracy\n",
    "model = LogisticRegression()\n",
    "scores = cross_val_score(model, X, y, cv=10)\n",
    "scores"
   ]
  },
  {
   "cell_type": "code",
   "execution_count": 149,
   "id": "81aa56ee",
   "metadata": {},
   "outputs": [],
   "source": [
    "#prediction with 25% Split\n",
    "model1 = LogisticRegression().fit(X_train, y_train)\n",
    "preds = model1.predict(X_test)"
   ]
  },
  {
   "cell_type": "code",
   "execution_count": 150,
   "id": "0cf67221",
   "metadata": {},
   "outputs": [
    {
     "name": "stdout",
     "output_type": "stream",
     "text": [
      "Intercept: \n",
      " [-0.88405023]\n",
      "Coefficients: \n",
      " [[ 0.0445595   0.01424745 -0.25093306  0.35096331  0.62971522 -1.11773522\n",
      "  -0.23371976 -1.03288384  1.29015547]]\n"
     ]
    }
   ],
   "source": [
    "print('Intercept: \\n', model1.intercept_)\n",
    "print('Coefficients: \\n', model1.coef_)"
   ]
  },
  {
   "cell_type": "code",
   "execution_count": 151,
   "id": "7c39a11d",
   "metadata": {},
   "outputs": [],
   "source": [
    "#Calculate odds ratio estimates\n",
    "import numpy as np\n",
    "oddsratio = np.exp(model1.coef_)"
   ]
  },
  {
   "cell_type": "code",
   "execution_count": 152,
   "id": "3e45b0ae",
   "metadata": {},
   "outputs": [],
   "source": [
    "oddsratio = pd.DataFrame(oddsratio)"
   ]
  },
  {
   "cell_type": "code",
   "execution_count": 153,
   "id": "02d70a57",
   "metadata": {},
   "outputs": [],
   "source": [
    "#Change Column Name if necessary\n",
    "oddsratio.rename({0:'COVIDCONCERN',1: 'GENDER',2: 'MARRIAGE',3: 'DEPRESSION',4: 'EXERCISE',\n",
    "       5:'AGE_BINS', 6:'COLLEGE',7: 'CHRONIC',8: 'EMPLOYMENT_1.0',9: 'EMPLOYMENT_2.0',10: 'EMPLOYMENT_3.0',\n",
    "       11:'EMPLOYMENT_4.0'}, axis=1, inplace=True)"
   ]
  },
  {
   "cell_type": "code",
   "execution_count": 154,
   "id": "5ed45c30",
   "metadata": {},
   "outputs": [
    {
     "data": {
      "text/html": [
       "<div>\n",
       "<style scoped>\n",
       "    .dataframe tbody tr th:only-of-type {\n",
       "        vertical-align: middle;\n",
       "    }\n",
       "\n",
       "    .dataframe tbody tr th {\n",
       "        vertical-align: top;\n",
       "    }\n",
       "\n",
       "    .dataframe thead th {\n",
       "        text-align: right;\n",
       "    }\n",
       "</style>\n",
       "<table border=\"1\" class=\"dataframe\">\n",
       "  <thead>\n",
       "    <tr style=\"text-align: right;\">\n",
       "      <th></th>\n",
       "      <th>0</th>\n",
       "    </tr>\n",
       "  </thead>\n",
       "  <tbody>\n",
       "    <tr>\n",
       "      <th>COVIDCONCERN</th>\n",
       "      <td>1.045567</td>\n",
       "    </tr>\n",
       "    <tr>\n",
       "      <th>GENDER</th>\n",
       "      <td>1.014349</td>\n",
       "    </tr>\n",
       "    <tr>\n",
       "      <th>MARRIAGE</th>\n",
       "      <td>0.778074</td>\n",
       "    </tr>\n",
       "    <tr>\n",
       "      <th>DEPRESSION</th>\n",
       "      <td>1.420435</td>\n",
       "    </tr>\n",
       "    <tr>\n",
       "      <th>EXERCISE</th>\n",
       "      <td>1.877076</td>\n",
       "    </tr>\n",
       "    <tr>\n",
       "      <th>AGE_BINS</th>\n",
       "      <td>0.327020</td>\n",
       "    </tr>\n",
       "    <tr>\n",
       "      <th>COLLEGE</th>\n",
       "      <td>0.791584</td>\n",
       "    </tr>\n",
       "    <tr>\n",
       "      <th>CHRONIC</th>\n",
       "      <td>0.355979</td>\n",
       "    </tr>\n",
       "    <tr>\n",
       "      <th>EMPLOYMENT_1.0</th>\n",
       "      <td>3.633351</td>\n",
       "    </tr>\n",
       "  </tbody>\n",
       "</table>\n",
       "</div>"
      ],
      "text/plain": [
       "                       0\n",
       "COVIDCONCERN    1.045567\n",
       "GENDER          1.014349\n",
       "MARRIAGE        0.778074\n",
       "DEPRESSION      1.420435\n",
       "EXERCISE        1.877076\n",
       "AGE_BINS        0.327020\n",
       "COLLEGE         0.791584\n",
       "CHRONIC         0.355979\n",
       "EMPLOYMENT_1.0  3.633351"
      ]
     },
     "execution_count": 154,
     "metadata": {},
     "output_type": "execute_result"
    }
   ],
   "source": [
    "oddsratio.T"
   ]
  },
  {
   "cell_type": "code",
   "execution_count": 155,
   "id": "d5410cf3",
   "metadata": {},
   "outputs": [
    {
     "data": {
      "text/plain": [
       "array([[1332,  106],\n",
       "       [ 396,  210]], dtype=int64)"
      ]
     },
     "execution_count": 155,
     "metadata": {},
     "output_type": "execute_result"
    }
   ],
   "source": [
    "confusion_matrix(y_test, preds)"
   ]
  },
  {
   "cell_type": "code",
   "execution_count": 156,
   "id": "82dbc293",
   "metadata": {},
   "outputs": [],
   "source": [
    "confmtrx = np.array(confusion_matrix(y_test, preds))"
   ]
  },
  {
   "cell_type": "code",
   "execution_count": 157,
   "id": "cef14a3c",
   "metadata": {},
   "outputs": [
    {
     "data": {
      "text/html": [
       "<div>\n",
       "<style scoped>\n",
       "    .dataframe tbody tr th:only-of-type {\n",
       "        vertical-align: middle;\n",
       "    }\n",
       "\n",
       "    .dataframe tbody tr th {\n",
       "        vertical-align: top;\n",
       "    }\n",
       "\n",
       "    .dataframe thead th {\n",
       "        text-align: right;\n",
       "    }\n",
       "</style>\n",
       "<table border=\"1\" class=\"dataframe\">\n",
       "  <thead>\n",
       "    <tr style=\"text-align: right;\">\n",
       "      <th></th>\n",
       "      <th>pred_Good</th>\n",
       "      <th>pred_Bad</th>\n",
       "    </tr>\n",
       "  </thead>\n",
       "  <tbody>\n",
       "    <tr>\n",
       "      <th>Good</th>\n",
       "      <td>1332</td>\n",
       "      <td>106</td>\n",
       "    </tr>\n",
       "    <tr>\n",
       "      <th>Bad</th>\n",
       "      <td>396</td>\n",
       "      <td>210</td>\n",
       "    </tr>\n",
       "  </tbody>\n",
       "</table>\n",
       "</div>"
      ],
      "text/plain": [
       "      pred_Good  pred_Bad\n",
       "Good       1332       106\n",
       "Bad         396       210"
      ]
     },
     "execution_count": 157,
     "metadata": {},
     "output_type": "execute_result"
    }
   ],
   "source": [
    "pd.DataFrame(confmtrx, index=['Good','Bad'],\n",
    "columns=['pred_Good','pred_Bad'])"
   ]
  },
  {
   "cell_type": "code",
   "execution_count": 158,
   "id": "4c6ded4d",
   "metadata": {},
   "outputs": [
    {
     "name": "stdout",
     "output_type": "stream",
     "text": [
      "Accuracy Score: 0.7544031311154599\n"
     ]
    }
   ],
   "source": [
    "print('Accuracy Score:', metrics.accuracy_score(y_test, preds))  "
   ]
  },
  {
   "cell_type": "code",
   "execution_count": 159,
   "id": "6d8c78e7",
   "metadata": {},
   "outputs": [
    {
     "name": "stdout",
     "output_type": "stream",
     "text": [
      "              precision    recall  f1-score   support\n",
      "\n",
      "           0       0.77      0.93      0.84      1438\n",
      "           1       0.66      0.35      0.46       606\n",
      "\n",
      "    accuracy                           0.75      2044\n",
      "   macro avg       0.72      0.64      0.65      2044\n",
      "weighted avg       0.74      0.75      0.73      2044\n",
      "\n"
     ]
    }
   ],
   "source": [
    "class_report=classification_report(y_test, preds)\n",
    "print(class_report)"
   ]
  },
  {
   "cell_type": "code",
   "execution_count": 160,
   "id": "80dbc7f0",
   "metadata": {},
   "outputs": [],
   "source": [
    "def plot_confusion_matrix(y,y_predict):\n",
    "    \"this function plots the confusion matrix\"\n",
    "    from sklearn.metrics import confusion_matrix\n",
    "\n",
    "    cm = confusion_matrix(y, y_predict)\n",
    "    ax= plt.subplot()\n",
    "    sns.heatmap(cm, annot=True, ax = ax); #annot=True to annotate cells\n",
    "    ax.set_xlabel('Predicted labels')\n",
    "    ax.set_ylabel('True labels')\n",
    "    ax.set_title('Confusion Matrix'); \n",
    "    ax.xaxis.set_ticklabels(['Good','Bad']); ax.yaxis.set_ticklabels(['Good','Bad'])"
   ]
  },
  {
   "cell_type": "code",
   "execution_count": 161,
   "id": "5dacc7a1",
   "metadata": {},
   "outputs": [
    {
     "data": {
      "image/png": "[encoded data removed]",
      "text/plain": [
       "<Figure size 432x288 with 2 Axes>"
      ]
     },
     "metadata": {
      "needs_background": "light"
     },
     "output_type": "display_data"
    }
   ],
   "source": [
    "yhat = model1.predict(X_test)\n",
    "plot_confusion_matrix(y_test,yhat)"
   ]
  },
  {
   "cell_type": "code",
   "execution_count": 162,
   "id": "ac970937",
   "metadata": {},
   "outputs": [
    {
     "data": {
      "image/png": "[encoded data removed]",
      "text/plain": [
       "<Figure size 432x288 with 1 Axes>"
      ]
     },
     "metadata": {
      "needs_background": "light"
     },
     "output_type": "display_data"
    }
   ],
   "source": [
    "import sklearn.metrics as metrics\n",
    "# calculate the fpr and tpr for all thresholds of the classification\n",
    "probs = model1.predict_proba(X_test)\n",
    "preds = probs[:,1]\n",
    "fpr, tpr, threshold = metrics.roc_curve(y_test, preds)\n",
    "roc_auc = metrics.auc(fpr, tpr)\n",
    "\n",
    "# method I: plt\n",
    "import matplotlib.pyplot as plt\n",
    "plt.title('Receiver Operating Characteristic')\n",
    "plt.plot(fpr, tpr, 'b', label = 'AUC = %0.2f' % roc_auc)\n",
    "plt.legend(loc = 'lower right')\n",
    "plt.plot([0, 1], [0, 1],'r--')\n",
    "plt.xlim([0, 1])\n",
    "plt.ylim([0, 1])\n",
    "plt.ylabel('True Positive Rate')\n",
    "plt.xlabel('False Positive Rate')\n",
    "plt.show()"
   ]
  },
  {
   "cell_type": "code",
   "execution_count": 154,
   "id": "3a576ea5",
   "metadata": {},
   "outputs": [],
   "source": [
    "#Save Model\n",
    "import pickle\n",
    "pickle.dump(model1, open('Health.pkl', 'wb'))"
   ]
  },
  {
   "cell_type": "code",
   "execution_count": null,
   "id": "9868cade",
   "metadata": {},
   "outputs": [],
   "source": []
  }
 ],
 "metadata": {
  "kernelspec": {
   "display_name": "Python 3 (ipykernel)",
   "language": "python",
   "name": "python3"
  },
  "language_info": {
   "codemirror_mode": {
    "name": "ipython",
    "version": 3
   },
   "file_extension": ".py",
   "mimetype": "text/x-python",
   "name": "python",
   "nbconvert_exporter": "python",
   "pygments_lexer": "ipython3",
   "version": "3.9.7"
  }
 },
 "nbformat": 4,
 "nbformat_minor": 5
}
