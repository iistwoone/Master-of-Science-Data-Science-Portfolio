{
 "cells": [
  {
   "cell_type": "markdown",
   "id": "bff57522",
   "metadata": {},
   "source": [
    "National University Thesis: NHIS Study Logistic Regression study\n",
    "===="
   ]
  },
  {
   "cell_type": "markdown",
   "id": "6f9492db",
   "metadata": {},
   "source": [
    "Introduction\n",
    "===="
   ]
  },
  {
   "cell_type": "markdown",
   "id": "716f57ba",
   "metadata": {},
   "source": [
    "This jupyter notebook is focused on doing the initial study on Self-Assessed Health (SAH) in the year of 2019 with the \"high-risk\" (55+) population. This study will use the 2019 National Health Interview Study that conducted its study from 2019. The variable of interest is a multi-nominal ordinal categorical outcome with outputs ranging from: 1-5 (Poor to Excellent). This research will transform the target variable to a binary output of poor health(1-2) and good health (3-5).  Past scholarly research has modeled this to effectively look at the effect size of health. This process willl include: Downloading the data, data wrangling, doing an EDA for descriptive statistics, splitting the data for validation, fitting the model, and looking at the accuracy metrics for evaluation. The metric resulting from this study will be compared with other studies to look for the change in: model accuracy, precision, recall, f-1, log odds and coefficients"
   ]
  },
  {
   "cell_type": "markdown",
   "id": "204a130a",
   "metadata": {},
   "source": [
    "Importing Libraries\n",
    "====\n",
    "Regression, Classification, Cluster, Association, Anomaly Detection, Recommender, Ensemble, Deep Learning"
   ]
  },
  {
   "cell_type": "code",
   "execution_count": 3,
   "id": "dcf0fe1d",
   "metadata": {},
   "outputs": [],
   "source": [
    "#Normal Imports\n",
    "import numpy as np\n",
    "import pandas as pd\n",
    "import matplotlib.pyplot as plt\n",
    "%matplotlib inline\n",
    "import seaborn as sns\n",
    "import scipy as sc\n",
    "\n",
    "#Train/Test or CV\n",
    "from sklearn.model_selection import StratifiedShuffleSplit\n",
    "from sklearn.model_selection import train_test_split\n",
    "from sklearn.model_selection import KFold, cross_val_predict, cross_val_score\n",
    "\n",
    "#DataWrangling\n",
    "from scipy import stats\n",
    "from scipy.stats.mstats import normaltest\n",
    "from sklearn.preprocessing import PolynomialFeatures\n",
    "from sklearn.preprocessing import StandardScaler, MinMaxScaler, MaxAbsScaler\n",
    "from sklearn.preprocessing import OneHotEncoder\n",
    "from sklearn.preprocessing import LabelBinarizer, LabelEncoder, OrdinalEncoder\n",
    "\n",
    "#Accuracy\n",
    "from sklearn.linear_model import LogisticRegression\n",
    "from sklearn.metrics import classification_report\n",
    "from sklearn import metrics \n",
    "from sklearn.metrics import confusion_matrix"
   ]
  },
  {
   "cell_type": "markdown",
   "id": "9bf83e9c",
   "metadata": {},
   "source": [
    "Importing Data\n",
    "===="
   ]
  },
  {
   "cell_type": "code",
   "execution_count": 4,
   "id": "a8afdec1",
   "metadata": {},
   "outputs": [],
   "source": [
    "#import filetype\n",
    "nhis1 = pd.read_csv(r\"C:\\Users\\2-1\\Downloads\\adult19.csv\")"
   ]
  },
  {
   "cell_type": "code",
   "execution_count": 5,
   "id": "bf2c4a29",
   "metadata": {},
   "outputs": [
    {
     "data": {
      "text/html": [
       "<div>\n",
       "<style scoped>\n",
       "    .dataframe tbody tr th:only-of-type {\n",
       "        vertical-align: middle;\n",
       "    }\n",
       "\n",
       "    .dataframe tbody tr th {\n",
       "        vertical-align: top;\n",
       "    }\n",
       "\n",
       "    .dataframe thead th {\n",
       "        text-align: right;\n",
       "    }\n",
       "</style>\n",
       "<table border=\"1\" class=\"dataframe\">\n",
       "  <thead>\n",
       "    <tr style=\"text-align: right;\">\n",
       "      <th></th>\n",
       "      <th>URBRRL</th>\n",
       "      <th>RATCAT_A</th>\n",
       "      <th>INCGRP_A</th>\n",
       "      <th>INCTCFLG_A</th>\n",
       "      <th>FAMINCTC_A</th>\n",
       "      <th>IMPINCFLG_A</th>\n",
       "      <th>PPSU</th>\n",
       "      <th>PSTRAT</th>\n",
       "      <th>HISPALLP_A</th>\n",
       "      <th>RACEALLP_A</th>\n",
       "      <th>...</th>\n",
       "      <th>PROXYREL_A</th>\n",
       "      <th>PROXY_A</th>\n",
       "      <th>AVAIL_A</th>\n",
       "      <th>HHSTAT_A</th>\n",
       "      <th>INTV_QRT</th>\n",
       "      <th>RECTYPE</th>\n",
       "      <th>WTFA_A</th>\n",
       "      <th>WTIA_A</th>\n",
       "      <th>HHX</th>\n",
       "      <th>POVRATTC_A</th>\n",
       "    </tr>\n",
       "  </thead>\n",
       "  <tbody>\n",
       "    <tr>\n",
       "      <th>0</th>\n",
       "      <td>4</td>\n",
       "      <td>9</td>\n",
       "      <td>3</td>\n",
       "      <td>0</td>\n",
       "      <td>60000</td>\n",
       "      <td>2</td>\n",
       "      <td>2</td>\n",
       "      <td>122</td>\n",
       "      <td>3</td>\n",
       "      <td>2</td>\n",
       "      <td>...</td>\n",
       "      <td>NaN</td>\n",
       "      <td>NaN</td>\n",
       "      <td>1</td>\n",
       "      <td>1</td>\n",
       "      <td>1</td>\n",
       "      <td>10</td>\n",
       "      <td>13177.008</td>\n",
       "      <td>7601.336</td>\n",
       "      <td>H048109</td>\n",
       "      <td>2.96</td>\n",
       "    </tr>\n",
       "    <tr>\n",
       "      <th>1</th>\n",
       "      <td>4</td>\n",
       "      <td>9</td>\n",
       "      <td>3</td>\n",
       "      <td>0</td>\n",
       "      <td>50000</td>\n",
       "      <td>0</td>\n",
       "      <td>2</td>\n",
       "      <td>122</td>\n",
       "      <td>2</td>\n",
       "      <td>1</td>\n",
       "      <td>...</td>\n",
       "      <td>NaN</td>\n",
       "      <td>NaN</td>\n",
       "      <td>1</td>\n",
       "      <td>1</td>\n",
       "      <td>1</td>\n",
       "      <td>10</td>\n",
       "      <td>6140.552</td>\n",
       "      <td>3344.434</td>\n",
       "      <td>H027044</td>\n",
       "      <td>2.97</td>\n",
       "    </tr>\n",
       "    <tr>\n",
       "      <th>2</th>\n",
       "      <td>4</td>\n",
       "      <td>12</td>\n",
       "      <td>3</td>\n",
       "      <td>0</td>\n",
       "      <td>65000</td>\n",
       "      <td>1</td>\n",
       "      <td>2</td>\n",
       "      <td>122</td>\n",
       "      <td>2</td>\n",
       "      <td>1</td>\n",
       "      <td>...</td>\n",
       "      <td>NaN</td>\n",
       "      <td>NaN</td>\n",
       "      <td>1</td>\n",
       "      <td>1</td>\n",
       "      <td>1</td>\n",
       "      <td>10</td>\n",
       "      <td>9191.061</td>\n",
       "      <td>6949.498</td>\n",
       "      <td>H058855</td>\n",
       "      <td>4.28</td>\n",
       "    </tr>\n",
       "    <tr>\n",
       "      <th>3</th>\n",
       "      <td>4</td>\n",
       "      <td>14</td>\n",
       "      <td>5</td>\n",
       "      <td>0</td>\n",
       "      <td>120000</td>\n",
       "      <td>0</td>\n",
       "      <td>2</td>\n",
       "      <td>122</td>\n",
       "      <td>1</td>\n",
       "      <td>8</td>\n",
       "      <td>...</td>\n",
       "      <td>NaN</td>\n",
       "      <td>NaN</td>\n",
       "      <td>1</td>\n",
       "      <td>1</td>\n",
       "      <td>1</td>\n",
       "      <td>10</td>\n",
       "      <td>7900.035</td>\n",
       "      <td>6446.327</td>\n",
       "      <td>H031993</td>\n",
       "      <td>7.13</td>\n",
       "    </tr>\n",
       "    <tr>\n",
       "      <th>4</th>\n",
       "      <td>1</td>\n",
       "      <td>4</td>\n",
       "      <td>1</td>\n",
       "      <td>0</td>\n",
       "      <td>30000</td>\n",
       "      <td>0</td>\n",
       "      <td>2</td>\n",
       "      <td>115</td>\n",
       "      <td>2</td>\n",
       "      <td>1</td>\n",
       "      <td>...</td>\n",
       "      <td>NaN</td>\n",
       "      <td>NaN</td>\n",
       "      <td>1</td>\n",
       "      <td>1</td>\n",
       "      <td>1</td>\n",
       "      <td>10</td>\n",
       "      <td>10875.772</td>\n",
       "      <td>8646.586</td>\n",
       "      <td>H007122</td>\n",
       "      <td>1.13</td>\n",
       "    </tr>\n",
       "    <tr>\n",
       "      <th>...</th>\n",
       "      <td>...</td>\n",
       "      <td>...</td>\n",
       "      <td>...</td>\n",
       "      <td>...</td>\n",
       "      <td>...</td>\n",
       "      <td>...</td>\n",
       "      <td>...</td>\n",
       "      <td>...</td>\n",
       "      <td>...</td>\n",
       "      <td>...</td>\n",
       "      <td>...</td>\n",
       "      <td>...</td>\n",
       "      <td>...</td>\n",
       "      <td>...</td>\n",
       "      <td>...</td>\n",
       "      <td>...</td>\n",
       "      <td>...</td>\n",
       "      <td>...</td>\n",
       "      <td>...</td>\n",
       "      <td>...</td>\n",
       "      <td>...</td>\n",
       "    </tr>\n",
       "    <tr>\n",
       "      <th>31992</th>\n",
       "      <td>4</td>\n",
       "      <td>14</td>\n",
       "      <td>5</td>\n",
       "      <td>0</td>\n",
       "      <td>116204</td>\n",
       "      <td>0</td>\n",
       "      <td>100</td>\n",
       "      <td>114</td>\n",
       "      <td>2</td>\n",
       "      <td>1</td>\n",
       "      <td>...</td>\n",
       "      <td>NaN</td>\n",
       "      <td>NaN</td>\n",
       "      <td>1</td>\n",
       "      <td>1</td>\n",
       "      <td>4</td>\n",
       "      <td>10</td>\n",
       "      <td>2679.016</td>\n",
       "      <td>1965.416</td>\n",
       "      <td>H046022</td>\n",
       "      <td>7.65</td>\n",
       "    </tr>\n",
       "    <tr>\n",
       "      <th>31993</th>\n",
       "      <td>4</td>\n",
       "      <td>8</td>\n",
       "      <td>3</td>\n",
       "      <td>0</td>\n",
       "      <td>68000</td>\n",
       "      <td>0</td>\n",
       "      <td>100</td>\n",
       "      <td>114</td>\n",
       "      <td>2</td>\n",
       "      <td>1</td>\n",
       "      <td>...</td>\n",
       "      <td>NaN</td>\n",
       "      <td>NaN</td>\n",
       "      <td>1</td>\n",
       "      <td>1</td>\n",
       "      <td>4</td>\n",
       "      <td>10</td>\n",
       "      <td>6726.495</td>\n",
       "      <td>3920.208</td>\n",
       "      <td>H046232</td>\n",
       "      <td>2.02</td>\n",
       "    </tr>\n",
       "    <tr>\n",
       "      <th>31994</th>\n",
       "      <td>4</td>\n",
       "      <td>13</td>\n",
       "      <td>3</td>\n",
       "      <td>0</td>\n",
       "      <td>60000</td>\n",
       "      <td>0</td>\n",
       "      <td>100</td>\n",
       "      <td>114</td>\n",
       "      <td>2</td>\n",
       "      <td>1</td>\n",
       "      <td>...</td>\n",
       "      <td>NaN</td>\n",
       "      <td>NaN</td>\n",
       "      <td>1</td>\n",
       "      <td>1</td>\n",
       "      <td>4</td>\n",
       "      <td>10</td>\n",
       "      <td>1246.306</td>\n",
       "      <td>864.743</td>\n",
       "      <td>H043765</td>\n",
       "      <td>4.98</td>\n",
       "    </tr>\n",
       "    <tr>\n",
       "      <th>31995</th>\n",
       "      <td>4</td>\n",
       "      <td>14</td>\n",
       "      <td>5</td>\n",
       "      <td>0</td>\n",
       "      <td>101000</td>\n",
       "      <td>0</td>\n",
       "      <td>100</td>\n",
       "      <td>114</td>\n",
       "      <td>1</td>\n",
       "      <td>1</td>\n",
       "      <td>...</td>\n",
       "      <td>NaN</td>\n",
       "      <td>NaN</td>\n",
       "      <td>1</td>\n",
       "      <td>1</td>\n",
       "      <td>4</td>\n",
       "      <td>10</td>\n",
       "      <td>3427.198</td>\n",
       "      <td>2595.209</td>\n",
       "      <td>H017695</td>\n",
       "      <td>6.00</td>\n",
       "    </tr>\n",
       "    <tr>\n",
       "      <th>31996</th>\n",
       "      <td>4</td>\n",
       "      <td>13</td>\n",
       "      <td>4</td>\n",
       "      <td>0</td>\n",
       "      <td>79000</td>\n",
       "      <td>0</td>\n",
       "      <td>100</td>\n",
       "      <td>114</td>\n",
       "      <td>2</td>\n",
       "      <td>1</td>\n",
       "      <td>...</td>\n",
       "      <td>NaN</td>\n",
       "      <td>NaN</td>\n",
       "      <td>1</td>\n",
       "      <td>1</td>\n",
       "      <td>4</td>\n",
       "      <td>10</td>\n",
       "      <td>3453.332</td>\n",
       "      <td>1891.706</td>\n",
       "      <td>H026306</td>\n",
       "      <td>4.69</td>\n",
       "    </tr>\n",
       "  </tbody>\n",
       "</table>\n",
       "<p>31997 rows × 534 columns</p>\n",
       "</div>"
      ],
      "text/plain": [
       "       URBRRL  RATCAT_A  INCGRP_A  INCTCFLG_A  FAMINCTC_A  IMPINCFLG_A  PPSU  \\\n",
       "0           4         9         3           0       60000            2     2   \n",
       "1           4         9         3           0       50000            0     2   \n",
       "2           4        12         3           0       65000            1     2   \n",
       "3           4        14         5           0      120000            0     2   \n",
       "4           1         4         1           0       30000            0     2   \n",
       "...       ...       ...       ...         ...         ...          ...   ...   \n",
       "31992       4        14         5           0      116204            0   100   \n",
       "31993       4         8         3           0       68000            0   100   \n",
       "31994       4        13         3           0       60000            0   100   \n",
       "31995       4        14         5           0      101000            0   100   \n",
       "31996       4        13         4           0       79000            0   100   \n",
       "\n",
       "       PSTRAT  HISPALLP_A  RACEALLP_A  ...  PROXYREL_A  PROXY_A  AVAIL_A  \\\n",
       "0         122           3           2  ...         NaN      NaN        1   \n",
       "1         122           2           1  ...         NaN      NaN        1   \n",
       "2         122           2           1  ...         NaN      NaN        1   \n",
       "3         122           1           8  ...         NaN      NaN        1   \n",
       "4         115           2           1  ...         NaN      NaN        1   \n",
       "...       ...         ...         ...  ...         ...      ...      ...   \n",
       "31992     114           2           1  ...         NaN      NaN        1   \n",
       "31993     114           2           1  ...         NaN      NaN        1   \n",
       "31994     114           2           1  ...         NaN      NaN        1   \n",
       "31995     114           1           1  ...         NaN      NaN        1   \n",
       "31996     114           2           1  ...         NaN      NaN        1   \n",
       "\n",
       "       HHSTAT_A  INTV_QRT  RECTYPE     WTFA_A    WTIA_A      HHX  POVRATTC_A  \n",
       "0             1         1       10  13177.008  7601.336  H048109        2.96  \n",
       "1             1         1       10   6140.552  3344.434  H027044        2.97  \n",
       "2             1         1       10   9191.061  6949.498  H058855        4.28  \n",
       "3             1         1       10   7900.035  6446.327  H031993        7.13  \n",
       "4             1         1       10  10875.772  8646.586  H007122        1.13  \n",
       "...         ...       ...      ...        ...       ...      ...         ...  \n",
       "31992         1         4       10   2679.016  1965.416  H046022        7.65  \n",
       "31993         1         4       10   6726.495  3920.208  H046232        2.02  \n",
       "31994         1         4       10   1246.306   864.743  H043765        4.98  \n",
       "31995         1         4       10   3427.198  2595.209  H017695        6.00  \n",
       "31996         1         4       10   3453.332  1891.706  H026306        4.69  \n",
       "\n",
       "[31997 rows x 534 columns]"
      ]
     },
     "execution_count": 5,
     "metadata": {},
     "output_type": "execute_result"
    }
   ],
   "source": [
    "nhis1"
   ]
  },
  {
   "cell_type": "markdown",
   "id": "865d91b9",
   "metadata": {},
   "source": [
    "# Columns Used"
   ]
  },
  {
   "cell_type": "code",
   "execution_count": 6,
   "id": "b04ca19b",
   "metadata": {},
   "outputs": [],
   "source": [
    "#Change Column Name if necessary\n",
    "nhis1.rename({\"PHSTAT_A\": \"GEN_HEALTH\",\n",
    "              \"EDUC_A\": \"EDUCATE_LVL\",\n",
    "              \"DEPEV_A\":\"DEPRESS\",\n",
    "              \"AGEP_A\" : \"AGE\",\n",
    "              \"SEX_A\" : \"SEX\",\n",
    "              \"MARSTAT_A\" : \"MARITAL_STATUS\",\n",
    "              \"DIBEV_A\" : \"DIABETES\",\n",
    "              \"CANEV_A\" : \"CANCER\",\n",
    "              \"COPDEV_A\" : \"COPD\", \n",
    "              \"STREV_A\" : \"STROKE\",\n",
    "              \"ARTHEV_A\" : \"ARTHRITIS\",\n",
    "              \"CHDEV_A\" : \"HEART\",\n",
    "              \"EMPRSNOWK_A\" : \"EMPLOY\"\n",
    "              }, axis=1, inplace=True)"
   ]
  },
  {
   "cell_type": "code",
   "execution_count": 7,
   "id": "304214de",
   "metadata": {},
   "outputs": [],
   "source": [
    "nhis1[\"EMPLOY\"] = nhis1[\"EMPLOY\"].fillna(69)"
   ]
  },
  {
   "cell_type": "code",
   "execution_count": 8,
   "id": "45baba39",
   "metadata": {},
   "outputs": [],
   "source": [
    "nhis = nhis1.loc[:, ['GEN_HEALTH','AGE','SEX','MARITAL_STATUS','EDUCATE_LVL','EMPLOY','DEPRESS','ARTHRITIS','CANCER','COPD','HEART','STROKE','DIABETES']]"
   ]
  },
  {
   "cell_type": "code",
   "execution_count": 9,
   "id": "ace4f78b",
   "metadata": {},
   "outputs": [
    {
     "data": {
      "text/html": [
       "<div>\n",
       "<style scoped>\n",
       "    .dataframe tbody tr th:only-of-type {\n",
       "        vertical-align: middle;\n",
       "    }\n",
       "\n",
       "    .dataframe tbody tr th {\n",
       "        vertical-align: top;\n",
       "    }\n",
       "\n",
       "    .dataframe thead th {\n",
       "        text-align: right;\n",
       "    }\n",
       "</style>\n",
       "<table border=\"1\" class=\"dataframe\">\n",
       "  <thead>\n",
       "    <tr style=\"text-align: right;\">\n",
       "      <th></th>\n",
       "      <th>GEN_HEALTH</th>\n",
       "      <th>AGE</th>\n",
       "      <th>SEX</th>\n",
       "      <th>MARITAL_STATUS</th>\n",
       "      <th>EDUCATE_LVL</th>\n",
       "      <th>EMPLOY</th>\n",
       "      <th>DEPRESS</th>\n",
       "      <th>ARTHRITIS</th>\n",
       "      <th>CANCER</th>\n",
       "      <th>COPD</th>\n",
       "      <th>HEART</th>\n",
       "      <th>STROKE</th>\n",
       "      <th>DIABETES</th>\n",
       "    </tr>\n",
       "  </thead>\n",
       "  <tbody>\n",
       "    <tr>\n",
       "      <th>0</th>\n",
       "      <td>3</td>\n",
       "      <td>97</td>\n",
       "      <td>1</td>\n",
       "      <td>1</td>\n",
       "      <td>7</td>\n",
       "      <td>3.0</td>\n",
       "      <td>2</td>\n",
       "      <td>2</td>\n",
       "      <td>2</td>\n",
       "      <td>2</td>\n",
       "      <td>2</td>\n",
       "      <td>2</td>\n",
       "      <td>2</td>\n",
       "    </tr>\n",
       "    <tr>\n",
       "      <th>1</th>\n",
       "      <td>1</td>\n",
       "      <td>28</td>\n",
       "      <td>2</td>\n",
       "      <td>1</td>\n",
       "      <td>6</td>\n",
       "      <td>69.0</td>\n",
       "      <td>2</td>\n",
       "      <td>2</td>\n",
       "      <td>2</td>\n",
       "      <td>2</td>\n",
       "      <td>2</td>\n",
       "      <td>2</td>\n",
       "      <td>2</td>\n",
       "    </tr>\n",
       "    <tr>\n",
       "      <th>2</th>\n",
       "      <td>3</td>\n",
       "      <td>72</td>\n",
       "      <td>1</td>\n",
       "      <td>1</td>\n",
       "      <td>5</td>\n",
       "      <td>3.0</td>\n",
       "      <td>2</td>\n",
       "      <td>1</td>\n",
       "      <td>1</td>\n",
       "      <td>2</td>\n",
       "      <td>2</td>\n",
       "      <td>2</td>\n",
       "      <td>2</td>\n",
       "    </tr>\n",
       "    <tr>\n",
       "      <th>3</th>\n",
       "      <td>2</td>\n",
       "      <td>60</td>\n",
       "      <td>1</td>\n",
       "      <td>1</td>\n",
       "      <td>7</td>\n",
       "      <td>69.0</td>\n",
       "      <td>2</td>\n",
       "      <td>1</td>\n",
       "      <td>2</td>\n",
       "      <td>2</td>\n",
       "      <td>2</td>\n",
       "      <td>2</td>\n",
       "      <td>2</td>\n",
       "    </tr>\n",
       "    <tr>\n",
       "      <th>4</th>\n",
       "      <td>4</td>\n",
       "      <td>60</td>\n",
       "      <td>1</td>\n",
       "      <td>1</td>\n",
       "      <td>5</td>\n",
       "      <td>2.0</td>\n",
       "      <td>1</td>\n",
       "      <td>2</td>\n",
       "      <td>2</td>\n",
       "      <td>1</td>\n",
       "      <td>1</td>\n",
       "      <td>2</td>\n",
       "      <td>1</td>\n",
       "    </tr>\n",
       "    <tr>\n",
       "      <th>...</th>\n",
       "      <td>...</td>\n",
       "      <td>...</td>\n",
       "      <td>...</td>\n",
       "      <td>...</td>\n",
       "      <td>...</td>\n",
       "      <td>...</td>\n",
       "      <td>...</td>\n",
       "      <td>...</td>\n",
       "      <td>...</td>\n",
       "      <td>...</td>\n",
       "      <td>...</td>\n",
       "      <td>...</td>\n",
       "      <td>...</td>\n",
       "    </tr>\n",
       "    <tr>\n",
       "      <th>31992</th>\n",
       "      <td>3</td>\n",
       "      <td>68</td>\n",
       "      <td>2</td>\n",
       "      <td>1</td>\n",
       "      <td>7</td>\n",
       "      <td>3.0</td>\n",
       "      <td>2</td>\n",
       "      <td>1</td>\n",
       "      <td>2</td>\n",
       "      <td>2</td>\n",
       "      <td>2</td>\n",
       "      <td>2</td>\n",
       "      <td>2</td>\n",
       "    </tr>\n",
       "    <tr>\n",
       "      <th>31993</th>\n",
       "      <td>3</td>\n",
       "      <td>47</td>\n",
       "      <td>1</td>\n",
       "      <td>1</td>\n",
       "      <td>5</td>\n",
       "      <td>69.0</td>\n",
       "      <td>2</td>\n",
       "      <td>2</td>\n",
       "      <td>2</td>\n",
       "      <td>2</td>\n",
       "      <td>2</td>\n",
       "      <td>2</td>\n",
       "      <td>2</td>\n",
       "    </tr>\n",
       "    <tr>\n",
       "      <th>31994</th>\n",
       "      <td>2</td>\n",
       "      <td>68</td>\n",
       "      <td>1</td>\n",
       "      <td>5</td>\n",
       "      <td>5</td>\n",
       "      <td>69.0</td>\n",
       "      <td>2</td>\n",
       "      <td>2</td>\n",
       "      <td>2</td>\n",
       "      <td>2</td>\n",
       "      <td>2</td>\n",
       "      <td>2</td>\n",
       "      <td>2</td>\n",
       "    </tr>\n",
       "    <tr>\n",
       "      <th>31995</th>\n",
       "      <td>2</td>\n",
       "      <td>31</td>\n",
       "      <td>2</td>\n",
       "      <td>1</td>\n",
       "      <td>7</td>\n",
       "      <td>69.0</td>\n",
       "      <td>1</td>\n",
       "      <td>2</td>\n",
       "      <td>2</td>\n",
       "      <td>2</td>\n",
       "      <td>2</td>\n",
       "      <td>2</td>\n",
       "      <td>2</td>\n",
       "    </tr>\n",
       "    <tr>\n",
       "      <th>31996</th>\n",
       "      <td>2</td>\n",
       "      <td>54</td>\n",
       "      <td>2</td>\n",
       "      <td>1</td>\n",
       "      <td>5</td>\n",
       "      <td>69.0</td>\n",
       "      <td>2</td>\n",
       "      <td>2</td>\n",
       "      <td>2</td>\n",
       "      <td>2</td>\n",
       "      <td>2</td>\n",
       "      <td>2</td>\n",
       "      <td>2</td>\n",
       "    </tr>\n",
       "  </tbody>\n",
       "</table>\n",
       "<p>31997 rows × 13 columns</p>\n",
       "</div>"
      ],
      "text/plain": [
       "       GEN_HEALTH  AGE  SEX  MARITAL_STATUS  EDUCATE_LVL  EMPLOY  DEPRESS  \\\n",
       "0               3   97    1               1            7     3.0        2   \n",
       "1               1   28    2               1            6    69.0        2   \n",
       "2               3   72    1               1            5     3.0        2   \n",
       "3               2   60    1               1            7    69.0        2   \n",
       "4               4   60    1               1            5     2.0        1   \n",
       "...           ...  ...  ...             ...          ...     ...      ...   \n",
       "31992           3   68    2               1            7     3.0        2   \n",
       "31993           3   47    1               1            5    69.0        2   \n",
       "31994           2   68    1               5            5    69.0        2   \n",
       "31995           2   31    2               1            7    69.0        1   \n",
       "31996           2   54    2               1            5    69.0        2   \n",
       "\n",
       "       ARTHRITIS  CANCER  COPD  HEART  STROKE  DIABETES  \n",
       "0              2       2     2      2       2         2  \n",
       "1              2       2     2      2       2         2  \n",
       "2              1       1     2      2       2         2  \n",
       "3              1       2     2      2       2         2  \n",
       "4              2       2     1      1       2         1  \n",
       "...          ...     ...   ...    ...     ...       ...  \n",
       "31992          1       2     2      2       2         2  \n",
       "31993          2       2     2      2       2         2  \n",
       "31994          2       2     2      2       2         2  \n",
       "31995          2       2     2      2       2         2  \n",
       "31996          2       2     2      2       2         2  \n",
       "\n",
       "[31997 rows x 13 columns]"
      ]
     },
     "execution_count": 9,
     "metadata": {},
     "output_type": "execute_result"
    }
   ],
   "source": [
    "nhis"
   ]
  },
  {
   "cell_type": "code",
   "execution_count": 10,
   "id": "f7a1fb4e",
   "metadata": {},
   "outputs": [
    {
     "data": {
      "text/plain": [
       "2    0.336500\n",
       "3    0.277932\n",
       "1    0.226834\n",
       "4    0.118230\n",
       "5    0.039816\n",
       "7    0.000469\n",
       "9    0.000219\n",
       "Name: GEN_HEALTH, dtype: float64"
      ]
     },
     "execution_count": 10,
     "metadata": {},
     "output_type": "execute_result"
    }
   ],
   "source": [
    "#Review of the percentages for attribute\n",
    "nhis['GEN_HEALTH'].value_counts(normalize=True)"
   ]
  },
  {
   "cell_type": "code",
   "execution_count": 11,
   "id": "1f4c3f44",
   "metadata": {},
   "outputs": [],
   "source": [
    "#dropping non observed observation for gen_health\n",
    "nhis = nhis[nhis.GEN_HEALTH != 7]\n",
    "nhis = nhis[nhis.GEN_HEALTH != 8]\n",
    "nhis = nhis[nhis.GEN_HEALTH != 9]"
   ]
  },
  {
   "cell_type": "code",
   "execution_count": 12,
   "id": "a895f823",
   "metadata": {},
   "outputs": [
    {
     "data": {
      "text/plain": [
       "2    0.336732\n",
       "3    0.278124\n",
       "1    0.226990\n",
       "4    0.118311\n",
       "5    0.039844\n",
       "Name: GEN_HEALTH, dtype: float64"
      ]
     },
     "execution_count": 12,
     "metadata": {},
     "output_type": "execute_result"
    }
   ],
   "source": [
    "#Another review of the percentages for this attribute\n",
    "nhis['GEN_HEALTH'].value_counts(normalize=True)"
   ]
  },
  {
   "cell_type": "code",
   "execution_count": 13,
   "id": "e5bd8198",
   "metadata": {},
   "outputs": [],
   "source": [
    "#recoding ordinal value\n",
    "#We are reciprocating the values. Currently, 1=Excellent ~ 5=Poor\n",
    "#this will flop the values 1=Poor ~ 5=Excellent\n",
    "nhis['GEN_HEALTH'] = nhis['GEN_HEALTH'].replace([1],9)\n",
    "nhis['GEN_HEALTH'] = nhis['GEN_HEALTH'].replace([2],8)\n",
    "nhis['GEN_HEALTH'] = nhis['GEN_HEALTH'].replace([4],2)\n",
    "nhis['GEN_HEALTH'] = nhis['GEN_HEALTH'].replace([5],1)\n",
    "nhis['GEN_HEALTH'] = nhis['GEN_HEALTH'].replace([8],4)\n",
    "nhis['GEN_HEALTH'] = nhis['GEN_HEALTH'].replace([9],5)"
   ]
  },
  {
   "cell_type": "code",
   "execution_count": 14,
   "id": "1fc2f48e",
   "metadata": {},
   "outputs": [
    {
     "data": {
      "text/plain": [
       "4    0.336732\n",
       "3    0.278124\n",
       "5    0.226990\n",
       "2    0.118311\n",
       "1    0.039844\n",
       "Name: GEN_HEALTH, dtype: float64"
      ]
     },
     "execution_count": 14,
     "metadata": {},
     "output_type": "execute_result"
    }
   ],
   "source": [
    "#look at target variable spread\n",
    "nhis['GEN_HEALTH'].value_counts(normalize=True)"
   ]
  },
  {
   "cell_type": "code",
   "execution_count": 15,
   "id": "7b734a07",
   "metadata": {},
   "outputs": [
    {
     "data": {
      "text/html": [
       "<div>\n",
       "<style scoped>\n",
       "    .dataframe tbody tr th:only-of-type {\n",
       "        vertical-align: middle;\n",
       "    }\n",
       "\n",
       "    .dataframe tbody tr th {\n",
       "        vertical-align: top;\n",
       "    }\n",
       "\n",
       "    .dataframe thead th {\n",
       "        text-align: right;\n",
       "    }\n",
       "</style>\n",
       "<table border=\"1\" class=\"dataframe\">\n",
       "  <thead>\n",
       "    <tr style=\"text-align: right;\">\n",
       "      <th></th>\n",
       "      <th>GEN_HEALTH</th>\n",
       "      <th>AGE</th>\n",
       "      <th>SEX</th>\n",
       "      <th>MARITAL_STATUS</th>\n",
       "      <th>EDUCATE_LVL</th>\n",
       "      <th>EMPLOY</th>\n",
       "      <th>DEPRESS</th>\n",
       "      <th>ARTHRITIS</th>\n",
       "      <th>CANCER</th>\n",
       "      <th>COPD</th>\n",
       "      <th>HEART</th>\n",
       "      <th>STROKE</th>\n",
       "      <th>DIABETES</th>\n",
       "    </tr>\n",
       "  </thead>\n",
       "  <tbody>\n",
       "    <tr>\n",
       "      <th>0</th>\n",
       "      <td>0</td>\n",
       "      <td>97</td>\n",
       "      <td>1</td>\n",
       "      <td>1</td>\n",
       "      <td>7</td>\n",
       "      <td>3.0</td>\n",
       "      <td>2</td>\n",
       "      <td>2</td>\n",
       "      <td>2</td>\n",
       "      <td>2</td>\n",
       "      <td>2</td>\n",
       "      <td>2</td>\n",
       "      <td>2</td>\n",
       "    </tr>\n",
       "    <tr>\n",
       "      <th>1</th>\n",
       "      <td>0</td>\n",
       "      <td>28</td>\n",
       "      <td>2</td>\n",
       "      <td>1</td>\n",
       "      <td>6</td>\n",
       "      <td>69.0</td>\n",
       "      <td>2</td>\n",
       "      <td>2</td>\n",
       "      <td>2</td>\n",
       "      <td>2</td>\n",
       "      <td>2</td>\n",
       "      <td>2</td>\n",
       "      <td>2</td>\n",
       "    </tr>\n",
       "    <tr>\n",
       "      <th>2</th>\n",
       "      <td>0</td>\n",
       "      <td>72</td>\n",
       "      <td>1</td>\n",
       "      <td>1</td>\n",
       "      <td>5</td>\n",
       "      <td>3.0</td>\n",
       "      <td>2</td>\n",
       "      <td>1</td>\n",
       "      <td>1</td>\n",
       "      <td>2</td>\n",
       "      <td>2</td>\n",
       "      <td>2</td>\n",
       "      <td>2</td>\n",
       "    </tr>\n",
       "    <tr>\n",
       "      <th>3</th>\n",
       "      <td>0</td>\n",
       "      <td>60</td>\n",
       "      <td>1</td>\n",
       "      <td>1</td>\n",
       "      <td>7</td>\n",
       "      <td>69.0</td>\n",
       "      <td>2</td>\n",
       "      <td>1</td>\n",
       "      <td>2</td>\n",
       "      <td>2</td>\n",
       "      <td>2</td>\n",
       "      <td>2</td>\n",
       "      <td>2</td>\n",
       "    </tr>\n",
       "    <tr>\n",
       "      <th>4</th>\n",
       "      <td>1</td>\n",
       "      <td>60</td>\n",
       "      <td>1</td>\n",
       "      <td>1</td>\n",
       "      <td>5</td>\n",
       "      <td>2.0</td>\n",
       "      <td>1</td>\n",
       "      <td>2</td>\n",
       "      <td>2</td>\n",
       "      <td>1</td>\n",
       "      <td>1</td>\n",
       "      <td>2</td>\n",
       "      <td>1</td>\n",
       "    </tr>\n",
       "    <tr>\n",
       "      <th>...</th>\n",
       "      <td>...</td>\n",
       "      <td>...</td>\n",
       "      <td>...</td>\n",
       "      <td>...</td>\n",
       "      <td>...</td>\n",
       "      <td>...</td>\n",
       "      <td>...</td>\n",
       "      <td>...</td>\n",
       "      <td>...</td>\n",
       "      <td>...</td>\n",
       "      <td>...</td>\n",
       "      <td>...</td>\n",
       "      <td>...</td>\n",
       "    </tr>\n",
       "    <tr>\n",
       "      <th>31992</th>\n",
       "      <td>0</td>\n",
       "      <td>68</td>\n",
       "      <td>2</td>\n",
       "      <td>1</td>\n",
       "      <td>7</td>\n",
       "      <td>3.0</td>\n",
       "      <td>2</td>\n",
       "      <td>1</td>\n",
       "      <td>2</td>\n",
       "      <td>2</td>\n",
       "      <td>2</td>\n",
       "      <td>2</td>\n",
       "      <td>2</td>\n",
       "    </tr>\n",
       "    <tr>\n",
       "      <th>31993</th>\n",
       "      <td>0</td>\n",
       "      <td>47</td>\n",
       "      <td>1</td>\n",
       "      <td>1</td>\n",
       "      <td>5</td>\n",
       "      <td>69.0</td>\n",
       "      <td>2</td>\n",
       "      <td>2</td>\n",
       "      <td>2</td>\n",
       "      <td>2</td>\n",
       "      <td>2</td>\n",
       "      <td>2</td>\n",
       "      <td>2</td>\n",
       "    </tr>\n",
       "    <tr>\n",
       "      <th>31994</th>\n",
       "      <td>0</td>\n",
       "      <td>68</td>\n",
       "      <td>1</td>\n",
       "      <td>5</td>\n",
       "      <td>5</td>\n",
       "      <td>69.0</td>\n",
       "      <td>2</td>\n",
       "      <td>2</td>\n",
       "      <td>2</td>\n",
       "      <td>2</td>\n",
       "      <td>2</td>\n",
       "      <td>2</td>\n",
       "      <td>2</td>\n",
       "    </tr>\n",
       "    <tr>\n",
       "      <th>31995</th>\n",
       "      <td>0</td>\n",
       "      <td>31</td>\n",
       "      <td>2</td>\n",
       "      <td>1</td>\n",
       "      <td>7</td>\n",
       "      <td>69.0</td>\n",
       "      <td>1</td>\n",
       "      <td>2</td>\n",
       "      <td>2</td>\n",
       "      <td>2</td>\n",
       "      <td>2</td>\n",
       "      <td>2</td>\n",
       "      <td>2</td>\n",
       "    </tr>\n",
       "    <tr>\n",
       "      <th>31996</th>\n",
       "      <td>0</td>\n",
       "      <td>54</td>\n",
       "      <td>2</td>\n",
       "      <td>1</td>\n",
       "      <td>5</td>\n",
       "      <td>69.0</td>\n",
       "      <td>2</td>\n",
       "      <td>2</td>\n",
       "      <td>2</td>\n",
       "      <td>2</td>\n",
       "      <td>2</td>\n",
       "      <td>2</td>\n",
       "      <td>2</td>\n",
       "    </tr>\n",
       "  </tbody>\n",
       "</table>\n",
       "<p>31975 rows × 13 columns</p>\n",
       "</div>"
      ],
      "text/plain": [
       "       GEN_HEALTH  AGE  SEX  MARITAL_STATUS  EDUCATE_LVL  EMPLOY  DEPRESS  \\\n",
       "0               0   97    1               1            7     3.0        2   \n",
       "1               0   28    2               1            6    69.0        2   \n",
       "2               0   72    1               1            5     3.0        2   \n",
       "3               0   60    1               1            7    69.0        2   \n",
       "4               1   60    1               1            5     2.0        1   \n",
       "...           ...  ...  ...             ...          ...     ...      ...   \n",
       "31992           0   68    2               1            7     3.0        2   \n",
       "31993           0   47    1               1            5    69.0        2   \n",
       "31994           0   68    1               5            5    69.0        2   \n",
       "31995           0   31    2               1            7    69.0        1   \n",
       "31996           0   54    2               1            5    69.0        2   \n",
       "\n",
       "       ARTHRITIS  CANCER  COPD  HEART  STROKE  DIABETES  \n",
       "0              2       2     2      2       2         2  \n",
       "1              2       2     2      2       2         2  \n",
       "2              1       1     2      2       2         2  \n",
       "3              1       2     2      2       2         2  \n",
       "4              2       2     1      1       2         1  \n",
       "...          ...     ...   ...    ...     ...       ...  \n",
       "31992          1       2     2      2       2         2  \n",
       "31993          2       2     2      2       2         2  \n",
       "31994          2       2     2      2       2         2  \n",
       "31995          2       2     2      2       2         2  \n",
       "31996          2       2     2      2       2         2  \n",
       "\n",
       "[31975 rows x 13 columns]"
      ]
     },
     "execution_count": 15,
     "metadata": {},
     "output_type": "execute_result"
    }
   ],
   "source": [
    "#recoding ordinal value to binary. 1=Good 0=Bad\n",
    "nhis['GEN_HEALTH'] = nhis['GEN_HEALTH'].replace([2],1)\n",
    "nhis['GEN_HEALTH'] = nhis['GEN_HEALTH'].replace([1],1)\n",
    "nhis['GEN_HEALTH'] = nhis['GEN_HEALTH'].replace([5],0)\n",
    "nhis['GEN_HEALTH'] = nhis['GEN_HEALTH'].replace([4],0)\n",
    "nhis['GEN_HEALTH'] = nhis['GEN_HEALTH'].replace([3],0)\n",
    "nhis"
   ]
  },
  {
   "cell_type": "code",
   "execution_count": 16,
   "id": "0222bd87",
   "metadata": {},
   "outputs": [
    {
     "data": {
      "text/plain": [
       "0    0.841845\n",
       "1    0.158155\n",
       "Name: GEN_HEALTH, dtype: float64"
      ]
     },
     "execution_count": 16,
     "metadata": {},
     "output_type": "execute_result"
    }
   ],
   "source": [
    "#look at target variable spread\n",
    "nhis['GEN_HEALTH'].value_counts(normalize=True)"
   ]
  },
  {
   "cell_type": "code",
   "execution_count": 17,
   "id": "b01b3361",
   "metadata": {},
   "outputs": [
    {
     "name": "stdout",
     "output_type": "stream",
     "text": [
      "int64      12\n",
      "float64     1\n",
      "dtype: int64\n"
     ]
    }
   ],
   "source": [
    "#look at objects counts\n",
    "print(nhis.dtypes.value_counts())"
   ]
  },
  {
   "cell_type": "code",
   "execution_count": 18,
   "id": "abfd153f",
   "metadata": {},
   "outputs": [
    {
     "name": "stdout",
     "output_type": "stream",
     "text": [
      "GEN_HEALTH          int64\n",
      "AGE                 int64\n",
      "SEX                 int64\n",
      "MARITAL_STATUS      int64\n",
      "EDUCATE_LVL         int64\n",
      "EMPLOY            float64\n",
      "DEPRESS             int64\n",
      "ARTHRITIS           int64\n",
      "CANCER              int64\n",
      "COPD                int64\n",
      "HEART               int64\n",
      "STROKE              int64\n",
      "DIABETES            int64\n",
      "dtype: object\n"
     ]
    }
   ],
   "source": [
    "print(nhis.dtypes)"
   ]
  },
  {
   "cell_type": "markdown",
   "id": "cc1761e7",
   "metadata": {},
   "source": [
    "Look for Null\n",
    "===="
   ]
  },
  {
   "cell_type": "code",
   "execution_count": 19,
   "id": "577a67a9",
   "metadata": {},
   "outputs": [
    {
     "data": {
      "text/plain": [
       "GEN_HEALTH        0\n",
       "AGE               0\n",
       "SEX               0\n",
       "MARITAL_STATUS    0\n",
       "EDUCATE_LVL       0\n",
       "EMPLOY            0\n",
       "DEPRESS           0\n",
       "ARTHRITIS         0\n",
       "CANCER            0\n",
       "COPD              0\n",
       "HEART             0\n",
       "STROKE            0\n",
       "DIABETES          0\n",
       "dtype: int64"
      ]
     },
     "execution_count": 19,
     "metadata": {},
     "output_type": "execute_result"
    }
   ],
   "source": [
    "nhis.isnull().sum()"
   ]
  },
  {
   "cell_type": "code",
   "execution_count": 20,
   "id": "a47487c0",
   "metadata": {},
   "outputs": [],
   "source": [
    "#drop nulls\n",
    "nhis = nhis.dropna()"
   ]
  },
  {
   "cell_type": "code",
   "execution_count": 21,
   "id": "6fd75ad4",
   "metadata": {},
   "outputs": [
    {
     "data": {
      "text/plain": [
       "GEN_HEALTH        0\n",
       "AGE               0\n",
       "SEX               0\n",
       "MARITAL_STATUS    0\n",
       "EDUCATE_LVL       0\n",
       "EMPLOY            0\n",
       "DEPRESS           0\n",
       "ARTHRITIS         0\n",
       "CANCER            0\n",
       "COPD              0\n",
       "HEART             0\n",
       "STROKE            0\n",
       "DIABETES          0\n",
       "dtype: int64"
      ]
     },
     "execution_count": 21,
     "metadata": {},
     "output_type": "execute_result"
    }
   ],
   "source": [
    "#check for null again\n",
    "nhis.isnull().sum()"
   ]
  },
  {
   "cell_type": "code",
   "execution_count": 22,
   "id": "485b9142",
   "metadata": {},
   "outputs": [],
   "source": [
    "#reset index\n",
    "nhis = nhis.reset_index()\n",
    "nhis.drop(['index'], axis=1, inplace=True)"
   ]
  },
  {
   "cell_type": "markdown",
   "id": "53d26359",
   "metadata": {},
   "source": [
    "# Value Distribution / Drop Rows with Certain Values"
   ]
  },
  {
   "cell_type": "code",
   "execution_count": 23,
   "id": "b2dc7dd5",
   "metadata": {},
   "outputs": [
    {
     "data": {
      "text/plain": [
       "(31975, 13)"
      ]
     },
     "execution_count": 23,
     "metadata": {},
     "output_type": "execute_result"
    }
   ],
   "source": [
    "nhis.shape"
   ]
  },
  {
   "cell_type": "code",
   "execution_count": 24,
   "id": "8318d23f",
   "metadata": {},
   "outputs": [
    {
     "data": {
      "text/plain": [
       "Index(['GEN_HEALTH', 'AGE', 'SEX', 'MARITAL_STATUS', 'EDUCATE_LVL', 'EMPLOY',\n",
       "       'DEPRESS', 'ARTHRITIS', 'CANCER', 'COPD', 'HEART', 'STROKE',\n",
       "       'DIABETES'],\n",
       "      dtype='object')"
      ]
     },
     "execution_count": 24,
     "metadata": {},
     "output_type": "execute_result"
    }
   ],
   "source": [
    "nhis.columns"
   ]
  },
  {
   "cell_type": "code",
   "execution_count": 25,
   "id": "36ac8a27",
   "metadata": {},
   "outputs": [
    {
     "data": {
      "text/plain": [
       "69.0    0.606974\n",
       "3.0     0.241345\n",
       "4.0     0.065332\n",
       "5.0     0.037529\n",
       "6.0     0.016106\n",
       "1.0     0.015168\n",
       "8.0     0.012228\n",
       "2.0     0.004253\n",
       "7.0     0.000907\n",
       "97.0    0.000125\n",
       "99.0    0.000031\n",
       "Name: EMPLOY, dtype: float64"
      ]
     },
     "execution_count": 25,
     "metadata": {},
     "output_type": "execute_result"
    }
   ],
   "source": [
    "nhis['EMPLOY'].value_counts(normalize=True)"
   ]
  },
  {
   "cell_type": "code",
   "execution_count": 26,
   "id": "68c38107",
   "metadata": {},
   "outputs": [
    {
     "data": {
      "text/plain": [
       "4     0.232056\n",
       "8     0.217232\n",
       "5     0.163002\n",
       "9     0.101016\n",
       "7     0.090946\n",
       "1     0.074746\n",
       "6     0.039406\n",
       "3     0.024269\n",
       "11    0.020485\n",
       "2     0.014730\n",
       "10    0.013729\n",
       "99    0.003753\n",
       "0     0.002909\n",
       "97    0.001720\n",
       "Name: EDUCATE_LVL, dtype: float64"
      ]
     },
     "execution_count": 26,
     "metadata": {},
     "output_type": "execute_result"
    }
   ],
   "source": [
    "nhis['EDUCATE_LVL'].value_counts(normalize=True)"
   ]
  },
  {
   "cell_type": "code",
   "execution_count": 27,
   "id": "aeeeccda",
   "metadata": {},
   "outputs": [
    {
     "data": {
      "text/plain": [
       "2    0.828616\n",
       "1    0.169789\n",
       "7    0.000844\n",
       "9    0.000751\n",
       "Name: DEPRESS, dtype: float64"
      ]
     },
     "execution_count": 27,
     "metadata": {},
     "output_type": "execute_result"
    }
   ],
   "source": [
    "nhis['DEPRESS'].value_counts(normalize=True)"
   ]
  },
  {
   "cell_type": "code",
   "execution_count": 28,
   "id": "d15082e2",
   "metadata": {},
   "outputs": [
    {
     "data": {
      "text/plain": [
       "85    0.037592\n",
       "65    0.020016\n",
       "63    0.019515\n",
       "60    0.019484\n",
       "62    0.019390\n",
       "        ...   \n",
       "83    0.006724\n",
       "82    0.006630\n",
       "84    0.006255\n",
       "97    0.002220\n",
       "99    0.000250\n",
       "Name: AGE, Length: 70, dtype: float64"
      ]
     },
     "execution_count": 28,
     "metadata": {},
     "output_type": "execute_result"
    }
   ],
   "source": [
    "nhis['AGE'].value_counts(normalize=True)"
   ]
  },
  {
   "cell_type": "code",
   "execution_count": 29,
   "id": "2fef8538",
   "metadata": {},
   "outputs": [
    {
     "data": {
      "text/plain": [
       "2    0.539359\n",
       "1    0.460547\n",
       "7    0.000094\n",
       "Name: SEX, dtype: float64"
      ]
     },
     "execution_count": 29,
     "metadata": {},
     "output_type": "execute_result"
    }
   ],
   "source": [
    "nhis['SEX'].value_counts(normalize=True)"
   ]
  },
  {
   "cell_type": "code",
   "execution_count": 30,
   "id": "9ad926cf",
   "metadata": {},
   "outputs": [
    {
     "data": {
      "text/plain": [
       "1    0.430743\n",
       "7    0.198999\n",
       "5    0.134918\n",
       "4    0.097357\n",
       "8    0.066740\n",
       "2    0.030618\n",
       "9    0.026239\n",
       "6    0.014261\n",
       "3    0.000125\n",
       "Name: MARITAL_STATUS, dtype: float64"
      ]
     },
     "execution_count": 30,
     "metadata": {},
     "output_type": "execute_result"
    }
   ],
   "source": [
    "nhis['MARITAL_STATUS'].value_counts(normalize=True)"
   ]
  },
  {
   "cell_type": "code",
   "execution_count": 31,
   "id": "b5e12151",
   "metadata": {},
   "outputs": [
    {
     "data": {
      "text/plain": [
       "2    0.893948\n",
       "1    0.104894\n",
       "7    0.000751\n",
       "9    0.000407\n",
       "Name: DIABETES, dtype: float64"
      ]
     },
     "execution_count": 31,
     "metadata": {},
     "output_type": "execute_result"
    }
   ],
   "source": [
    "nhis['DIABETES'].value_counts(normalize=True)"
   ]
  },
  {
   "cell_type": "code",
   "execution_count": 32,
   "id": "f19145fc",
   "metadata": {},
   "outputs": [
    {
     "data": {
      "text/plain": [
       "2    0.878812\n",
       "1    0.120125\n",
       "7    0.000719\n",
       "9    0.000344\n",
       "Name: CANCER, dtype: float64"
      ]
     },
     "execution_count": 32,
     "metadata": {},
     "output_type": "execute_result"
    }
   ],
   "source": [
    "nhis['CANCER'].value_counts(normalize=True)"
   ]
  },
  {
   "cell_type": "code",
   "execution_count": 33,
   "id": "72471cce",
   "metadata": {},
   "outputs": [
    {
     "data": {
      "text/plain": [
       "2    0.942830\n",
       "1    0.055887\n",
       "7    0.000719\n",
       "9    0.000563\n",
       "Name: COPD, dtype: float64"
      ]
     },
     "execution_count": 33,
     "metadata": {},
     "output_type": "execute_result"
    }
   ],
   "source": [
    "nhis['COPD'].value_counts(normalize=True)"
   ]
  },
  {
   "cell_type": "code",
   "execution_count": 34,
   "id": "287f449d",
   "metadata": {},
   "outputs": [
    {
     "data": {
      "text/plain": [
       "2    0.961157\n",
       "1    0.037623\n",
       "9    0.000625\n",
       "7    0.000594\n",
       "Name: STROKE, dtype: float64"
      ]
     },
     "execution_count": 34,
     "metadata": {},
     "output_type": "execute_result"
    }
   ],
   "source": [
    "nhis['STROKE'].value_counts(normalize=True)"
   ]
  },
  {
   "cell_type": "code",
   "execution_count": 35,
   "id": "aa84c3f3",
   "metadata": {},
   "outputs": [
    {
     "data": {
      "text/plain": [
       "2    0.741830\n",
       "1    0.256763\n",
       "9    0.000719\n",
       "7    0.000688\n",
       "Name: ARTHRITIS, dtype: float64"
      ]
     },
     "execution_count": 35,
     "metadata": {},
     "output_type": "execute_result"
    }
   ],
   "source": [
    "nhis['ARTHRITIS'].value_counts(normalize=True)"
   ]
  },
  {
   "cell_type": "code",
   "execution_count": 36,
   "id": "a5d19adc",
   "metadata": {},
   "outputs": [
    {
     "data": {
      "text/plain": [
       "2    0.939421\n",
       "1    0.057733\n",
       "9    0.002095\n",
       "7    0.000719\n",
       "8    0.000031\n",
       "Name: HEART, dtype: float64"
      ]
     },
     "execution_count": 36,
     "metadata": {},
     "output_type": "execute_result"
    }
   ],
   "source": [
    "nhis['HEART'].value_counts(normalize=True)"
   ]
  },
  {
   "cell_type": "code",
   "execution_count": 37,
   "id": "0a548c34",
   "metadata": {},
   "outputs": [],
   "source": [
    "#drop rows like its hot for observations within a targeted attribute\n",
    "nhis =nhis[nhis.EDUCATE_LVL != 97]\n",
    "nhis =nhis[nhis.EDUCATE_LVL != 98]\n",
    "nhis =nhis[nhis.EDUCATE_LVL != 99]\n",
    "nhis =nhis[nhis.DEPRESS != 7]\n",
    "nhis =nhis[nhis.DEPRESS != 8]\n",
    "nhis =nhis[nhis.DEPRESS != 9]\n",
    "nhis =nhis[nhis.AGE != 97]\n",
    "nhis =nhis[nhis.AGE != 98]\n",
    "nhis =nhis[nhis.AGE != 99]\n",
    "nhis =nhis[nhis.SEX != 7]\n",
    "nhis =nhis[nhis.SEX != 8]\n",
    "nhis =nhis[nhis.SEX != 9]\n",
    "nhis =nhis[nhis.MARITAL_STATUS != 9]\n",
    "nhis =nhis[nhis.MARITAL_STATUS != 8]\n",
    "nhis =nhis[nhis.MARITAL_STATUS != 7]\n",
    "nhis =nhis[nhis.EMPLOY != 97]\n",
    "nhis =nhis[nhis.EMPLOY != 98]\n",
    "nhis =nhis[nhis.EMPLOY != 99]\n",
    "nhis =nhis[nhis.DIABETES != 7]\n",
    "nhis =nhis[nhis.DIABETES != 8]\n",
    "nhis =nhis[nhis.DIABETES != 9]\n",
    "nhis =nhis[nhis.CANCER != 7]\n",
    "nhis =nhis[nhis.CANCER != 8]\n",
    "nhis =nhis[nhis.CANCER != 9]\n",
    "nhis =nhis[nhis.COPD != 7]\n",
    "nhis =nhis[nhis.COPD != 8]\n",
    "nhis =nhis[nhis.COPD != 9]\n",
    "nhis =nhis[nhis.STROKE != 7]\n",
    "nhis =nhis[nhis.STROKE != 8]\n",
    "nhis =nhis[nhis.STROKE != 9]\n",
    "nhis =nhis[nhis.ARTHRITIS != 7]\n",
    "nhis =nhis[nhis.ARTHRITIS != 8]\n",
    "nhis =nhis[nhis.ARTHRITIS != 9]\n",
    "nhis =nhis[nhis.HEART != 7]\n",
    "nhis =nhis[nhis.HEART != 8]\n",
    "nhis =nhis[nhis.HEART != 9]\n",
    "nhis =nhis[nhis.EMPLOY != 97]\n",
    "nhis =nhis[nhis.EMPLOY != 98]\n",
    "nhis =nhis[nhis.EMPLOY != 99]"
   ]
  },
  {
   "cell_type": "code",
   "execution_count": 38,
   "id": "d626d108",
   "metadata": {},
   "outputs": [],
   "source": [
    "nhis['MARITAL_STATUS'] = nhis['MARITAL_STATUS'].replace([1],1)\n",
    "nhis['MARITAL_STATUS'] = nhis['MARITAL_STATUS'].replace([2],1)\n",
    "nhis['MARITAL_STATUS'] = nhis['MARITAL_STATUS'].replace([3],1)\n",
    "nhis['MARITAL_STATUS'] = nhis['MARITAL_STATUS'].replace([4],0)\n",
    "nhis['MARITAL_STATUS'] = nhis['MARITAL_STATUS'].replace([5],0)\n",
    "nhis['MARITAL_STATUS'] = nhis['MARITAL_STATUS'].replace([6],0)\n",
    "nhis['MARITAL_STATUS'] = nhis['MARITAL_STATUS'].replace([7],0)\n",
    "nhis['MARITAL_STATUS'] = nhis['MARITAL_STATUS'].replace([8],0)\n",
    "nhis['DEPRESS'] = nhis['DEPRESS'].replace([2],0)\n",
    "nhis['HEART'] = nhis['HEART'].replace([2],0)\n",
    "nhis['ARTHRITIS'] = nhis['ARTHRITIS'].replace([2],0)\n",
    "nhis['COPD'] = nhis['COPD'].replace([2],0)\n",
    "nhis['CANCER'] = nhis['CANCER'].replace([2],0)\n",
    "nhis['DIABETES'] = nhis['DIABETES'].replace([2],0)\n",
    "nhis['STROKE'] = nhis['STROKE'].replace([2],0)\n",
    "nhis['SEX'] = nhis['SEX'].replace([2],0)"
   ]
  },
  {
   "cell_type": "code",
   "execution_count": 39,
   "id": "87c268c1",
   "metadata": {},
   "outputs": [],
   "source": [
    "#change employ to read ~ Unemployed=0, Employed=1, Retired=2, Disabled=2\n",
    "nhis['EMPLOY'] = nhis['EMPLOY'].replace([1], 0)\n",
    "nhis['EMPLOY'] = nhis['EMPLOY'].replace([2], 0)\n",
    "nhis['EMPLOY'] = nhis['EMPLOY'].replace([5], 0)\n",
    "nhis['EMPLOY'] = nhis['EMPLOY'].replace([6], 0)\n",
    "nhis['EMPLOY'] = nhis['EMPLOY'].replace([8], 0)\n",
    "nhis['EMPLOY'] = nhis['EMPLOY'].replace([69], 1)\n",
    "nhis['EMPLOY'] = nhis['EMPLOY'].replace([7], 1)\n",
    "nhis['EMPLOY'] = nhis['EMPLOY'].replace([3], 2)\n",
    "nhis['EMPLOY'] = nhis['EMPLOY'].replace([4], 3)"
   ]
  },
  {
   "cell_type": "code",
   "execution_count": 40,
   "id": "430b647a",
   "metadata": {},
   "outputs": [],
   "source": [
    "#reset index\n",
    "nhis = nhis.reset_index()\n",
    "nhis.drop(['index'], axis=1, inplace=True)"
   ]
  },
  {
   "cell_type": "markdown",
   "id": "3c416097",
   "metadata": {},
   "source": [
    "Look for Outliers\n",
    "===="
   ]
  },
  {
   "cell_type": "code",
   "execution_count": 41,
   "id": "c61be816",
   "metadata": {},
   "outputs": [
    {
     "data": {
      "text/html": [
       "<div>\n",
       "<style scoped>\n",
       "    .dataframe tbody tr th:only-of-type {\n",
       "        vertical-align: middle;\n",
       "    }\n",
       "\n",
       "    .dataframe tbody tr th {\n",
       "        vertical-align: top;\n",
       "    }\n",
       "\n",
       "    .dataframe thead th {\n",
       "        text-align: right;\n",
       "    }\n",
       "</style>\n",
       "<table border=\"1\" class=\"dataframe\">\n",
       "  <thead>\n",
       "    <tr style=\"text-align: right;\">\n",
       "      <th></th>\n",
       "      <th>GEN_HEALTH</th>\n",
       "      <th>AGE</th>\n",
       "      <th>SEX</th>\n",
       "      <th>MARITAL_STATUS</th>\n",
       "      <th>EDUCATE_LVL</th>\n",
       "      <th>EMPLOY</th>\n",
       "      <th>DEPRESS</th>\n",
       "      <th>ARTHRITIS</th>\n",
       "      <th>CANCER</th>\n",
       "      <th>COPD</th>\n",
       "      <th>HEART</th>\n",
       "      <th>STROKE</th>\n",
       "      <th>DIABETES</th>\n",
       "    </tr>\n",
       "  </thead>\n",
       "  <tbody>\n",
       "    <tr>\n",
       "      <th>0</th>\n",
       "      <td>0</td>\n",
       "      <td>28</td>\n",
       "      <td>0</td>\n",
       "      <td>1</td>\n",
       "      <td>6</td>\n",
       "      <td>1.0</td>\n",
       "      <td>0</td>\n",
       "      <td>0</td>\n",
       "      <td>0</td>\n",
       "      <td>0</td>\n",
       "      <td>0</td>\n",
       "      <td>0</td>\n",
       "      <td>0</td>\n",
       "    </tr>\n",
       "    <tr>\n",
       "      <th>5</th>\n",
       "      <td>0</td>\n",
       "      <td>32</td>\n",
       "      <td>1</td>\n",
       "      <td>1</td>\n",
       "      <td>8</td>\n",
       "      <td>1.0</td>\n",
       "      <td>0</td>\n",
       "      <td>0</td>\n",
       "      <td>0</td>\n",
       "      <td>0</td>\n",
       "      <td>0</td>\n",
       "      <td>0</td>\n",
       "      <td>0</td>\n",
       "    </tr>\n",
       "    <tr>\n",
       "      <th>6</th>\n",
       "      <td>0</td>\n",
       "      <td>28</td>\n",
       "      <td>1</td>\n",
       "      <td>1</td>\n",
       "      <td>5</td>\n",
       "      <td>3.0</td>\n",
       "      <td>0</td>\n",
       "      <td>0</td>\n",
       "      <td>0</td>\n",
       "      <td>0</td>\n",
       "      <td>0</td>\n",
       "      <td>0</td>\n",
       "      <td>0</td>\n",
       "    </tr>\n",
       "    <tr>\n",
       "      <th>9</th>\n",
       "      <td>0</td>\n",
       "      <td>28</td>\n",
       "      <td>1</td>\n",
       "      <td>1</td>\n",
       "      <td>4</td>\n",
       "      <td>1.0</td>\n",
       "      <td>0</td>\n",
       "      <td>0</td>\n",
       "      <td>0</td>\n",
       "      <td>0</td>\n",
       "      <td>0</td>\n",
       "      <td>0</td>\n",
       "      <td>0</td>\n",
       "    </tr>\n",
       "    <tr>\n",
       "      <th>12</th>\n",
       "      <td>0</td>\n",
       "      <td>52</td>\n",
       "      <td>0</td>\n",
       "      <td>1</td>\n",
       "      <td>10</td>\n",
       "      <td>1.0</td>\n",
       "      <td>1</td>\n",
       "      <td>1</td>\n",
       "      <td>0</td>\n",
       "      <td>0</td>\n",
       "      <td>0</td>\n",
       "      <td>0</td>\n",
       "      <td>0</td>\n",
       "    </tr>\n",
       "    <tr>\n",
       "      <th>...</th>\n",
       "      <td>...</td>\n",
       "      <td>...</td>\n",
       "      <td>...</td>\n",
       "      <td>...</td>\n",
       "      <td>...</td>\n",
       "      <td>...</td>\n",
       "      <td>...</td>\n",
       "      <td>...</td>\n",
       "      <td>...</td>\n",
       "      <td>...</td>\n",
       "      <td>...</td>\n",
       "      <td>...</td>\n",
       "      <td>...</td>\n",
       "    </tr>\n",
       "    <tr>\n",
       "      <th>22364</th>\n",
       "      <td>0</td>\n",
       "      <td>39</td>\n",
       "      <td>1</td>\n",
       "      <td>1</td>\n",
       "      <td>4</td>\n",
       "      <td>1.0</td>\n",
       "      <td>0</td>\n",
       "      <td>0</td>\n",
       "      <td>0</td>\n",
       "      <td>0</td>\n",
       "      <td>0</td>\n",
       "      <td>0</td>\n",
       "      <td>0</td>\n",
       "    </tr>\n",
       "    <tr>\n",
       "      <th>22366</th>\n",
       "      <td>0</td>\n",
       "      <td>22</td>\n",
       "      <td>1</td>\n",
       "      <td>1</td>\n",
       "      <td>5</td>\n",
       "      <td>1.0</td>\n",
       "      <td>0</td>\n",
       "      <td>0</td>\n",
       "      <td>0</td>\n",
       "      <td>0</td>\n",
       "      <td>0</td>\n",
       "      <td>0</td>\n",
       "      <td>0</td>\n",
       "    </tr>\n",
       "    <tr>\n",
       "      <th>22368</th>\n",
       "      <td>0</td>\n",
       "      <td>47</td>\n",
       "      <td>1</td>\n",
       "      <td>1</td>\n",
       "      <td>5</td>\n",
       "      <td>1.0</td>\n",
       "      <td>0</td>\n",
       "      <td>0</td>\n",
       "      <td>0</td>\n",
       "      <td>0</td>\n",
       "      <td>0</td>\n",
       "      <td>0</td>\n",
       "      <td>0</td>\n",
       "    </tr>\n",
       "    <tr>\n",
       "      <th>22370</th>\n",
       "      <td>0</td>\n",
       "      <td>31</td>\n",
       "      <td>0</td>\n",
       "      <td>1</td>\n",
       "      <td>7</td>\n",
       "      <td>1.0</td>\n",
       "      <td>1</td>\n",
       "      <td>0</td>\n",
       "      <td>0</td>\n",
       "      <td>0</td>\n",
       "      <td>0</td>\n",
       "      <td>0</td>\n",
       "      <td>0</td>\n",
       "    </tr>\n",
       "    <tr>\n",
       "      <th>22371</th>\n",
       "      <td>0</td>\n",
       "      <td>54</td>\n",
       "      <td>0</td>\n",
       "      <td>1</td>\n",
       "      <td>5</td>\n",
       "      <td>1.0</td>\n",
       "      <td>0</td>\n",
       "      <td>0</td>\n",
       "      <td>0</td>\n",
       "      <td>0</td>\n",
       "      <td>0</td>\n",
       "      <td>0</td>\n",
       "      <td>0</td>\n",
       "    </tr>\n",
       "  </tbody>\n",
       "</table>\n",
       "<p>9456 rows × 13 columns</p>\n",
       "</div>"
      ],
      "text/plain": [
       "       GEN_HEALTH  AGE  SEX  MARITAL_STATUS  EDUCATE_LVL  EMPLOY  DEPRESS  \\\n",
       "0               0   28    0               1            6     1.0        0   \n",
       "5               0   32    1               1            8     1.0        0   \n",
       "6               0   28    1               1            5     3.0        0   \n",
       "9               0   28    1               1            4     1.0        0   \n",
       "12              0   52    0               1           10     1.0        1   \n",
       "...           ...  ...  ...             ...          ...     ...      ...   \n",
       "22364           0   39    1               1            4     1.0        0   \n",
       "22366           0   22    1               1            5     1.0        0   \n",
       "22368           0   47    1               1            5     1.0        0   \n",
       "22370           0   31    0               1            7     1.0        1   \n",
       "22371           0   54    0               1            5     1.0        0   \n",
       "\n",
       "       ARTHRITIS  CANCER  COPD  HEART  STROKE  DIABETES  \n",
       "0              0       0     0      0       0         0  \n",
       "5              0       0     0      0       0         0  \n",
       "6              0       0     0      0       0         0  \n",
       "9              0       0     0      0       0         0  \n",
       "12             1       0     0      0       0         0  \n",
       "...          ...     ...   ...    ...     ...       ...  \n",
       "22364          0       0     0      0       0         0  \n",
       "22366          0       0     0      0       0         0  \n",
       "22368          0       0     0      0       0         0  \n",
       "22370          0       0     0      0       0         0  \n",
       "22371          0       0     0      0       0         0  \n",
       "\n",
       "[9456 rows x 13 columns]"
      ]
     },
     "execution_count": 41,
     "metadata": {},
     "output_type": "execute_result"
    }
   ],
   "source": [
    "#look at outliers (ages under 55 years old)\n",
    "nhis.loc[nhis['AGE'] < 55]"
   ]
  },
  {
   "cell_type": "markdown",
   "id": "863373d1",
   "metadata": {},
   "source": [
    "Outlier Decision\n",
    "==="
   ]
  },
  {
   "cell_type": "code",
   "execution_count": 42,
   "id": "c29e4f0d",
   "metadata": {},
   "outputs": [],
   "source": [
    "#backup THIS MAYBE CHANGES EMPLOY\n",
    "nhis.drop(nhis[(nhis['AGE'] < 55)].index, inplace=True)"
   ]
  },
  {
   "cell_type": "markdown",
   "id": "a7b572d9",
   "metadata": {},
   "source": [
    "Binning\n",
    "==="
   ]
  },
  {
   "cell_type": "code",
   "execution_count": 43,
   "id": "14782b01",
   "metadata": {},
   "outputs": [],
   "source": [
    "#Binning AGE\n",
    "nhis['AGE_BINS'] = pd.cut(x=nhis['AGE'], bins=[54, 64, 74, 105], labels=[1,2,3])"
   ]
  },
  {
   "cell_type": "code",
   "execution_count": 44,
   "id": "35e574dd",
   "metadata": {},
   "outputs": [],
   "source": [
    "#Binning Education ***********************************NEED TO ADJUST***************************\n",
    "nhis['COLLEGE'] = pd.cut(x=nhis['EDUCATE_LVL'], bins=[-1, 4, 11], labels=[0, 1])"
   ]
  },
  {
   "cell_type": "markdown",
   "id": "da16bd0b",
   "metadata": {},
   "source": [
    "Dummy Variable\n",
    "==="
   ]
  },
  {
   "cell_type": "code",
   "execution_count": 45,
   "id": "b827537d",
   "metadata": {},
   "outputs": [],
   "source": [
    "#Dummy Variable \n",
    "nhis['CHRONIC'] = 0\n",
    "#Add to column\n",
    "nhis.loc[nhis['HEART'] == 1, 'CHRONIC'] = 1\n",
    "nhis.loc[nhis['STROKE'] == 1, 'CHRONIC'] = 1\n",
    "nhis.loc[nhis['COPD'] == 1, 'CHRONIC'] = 1\n",
    "nhis.loc[nhis['DIABETES'] == 1, 'CHRONIC'] = 1\n",
    "nhis.loc[nhis['CANCER'] == 1, 'CHRONIC'] = 1\n",
    "nhis.loc[nhis['ARTHRITIS'] == 1, 'CHRONIC'] = 1"
   ]
  },
  {
   "cell_type": "code",
   "execution_count": 46,
   "id": "2560e14f",
   "metadata": {},
   "outputs": [
    {
     "data": {
      "text/html": [
       "<div>\n",
       "<style scoped>\n",
       "    .dataframe tbody tr th:only-of-type {\n",
       "        vertical-align: middle;\n",
       "    }\n",
       "\n",
       "    .dataframe tbody tr th {\n",
       "        vertical-align: top;\n",
       "    }\n",
       "\n",
       "    .dataframe thead th {\n",
       "        text-align: right;\n",
       "    }\n",
       "</style>\n",
       "<table border=\"1\" class=\"dataframe\">\n",
       "  <thead>\n",
       "    <tr style=\"text-align: right;\">\n",
       "      <th></th>\n",
       "      <th>GEN_HEALTH</th>\n",
       "      <th>AGE</th>\n",
       "      <th>SEX</th>\n",
       "      <th>MARITAL_STATUS</th>\n",
       "      <th>EDUCATE_LVL</th>\n",
       "      <th>EMPLOY</th>\n",
       "      <th>DEPRESS</th>\n",
       "      <th>ARTHRITIS</th>\n",
       "      <th>CANCER</th>\n",
       "      <th>COPD</th>\n",
       "      <th>HEART</th>\n",
       "      <th>STROKE</th>\n",
       "      <th>DIABETES</th>\n",
       "      <th>AGE_BINS</th>\n",
       "      <th>COLLEGE</th>\n",
       "      <th>CHRONIC</th>\n",
       "    </tr>\n",
       "  </thead>\n",
       "  <tbody>\n",
       "    <tr>\n",
       "      <th>1</th>\n",
       "      <td>0</td>\n",
       "      <td>72</td>\n",
       "      <td>1</td>\n",
       "      <td>1</td>\n",
       "      <td>5</td>\n",
       "      <td>2.0</td>\n",
       "      <td>0</td>\n",
       "      <td>1</td>\n",
       "      <td>1</td>\n",
       "      <td>0</td>\n",
       "      <td>0</td>\n",
       "      <td>0</td>\n",
       "      <td>0</td>\n",
       "      <td>2</td>\n",
       "      <td>1</td>\n",
       "      <td>1</td>\n",
       "    </tr>\n",
       "    <tr>\n",
       "      <th>2</th>\n",
       "      <td>0</td>\n",
       "      <td>60</td>\n",
       "      <td>1</td>\n",
       "      <td>1</td>\n",
       "      <td>7</td>\n",
       "      <td>1.0</td>\n",
       "      <td>0</td>\n",
       "      <td>1</td>\n",
       "      <td>0</td>\n",
       "      <td>0</td>\n",
       "      <td>0</td>\n",
       "      <td>0</td>\n",
       "      <td>0</td>\n",
       "      <td>1</td>\n",
       "      <td>1</td>\n",
       "      <td>1</td>\n",
       "    </tr>\n",
       "    <tr>\n",
       "      <th>3</th>\n",
       "      <td>1</td>\n",
       "      <td>60</td>\n",
       "      <td>1</td>\n",
       "      <td>1</td>\n",
       "      <td>5</td>\n",
       "      <td>0.0</td>\n",
       "      <td>1</td>\n",
       "      <td>0</td>\n",
       "      <td>0</td>\n",
       "      <td>1</td>\n",
       "      <td>1</td>\n",
       "      <td>0</td>\n",
       "      <td>1</td>\n",
       "      <td>1</td>\n",
       "      <td>1</td>\n",
       "      <td>1</td>\n",
       "    </tr>\n",
       "    <tr>\n",
       "      <th>4</th>\n",
       "      <td>1</td>\n",
       "      <td>78</td>\n",
       "      <td>1</td>\n",
       "      <td>1</td>\n",
       "      <td>5</td>\n",
       "      <td>2.0</td>\n",
       "      <td>1</td>\n",
       "      <td>1</td>\n",
       "      <td>1</td>\n",
       "      <td>0</td>\n",
       "      <td>0</td>\n",
       "      <td>1</td>\n",
       "      <td>1</td>\n",
       "      <td>3</td>\n",
       "      <td>1</td>\n",
       "      <td>1</td>\n",
       "    </tr>\n",
       "    <tr>\n",
       "      <th>7</th>\n",
       "      <td>0</td>\n",
       "      <td>85</td>\n",
       "      <td>1</td>\n",
       "      <td>1</td>\n",
       "      <td>1</td>\n",
       "      <td>2.0</td>\n",
       "      <td>0</td>\n",
       "      <td>0</td>\n",
       "      <td>0</td>\n",
       "      <td>0</td>\n",
       "      <td>0</td>\n",
       "      <td>0</td>\n",
       "      <td>0</td>\n",
       "      <td>3</td>\n",
       "      <td>0</td>\n",
       "      <td>0</td>\n",
       "    </tr>\n",
       "  </tbody>\n",
       "</table>\n",
       "</div>"
      ],
      "text/plain": [
       "   GEN_HEALTH  AGE  SEX  MARITAL_STATUS  EDUCATE_LVL  EMPLOY  DEPRESS  \\\n",
       "1           0   72    1               1            5     2.0        0   \n",
       "2           0   60    1               1            7     1.0        0   \n",
       "3           1   60    1               1            5     0.0        1   \n",
       "4           1   78    1               1            5     2.0        1   \n",
       "7           0   85    1               1            1     2.0        0   \n",
       "\n",
       "   ARTHRITIS  CANCER  COPD  HEART  STROKE  DIABETES AGE_BINS COLLEGE  CHRONIC  \n",
       "1          1       1     0      0       0         0        2       1        1  \n",
       "2          1       0     0      0       0         0        1       1        1  \n",
       "3          0       0     1      1       0         1        1       1        1  \n",
       "4          1       1     0      0       1         1        3       1        1  \n",
       "7          0       0     0      0       0         0        3       0        0  "
      ]
     },
     "execution_count": 46,
     "metadata": {},
     "output_type": "execute_result"
    }
   ],
   "source": [
    "#Last Check\n",
    "nhis.head()"
   ]
  },
  {
   "cell_type": "code",
   "execution_count": 47,
   "id": "cb4f1c70",
   "metadata": {},
   "outputs": [
    {
     "data": {
      "text/plain": [
       "1    0.656705\n",
       "0    0.343295\n",
       "Name: CHRONIC, dtype: float64"
      ]
     },
     "execution_count": 47,
     "metadata": {},
     "output_type": "execute_result"
    }
   ],
   "source": [
    "nhis['CHRONIC'].value_counts(normalize=True)"
   ]
  },
  {
   "cell_type": "code",
   "execution_count": 48,
   "id": "57eec4ec",
   "metadata": {},
   "outputs": [
    {
     "data": {
      "text/plain": [
       "1    0.367374\n",
       "2    0.355141\n",
       "3    0.277485\n",
       "Name: AGE_BINS, dtype: float64"
      ]
     },
     "execution_count": 48,
     "metadata": {},
     "output_type": "execute_result"
    }
   ],
   "source": [
    "nhis['AGE_BINS'].value_counts(normalize=True)"
   ]
  },
  {
   "cell_type": "code",
   "execution_count": 49,
   "id": "cb582609",
   "metadata": {},
   "outputs": [
    {
     "data": {
      "text/plain": [
       "1    0.61389\n",
       "0    0.38611\n",
       "Name: COLLEGE, dtype: float64"
      ]
     },
     "execution_count": 49,
     "metadata": {},
     "output_type": "execute_result"
    }
   ],
   "source": [
    "nhis['COLLEGE'].value_counts(normalize=True)"
   ]
  },
  {
   "cell_type": "code",
   "execution_count": 50,
   "id": "8414f560",
   "metadata": {},
   "outputs": [
    {
     "data": {
      "text/plain": [
       "(12916, 16)"
      ]
     },
     "execution_count": 50,
     "metadata": {},
     "output_type": "execute_result"
    }
   ],
   "source": [
    "nhis.shape"
   ]
  },
  {
   "cell_type": "code",
   "execution_count": 51,
   "id": "49b40b44",
   "metadata": {},
   "outputs": [
    {
     "data": {
      "text/plain": [
       "Index(['GEN_HEALTH', 'AGE', 'SEX', 'MARITAL_STATUS', 'EDUCATE_LVL', 'EMPLOY',\n",
       "       'DEPRESS', 'ARTHRITIS', 'CANCER', 'COPD', 'HEART', 'STROKE', 'DIABETES',\n",
       "       'AGE_BINS', 'COLLEGE', 'CHRONIC'],\n",
       "      dtype='object')"
      ]
     },
     "execution_count": 51,
     "metadata": {},
     "output_type": "execute_result"
    }
   ],
   "source": [
    "nhis.columns"
   ]
  },
  {
   "cell_type": "code",
   "execution_count": 52,
   "id": "c54ec0a3",
   "metadata": {},
   "outputs": [],
   "source": [
    "#TRANSFORM NUMERIC TO CATEGORICAL\n",
    "nhis['GEN_HEALTH'] = nhis['GEN_HEALTH'].astype(str)\n",
    "nhis['DEPRESS'] = nhis['DEPRESS'].astype(str)\n",
    "nhis['AGE'] = nhis['AGE'].astype(str)\n",
    "nhis['SEX'] = nhis['SEX'].astype(str)\n",
    "nhis['EMPLOY'] = nhis['EMPLOY'].astype(str)\n",
    "nhis['MARITAL_STATUS'] = nhis['MARITAL_STATUS'].astype(str)\n",
    "nhis['AGE_BINS'] = nhis['AGE_BINS'].astype(str)\n",
    "nhis['CHRONIC'] = nhis['CHRONIC'].astype(str)\n",
    "nhis['COLLEGE'] = nhis['COLLEGE'].astype(str)"
   ]
  },
  {
   "cell_type": "code",
   "execution_count": 53,
   "id": "7692b52e",
   "metadata": {},
   "outputs": [],
   "source": [
    "#DROP FEATURES\n",
    "nhis = nhis.drop(columns='AGE')\n",
    "nhis = nhis.drop(columns='CANCER')\n",
    "nhis = nhis.drop(columns='HEART')\n",
    "nhis = nhis.drop(columns='COPD')\n",
    "nhis = nhis.drop(columns='DIABETES')\n",
    "nhis = nhis.drop(columns='ARTHRITIS')\n",
    "nhis = nhis.drop(columns='STROKE')\n",
    "nhis = nhis.drop(columns='EDUCATE_LVL')"
   ]
  },
  {
   "cell_type": "code",
   "execution_count": 54,
   "id": "07e44c98",
   "metadata": {},
   "outputs": [],
   "source": [
    "#reset index\n",
    "nhis = nhis.reset_index()\n",
    "nhis.drop(['index'], axis=1, inplace=True)"
   ]
  },
  {
   "cell_type": "code",
   "execution_count": 55,
   "id": "ecafdce4",
   "metadata": {},
   "outputs": [
    {
     "data": {
      "text/html": [
       "<div>\n",
       "<style scoped>\n",
       "    .dataframe tbody tr th:only-of-type {\n",
       "        vertical-align: middle;\n",
       "    }\n",
       "\n",
       "    .dataframe tbody tr th {\n",
       "        vertical-align: top;\n",
       "    }\n",
       "\n",
       "    .dataframe thead th {\n",
       "        text-align: right;\n",
       "    }\n",
       "</style>\n",
       "<table border=\"1\" class=\"dataframe\">\n",
       "  <thead>\n",
       "    <tr style=\"text-align: right;\">\n",
       "      <th></th>\n",
       "      <th>GEN_HEALTH</th>\n",
       "      <th>SEX</th>\n",
       "      <th>MARITAL_STATUS</th>\n",
       "      <th>EMPLOY</th>\n",
       "      <th>DEPRESS</th>\n",
       "      <th>AGE_BINS</th>\n",
       "      <th>COLLEGE</th>\n",
       "      <th>CHRONIC</th>\n",
       "    </tr>\n",
       "  </thead>\n",
       "  <tbody>\n",
       "    <tr>\n",
       "      <th>0</th>\n",
       "      <td>0</td>\n",
       "      <td>1</td>\n",
       "      <td>1</td>\n",
       "      <td>2.0</td>\n",
       "      <td>0</td>\n",
       "      <td>2</td>\n",
       "      <td>1</td>\n",
       "      <td>1</td>\n",
       "    </tr>\n",
       "    <tr>\n",
       "      <th>1</th>\n",
       "      <td>0</td>\n",
       "      <td>1</td>\n",
       "      <td>1</td>\n",
       "      <td>1.0</td>\n",
       "      <td>0</td>\n",
       "      <td>1</td>\n",
       "      <td>1</td>\n",
       "      <td>1</td>\n",
       "    </tr>\n",
       "    <tr>\n",
       "      <th>2</th>\n",
       "      <td>1</td>\n",
       "      <td>1</td>\n",
       "      <td>1</td>\n",
       "      <td>0.0</td>\n",
       "      <td>1</td>\n",
       "      <td>1</td>\n",
       "      <td>1</td>\n",
       "      <td>1</td>\n",
       "    </tr>\n",
       "    <tr>\n",
       "      <th>3</th>\n",
       "      <td>1</td>\n",
       "      <td>1</td>\n",
       "      <td>1</td>\n",
       "      <td>2.0</td>\n",
       "      <td>1</td>\n",
       "      <td>3</td>\n",
       "      <td>1</td>\n",
       "      <td>1</td>\n",
       "    </tr>\n",
       "    <tr>\n",
       "      <th>4</th>\n",
       "      <td>0</td>\n",
       "      <td>1</td>\n",
       "      <td>1</td>\n",
       "      <td>2.0</td>\n",
       "      <td>0</td>\n",
       "      <td>3</td>\n",
       "      <td>0</td>\n",
       "      <td>0</td>\n",
       "    </tr>\n",
       "  </tbody>\n",
       "</table>\n",
       "</div>"
      ],
      "text/plain": [
       "  GEN_HEALTH SEX MARITAL_STATUS EMPLOY DEPRESS AGE_BINS COLLEGE CHRONIC\n",
       "0          0   1              1    2.0       0        2       1       1\n",
       "1          0   1              1    1.0       0        1       1       1\n",
       "2          1   1              1    0.0       1        1       1       1\n",
       "3          1   1              1    2.0       1        3       1       1\n",
       "4          0   1              1    2.0       0        3       0       0"
      ]
     },
     "execution_count": 55,
     "metadata": {},
     "output_type": "execute_result"
    }
   ],
   "source": [
    "nhis.head()"
   ]
  },
  {
   "cell_type": "code",
   "execution_count": 56,
   "id": "b9ac0429",
   "metadata": {},
   "outputs": [],
   "source": [
    "nhis.to_csv('C:\\\\Users\\\\2-1\\\\Downloads\\\\ProcessedNHIS.csv')"
   ]
  },
  {
   "cell_type": "markdown",
   "id": "e2efc23e",
   "metadata": {},
   "source": [
    "Frequency Tables\n",
    "==="
   ]
  },
  {
   "cell_type": "code",
   "execution_count": 57,
   "id": "a47f6285",
   "metadata": {},
   "outputs": [
    {
     "data": {
      "text/plain": [
       "0    0.783524\n",
       "1    0.216476\n",
       "Name: GEN_HEALTH, dtype: float64"
      ]
     },
     "execution_count": 57,
     "metadata": {},
     "output_type": "execute_result"
    }
   ],
   "source": [
    "#Target Variable\n",
    "nhis['GEN_HEALTH'].value_counts(normalize=True)"
   ]
  },
  {
   "cell_type": "code",
   "execution_count": 58,
   "id": "d706ec20",
   "metadata": {},
   "outputs": [
    {
     "data": {
      "text/html": [
       "<div>\n",
       "<style scoped>\n",
       "    .dataframe tbody tr th:only-of-type {\n",
       "        vertical-align: middle;\n",
       "    }\n",
       "\n",
       "    .dataframe tbody tr th {\n",
       "        vertical-align: top;\n",
       "    }\n",
       "\n",
       "    .dataframe thead th {\n",
       "        text-align: right;\n",
       "    }\n",
       "</style>\n",
       "<table border=\"1\" class=\"dataframe\">\n",
       "  <thead>\n",
       "    <tr style=\"text-align: right;\">\n",
       "      <th>col_0</th>\n",
       "      <th>count</th>\n",
       "    </tr>\n",
       "    <tr>\n",
       "      <th>GEN_HEALTH</th>\n",
       "      <th></th>\n",
       "    </tr>\n",
       "  </thead>\n",
       "  <tbody>\n",
       "    <tr>\n",
       "      <th>0</th>\n",
       "      <td>10120</td>\n",
       "    </tr>\n",
       "    <tr>\n",
       "      <th>1</th>\n",
       "      <td>2796</td>\n",
       "    </tr>\n",
       "  </tbody>\n",
       "</table>\n",
       "</div>"
      ],
      "text/plain": [
       "col_0       count\n",
       "GEN_HEALTH       \n",
       "0           10120\n",
       "1            2796"
      ]
     },
     "execution_count": 58,
     "metadata": {},
     "output_type": "execute_result"
    }
   ],
   "source": [
    "ft = pd.crosstab(index=nhis['GEN_HEALTH'], columns='count')\n",
    "ft"
   ]
  },
  {
   "cell_type": "markdown",
   "id": "687e2a8a",
   "metadata": {},
   "source": [
    "GENDER\n",
    "==="
   ]
  },
  {
   "cell_type": "code",
   "execution_count": 59,
   "id": "81245521",
   "metadata": {},
   "outputs": [
    {
     "data": {
      "text/plain": [
       "(2.950727658145958, 0.08583890033259388, 1)"
      ]
     },
     "execution_count": 59,
     "metadata": {},
     "output_type": "execute_result"
    }
   ],
   "source": [
    "from scipy.stats import chi2_contingency\n",
    "#Single\n",
    "ft = pd.crosstab(index=nhis['SEX'], columns=nhis['GEN_HEALTH'])\n",
    "c, p, dof, expected = chi2_contingency(ft)\n",
    "c, p, dof"
   ]
  },
  {
   "cell_type": "code",
   "execution_count": 60,
   "id": "9f09b887",
   "metadata": {},
   "outputs": [
    {
     "data": {
      "text/plain": [
       "0    0.567358\n",
       "1    0.432642\n",
       "Name: SEX, dtype: float64"
      ]
     },
     "execution_count": 60,
     "metadata": {},
     "output_type": "execute_result"
    }
   ],
   "source": [
    "nhis['SEX'].value_counts(normalize=True)"
   ]
  },
  {
   "cell_type": "code",
   "execution_count": 61,
   "id": "c2561dfe",
   "metadata": {},
   "outputs": [
    {
     "data": {
      "text/html": [
       "<div>\n",
       "<style scoped>\n",
       "    .dataframe tbody tr th:only-of-type {\n",
       "        vertical-align: middle;\n",
       "    }\n",
       "\n",
       "    .dataframe tbody tr th {\n",
       "        vertical-align: top;\n",
       "    }\n",
       "\n",
       "    .dataframe thead th {\n",
       "        text-align: right;\n",
       "    }\n",
       "</style>\n",
       "<table border=\"1\" class=\"dataframe\">\n",
       "  <thead>\n",
       "    <tr style=\"text-align: right;\">\n",
       "      <th></th>\n",
       "      <th>Good</th>\n",
       "      <th>Bad</th>\n",
       "      <th>RowTotal</th>\n",
       "    </tr>\n",
       "  </thead>\n",
       "  <tbody>\n",
       "    <tr>\n",
       "      <th>Female</th>\n",
       "      <td>5782.000000</td>\n",
       "      <td>1546.000000</td>\n",
       "      <td>7328.000000</td>\n",
       "    </tr>\n",
       "    <tr>\n",
       "      <th>Male</th>\n",
       "      <td>4338.000000</td>\n",
       "      <td>1250.000000</td>\n",
       "      <td>5588.000000</td>\n",
       "    </tr>\n",
       "    <tr>\n",
       "      <th>ColTotal</th>\n",
       "      <td>10120.000000</td>\n",
       "      <td>2796.000000</td>\n",
       "      <td>12916.000000</td>\n",
       "    </tr>\n",
       "    <tr>\n",
       "      <th>Female</th>\n",
       "      <td>0.571344</td>\n",
       "      <td>0.552933</td>\n",
       "      <td>0.567358</td>\n",
       "    </tr>\n",
       "    <tr>\n",
       "      <th>Male</th>\n",
       "      <td>0.428656</td>\n",
       "      <td>0.447067</td>\n",
       "      <td>0.432642</td>\n",
       "    </tr>\n",
       "    <tr>\n",
       "      <th>ColTotal</th>\n",
       "      <td>1.000000</td>\n",
       "      <td>1.000000</td>\n",
       "      <td>1.000000</td>\n",
       "    </tr>\n",
       "  </tbody>\n",
       "</table>\n",
       "</div>"
      ],
      "text/plain": [
       "                  Good          Bad      RowTotal\n",
       "Female     5782.000000  1546.000000   7328.000000\n",
       "Male       4338.000000  1250.000000   5588.000000\n",
       "ColTotal  10120.000000  2796.000000  12916.000000\n",
       "Female        0.571344     0.552933      0.567358\n",
       "Male          0.428656     0.447067      0.432642\n",
       "ColTotal      1.000000     1.000000      1.000000"
      ]
     },
     "execution_count": 61,
     "metadata": {},
     "output_type": "execute_result"
    }
   ],
   "source": [
    "#Setup for proportion\n",
    "ft = pd.crosstab(index=nhis['SEX'], columns=nhis['GEN_HEALTH'], margins = True)\n",
    "ft.columns = [\"Good\", \"Bad\", \"RowTotal\"]\n",
    "ft.index = [\"Female\",\"Male\",\"ColTotal\"]\n",
    "#Proportion by total\n",
    "ft2 = ft/ft.loc[\"ColTotal\"]\n",
    "#Proportion by total\n",
    "ft = ft.append(ft2)\n",
    "ft"
   ]
  },
  {
   "cell_type": "markdown",
   "id": "31bf0ff1",
   "metadata": {},
   "source": [
    "DEPRESSION\n",
    "==="
   ]
  },
  {
   "cell_type": "code",
   "execution_count": 62,
   "id": "d397e139",
   "metadata": {},
   "outputs": [
    {
     "data": {
      "text/plain": [
       "(631.5519465587628, 2.2976710291668097e-139, 1)"
      ]
     },
     "execution_count": 62,
     "metadata": {},
     "output_type": "execute_result"
    }
   ],
   "source": [
    "from scipy.stats import chi2_contingency\n",
    "#Single\n",
    "ft = pd.crosstab(index=nhis['DEPRESS'], columns=nhis['GEN_HEALTH'])\n",
    "c, p, dof, expected = chi2_contingency(ft)\n",
    "c, p, dof"
   ]
  },
  {
   "cell_type": "code",
   "execution_count": 63,
   "id": "130e8e52",
   "metadata": {},
   "outputs": [
    {
     "data": {
      "text/plain": [
       "0    0.829127\n",
       "1    0.170873\n",
       "Name: DEPRESS, dtype: float64"
      ]
     },
     "execution_count": 63,
     "metadata": {},
     "output_type": "execute_result"
    }
   ],
   "source": [
    "nhis['DEPRESS'].value_counts(normalize=True)"
   ]
  },
  {
   "cell_type": "code",
   "execution_count": 64,
   "id": "70ca59f7",
   "metadata": {},
   "outputs": [
    {
     "data": {
      "text/html": [
       "<div>\n",
       "<style scoped>\n",
       "    .dataframe tbody tr th:only-of-type {\n",
       "        vertical-align: middle;\n",
       "    }\n",
       "\n",
       "    .dataframe tbody tr th {\n",
       "        vertical-align: top;\n",
       "    }\n",
       "\n",
       "    .dataframe thead th {\n",
       "        text-align: right;\n",
       "    }\n",
       "</style>\n",
       "<table border=\"1\" class=\"dataframe\">\n",
       "  <thead>\n",
       "    <tr style=\"text-align: right;\">\n",
       "      <th></th>\n",
       "      <th>Good</th>\n",
       "      <th>Bad</th>\n",
       "      <th>RowTotal</th>\n",
       "    </tr>\n",
       "  </thead>\n",
       "  <tbody>\n",
       "    <tr>\n",
       "      <th>No</th>\n",
       "      <td>8834.000000</td>\n",
       "      <td>1875.000000</td>\n",
       "      <td>10709.000000</td>\n",
       "    </tr>\n",
       "    <tr>\n",
       "      <th>Yes</th>\n",
       "      <td>1286.000000</td>\n",
       "      <td>921.000000</td>\n",
       "      <td>2207.000000</td>\n",
       "    </tr>\n",
       "    <tr>\n",
       "      <th>ColTotal</th>\n",
       "      <td>10120.000000</td>\n",
       "      <td>2796.000000</td>\n",
       "      <td>12916.000000</td>\n",
       "    </tr>\n",
       "    <tr>\n",
       "      <th>No</th>\n",
       "      <td>0.872925</td>\n",
       "      <td>0.670601</td>\n",
       "      <td>0.829127</td>\n",
       "    </tr>\n",
       "    <tr>\n",
       "      <th>Yes</th>\n",
       "      <td>0.127075</td>\n",
       "      <td>0.329399</td>\n",
       "      <td>0.170873</td>\n",
       "    </tr>\n",
       "    <tr>\n",
       "      <th>ColTotal</th>\n",
       "      <td>1.000000</td>\n",
       "      <td>1.000000</td>\n",
       "      <td>1.000000</td>\n",
       "    </tr>\n",
       "  </tbody>\n",
       "</table>\n",
       "</div>"
      ],
      "text/plain": [
       "                  Good          Bad      RowTotal\n",
       "No         8834.000000  1875.000000  10709.000000\n",
       "Yes        1286.000000   921.000000   2207.000000\n",
       "ColTotal  10120.000000  2796.000000  12916.000000\n",
       "No            0.872925     0.670601      0.829127\n",
       "Yes           0.127075     0.329399      0.170873\n",
       "ColTotal      1.000000     1.000000      1.000000"
      ]
     },
     "execution_count": 64,
     "metadata": {},
     "output_type": "execute_result"
    }
   ],
   "source": [
    "#Setup for proportion\n",
    "ft = pd.crosstab(index=nhis['DEPRESS'], columns=nhis['GEN_HEALTH'], margins = True)\n",
    "ft.columns = [\"Good\", \"Bad\", \"RowTotal\"]\n",
    "ft.index = [\"No\",\"Yes\",\"ColTotal\"]\n",
    "#Proportion by total\n",
    "ft2 = ft/ft.loc[\"ColTotal\"]\n",
    "#Proportion by total\n",
    "ft = ft.append(ft2)\n",
    "ft"
   ]
  },
  {
   "cell_type": "markdown",
   "id": "2de6ffec",
   "metadata": {},
   "source": [
    "MARRIAGE\n",
    "==="
   ]
  },
  {
   "cell_type": "code",
   "execution_count": 65,
   "id": "c8b2a2d6",
   "metadata": {},
   "outputs": [
    {
     "data": {
      "text/plain": [
       "(142.87662135474338, 6.254709469375954e-33, 1)"
      ]
     },
     "execution_count": 65,
     "metadata": {},
     "output_type": "execute_result"
    }
   ],
   "source": [
    "from scipy.stats import chi2_contingency\n",
    "#Single\n",
    "ft = pd.crosstab(index=nhis['MARITAL_STATUS'], columns=nhis['GEN_HEALTH'])\n",
    "c, p, dof, expected = chi2_contingency(ft)\n",
    "c, p, dof"
   ]
  },
  {
   "cell_type": "code",
   "execution_count": 66,
   "id": "a30abc72",
   "metadata": {},
   "outputs": [
    {
     "data": {
      "text/plain": [
       "1    0.550712\n",
       "0    0.449288\n",
       "Name: MARITAL_STATUS, dtype: float64"
      ]
     },
     "execution_count": 66,
     "metadata": {},
     "output_type": "execute_result"
    }
   ],
   "source": [
    "nhis['MARITAL_STATUS'].value_counts(normalize=True)"
   ]
  },
  {
   "cell_type": "code",
   "execution_count": 67,
   "id": "646495af",
   "metadata": {},
   "outputs": [
    {
     "data": {
      "text/html": [
       "<div>\n",
       "<style scoped>\n",
       "    .dataframe tbody tr th:only-of-type {\n",
       "        vertical-align: middle;\n",
       "    }\n",
       "\n",
       "    .dataframe tbody tr th {\n",
       "        vertical-align: top;\n",
       "    }\n",
       "\n",
       "    .dataframe thead th {\n",
       "        text-align: right;\n",
       "    }\n",
       "</style>\n",
       "<table border=\"1\" class=\"dataframe\">\n",
       "  <thead>\n",
       "    <tr style=\"text-align: right;\">\n",
       "      <th></th>\n",
       "      <th>Good</th>\n",
       "      <th>Bad</th>\n",
       "      <th>RowTotal</th>\n",
       "    </tr>\n",
       "  </thead>\n",
       "  <tbody>\n",
       "    <tr>\n",
       "      <th>No</th>\n",
       "      <td>4268.000000</td>\n",
       "      <td>1535.000000</td>\n",
       "      <td>5803.000000</td>\n",
       "    </tr>\n",
       "    <tr>\n",
       "      <th>Yes</th>\n",
       "      <td>5852.000000</td>\n",
       "      <td>1261.000000</td>\n",
       "      <td>7113.000000</td>\n",
       "    </tr>\n",
       "    <tr>\n",
       "      <th>ColTotal</th>\n",
       "      <td>10120.000000</td>\n",
       "      <td>2796.000000</td>\n",
       "      <td>12916.000000</td>\n",
       "    </tr>\n",
       "    <tr>\n",
       "      <th>No</th>\n",
       "      <td>0.421739</td>\n",
       "      <td>0.548999</td>\n",
       "      <td>0.449288</td>\n",
       "    </tr>\n",
       "    <tr>\n",
       "      <th>Yes</th>\n",
       "      <td>0.578261</td>\n",
       "      <td>0.451001</td>\n",
       "      <td>0.550712</td>\n",
       "    </tr>\n",
       "    <tr>\n",
       "      <th>ColTotal</th>\n",
       "      <td>1.000000</td>\n",
       "      <td>1.000000</td>\n",
       "      <td>1.000000</td>\n",
       "    </tr>\n",
       "  </tbody>\n",
       "</table>\n",
       "</div>"
      ],
      "text/plain": [
       "                  Good          Bad      RowTotal\n",
       "No         4268.000000  1535.000000   5803.000000\n",
       "Yes        5852.000000  1261.000000   7113.000000\n",
       "ColTotal  10120.000000  2796.000000  12916.000000\n",
       "No            0.421739     0.548999      0.449288\n",
       "Yes           0.578261     0.451001      0.550712\n",
       "ColTotal      1.000000     1.000000      1.000000"
      ]
     },
     "execution_count": 67,
     "metadata": {},
     "output_type": "execute_result"
    }
   ],
   "source": [
    "#Setup for proportion\n",
    "ft = pd.crosstab(index=nhis['MARITAL_STATUS'], columns=nhis['GEN_HEALTH'], margins = True)\n",
    "ft.columns = [\"Good\", \"Bad\", \"RowTotal\"]\n",
    "ft.index = [\"No\",\"Yes\",\"ColTotal\"]\n",
    "#Proportion by total\n",
    "ft2 = ft/ft.loc[\"ColTotal\"]\n",
    "#Proportion by total\n",
    "ft = ft.append(ft2)\n",
    "ft"
   ]
  },
  {
   "cell_type": "markdown",
   "id": "92aea0c3",
   "metadata": {},
   "source": [
    "EMPLOYMENT\n",
    "==="
   ]
  },
  {
   "cell_type": "code",
   "execution_count": 68,
   "id": "f501e717",
   "metadata": {},
   "outputs": [
    {
     "data": {
      "text/plain": [
       "(1633.9391904239653, 0.0, 3)"
      ]
     },
     "execution_count": 68,
     "metadata": {},
     "output_type": "execute_result"
    }
   ],
   "source": [
    "from scipy.stats import chi2_contingency\n",
    "#Single\n",
    "ft = pd.crosstab(index=nhis['EMPLOY'], columns=nhis['GEN_HEALTH'])\n",
    "c, p, dof, expected = chi2_contingency(ft)\n",
    "c, p, dof"
   ]
  },
  {
   "cell_type": "code",
   "execution_count": 69,
   "id": "cd9ffa99",
   "metadata": {},
   "outputs": [
    {
     "data": {
      "text/plain": [
       "2.0    0.536389\n",
       "1.0    0.352973\n",
       "3.0    0.074404\n",
       "0.0    0.036234\n",
       "Name: EMPLOY, dtype: float64"
      ]
     },
     "execution_count": 69,
     "metadata": {},
     "output_type": "execute_result"
    }
   ],
   "source": [
    "nhis['EMPLOY'].value_counts(normalize=True)"
   ]
  },
  {
   "cell_type": "code",
   "execution_count": 70,
   "id": "40a3fa09",
   "metadata": {},
   "outputs": [
    {
     "data": {
      "text/html": [
       "<div>\n",
       "<style scoped>\n",
       "    .dataframe tbody tr th:only-of-type {\n",
       "        vertical-align: middle;\n",
       "    }\n",
       "\n",
       "    .dataframe tbody tr th {\n",
       "        vertical-align: top;\n",
       "    }\n",
       "\n",
       "    .dataframe thead th {\n",
       "        text-align: right;\n",
       "    }\n",
       "</style>\n",
       "<table border=\"1\" class=\"dataframe\">\n",
       "  <thead>\n",
       "    <tr style=\"text-align: right;\">\n",
       "      <th></th>\n",
       "      <th>Good</th>\n",
       "      <th>Bad</th>\n",
       "      <th>Row Total</th>\n",
       "    </tr>\n",
       "  </thead>\n",
       "  <tbody>\n",
       "    <tr>\n",
       "      <th>Unemployed</th>\n",
       "      <td>364.000000</td>\n",
       "      <td>104.000000</td>\n",
       "      <td>468.000000</td>\n",
       "    </tr>\n",
       "    <tr>\n",
       "      <th>Employed</th>\n",
       "      <td>4137.000000</td>\n",
       "      <td>422.000000</td>\n",
       "      <td>4559.000000</td>\n",
       "    </tr>\n",
       "    <tr>\n",
       "      <th>Retired</th>\n",
       "      <td>5310.000000</td>\n",
       "      <td>1618.000000</td>\n",
       "      <td>6928.000000</td>\n",
       "    </tr>\n",
       "    <tr>\n",
       "      <th>Disabled</th>\n",
       "      <td>309.000000</td>\n",
       "      <td>652.000000</td>\n",
       "      <td>961.000000</td>\n",
       "    </tr>\n",
       "    <tr>\n",
       "      <th>ColTotal</th>\n",
       "      <td>10120.000000</td>\n",
       "      <td>2796.000000</td>\n",
       "      <td>12916.000000</td>\n",
       "    </tr>\n",
       "    <tr>\n",
       "      <th>Unemployed</th>\n",
       "      <td>0.035968</td>\n",
       "      <td>0.037196</td>\n",
       "      <td>0.036234</td>\n",
       "    </tr>\n",
       "    <tr>\n",
       "      <th>Employed</th>\n",
       "      <td>0.408794</td>\n",
       "      <td>0.150930</td>\n",
       "      <td>0.352973</td>\n",
       "    </tr>\n",
       "    <tr>\n",
       "      <th>Retired</th>\n",
       "      <td>0.524704</td>\n",
       "      <td>0.578684</td>\n",
       "      <td>0.536389</td>\n",
       "    </tr>\n",
       "    <tr>\n",
       "      <th>Disabled</th>\n",
       "      <td>0.030534</td>\n",
       "      <td>0.233190</td>\n",
       "      <td>0.074404</td>\n",
       "    </tr>\n",
       "    <tr>\n",
       "      <th>ColTotal</th>\n",
       "      <td>1.000000</td>\n",
       "      <td>1.000000</td>\n",
       "      <td>1.000000</td>\n",
       "    </tr>\n",
       "  </tbody>\n",
       "</table>\n",
       "</div>"
      ],
      "text/plain": [
       "                    Good          Bad     Row Total\n",
       "Unemployed    364.000000   104.000000    468.000000\n",
       "Employed     4137.000000   422.000000   4559.000000\n",
       "Retired      5310.000000  1618.000000   6928.000000\n",
       "Disabled      309.000000   652.000000    961.000000\n",
       "ColTotal    10120.000000  2796.000000  12916.000000\n",
       "Unemployed      0.035968     0.037196      0.036234\n",
       "Employed        0.408794     0.150930      0.352973\n",
       "Retired         0.524704     0.578684      0.536389\n",
       "Disabled        0.030534     0.233190      0.074404\n",
       "ColTotal        1.000000     1.000000      1.000000"
      ]
     },
     "execution_count": 70,
     "metadata": {},
     "output_type": "execute_result"
    }
   ],
   "source": [
    "#Setup for proportion\n",
    "ft = pd.crosstab(index=nhis['EMPLOY'], columns=nhis['GEN_HEALTH'], margins = True)\n",
    "ft.columns = [\"Good\", \"Bad\", \"Row Total\"] #this is where an issue is at\n",
    "ft.index = [\"Unemployed\",\"Employed\", \"Retired\", \"Disabled\", \"ColTotal\"]\n",
    "#Proportion by total\n",
    "ft2 = ft/ft.loc[\"ColTotal\"]\n",
    "#Proportion by total\n",
    "ft = ft.append(ft2)\n",
    "ft"
   ]
  },
  {
   "cell_type": "markdown",
   "id": "75936d21",
   "metadata": {},
   "source": [
    "AGE_BINS\n",
    "==="
   ]
  },
  {
   "cell_type": "code",
   "execution_count": 71,
   "id": "18635c30",
   "metadata": {},
   "outputs": [
    {
     "data": {
      "text/plain": [
       "(62.90046824545498, 2.1945064716843975e-14, 2)"
      ]
     },
     "execution_count": 71,
     "metadata": {},
     "output_type": "execute_result"
    }
   ],
   "source": [
    "from scipy.stats import chi2_contingency\n",
    "#Single\n",
    "ft = pd.crosstab(index=nhis['AGE_BINS'], columns=nhis['GEN_HEALTH'])\n",
    "c, p, dof, expected = chi2_contingency(ft)\n",
    "c, p, dof"
   ]
  },
  {
   "cell_type": "code",
   "execution_count": 72,
   "id": "e0e4349a",
   "metadata": {},
   "outputs": [
    {
     "data": {
      "text/plain": [
       "1    0.367374\n",
       "2    0.355141\n",
       "3    0.277485\n",
       "Name: AGE_BINS, dtype: float64"
      ]
     },
     "execution_count": 72,
     "metadata": {},
     "output_type": "execute_result"
    }
   ],
   "source": [
    "nhis['AGE_BINS'].value_counts(normalize=True)"
   ]
  },
  {
   "cell_type": "code",
   "execution_count": 73,
   "id": "6285978d",
   "metadata": {},
   "outputs": [
    {
     "data": {
      "text/html": [
       "<div>\n",
       "<style scoped>\n",
       "    .dataframe tbody tr th:only-of-type {\n",
       "        vertical-align: middle;\n",
       "    }\n",
       "\n",
       "    .dataframe tbody tr th {\n",
       "        vertical-align: top;\n",
       "    }\n",
       "\n",
       "    .dataframe thead th {\n",
       "        text-align: right;\n",
       "    }\n",
       "</style>\n",
       "<table border=\"1\" class=\"dataframe\">\n",
       "  <thead>\n",
       "    <tr style=\"text-align: right;\">\n",
       "      <th></th>\n",
       "      <th>Good</th>\n",
       "      <th>Bad</th>\n",
       "      <th>RowTotal</th>\n",
       "    </tr>\n",
       "  </thead>\n",
       "  <tbody>\n",
       "    <tr>\n",
       "      <th>55s</th>\n",
       "      <td>3798.000000</td>\n",
       "      <td>947.000000</td>\n",
       "      <td>4745.000000</td>\n",
       "    </tr>\n",
       "    <tr>\n",
       "      <th>65s</th>\n",
       "      <td>3680.000000</td>\n",
       "      <td>907.000000</td>\n",
       "      <td>4587.000000</td>\n",
       "    </tr>\n",
       "    <tr>\n",
       "      <th>75s+</th>\n",
       "      <td>2642.000000</td>\n",
       "      <td>942.000000</td>\n",
       "      <td>3584.000000</td>\n",
       "    </tr>\n",
       "    <tr>\n",
       "      <th>ColTotal</th>\n",
       "      <td>10120.000000</td>\n",
       "      <td>2796.000000</td>\n",
       "      <td>12916.000000</td>\n",
       "    </tr>\n",
       "    <tr>\n",
       "      <th>55s</th>\n",
       "      <td>0.375296</td>\n",
       "      <td>0.338698</td>\n",
       "      <td>0.367374</td>\n",
       "    </tr>\n",
       "    <tr>\n",
       "      <th>65s</th>\n",
       "      <td>0.363636</td>\n",
       "      <td>0.324392</td>\n",
       "      <td>0.355141</td>\n",
       "    </tr>\n",
       "    <tr>\n",
       "      <th>75s+</th>\n",
       "      <td>0.261067</td>\n",
       "      <td>0.336910</td>\n",
       "      <td>0.277485</td>\n",
       "    </tr>\n",
       "    <tr>\n",
       "      <th>ColTotal</th>\n",
       "      <td>1.000000</td>\n",
       "      <td>1.000000</td>\n",
       "      <td>1.000000</td>\n",
       "    </tr>\n",
       "  </tbody>\n",
       "</table>\n",
       "</div>"
      ],
      "text/plain": [
       "                  Good          Bad      RowTotal\n",
       "55s        3798.000000   947.000000   4745.000000\n",
       "65s        3680.000000   907.000000   4587.000000\n",
       "75s+       2642.000000   942.000000   3584.000000\n",
       "ColTotal  10120.000000  2796.000000  12916.000000\n",
       "55s           0.375296     0.338698      0.367374\n",
       "65s           0.363636     0.324392      0.355141\n",
       "75s+          0.261067     0.336910      0.277485\n",
       "ColTotal      1.000000     1.000000      1.000000"
      ]
     },
     "execution_count": 73,
     "metadata": {},
     "output_type": "execute_result"
    }
   ],
   "source": [
    "#Setup for proportion\n",
    "ft = pd.crosstab(index=nhis['AGE_BINS'], columns=nhis['GEN_HEALTH'], margins = True)\n",
    "ft.columns = [\"Good\", \"Bad\", \"RowTotal\"]\n",
    "ft.index = [\"55s\",\"65s\",\"75s+\",\"ColTotal\"]\n",
    "#Proportion by total\n",
    "ft2 = ft/ft.loc[\"ColTotal\"]\n",
    "#Proportion by total\n",
    "ft = ft.append(ft2)\n",
    "ft"
   ]
  },
  {
   "cell_type": "markdown",
   "id": "0d067729",
   "metadata": {},
   "source": [
    "CHRONIC\n",
    "==="
   ]
  },
  {
   "cell_type": "code",
   "execution_count": 74,
   "id": "186c32bf",
   "metadata": {},
   "outputs": [
    {
     "data": {
      "text/plain": [
       "(909.8710629850453, 7.014281256146012e-200, 1)"
      ]
     },
     "execution_count": 74,
     "metadata": {},
     "output_type": "execute_result"
    }
   ],
   "source": [
    "from scipy.stats import chi2_contingency\n",
    "#Single\n",
    "ft = pd.crosstab(index=nhis['CHRONIC'], columns=nhis['GEN_HEALTH'])\n",
    "c, p, dof, expected = chi2_contingency(ft)\n",
    "c, p, dof"
   ]
  },
  {
   "cell_type": "code",
   "execution_count": 75,
   "id": "26e95225",
   "metadata": {},
   "outputs": [
    {
     "data": {
      "text/plain": [
       "1    0.656705\n",
       "0    0.343295\n",
       "Name: CHRONIC, dtype: float64"
      ]
     },
     "execution_count": 75,
     "metadata": {},
     "output_type": "execute_result"
    }
   ],
   "source": [
    "nhis['CHRONIC'].value_counts(normalize=True)"
   ]
  },
  {
   "cell_type": "code",
   "execution_count": 76,
   "id": "35bfb36b",
   "metadata": {},
   "outputs": [
    {
     "data": {
      "text/html": [
       "<div>\n",
       "<style scoped>\n",
       "    .dataframe tbody tr th:only-of-type {\n",
       "        vertical-align: middle;\n",
       "    }\n",
       "\n",
       "    .dataframe tbody tr th {\n",
       "        vertical-align: top;\n",
       "    }\n",
       "\n",
       "    .dataframe thead th {\n",
       "        text-align: right;\n",
       "    }\n",
       "</style>\n",
       "<table border=\"1\" class=\"dataframe\">\n",
       "  <thead>\n",
       "    <tr style=\"text-align: right;\">\n",
       "      <th></th>\n",
       "      <th>Good</th>\n",
       "      <th>Bad</th>\n",
       "      <th>RowTotal</th>\n",
       "    </tr>\n",
       "  </thead>\n",
       "  <tbody>\n",
       "    <tr>\n",
       "      <th>No</th>\n",
       "      <td>4145.000000</td>\n",
       "      <td>289.000000</td>\n",
       "      <td>4434.000000</td>\n",
       "    </tr>\n",
       "    <tr>\n",
       "      <th>Yes</th>\n",
       "      <td>5975.000000</td>\n",
       "      <td>2507.000000</td>\n",
       "      <td>8482.000000</td>\n",
       "    </tr>\n",
       "    <tr>\n",
       "      <th>ColTotal</th>\n",
       "      <td>10120.000000</td>\n",
       "      <td>2796.000000</td>\n",
       "      <td>12916.000000</td>\n",
       "    </tr>\n",
       "    <tr>\n",
       "      <th>No</th>\n",
       "      <td>0.409585</td>\n",
       "      <td>0.103362</td>\n",
       "      <td>0.343295</td>\n",
       "    </tr>\n",
       "    <tr>\n",
       "      <th>Yes</th>\n",
       "      <td>0.590415</td>\n",
       "      <td>0.896638</td>\n",
       "      <td>0.656705</td>\n",
       "    </tr>\n",
       "    <tr>\n",
       "      <th>ColTotal</th>\n",
       "      <td>1.000000</td>\n",
       "      <td>1.000000</td>\n",
       "      <td>1.000000</td>\n",
       "    </tr>\n",
       "  </tbody>\n",
       "</table>\n",
       "</div>"
      ],
      "text/plain": [
       "                  Good          Bad      RowTotal\n",
       "No         4145.000000   289.000000   4434.000000\n",
       "Yes        5975.000000  2507.000000   8482.000000\n",
       "ColTotal  10120.000000  2796.000000  12916.000000\n",
       "No            0.409585     0.103362      0.343295\n",
       "Yes           0.590415     0.896638      0.656705\n",
       "ColTotal      1.000000     1.000000      1.000000"
      ]
     },
     "execution_count": 76,
     "metadata": {},
     "output_type": "execute_result"
    }
   ],
   "source": [
    "#Setup for proportion\n",
    "ft = pd.crosstab(index=nhis['CHRONIC'], columns=nhis['GEN_HEALTH'], margins = True)\n",
    "ft.columns = [\"Good\", \"Bad\", \"RowTotal\"]\n",
    "ft.index = [\"No\",\"Yes\",\"ColTotal\"]\n",
    "#Proportion by total\n",
    "ft2 = ft/ft.loc[\"ColTotal\"]\n",
    "#Proportion by total\n",
    "ft = ft.append(ft2)\n",
    "ft"
   ]
  },
  {
   "cell_type": "markdown",
   "id": "78814da9",
   "metadata": {},
   "source": [
    "COLLEGE\n",
    "==="
   ]
  },
  {
   "cell_type": "code",
   "execution_count": 77,
   "id": "b05070f8",
   "metadata": {},
   "outputs": [
    {
     "data": {
      "text/plain": [
       "(381.24418254284336, 6.669362224515827e-85, 1)"
      ]
     },
     "execution_count": 77,
     "metadata": {},
     "output_type": "execute_result"
    }
   ],
   "source": [
    "from scipy.stats import chi2_contingency\n",
    "#Single\n",
    "ft = pd.crosstab(index=nhis['COLLEGE'], columns=nhis['GEN_HEALTH'])\n",
    "c, p, dof, expected = chi2_contingency(ft)\n",
    "c, p, dof"
   ]
  },
  {
   "cell_type": "code",
   "execution_count": 78,
   "id": "fa9667cb",
   "metadata": {},
   "outputs": [
    {
     "data": {
      "text/plain": [
       "1    0.61389\n",
       "0    0.38611\n",
       "Name: COLLEGE, dtype: float64"
      ]
     },
     "execution_count": 78,
     "metadata": {},
     "output_type": "execute_result"
    }
   ],
   "source": [
    "nhis['COLLEGE'].value_counts(normalize=True)"
   ]
  },
  {
   "cell_type": "code",
   "execution_count": 79,
   "id": "4d42bd99",
   "metadata": {},
   "outputs": [
    {
     "data": {
      "text/html": [
       "<div>\n",
       "<style scoped>\n",
       "    .dataframe tbody tr th:only-of-type {\n",
       "        vertical-align: middle;\n",
       "    }\n",
       "\n",
       "    .dataframe tbody tr th {\n",
       "        vertical-align: top;\n",
       "    }\n",
       "\n",
       "    .dataframe thead th {\n",
       "        text-align: right;\n",
       "    }\n",
       "</style>\n",
       "<table border=\"1\" class=\"dataframe\">\n",
       "  <thead>\n",
       "    <tr style=\"text-align: right;\">\n",
       "      <th></th>\n",
       "      <th>Good</th>\n",
       "      <th>Bad</th>\n",
       "      <th>RowTotal</th>\n",
       "    </tr>\n",
       "  </thead>\n",
       "  <tbody>\n",
       "    <tr>\n",
       "      <th>No</th>\n",
       "      <td>3462.000000</td>\n",
       "      <td>1525.000000</td>\n",
       "      <td>4987.00000</td>\n",
       "    </tr>\n",
       "    <tr>\n",
       "      <th>Yes</th>\n",
       "      <td>6658.000000</td>\n",
       "      <td>1271.000000</td>\n",
       "      <td>7929.00000</td>\n",
       "    </tr>\n",
       "    <tr>\n",
       "      <th>ColTotal</th>\n",
       "      <td>10120.000000</td>\n",
       "      <td>2796.000000</td>\n",
       "      <td>12916.00000</td>\n",
       "    </tr>\n",
       "    <tr>\n",
       "      <th>No</th>\n",
       "      <td>0.342095</td>\n",
       "      <td>0.545422</td>\n",
       "      <td>0.38611</td>\n",
       "    </tr>\n",
       "    <tr>\n",
       "      <th>Yes</th>\n",
       "      <td>0.657905</td>\n",
       "      <td>0.454578</td>\n",
       "      <td>0.61389</td>\n",
       "    </tr>\n",
       "    <tr>\n",
       "      <th>ColTotal</th>\n",
       "      <td>1.000000</td>\n",
       "      <td>1.000000</td>\n",
       "      <td>1.00000</td>\n",
       "    </tr>\n",
       "  </tbody>\n",
       "</table>\n",
       "</div>"
      ],
      "text/plain": [
       "                  Good          Bad     RowTotal\n",
       "No         3462.000000  1525.000000   4987.00000\n",
       "Yes        6658.000000  1271.000000   7929.00000\n",
       "ColTotal  10120.000000  2796.000000  12916.00000\n",
       "No            0.342095     0.545422      0.38611\n",
       "Yes           0.657905     0.454578      0.61389\n",
       "ColTotal      1.000000     1.000000      1.00000"
      ]
     },
     "execution_count": 79,
     "metadata": {},
     "output_type": "execute_result"
    }
   ],
   "source": [
    "#Setup for proportion\n",
    "ft = pd.crosstab(index=nhis['COLLEGE'], columns=nhis['GEN_HEALTH'], margins = True)\n",
    "ft.columns = [\"Good\", \"Bad\", \"RowTotal\"]\n",
    "ft.index = [\"No\",\"Yes\", \"ColTotal\"]\n",
    "#Proportion by total\n",
    "ft2 = ft/ft.loc[\"ColTotal\"]\n",
    "#Proportion by total\n",
    "ft = ft.append(ft2)\n",
    "ft"
   ]
  },
  {
   "cell_type": "markdown",
   "id": "5d91cb74",
   "metadata": {},
   "source": [
    "Looking at Data Types\n",
    "===="
   ]
  },
  {
   "cell_type": "code",
   "execution_count": 80,
   "id": "8521261e",
   "metadata": {},
   "outputs": [
    {
     "data": {
      "text/html": [
       "<div>\n",
       "<style scoped>\n",
       "    .dataframe tbody tr th:only-of-type {\n",
       "        vertical-align: middle;\n",
       "    }\n",
       "\n",
       "    .dataframe tbody tr th {\n",
       "        vertical-align: top;\n",
       "    }\n",
       "\n",
       "    .dataframe thead th {\n",
       "        text-align: right;\n",
       "    }\n",
       "</style>\n",
       "<table border=\"1\" class=\"dataframe\">\n",
       "  <thead>\n",
       "    <tr style=\"text-align: right;\">\n",
       "      <th></th>\n",
       "      <th>count</th>\n",
       "      <th>unique</th>\n",
       "      <th>top</th>\n",
       "      <th>freq</th>\n",
       "    </tr>\n",
       "  </thead>\n",
       "  <tbody>\n",
       "    <tr>\n",
       "      <th>GEN_HEALTH</th>\n",
       "      <td>12916</td>\n",
       "      <td>2</td>\n",
       "      <td>0</td>\n",
       "      <td>10120</td>\n",
       "    </tr>\n",
       "    <tr>\n",
       "      <th>SEX</th>\n",
       "      <td>12916</td>\n",
       "      <td>2</td>\n",
       "      <td>0</td>\n",
       "      <td>7328</td>\n",
       "    </tr>\n",
       "    <tr>\n",
       "      <th>MARITAL_STATUS</th>\n",
       "      <td>12916</td>\n",
       "      <td>2</td>\n",
       "      <td>1</td>\n",
       "      <td>7113</td>\n",
       "    </tr>\n",
       "    <tr>\n",
       "      <th>EMPLOY</th>\n",
       "      <td>12916</td>\n",
       "      <td>4</td>\n",
       "      <td>2.0</td>\n",
       "      <td>6928</td>\n",
       "    </tr>\n",
       "    <tr>\n",
       "      <th>DEPRESS</th>\n",
       "      <td>12916</td>\n",
       "      <td>2</td>\n",
       "      <td>0</td>\n",
       "      <td>10709</td>\n",
       "    </tr>\n",
       "    <tr>\n",
       "      <th>AGE_BINS</th>\n",
       "      <td>12916</td>\n",
       "      <td>3</td>\n",
       "      <td>1</td>\n",
       "      <td>4745</td>\n",
       "    </tr>\n",
       "    <tr>\n",
       "      <th>COLLEGE</th>\n",
       "      <td>12916</td>\n",
       "      <td>2</td>\n",
       "      <td>1</td>\n",
       "      <td>7929</td>\n",
       "    </tr>\n",
       "    <tr>\n",
       "      <th>CHRONIC</th>\n",
       "      <td>12916</td>\n",
       "      <td>2</td>\n",
       "      <td>1</td>\n",
       "      <td>8482</td>\n",
       "    </tr>\n",
       "  </tbody>\n",
       "</table>\n",
       "</div>"
      ],
      "text/plain": [
       "                count unique  top   freq\n",
       "GEN_HEALTH      12916      2    0  10120\n",
       "SEX             12916      2    0   7328\n",
       "MARITAL_STATUS  12916      2    1   7113\n",
       "EMPLOY          12916      4  2.0   6928\n",
       "DEPRESS         12916      2    0  10709\n",
       "AGE_BINS        12916      3    1   4745\n",
       "COLLEGE         12916      2    1   7929\n",
       "CHRONIC         12916      2    1   8482"
      ]
     },
     "execution_count": 80,
     "metadata": {},
     "output_type": "execute_result"
    }
   ],
   "source": [
    "#quick summary stats:numeric\n",
    "nhis.describe().T"
   ]
  },
  {
   "cell_type": "code",
   "execution_count": 81,
   "id": "6913f8be",
   "metadata": {},
   "outputs": [
    {
     "data": {
      "text/html": [
       "<div>\n",
       "<style scoped>\n",
       "    .dataframe tbody tr th:only-of-type {\n",
       "        vertical-align: middle;\n",
       "    }\n",
       "\n",
       "    .dataframe tbody tr th {\n",
       "        vertical-align: top;\n",
       "    }\n",
       "\n",
       "    .dataframe thead th {\n",
       "        text-align: right;\n",
       "    }\n",
       "</style>\n",
       "<table border=\"1\" class=\"dataframe\">\n",
       "  <thead>\n",
       "    <tr style=\"text-align: right;\">\n",
       "      <th></th>\n",
       "      <th>GEN_HEALTH</th>\n",
       "      <th>SEX</th>\n",
       "      <th>MARITAL_STATUS</th>\n",
       "      <th>EMPLOY</th>\n",
       "      <th>DEPRESS</th>\n",
       "      <th>AGE_BINS</th>\n",
       "      <th>COLLEGE</th>\n",
       "      <th>CHRONIC</th>\n",
       "    </tr>\n",
       "  </thead>\n",
       "  <tbody>\n",
       "    <tr>\n",
       "      <th>count</th>\n",
       "      <td>12916</td>\n",
       "      <td>12916</td>\n",
       "      <td>12916</td>\n",
       "      <td>12916</td>\n",
       "      <td>12916</td>\n",
       "      <td>12916</td>\n",
       "      <td>12916</td>\n",
       "      <td>12916</td>\n",
       "    </tr>\n",
       "    <tr>\n",
       "      <th>unique</th>\n",
       "      <td>2</td>\n",
       "      <td>2</td>\n",
       "      <td>2</td>\n",
       "      <td>4</td>\n",
       "      <td>2</td>\n",
       "      <td>3</td>\n",
       "      <td>2</td>\n",
       "      <td>2</td>\n",
       "    </tr>\n",
       "    <tr>\n",
       "      <th>top</th>\n",
       "      <td>0</td>\n",
       "      <td>0</td>\n",
       "      <td>1</td>\n",
       "      <td>2.0</td>\n",
       "      <td>0</td>\n",
       "      <td>1</td>\n",
       "      <td>1</td>\n",
       "      <td>1</td>\n",
       "    </tr>\n",
       "    <tr>\n",
       "      <th>freq</th>\n",
       "      <td>10120</td>\n",
       "      <td>7328</td>\n",
       "      <td>7113</td>\n",
       "      <td>6928</td>\n",
       "      <td>10709</td>\n",
       "      <td>4745</td>\n",
       "      <td>7929</td>\n",
       "      <td>8482</td>\n",
       "    </tr>\n",
       "  </tbody>\n",
       "</table>\n",
       "</div>"
      ],
      "text/plain": [
       "       GEN_HEALTH    SEX MARITAL_STATUS EMPLOY DEPRESS AGE_BINS COLLEGE  \\\n",
       "count       12916  12916          12916  12916   12916    12916   12916   \n",
       "unique          2      2              2      4       2        3       2   \n",
       "top             0      0              1    2.0       0        1       1   \n",
       "freq        10120   7328           7113   6928   10709     4745    7929   \n",
       "\n",
       "       CHRONIC  \n",
       "count    12916  \n",
       "unique       2  \n",
       "top          1  \n",
       "freq      8482  "
      ]
     },
     "execution_count": 81,
     "metadata": {},
     "output_type": "execute_result"
    }
   ],
   "source": [
    "#quick summary stats:categorical\n",
    "nhis.describe(include='object')"
   ]
  },
  {
   "cell_type": "code",
   "execution_count": 82,
   "id": "331cc099",
   "metadata": {},
   "outputs": [
    {
     "data": {
      "text/html": [
       "<div>\n",
       "<style scoped>\n",
       "    .dataframe tbody tr th:only-of-type {\n",
       "        vertical-align: middle;\n",
       "    }\n",
       "\n",
       "    .dataframe tbody tr th {\n",
       "        vertical-align: top;\n",
       "    }\n",
       "\n",
       "    .dataframe thead th {\n",
       "        text-align: right;\n",
       "    }\n",
       "</style>\n",
       "<table border=\"1\" class=\"dataframe\">\n",
       "  <thead>\n",
       "    <tr style=\"text-align: right;\">\n",
       "      <th></th>\n",
       "      <th>Unique Values</th>\n",
       "    </tr>\n",
       "    <tr>\n",
       "      <th>Variable</th>\n",
       "      <th></th>\n",
       "    </tr>\n",
       "  </thead>\n",
       "  <tbody>\n",
       "    <tr>\n",
       "      <th>GEN_HEALTH</th>\n",
       "      <td>2</td>\n",
       "    </tr>\n",
       "    <tr>\n",
       "      <th>SEX</th>\n",
       "      <td>2</td>\n",
       "    </tr>\n",
       "    <tr>\n",
       "      <th>MARITAL_STATUS</th>\n",
       "      <td>2</td>\n",
       "    </tr>\n",
       "    <tr>\n",
       "      <th>EMPLOY</th>\n",
       "      <td>4</td>\n",
       "    </tr>\n",
       "    <tr>\n",
       "      <th>DEPRESS</th>\n",
       "      <td>2</td>\n",
       "    </tr>\n",
       "    <tr>\n",
       "      <th>AGE_BINS</th>\n",
       "      <td>3</td>\n",
       "    </tr>\n",
       "    <tr>\n",
       "      <th>COLLEGE</th>\n",
       "      <td>2</td>\n",
       "    </tr>\n",
       "    <tr>\n",
       "      <th>CHRONIC</th>\n",
       "      <td>2</td>\n",
       "    </tr>\n",
       "  </tbody>\n",
       "</table>\n",
       "</div>"
      ],
      "text/plain": [
       "                Unique Values\n",
       "Variable                     \n",
       "GEN_HEALTH                  2\n",
       "SEX                         2\n",
       "MARITAL_STATUS              2\n",
       "EMPLOY                      4\n",
       "DEPRESS                     2\n",
       "AGE_BINS                    3\n",
       "COLLEGE                     2\n",
       "CHRONIC                     2"
      ]
     },
     "execution_count": 82,
     "metadata": {},
     "output_type": "execute_result"
    }
   ],
   "source": [
    "### Look at Unique Variables\n",
    "nhis_uniques = pd.DataFrame([[i, len(nhis[i].unique())] for i in nhis.columns], columns=['Variable', 'Unique Values']).set_index('Variable')\n",
    "nhis_uniques"
   ]
  },
  {
   "cell_type": "code",
   "execution_count": 83,
   "id": "70022ae5",
   "metadata": {},
   "outputs": [
    {
     "data": {
      "text/plain": [
       "['GEN_HEALTH', 'SEX', 'MARITAL_STATUS', 'DEPRESS', 'COLLEGE', 'CHRONIC']"
      ]
     },
     "execution_count": 83,
     "metadata": {},
     "output_type": "execute_result"
    }
   ],
   "source": [
    "#look at binary variables\n",
    "binary_variables = list(nhis_uniques[nhis_uniques['Unique Values'].between(1, 2, inclusive = 'both')].index)\n",
    "binary_variables"
   ]
  },
  {
   "cell_type": "code",
   "execution_count": 84,
   "id": "f378647d",
   "metadata": {},
   "outputs": [
    {
     "data": {
      "text/plain": [
       "['EMPLOY', 'AGE_BINS']"
      ]
     },
     "execution_count": 84,
     "metadata": {},
     "output_type": "execute_result"
    }
   ],
   "source": [
    "#look at multi-nominal\n",
    "categorical_variables = list(nhis_uniques[(10>= nhis_uniques['Unique Values']) & (nhis_uniques['Unique Values'] > 2)].index)\n",
    "categorical_variables"
   ]
  },
  {
   "cell_type": "code",
   "execution_count": 85,
   "id": "80285cc0",
   "metadata": {},
   "outputs": [
    {
     "data": {
      "text/plain": [
       "[['EMPLOY', ['2.0', '1.0', '0.0', '3.0']], ['AGE_BINS', ['2', '1', '3']]]"
      ]
     },
     "execution_count": 85,
     "metadata": {},
     "output_type": "execute_result"
    }
   ],
   "source": [
    "#look for ordinal/nominal in each categorical\n",
    "[[i, list(nhis[i].unique())] for i in categorical_variables]"
   ]
  },
  {
   "cell_type": "code",
   "execution_count": 86,
   "id": "7646d31e",
   "metadata": {},
   "outputs": [],
   "source": [
    "#specify ordinal\n",
    "ordinal_variables = ['GEN_HEALTH', 'AGE_BINS', 'EMPLOY']"
   ]
  },
  {
   "cell_type": "code",
   "execution_count": 87,
   "id": "524dd432",
   "metadata": {},
   "outputs": [],
   "source": [
    "#specify numeric\n",
    "numeric_variables = list(set(nhis.columns) - set(ordinal_variables) - set(categorical_variables) - set(binary_variables))"
   ]
  },
  {
   "cell_type": "markdown",
   "id": "522498e7",
   "metadata": {},
   "source": [
    "Binary: Encoder\n",
    "==="
   ]
  },
  {
   "cell_type": "code",
   "execution_count": 88,
   "id": "7af327e1",
   "metadata": {},
   "outputs": [],
   "source": [
    "lb, le, oe = LabelBinarizer(), LabelEncoder(), OrdinalEncoder()\n",
    "#binary\n",
    "for column in binary_variables:\n",
    "    nhis[column] = lb.fit_transform(nhis[column])"
   ]
  },
  {
   "cell_type": "markdown",
   "id": "dee54bdc",
   "metadata": {},
   "source": [
    "Ordinal: Label Encoder\n",
    "===="
   ]
  },
  {
   "cell_type": "code",
   "execution_count": 89,
   "id": "0a762762",
   "metadata": {},
   "outputs": [],
   "source": [
    "#Ordinal\n",
    "for column in ordinal_variables:\n",
    "    nhis[column] = le.fit_transform(nhis[column])"
   ]
  },
  {
   "cell_type": "markdown",
   "id": "dae94a71",
   "metadata": {},
   "source": [
    "Nominal: Encoder\n",
    "=="
   ]
  },
  {
   "cell_type": "code",
   "execution_count": 90,
   "id": "0378f127",
   "metadata": {},
   "outputs": [],
   "source": [
    "#Nominal\n",
    "categorical_variables = list(set(categorical_variables) - set(ordinal_variables))\n",
    "nhis = pd.get_dummies(nhis, columns = categorical_variables, drop_first=False)"
   ]
  },
  {
   "cell_type": "markdown",
   "id": "0e17d310",
   "metadata": {},
   "source": [
    "Extract X/Y (Target / Features)\n",
    "===="
   ]
  },
  {
   "cell_type": "code",
   "execution_count": 91,
   "id": "5d6edd7c",
   "metadata": {},
   "outputs": [
    {
     "data": {
      "text/plain": [
       "Index(['GEN_HEALTH', 'SEX', 'MARITAL_STATUS', 'EMPLOY', 'DEPRESS', 'AGE_BINS',\n",
       "       'COLLEGE', 'CHRONIC'],\n",
       "      dtype='object')"
      ]
     },
     "execution_count": 91,
     "metadata": {},
     "output_type": "execute_result"
    }
   ],
   "source": [
    "nhis.columns"
   ]
  },
  {
   "cell_type": "code",
   "execution_count": 92,
   "id": "295acfb3",
   "metadata": {},
   "outputs": [],
   "source": [
    "#Alternate Method\n",
    "y, X = nhis['GEN_HEALTH'], nhis.drop(columns='GEN_HEALTH')"
   ]
  },
  {
   "cell_type": "code",
   "execution_count": 93,
   "id": "53ab27bf",
   "metadata": {},
   "outputs": [
    {
     "data": {
      "text/plain": [
       "(12916, 7)"
      ]
     },
     "execution_count": 93,
     "metadata": {},
     "output_type": "execute_result"
    }
   ],
   "source": [
    "X.shape"
   ]
  },
  {
   "cell_type": "code",
   "execution_count": 94,
   "id": "a32e25b6",
   "metadata": {},
   "outputs": [
    {
     "data": {
      "text/plain": [
       "(12916,)"
      ]
     },
     "execution_count": 94,
     "metadata": {},
     "output_type": "execute_result"
    }
   ],
   "source": [
    "y.shape"
   ]
  },
  {
   "cell_type": "markdown",
   "id": "dc5942fd",
   "metadata": {},
   "source": [
    "Checking Multicollinearity\n",
    "==="
   ]
  },
  {
   "cell_type": "code",
   "execution_count": 95,
   "id": "cd4bdd61",
   "metadata": {},
   "outputs": [],
   "source": [
    "#Get VIF\n",
    "import pandas as pd\n",
    "import statsmodels.formula.api as smf\n",
    "\n",
    "def get_vif(exogs, data):\n",
    "    '''Return VIF (variance inflation factor) DataFrame\n",
    "\n",
    "    Args:\n",
    "    exogs (list): list of exogenous/independent variables\n",
    "    data (DataFrame): the df storing all variables\n",
    "\n",
    "    Returns:\n",
    "    VIF and Tolerance DataFrame for each exogenous variable\n",
    "\n",
    "    Notes:\n",
    "    Assume we have a list of exogenous variable [X1, X2, X3, X4].\n",
    "    To calculate the VIF and Tolerance for each variable, we regress\n",
    "    each of them against other exogenous variables. For instance, the\n",
    "    regression model for X3 is defined as:\n",
    "                        X3 ~ X1 + X2 + X4\n",
    "    And then we extract the R-squared from the model to calculate:\n",
    "                    VIF = 1 / (1 - R-squared)\n",
    "                    Tolerance = 1 - R-squared\n",
    "    The cutoff to detect multicollinearity:\n",
    "                    VIF > 10 or Tolerance < 0.1\n",
    "    '''\n",
    "\n",
    "    # initialize dictionaries\n",
    "    vif_dict, tolerance_dict = {}, {}\n",
    "\n",
    "    # create formula for each exogenous variable\n",
    "    for exog in exogs:\n",
    "        not_exog = [i for i in exogs if i != exog]\n",
    "        formula = f\"{exog} ~ {' + '.join(not_exog)}\"\n",
    "\n",
    "        # extract r-squared from the fit\n",
    "        r_squared = smf.ols(formula, data=data).fit().rsquared\n",
    "\n",
    "        # calculate VIF\n",
    "        vif = 1/(1 - r_squared)\n",
    "        vif_dict[exog] = vif\n",
    "\n",
    "        # calculate tolerance\n",
    "        tolerance = 1 - r_squared\n",
    "        tolerance_dict[exog] = tolerance\n",
    "\n",
    "    # return VIF DataFrame\n",
    "    df_vif = pd.DataFrame({'VIF': vif_dict, 'Tolerance': tolerance_dict})\n",
    "\n",
    "    return df_vif"
   ]
  },
  {
   "cell_type": "code",
   "execution_count": 96,
   "id": "0a43fbdd",
   "metadata": {},
   "outputs": [
    {
     "data": {
      "text/html": [
       "<div>\n",
       "<style scoped>\n",
       "    .dataframe tbody tr th:only-of-type {\n",
       "        vertical-align: middle;\n",
       "    }\n",
       "\n",
       "    .dataframe tbody tr th {\n",
       "        vertical-align: top;\n",
       "    }\n",
       "\n",
       "    .dataframe thead th {\n",
       "        text-align: right;\n",
       "    }\n",
       "</style>\n",
       "<table border=\"1\" class=\"dataframe\">\n",
       "  <thead>\n",
       "    <tr style=\"text-align: right;\">\n",
       "      <th></th>\n",
       "      <th>VIF</th>\n",
       "      <th>Tolerance</th>\n",
       "    </tr>\n",
       "  </thead>\n",
       "  <tbody>\n",
       "    <tr>\n",
       "      <th>SEX</th>\n",
       "      <td>1.048786</td>\n",
       "      <td>0.953483</td>\n",
       "    </tr>\n",
       "    <tr>\n",
       "      <th>MARITAL_STATUS</th>\n",
       "      <td>1.107357</td>\n",
       "      <td>0.903051</td>\n",
       "    </tr>\n",
       "    <tr>\n",
       "      <th>EMPLOY</th>\n",
       "      <td>1.219826</td>\n",
       "      <td>0.819789</td>\n",
       "    </tr>\n",
       "    <tr>\n",
       "      <th>DEPRESS</th>\n",
       "      <td>1.085182</td>\n",
       "      <td>0.921505</td>\n",
       "    </tr>\n",
       "    <tr>\n",
       "      <th>AGE_BINS</th>\n",
       "      <td>1.213401</td>\n",
       "      <td>0.824130</td>\n",
       "    </tr>\n",
       "    <tr>\n",
       "      <th>COLLEGE</th>\n",
       "      <td>1.018702</td>\n",
       "      <td>0.981641</td>\n",
       "    </tr>\n",
       "    <tr>\n",
       "      <th>CHRONIC</th>\n",
       "      <td>1.120339</td>\n",
       "      <td>0.892587</td>\n",
       "    </tr>\n",
       "  </tbody>\n",
       "</table>\n",
       "</div>"
      ],
      "text/plain": [
       "                     VIF  Tolerance\n",
       "SEX             1.048786   0.953483\n",
       "MARITAL_STATUS  1.107357   0.903051\n",
       "EMPLOY          1.219826   0.819789\n",
       "DEPRESS         1.085182   0.921505\n",
       "AGE_BINS        1.213401   0.824130\n",
       "COLLEGE         1.018702   0.981641\n",
       "CHRONIC         1.120339   0.892587"
      ]
     },
     "execution_count": 96,
     "metadata": {},
     "output_type": "execute_result"
    }
   ],
   "source": [
    "get_vif(exogs=X, data=nhis)"
   ]
  },
  {
   "cell_type": "markdown",
   "id": "e3ce080a",
   "metadata": {},
   "source": [
    "Train/Test or Cross Validation\n",
    "===="
   ]
  },
  {
   "cell_type": "code",
   "execution_count": 97,
   "id": "5cb5a338",
   "metadata": {},
   "outputs": [],
   "source": [
    "#create Train/Test for Feature Selection\n",
    "X_train, X_test, y_train, y_test = train_test_split(X, y,stratify=y,test_size=0.25)"
   ]
  },
  {
   "cell_type": "code",
   "execution_count": 98,
   "id": "05ca3ead",
   "metadata": {},
   "outputs": [],
   "source": [
    "from sklearn.datasets import load_digits\n",
    "from sklearn.feature_selection import SelectKBest, chi2"
   ]
  },
  {
   "cell_type": "code",
   "execution_count": 99,
   "id": "9fc941f9",
   "metadata": {},
   "outputs": [],
   "source": [
    "fs = SelectKBest(score_func=chi2, k='all')\n",
    "fs.fit(X_train, y_train)\n",
    "X_train_fs = fs.transform(X_train)\n",
    "X_test_fs = fs.transform(X_test)"
   ]
  },
  {
   "cell_type": "code",
   "execution_count": 100,
   "id": "62f95263",
   "metadata": {},
   "outputs": [
    {
     "data": {
      "text/plain": [
       "Index(['SEX', 'MARITAL_STATUS', 'EMPLOY', 'DEPRESS', 'AGE_BINS', 'COLLEGE',\n",
       "       'CHRONIC'],\n",
       "      dtype='object')"
      ]
     },
     "execution_count": 100,
     "metadata": {},
     "output_type": "execute_result"
    }
   ],
   "source": [
    "X_train.columns"
   ]
  },
  {
   "cell_type": "code",
   "execution_count": 101,
   "id": "a75eb33c",
   "metadata": {
    "scrolled": true
   },
   "outputs": [
    {
     "name": "stdout",
     "output_type": "stream",
     "text": [
      "Feature 0: 0.012945\n",
      "Feature 1: 51.831818\n",
      "Feature 2: 217.862058\n",
      "Feature 3: 391.879100\n",
      "Feature 4: 28.087238\n",
      "Feature 5: 114.901561\n",
      "Feature 6: 243.546308\n"
     ]
    },
    {
     "data": {
      "image/png": "[encoded data removed]",
      "text/plain": [
       "<Figure size 432x288 with 1 Axes>"
      ]
     },
     "metadata": {
      "needs_background": "light"
     },
     "output_type": "display_data"
    }
   ],
   "source": [
    "# what are scores for the features\n",
    "for i in range(len(fs.scores_)):\n",
    "\tprint('Feature %d: %f' % (i, fs.scores_[i]))\n",
    "# plot the scores\n",
    "plt.bar([i for i in range(len(fs.scores_))], fs.scores_)\n",
    "plt.show()"
   ]
  },
  {
   "cell_type": "code",
   "execution_count": 102,
   "id": "68537aa2",
   "metadata": {},
   "outputs": [],
   "source": [
    "import statsmodels.api as sm\n",
    "import scipy.stats as stats\n",
    "import statsmodels.formula.api as smf"
   ]
  },
  {
   "cell_type": "code",
   "execution_count": 103,
   "id": "9bff7c1f",
   "metadata": {},
   "outputs": [
    {
     "name": "stdout",
     "output_type": "stream",
     "text": [
      "Optimization terminated successfully.\n",
      "         Current function value: 0.491165\n",
      "         Iterations 6\n"
     ]
    },
    {
     "data": {
      "text/html": [
       "<table class=\"simpletable\">\n",
       "<caption>Logit Regression Results</caption>\n",
       "<tr>\n",
       "  <th>Dep. Variable:</th>      <td>GEN_HEALTH</td>    <th>  No. Observations:  </th>   <td>  9687</td>  \n",
       "</tr>\n",
       "<tr>\n",
       "  <th>Model:</th>                 <td>Logit</td>      <th>  Df Residuals:      </th>   <td>  9680</td>  \n",
       "</tr>\n",
       "<tr>\n",
       "  <th>Method:</th>                 <td>MLE</td>       <th>  Df Model:          </th>   <td>     6</td>  \n",
       "</tr>\n",
       "<tr>\n",
       "  <th>Date:</th>            <td>Tue, 19 Apr 2022</td> <th>  Pseudo R-squ.:     </th>   <td>0.05981</td> \n",
       "</tr>\n",
       "<tr>\n",
       "  <th>Time:</th>                <td>08:14:46</td>     <th>  Log-Likelihood:    </th>  <td> -4757.9</td> \n",
       "</tr>\n",
       "<tr>\n",
       "  <th>converged:</th>             <td>True</td>       <th>  LL-Null:           </th>  <td> -5060.6</td> \n",
       "</tr>\n",
       "<tr>\n",
       "  <th>Covariance Type:</th>     <td>nonrobust</td>    <th>  LLR p-value:       </th> <td>1.624e-127</td>\n",
       "</tr>\n",
       "</table>\n",
       "<table class=\"simpletable\">\n",
       "<tr>\n",
       "         <td></td>           <th>coef</th>     <th>std err</th>      <th>z</th>      <th>P>|z|</th>  <th>[0.025</th>    <th>0.975]</th>  \n",
       "</tr>\n",
       "<tr>\n",
       "  <th>SEX</th>            <td>   -0.1914</td> <td>    0.052</td> <td>   -3.693</td> <td> 0.000</td> <td>   -0.293</td> <td>   -0.090</td>\n",
       "</tr>\n",
       "<tr>\n",
       "  <th>MARITAL_STATUS</th> <td>   -0.8926</td> <td>    0.049</td> <td>  -18.126</td> <td> 0.000</td> <td>   -0.989</td> <td>   -0.796</td>\n",
       "</tr>\n",
       "<tr>\n",
       "  <th>EMPLOY</th>         <td>   -0.0597</td> <td>    0.032</td> <td>   -1.878</td> <td> 0.060</td> <td>   -0.122</td> <td>    0.003</td>\n",
       "</tr>\n",
       "<tr>\n",
       "  <th>DEPRESS</th>        <td>    0.6726</td> <td>    0.063</td> <td>   10.656</td> <td> 0.000</td> <td>    0.549</td> <td>    0.796</td>\n",
       "</tr>\n",
       "<tr>\n",
       "  <th>AGE_BINS</th>       <td>   -0.3850</td> <td>    0.034</td> <td>  -11.255</td> <td> 0.000</td> <td>   -0.452</td> <td>   -0.318</td>\n",
       "</tr>\n",
       "<tr>\n",
       "  <th>COLLEGE</th>        <td>   -1.3306</td> <td>    0.048</td> <td>  -27.773</td> <td> 0.000</td> <td>   -1.424</td> <td>   -1.237</td>\n",
       "</tr>\n",
       "<tr>\n",
       "  <th>CHRONIC</th>        <td>    0.6777</td> <td>    0.058</td> <td>   11.596</td> <td> 0.000</td> <td>    0.563</td> <td>    0.792</td>\n",
       "</tr>\n",
       "</table>"
      ],
      "text/plain": [
       "<class 'statsmodels.iolib.summary.Summary'>\n",
       "\"\"\"\n",
       "                           Logit Regression Results                           \n",
       "==============================================================================\n",
       "Dep. Variable:             GEN_HEALTH   No. Observations:                 9687\n",
       "Model:                          Logit   Df Residuals:                     9680\n",
       "Method:                           MLE   Df Model:                            6\n",
       "Date:                Tue, 19 Apr 2022   Pseudo R-squ.:                 0.05981\n",
       "Time:                        08:14:46   Log-Likelihood:                -4757.9\n",
       "converged:                       True   LL-Null:                       -5060.6\n",
       "Covariance Type:            nonrobust   LLR p-value:                1.624e-127\n",
       "==================================================================================\n",
       "                     coef    std err          z      P>|z|      [0.025      0.975]\n",
       "----------------------------------------------------------------------------------\n",
       "SEX               -0.1914      0.052     -3.693      0.000      -0.293      -0.090\n",
       "MARITAL_STATUS    -0.8926      0.049    -18.126      0.000      -0.989      -0.796\n",
       "EMPLOY            -0.0597      0.032     -1.878      0.060      -0.122       0.003\n",
       "DEPRESS            0.6726      0.063     10.656      0.000       0.549       0.796\n",
       "AGE_BINS          -0.3850      0.034    -11.255      0.000      -0.452      -0.318\n",
       "COLLEGE           -1.3306      0.048    -27.773      0.000      -1.424      -1.237\n",
       "CHRONIC            0.6777      0.058     11.596      0.000       0.563       0.792\n",
       "==================================================================================\n",
       "\"\"\""
      ]
     },
     "execution_count": 103,
     "metadata": {},
     "output_type": "execute_result"
    }
   ],
   "source": [
    "#Statistics Approach lOGIT non Reference\n",
    "logit_model=sm.Logit(y_train,X_train)\n",
    "result=logit_model.fit()\n",
    "stats1=result.summary()\n",
    "stats1"
   ]
  },
  {
   "cell_type": "code",
   "execution_count": 104,
   "id": "2f968395",
   "metadata": {},
   "outputs": [
    {
     "data": {
      "text/html": [
       "<table class=\"simpletable\">\n",
       "<tr>\n",
       "        <td>Model:</td>              <td>Logit</td>      <td>Pseudo R-squared:</td>    <td>0.060</td>   \n",
       "</tr>\n",
       "<tr>\n",
       "  <td>Dependent Variable:</td>    <td>GEN_HEALTH</td>          <td>AIC:</td>         <td>9529.8272</td> \n",
       "</tr>\n",
       "<tr>\n",
       "         <td>Date:</td>        <td>2022-04-19 08:15</td>       <td>BIC:</td>         <td>9580.0770</td> \n",
       "</tr>\n",
       "<tr>\n",
       "   <td>No. Observations:</td>        <td>9687</td>        <td>Log-Likelihood:</td>    <td>-4757.9</td>  \n",
       "</tr>\n",
       "<tr>\n",
       "       <td>Df Model:</td>              <td>6</td>            <td>LL-Null:</td>        <td>-5060.6</td>  \n",
       "</tr>\n",
       "<tr>\n",
       "     <td>Df Residuals:</td>          <td>9680</td>         <td>LLR p-value:</td>    <td>1.6244e-127</td>\n",
       "</tr>\n",
       "<tr>\n",
       "      <td>Converged:</td>           <td>1.0000</td>           <td>Scale:</td>         <td>1.0000</td>   \n",
       "</tr>\n",
       "<tr>\n",
       "    <td>No. Iterations:</td>        <td>6.0000</td>              <td></td>               <td></td>      \n",
       "</tr>\n",
       "</table>\n",
       "<table class=\"simpletable\">\n",
       "<tr>\n",
       "         <td></td>         <th>Coef.</th>  <th>Std.Err.</th>     <th>z</th>     <th>P>|z|</th> <th>[0.025</th>  <th>0.975]</th> \n",
       "</tr>\n",
       "<tr>\n",
       "  <th>SEX</th>            <td>-0.1914</td>  <td>0.0518</td>   <td>-3.6933</td> <td>0.0002</td> <td>-0.2930</td> <td>-0.0898</td>\n",
       "</tr>\n",
       "<tr>\n",
       "  <th>MARITAL_STATUS</th> <td>-0.8926</td>  <td>0.0492</td>  <td>-18.1265</td> <td>0.0000</td> <td>-0.9891</td> <td>-0.7961</td>\n",
       "</tr>\n",
       "<tr>\n",
       "  <th>EMPLOY</th>         <td>-0.0597</td>  <td>0.0318</td>   <td>-1.8777</td> <td>0.0604</td> <td>-0.1220</td> <td>0.0026</td> \n",
       "</tr>\n",
       "<tr>\n",
       "  <th>DEPRESS</th>        <td>0.6726</td>   <td>0.0631</td>   <td>10.6558</td> <td>0.0000</td> <td>0.5489</td>  <td>0.7963</td> \n",
       "</tr>\n",
       "<tr>\n",
       "  <th>AGE_BINS</th>       <td>-0.3850</td>  <td>0.0342</td>  <td>-11.2546</td> <td>0.0000</td> <td>-0.4521</td> <td>-0.3180</td>\n",
       "</tr>\n",
       "<tr>\n",
       "  <th>COLLEGE</th>        <td>-1.3306</td>  <td>0.0479</td>  <td>-27.7725</td> <td>0.0000</td> <td>-1.4245</td> <td>-1.2367</td>\n",
       "</tr>\n",
       "<tr>\n",
       "  <th>CHRONIC</th>        <td>0.6777</td>   <td>0.0584</td>   <td>11.5956</td> <td>0.0000</td> <td>0.5631</td>  <td>0.7922</td> \n",
       "</tr>\n",
       "</table>"
      ],
      "text/plain": [
       "<class 'statsmodels.iolib.summary2.Summary'>\n",
       "\"\"\"\n",
       "                          Results: Logit\n",
       "==================================================================\n",
       "Model:              Logit            Pseudo R-squared: 0.060      \n",
       "Dependent Variable: GEN_HEALTH       AIC:              9529.8272  \n",
       "Date:               2022-04-19 08:15 BIC:              9580.0770  \n",
       "No. Observations:   9687             Log-Likelihood:   -4757.9    \n",
       "Df Model:           6                LL-Null:          -5060.6    \n",
       "Df Residuals:       9680             LLR p-value:      1.6244e-127\n",
       "Converged:          1.0000           Scale:            1.0000     \n",
       "No. Iterations:     6.0000                                        \n",
       "------------------------------------------------------------------\n",
       "                   Coef.  Std.Err.    z     P>|z|   [0.025  0.975]\n",
       "------------------------------------------------------------------\n",
       "SEX               -0.1914   0.0518  -3.6933 0.0002 -0.2930 -0.0898\n",
       "MARITAL_STATUS    -0.8926   0.0492 -18.1265 0.0000 -0.9891 -0.7961\n",
       "EMPLOY            -0.0597   0.0318  -1.8777 0.0604 -0.1220  0.0026\n",
       "DEPRESS            0.6726   0.0631  10.6558 0.0000  0.5489  0.7963\n",
       "AGE_BINS          -0.3850   0.0342 -11.2546 0.0000 -0.4521 -0.3180\n",
       "COLLEGE           -1.3306   0.0479 -27.7725 0.0000 -1.4245 -1.2367\n",
       "CHRONIC            0.6777   0.0584  11.5956 0.0000  0.5631  0.7922\n",
       "==================================================================\n",
       "\n",
       "\"\"\""
      ]
     },
     "execution_count": 104,
     "metadata": {},
     "output_type": "execute_result"
    }
   ],
   "source": [
    "stats2=result.summary2()\n",
    "stats2"
   ]
  },
  {
   "cell_type": "code",
   "execution_count": 105,
   "id": "69d026af",
   "metadata": {},
   "outputs": [
    {
     "name": "stdout",
     "output_type": "stream",
     "text": [
      "                      5%       95%  Odds Ratio\n",
      "SEX             0.746039  0.914089    0.825800\n",
      "MARITAL_STATUS  0.371894  0.451080    0.409578\n",
      "EMPLOY          0.885164  1.002618    0.942062\n",
      "DEPRESS         1.731277  2.217266    1.959260\n",
      "AGE_BINS        0.636314  0.727629    0.680442\n",
      "COLLEGE         0.240636  0.290350    0.264327\n",
      "CHRONIC         1.756140  2.208256    1.969265\n"
     ]
    }
   ],
   "source": [
    "params = result.params\n",
    "conf = result.conf_int()\n",
    "conf['Odds Ratio'] = params\n",
    "conf.columns = ['5%', '95%', 'Odds Ratio']\n",
    "print(np.exp(conf))"
   ]
  },
  {
   "cell_type": "code",
   "execution_count": 106,
   "id": "252f632b",
   "metadata": {},
   "outputs": [
    {
     "name": "stdout",
     "output_type": "stream",
     "text": [
      "Optimization terminated successfully.\n",
      "         Current function value: 0.422672\n",
      "         Iterations 7\n"
     ]
    },
    {
     "data": {
      "text/html": [
       "<table class=\"simpletable\">\n",
       "<caption>Logit Regression Results</caption>\n",
       "<tr>\n",
       "  <th>Dep. Variable:</th>      <td>GEN_HEALTH</td>    <th>  No. Observations:  </th>  <td> 12916</td> \n",
       "</tr>\n",
       "<tr>\n",
       "  <th>Model:</th>                 <td>Logit</td>      <th>  Df Residuals:      </th>  <td> 12905</td> \n",
       "</tr>\n",
       "<tr>\n",
       "  <th>Method:</th>                 <td>MLE</td>       <th>  Df Model:          </th>  <td>    10</td> \n",
       "</tr>\n",
       "<tr>\n",
       "  <th>Date:</th>            <td>Tue, 19 Apr 2022</td> <th>  Pseudo R-squ.:     </th>  <td>0.1909</td> \n",
       "</tr>\n",
       "<tr>\n",
       "  <th>Time:</th>                <td>08:15:09</td>     <th>  Log-Likelihood:    </th> <td> -5459.2</td>\n",
       "</tr>\n",
       "<tr>\n",
       "  <th>converged:</th>             <td>True</td>       <th>  LL-Null:           </th> <td> -6747.5</td>\n",
       "</tr>\n",
       "<tr>\n",
       "  <th>Covariance Type:</th>     <td>nonrobust</td>    <th>  LLR p-value:       </th>  <td> 0.000</td> \n",
       "</tr>\n",
       "</table>\n",
       "<table class=\"simpletable\">\n",
       "<tr>\n",
       "                         <td></td>                           <th>coef</th>     <th>std err</th>      <th>z</th>      <th>P>|z|</th>  <th>[0.025</th>    <th>0.975]</th>  \n",
       "</tr>\n",
       "<tr>\n",
       "  <th>Intercept</th>                                      <td>   -1.9689</td> <td>    0.138</td> <td>  -14.251</td> <td> 0.000</td> <td>   -2.240</td> <td>   -1.698</td>\n",
       "</tr>\n",
       "<tr>\n",
       "  <th>C(SEX, Treatment(reference=0))[T.1]</th>            <td>    0.3585</td> <td>    0.050</td> <td>    7.142</td> <td> 0.000</td> <td>    0.260</td> <td>    0.457</td>\n",
       "</tr>\n",
       "<tr>\n",
       "  <th>C(AGE_BINS, Treatment(reference=0))[T.1]</th>       <td>   -0.2518</td> <td>    0.069</td> <td>   -3.633</td> <td> 0.000</td> <td>   -0.388</td> <td>   -0.116</td>\n",
       "</tr>\n",
       "<tr>\n",
       "  <th>C(AGE_BINS, Treatment(reference=0))[T.2]</th>       <td>   -0.0789</td> <td>    0.076</td> <td>   -1.033</td> <td> 0.302</td> <td>   -0.229</td> <td>    0.071</td>\n",
       "</tr>\n",
       "<tr>\n",
       "  <th>C(MARITAL_STATUS, Treatment(reference=0))[T.1]</th> <td>   -0.1964</td> <td>    0.051</td> <td>   -3.883</td> <td> 0.000</td> <td>   -0.296</td> <td>   -0.097</td>\n",
       "</tr>\n",
       "<tr>\n",
       "  <th>C(EMPLOY, Treatment(reference=0))[T.1]</th>         <td>   -0.9487</td> <td>    0.132</td> <td>   -7.211</td> <td> 0.000</td> <td>   -1.207</td> <td>   -0.691</td>\n",
       "</tr>\n",
       "<tr>\n",
       "  <th>C(EMPLOY, Treatment(reference=0))[T.2]</th>         <td>   -0.1188</td> <td>    0.129</td> <td>   -0.921</td> <td> 0.357</td> <td>   -0.372</td> <td>    0.134</td>\n",
       "</tr>\n",
       "<tr>\n",
       "  <th>C(EMPLOY, Treatment(reference=0))[T.3]</th>         <td>    1.3858</td> <td>    0.141</td> <td>    9.816</td> <td> 0.000</td> <td>    1.109</td> <td>    1.662</td>\n",
       "</tr>\n",
       "<tr>\n",
       "  <th>C(DEPRESS, Treatment(reference=0))[T.1]</th>        <td>    0.8049</td> <td>    0.058</td> <td>   13.859</td> <td> 0.000</td> <td>    0.691</td> <td>    0.919</td>\n",
       "</tr>\n",
       "<tr>\n",
       "  <th>C(CHRONIC, Treatment(reference=0))[T.1]</th>        <td>    1.4829</td> <td>    0.070</td> <td>   21.239</td> <td> 0.000</td> <td>    1.346</td> <td>    1.620</td>\n",
       "</tr>\n",
       "<tr>\n",
       "  <th>C(COLLEGE, Treatment(reference=0))[T.1]</th>        <td>   -0.6993</td> <td>    0.049</td> <td>  -14.401</td> <td> 0.000</td> <td>   -0.794</td> <td>   -0.604</td>\n",
       "</tr>\n",
       "</table>"
      ],
      "text/plain": [
       "<class 'statsmodels.iolib.summary.Summary'>\n",
       "\"\"\"\n",
       "                           Logit Regression Results                           \n",
       "==============================================================================\n",
       "Dep. Variable:             GEN_HEALTH   No. Observations:                12916\n",
       "Model:                          Logit   Df Residuals:                    12905\n",
       "Method:                           MLE   Df Model:                           10\n",
       "Date:                Tue, 19 Apr 2022   Pseudo R-squ.:                  0.1909\n",
       "Time:                        08:15:09   Log-Likelihood:                -5459.2\n",
       "converged:                       True   LL-Null:                       -6747.5\n",
       "Covariance Type:            nonrobust   LLR p-value:                     0.000\n",
       "==================================================================================================================\n",
       "                                                     coef    std err          z      P>|z|      [0.025      0.975]\n",
       "------------------------------------------------------------------------------------------------------------------\n",
       "Intercept                                         -1.9689      0.138    -14.251      0.000      -2.240      -1.698\n",
       "C(SEX, Treatment(reference=0))[T.1]                0.3585      0.050      7.142      0.000       0.260       0.457\n",
       "C(AGE_BINS, Treatment(reference=0))[T.1]          -0.2518      0.069     -3.633      0.000      -0.388      -0.116\n",
       "C(AGE_BINS, Treatment(reference=0))[T.2]          -0.0789      0.076     -1.033      0.302      -0.229       0.071\n",
       "C(MARITAL_STATUS, Treatment(reference=0))[T.1]    -0.1964      0.051     -3.883      0.000      -0.296      -0.097\n",
       "C(EMPLOY, Treatment(reference=0))[T.1]            -0.9487      0.132     -7.211      0.000      -1.207      -0.691\n",
       "C(EMPLOY, Treatment(reference=0))[T.2]            -0.1188      0.129     -0.921      0.357      -0.372       0.134\n",
       "C(EMPLOY, Treatment(reference=0))[T.3]             1.3858      0.141      9.816      0.000       1.109       1.662\n",
       "C(DEPRESS, Treatment(reference=0))[T.1]            0.8049      0.058     13.859      0.000       0.691       0.919\n",
       "C(CHRONIC, Treatment(reference=0))[T.1]            1.4829      0.070     21.239      0.000       1.346       1.620\n",
       "C(COLLEGE, Treatment(reference=0))[T.1]           -0.6993      0.049    -14.401      0.000      -0.794      -0.604\n",
       "==================================================================================================================\n",
       "\"\"\""
      ]
     },
     "execution_count": 106,
     "metadata": {},
     "output_type": "execute_result"
    }
   ],
   "source": [
    "#STATISTICS LOGIT BY REFERENCE\n",
    "formula = \"GEN_HEALTH ~ C(SEX, Treatment(reference=0)) + C(AGE_BINS, Treatment(reference=0)) + C(MARITAL_STATUS, Treatment(reference=0)) + C(EMPLOY, Treatment(reference=0)) + C(DEPRESS, Treatment(reference=0)) + C(CHRONIC, Treatment(reference=0)) + C(COLLEGE, Treatment(reference=0))\"\n",
    "log_reg = smf.logit(formula, data=nhis).fit()\n",
    "log_reg.summary()"
   ]
  },
  {
   "cell_type": "code",
   "execution_count": 107,
   "id": "4ad93591",
   "metadata": {},
   "outputs": [
    {
     "data": {
      "text/html": [
       "<table class=\"simpletable\">\n",
       "<tr>\n",
       "        <td>Model:</td>              <td>Logit</td>      <td>Pseudo R-squared:</td>    <td>0.191</td>  \n",
       "</tr>\n",
       "<tr>\n",
       "  <td>Dependent Variable:</td>    <td>GEN_HEALTH</td>          <td>AIC:</td>        <td>10940.4670</td>\n",
       "</tr>\n",
       "<tr>\n",
       "         <td>Date:</td>        <td>2022-04-19 08:15</td>       <td>BIC:</td>        <td>11022.5954</td>\n",
       "</tr>\n",
       "<tr>\n",
       "   <td>No. Observations:</td>        <td>12916</td>       <td>Log-Likelihood:</td>    <td>-5459.2</td> \n",
       "</tr>\n",
       "<tr>\n",
       "       <td>Df Model:</td>             <td>10</td>            <td>LL-Null:</td>        <td>-6747.5</td> \n",
       "</tr>\n",
       "<tr>\n",
       "     <td>Df Residuals:</td>          <td>12905</td>        <td>LLR p-value:</td>      <td>0.0000</td>  \n",
       "</tr>\n",
       "<tr>\n",
       "      <td>Converged:</td>           <td>1.0000</td>           <td>Scale:</td>         <td>1.0000</td>  \n",
       "</tr>\n",
       "<tr>\n",
       "    <td>No. Iterations:</td>        <td>7.0000</td>              <td></td>               <td></td>     \n",
       "</tr>\n",
       "</table>\n",
       "<table class=\"simpletable\">\n",
       "<tr>\n",
       "                         <td></td>                         <th>Coef.</th>  <th>Std.Err.</th>     <th>z</th>     <th>P>|z|</th> <th>[0.025</th>  <th>0.975]</th> \n",
       "</tr>\n",
       "<tr>\n",
       "  <th>Intercept</th>                                      <td>-1.9689</td>  <td>0.1382</td>  <td>-14.2509</td> <td>0.0000</td> <td>-2.2397</td> <td>-1.6981</td>\n",
       "</tr>\n",
       "<tr>\n",
       "  <th>C(SEX, Treatment(reference=0))[T.1]</th>            <td>0.3585</td>   <td>0.0502</td>   <td>7.1417</td>  <td>0.0000</td> <td>0.2601</td>  <td>0.4569</td> \n",
       "</tr>\n",
       "<tr>\n",
       "  <th>C(AGE_BINS, Treatment(reference=0))[T.1]</th>       <td>-0.2518</td>  <td>0.0693</td>   <td>-3.6327</td> <td>0.0003</td> <td>-0.3877</td> <td>-0.1160</td>\n",
       "</tr>\n",
       "<tr>\n",
       "  <th>C(AGE_BINS, Treatment(reference=0))[T.2]</th>       <td>-0.0789</td>  <td>0.0764</td>   <td>-1.0331</td> <td>0.3016</td> <td>-0.2287</td> <td>0.0708</td> \n",
       "</tr>\n",
       "<tr>\n",
       "  <th>C(MARITAL_STATUS, Treatment(reference=0))[T.1]</th> <td>-0.1964</td>  <td>0.0506</td>   <td>-3.8834</td> <td>0.0001</td> <td>-0.2956</td> <td>-0.0973</td>\n",
       "</tr>\n",
       "<tr>\n",
       "  <th>C(EMPLOY, Treatment(reference=0))[T.1]</th>         <td>-0.9487</td>  <td>0.1316</td>   <td>-7.2108</td> <td>0.0000</td> <td>-1.2065</td> <td>-0.6908</td>\n",
       "</tr>\n",
       "<tr>\n",
       "  <th>C(EMPLOY, Treatment(reference=0))[T.2]</th>         <td>-0.1188</td>  <td>0.1291</td>   <td>-0.9206</td> <td>0.3573</td> <td>-0.3717</td> <td>0.1341</td> \n",
       "</tr>\n",
       "<tr>\n",
       "  <th>C(EMPLOY, Treatment(reference=0))[T.3]</th>         <td>1.3858</td>   <td>0.1412</td>   <td>9.8159</td>  <td>0.0000</td> <td>1.1091</td>  <td>1.6625</td> \n",
       "</tr>\n",
       "<tr>\n",
       "  <th>C(DEPRESS, Treatment(reference=0))[T.1]</th>        <td>0.8049</td>   <td>0.0581</td>   <td>13.8591</td> <td>0.0000</td> <td>0.6910</td>  <td>0.9187</td> \n",
       "</tr>\n",
       "<tr>\n",
       "  <th>C(CHRONIC, Treatment(reference=0))[T.1]</th>        <td>1.4829</td>   <td>0.0698</td>   <td>21.2386</td> <td>0.0000</td> <td>1.3461</td>  <td>1.6198</td> \n",
       "</tr>\n",
       "<tr>\n",
       "  <th>C(COLLEGE, Treatment(reference=0))[T.1]</th>        <td>-0.6993</td>  <td>0.0486</td>  <td>-14.4013</td> <td>0.0000</td> <td>-0.7945</td> <td>-0.6041</td>\n",
       "</tr>\n",
       "</table>"
      ],
      "text/plain": [
       "<class 'statsmodels.iolib.summary2.Summary'>\n",
       "\"\"\"\n",
       "                                        Results: Logit\n",
       "===============================================================================================\n",
       "Model:                        Logit                      Pseudo R-squared:           0.191     \n",
       "Dependent Variable:           GEN_HEALTH                 AIC:                        10940.4670\n",
       "Date:                         2022-04-19 08:15           BIC:                        11022.5954\n",
       "No. Observations:             12916                      Log-Likelihood:             -5459.2   \n",
       "Df Model:                     10                         LL-Null:                    -6747.5   \n",
       "Df Residuals:                 12905                      LLR p-value:                0.0000    \n",
       "Converged:                    1.0000                     Scale:                      1.0000    \n",
       "No. Iterations:               7.0000                                                           \n",
       "-----------------------------------------------------------------------------------------------\n",
       "                                                Coef.  Std.Err.    z     P>|z|   [0.025  0.975]\n",
       "-----------------------------------------------------------------------------------------------\n",
       "Intercept                                      -1.9689   0.1382 -14.2509 0.0000 -2.2397 -1.6981\n",
       "C(SEX, Treatment(reference=0))[T.1]             0.3585   0.0502   7.1417 0.0000  0.2601  0.4569\n",
       "C(AGE_BINS, Treatment(reference=0))[T.1]       -0.2518   0.0693  -3.6327 0.0003 -0.3877 -0.1160\n",
       "C(AGE_BINS, Treatment(reference=0))[T.2]       -0.0789   0.0764  -1.0331 0.3016 -0.2287  0.0708\n",
       "C(MARITAL_STATUS, Treatment(reference=0))[T.1] -0.1964   0.0506  -3.8834 0.0001 -0.2956 -0.0973\n",
       "C(EMPLOY, Treatment(reference=0))[T.1]         -0.9487   0.1316  -7.2108 0.0000 -1.2065 -0.6908\n",
       "C(EMPLOY, Treatment(reference=0))[T.2]         -0.1188   0.1291  -0.9206 0.3573 -0.3717  0.1341\n",
       "C(EMPLOY, Treatment(reference=0))[T.3]          1.3858   0.1412   9.8159 0.0000  1.1091  1.6625\n",
       "C(DEPRESS, Treatment(reference=0))[T.1]         0.8049   0.0581  13.8591 0.0000  0.6910  0.9187\n",
       "C(CHRONIC, Treatment(reference=0))[T.1]         1.4829   0.0698  21.2386 0.0000  1.3461  1.6198\n",
       "C(COLLEGE, Treatment(reference=0))[T.1]        -0.6993   0.0486 -14.4013 0.0000 -0.7945 -0.6041\n",
       "===============================================================================================\n",
       "\n",
       "\"\"\""
      ]
     },
     "execution_count": 107,
     "metadata": {},
     "output_type": "execute_result"
    }
   ],
   "source": [
    "log = log_reg.summary2()\n",
    "log"
   ]
  },
  {
   "cell_type": "code",
   "execution_count": 108,
   "id": "5cfbe53d",
   "metadata": {},
   "outputs": [
    {
     "name": "stdout",
     "output_type": "stream",
     "text": [
      "                                                      5%       95%  Odds Ratio\n",
      "Intercept                                       0.106494  0.183032    0.139613\n",
      "C(SEX, Treatment(reference=0))[T.1]             1.297120  1.579242    1.431247\n",
      "C(AGE_BINS, Treatment(reference=0))[T.1]        0.678637  0.890518    0.777392\n",
      "C(AGE_BINS, Treatment(reference=0))[T.2]        0.795570  1.073388    0.924097\n",
      "C(MARITAL_STATUS, Treatment(reference=0))[T.1]  0.744108  0.907292    0.821659\n",
      "C(EMPLOY, Treatment(reference=0))[T.1]          0.299240  0.501175    0.387261\n",
      "C(EMPLOY, Treatment(reference=0))[T.2]          0.689536  1.143549    0.887986\n",
      "C(EMPLOY, Treatment(reference=0))[T.3]          3.031569  5.272395    3.997953\n",
      "C(DEPRESS, Treatment(reference=0))[T.1]         1.995785  2.505995    2.236387\n",
      "C(CHRONIC, Treatment(reference=0))[T.1]         3.842296  5.051910    4.405784\n",
      "C(COLLEGE, Treatment(reference=0))[T.1]         0.451821  0.546552    0.496935\n"
     ]
    }
   ],
   "source": [
    "#OddsRatio\n",
    "params = log_reg.params\n",
    "conf = log_reg.conf_int()\n",
    "conf['Odds Ratio'] = params\n",
    "conf.columns = ['5%', '95%', 'Odds Ratio']\n",
    "print(np.exp(conf))"
   ]
  },
  {
   "cell_type": "markdown",
   "id": "a4b97571",
   "metadata": {},
   "source": [
    "Machine Learning\n",
    "===="
   ]
  },
  {
   "cell_type": "code",
   "execution_count": 110,
   "id": "47558eb9",
   "metadata": {},
   "outputs": [
    {
     "data": {
      "text/plain": [
       "array([0.81114551, 0.79798762, 0.80882353, 0.80495356, 0.79721362,\n",
       "       0.79798762, 0.8140976 , 0.81099923, 0.81022463, 0.81177382])"
      ]
     },
     "execution_count": 110,
     "metadata": {},
     "output_type": "execute_result"
    }
   ],
   "source": [
    "#Machine Learning K-Fold Validation Accuracy\n",
    "model = LogisticRegression()\n",
    "scores = cross_val_score(model, X, y, cv=10)\n",
    "scores"
   ]
  },
  {
   "cell_type": "code",
   "execution_count": 111,
   "id": "a041943c",
   "metadata": {},
   "outputs": [],
   "source": [
    "#Prediction\n",
    "model1 = LogisticRegression().fit(X_train, y_train)\n",
    "preds = model1.predict(X_test)"
   ]
  },
  {
   "cell_type": "code",
   "execution_count": 112,
   "id": "3011f318",
   "metadata": {},
   "outputs": [
    {
     "name": "stdout",
     "output_type": "stream",
     "text": [
      "Intercept: \n",
      " [-3.57333754]\n",
      "Coefficients: \n",
      " [[ 0.20021733 -0.21601487  0.850085    0.83538299 -0.15188553 -0.76219789\n",
      "   1.53994718]]\n"
     ]
    }
   ],
   "source": [
    "print('Intercept: \\n', model1.intercept_)\n",
    "print('Coefficients: \\n', model1.coef_)"
   ]
  },
  {
   "cell_type": "code",
   "execution_count": 113,
   "id": "b157d3aa",
   "metadata": {},
   "outputs": [],
   "source": [
    "#Calculate odds ratio estimates\n",
    "import numpy as np\n",
    "oddsratio = np.exp(model1.coef_)"
   ]
  },
  {
   "cell_type": "code",
   "execution_count": 114,
   "id": "b735bf3f",
   "metadata": {},
   "outputs": [],
   "source": [
    "oddsratio = pd.DataFrame(oddsratio)"
   ]
  },
  {
   "cell_type": "code",
   "execution_count": 115,
   "id": "6245d95a",
   "metadata": {},
   "outputs": [],
   "source": [
    "#Change Column Name if necessary\n",
    "oddsratio.rename({0:'COVIDCONCERN',1: 'GENDER',2: 'MARRIAGE',3: 'DEPRESSION',\n",
    "       4:'AGE_BINS', 5:'COLLEGE',6: 'CHRONIC',7: 'EMPLOY_1.0',8: 'EMPLOY_2.0'}, axis=1, inplace=True)"
   ]
  },
  {
   "cell_type": "code",
   "execution_count": 116,
   "id": "c8976fdb",
   "metadata": {},
   "outputs": [
    {
     "data": {
      "text/html": [
       "<div>\n",
       "<style scoped>\n",
       "    .dataframe tbody tr th:only-of-type {\n",
       "        vertical-align: middle;\n",
       "    }\n",
       "\n",
       "    .dataframe tbody tr th {\n",
       "        vertical-align: top;\n",
       "    }\n",
       "\n",
       "    .dataframe thead th {\n",
       "        text-align: right;\n",
       "    }\n",
       "</style>\n",
       "<table border=\"1\" class=\"dataframe\">\n",
       "  <thead>\n",
       "    <tr style=\"text-align: right;\">\n",
       "      <th></th>\n",
       "      <th>0</th>\n",
       "    </tr>\n",
       "  </thead>\n",
       "  <tbody>\n",
       "    <tr>\n",
       "      <th>COVIDCONCERN</th>\n",
       "      <td>1.221668</td>\n",
       "    </tr>\n",
       "    <tr>\n",
       "      <th>GENDER</th>\n",
       "      <td>0.805723</td>\n",
       "    </tr>\n",
       "    <tr>\n",
       "      <th>MARRIAGE</th>\n",
       "      <td>2.339846</td>\n",
       "    </tr>\n",
       "    <tr>\n",
       "      <th>DEPRESSION</th>\n",
       "      <td>2.305697</td>\n",
       "    </tr>\n",
       "    <tr>\n",
       "      <th>AGE_BINS</th>\n",
       "      <td>0.859087</td>\n",
       "    </tr>\n",
       "    <tr>\n",
       "      <th>COLLEGE</th>\n",
       "      <td>0.466640</td>\n",
       "    </tr>\n",
       "    <tr>\n",
       "      <th>CHRONIC</th>\n",
       "      <td>4.664344</td>\n",
       "    </tr>\n",
       "  </tbody>\n",
       "</table>\n",
       "</div>"
      ],
      "text/plain": [
       "                     0\n",
       "COVIDCONCERN  1.221668\n",
       "GENDER        0.805723\n",
       "MARRIAGE      2.339846\n",
       "DEPRESSION    2.305697\n",
       "AGE_BINS      0.859087\n",
       "COLLEGE       0.466640\n",
       "CHRONIC       4.664344"
      ]
     },
     "execution_count": 116,
     "metadata": {},
     "output_type": "execute_result"
    }
   ],
   "source": [
    "oddsratio.T"
   ]
  },
  {
   "cell_type": "code",
   "execution_count": 117,
   "id": "0e802c31",
   "metadata": {},
   "outputs": [
    {
     "data": {
      "text/plain": [
       "array([[2447,   83],\n",
       "       [ 533,  166]], dtype=int64)"
      ]
     },
     "execution_count": 117,
     "metadata": {},
     "output_type": "execute_result"
    }
   ],
   "source": [
    "confusion_matrix(y_test, preds)"
   ]
  },
  {
   "cell_type": "code",
   "execution_count": 118,
   "id": "29633d08",
   "metadata": {},
   "outputs": [],
   "source": [
    "confmtrx = np.array(confusion_matrix(y_test, preds))"
   ]
  },
  {
   "cell_type": "code",
   "execution_count": 122,
   "id": "3bdde62c",
   "metadata": {},
   "outputs": [
    {
     "data": {
      "text/html": [
       "<div>\n",
       "<style scoped>\n",
       "    .dataframe tbody tr th:only-of-type {\n",
       "        vertical-align: middle;\n",
       "    }\n",
       "\n",
       "    .dataframe tbody tr th {\n",
       "        vertical-align: top;\n",
       "    }\n",
       "\n",
       "    .dataframe thead th {\n",
       "        text-align: right;\n",
       "    }\n",
       "</style>\n",
       "<table border=\"1\" class=\"dataframe\">\n",
       "  <thead>\n",
       "    <tr style=\"text-align: right;\">\n",
       "      <th></th>\n",
       "      <th>predicted_Good</th>\n",
       "      <th>predicted_Bad</th>\n",
       "    </tr>\n",
       "  </thead>\n",
       "  <tbody>\n",
       "    <tr>\n",
       "      <th>Good</th>\n",
       "      <td>2447</td>\n",
       "      <td>83</td>\n",
       "    </tr>\n",
       "    <tr>\n",
       "      <th>Bad</th>\n",
       "      <td>533</td>\n",
       "      <td>166</td>\n",
       "    </tr>\n",
       "  </tbody>\n",
       "</table>\n",
       "</div>"
      ],
      "text/plain": [
       "      predicted_Good  predicted_Bad\n",
       "Good            2447             83\n",
       "Bad              533            166"
      ]
     },
     "execution_count": 122,
     "metadata": {},
     "output_type": "execute_result"
    }
   ],
   "source": [
    "pd.DataFrame(confmtrx, index=['Good','Bad'],\n",
    "columns=['predicted_Good','predicted_Bad'])"
   ]
  },
  {
   "cell_type": "code",
   "execution_count": 123,
   "id": "b1a3976c",
   "metadata": {},
   "outputs": [
    {
     "name": "stdout",
     "output_type": "stream",
     "text": [
      "Accuracy Score: 0.809228863425209\n"
     ]
    }
   ],
   "source": [
    "print('Accuracy Score:', metrics.accuracy_score(y_test, preds))  "
   ]
  },
  {
   "cell_type": "code",
   "execution_count": 124,
   "id": "24d6f417",
   "metadata": {},
   "outputs": [
    {
     "name": "stdout",
     "output_type": "stream",
     "text": [
      "              precision    recall  f1-score   support\n",
      "\n",
      "           0       0.82      0.97      0.89      2530\n",
      "           1       0.67      0.24      0.35       699\n",
      "\n",
      "    accuracy                           0.81      3229\n",
      "   macro avg       0.74      0.60      0.62      3229\n",
      "weighted avg       0.79      0.81      0.77      3229\n",
      "\n"
     ]
    }
   ],
   "source": [
    "class_report=classification_report(y_test, preds)\n",
    "print(class_report)"
   ]
  },
  {
   "cell_type": "code",
   "execution_count": 127,
   "id": "c93e2c6d",
   "metadata": {},
   "outputs": [],
   "source": [
    "def plot_confusion_matrix(y,y_predict):\n",
    "    \"this function plots the confusion matrix\"\n",
    "    from sklearn.metrics import confusion_matrix\n",
    "\n",
    "    cm = confusion_matrix(y, y_predict)\n",
    "    ax= plt.subplot()\n",
    "    sns.heatmap(cm, annot=True, ax = ax); #annot=True to annotate cells\n",
    "    ax.set_xlabel('Predicted labels')\n",
    "    ax.set_ylabel('True labels')\n",
    "    ax.set_title('Confusion Matrix'); \n",
    "    ax.xaxis.set_ticklabels(['Good','Bad']); ax.yaxis.set_ticklabels(['Good','Bad'])"
   ]
  },
  {
   "cell_type": "code",
   "execution_count": 128,
   "id": "6b0d977c",
   "metadata": {},
   "outputs": [
    {
     "data": {
      "image/png": "[encoded data removed]",
      "text/plain": [
       "<Figure size 432x288 with 2 Axes>"
      ]
     },
     "metadata": {
      "needs_background": "light"
     },
     "output_type": "display_data"
    }
   ],
   "source": [
    "yhat = model1.predict(X_test)\n",
    "plot_confusion_matrix(y_test,yhat)"
   ]
  },
  {
   "cell_type": "code",
   "execution_count": 129,
   "id": "65dbd327",
   "metadata": {},
   "outputs": [
    {
     "data": {
      "image/png": "[encoded data removed]",
      "text/plain": [
       "<Figure size 432x288 with 1 Axes>"
      ]
     },
     "metadata": {
      "needs_background": "light"
     },
     "output_type": "display_data"
    }
   ],
   "source": [
    "import sklearn.metrics as metrics\n",
    "# calculate the fpr and tpr for all thresholds of the classification\n",
    "probs = model1.predict_proba(X_test)\n",
    "preds = probs[:,1]\n",
    "fpr, tpr, threshold = metrics.roc_curve(y_test, preds)\n",
    "roc_auc = metrics.auc(fpr, tpr)\n",
    "\n",
    "# method I: plt\n",
    "import matplotlib.pyplot as plt\n",
    "plt.title('Receiver Operating Characteristic')\n",
    "plt.plot(fpr, tpr, 'b', label = 'AUC = %0.2f' % roc_auc)\n",
    "plt.legend(loc = 'lower right')\n",
    "plt.plot([0, 1], [0, 1],'r--')\n",
    "plt.xlim([0, 1])\n",
    "plt.ylim([0, 1])\n",
    "plt.ylabel('True Positive Rate')\n",
    "plt.xlabel('False Positive Rate')\n",
    "plt.show()"
   ]
  },
  {
   "cell_type": "code",
   "execution_count": null,
   "id": "07e5ecfc",
   "metadata": {},
   "outputs": [],
   "source": []
  }
 ],
 "metadata": {
  "kernelspec": {
   "display_name": "Python 3 (ipykernel)",
   "language": "python",
   "name": "python3"
  },
  "language_info": {
   "codemirror_mode": {
    "name": "ipython",
    "version": 3
   },
   "file_extension": ".py",
   "mimetype": "text/x-python",
   "name": "python",
   "nbconvert_exporter": "python",
   "pygments_lexer": "ipython3",
   "version": "3.9.7"
  }
 },
 "nbformat": 4,
 "nbformat_minor": 5
}
